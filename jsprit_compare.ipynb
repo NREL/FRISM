{
 "cells": [
  {
   "cell_type": "code",
   "execution_count": 1,
   "metadata": {},
   "outputs": [],
   "source": [
    "import networkx as nx\n",
    "from networkx import DiGraph\n",
    "from vrpy import VehicleRoutingProblem\n",
    "import matplotlib.pyplot as plt"
   ]
  },
  {
   "cell_type": "code",
   "execution_count": 2,
   "metadata": {},
   "outputs": [],
   "source": [
    "import math"
   ]
  },
  {
   "cell_type": "code",
   "execution_count": 3,
   "metadata": {},
   "outputs": [],
   "source": [
    "import time"
   ]
  },
  {
   "cell_type": "code",
   "execution_count": 4,
   "metadata": {},
   "outputs": [],
   "source": [
    "# Create an empty Directed graph and add the depot as source and sink to the digraph\n",
    "g = DiGraph()\n",
    "\n",
    "pos = dict()"
   ]
  },
  {
   "cell_type": "code",
   "execution_count": 5,
   "metadata": {},
   "outputs": [],
   "source": [
    "g.add_node(1, pos=(5,7))\n",
    "pos[1] = (5,7)"
   ]
  },
  {
   "cell_type": "code",
   "execution_count": 6,
   "metadata": {},
   "outputs": [],
   "source": [
    "g.add_node(2, pos=(5,13))\n",
    "pos[2] = (5,13)"
   ]
  },
  {
   "cell_type": "code",
   "execution_count": 7,
   "metadata": {},
   "outputs": [],
   "source": [
    "g.add_node(3, pos=(15,7))\n",
    "pos[3] = (15,7)"
   ]
  },
  {
   "cell_type": "code",
   "execution_count": 8,
   "metadata": {},
   "outputs": [],
   "source": [
    "g.add_node(4, pos=(15,13))\n",
    "pos[4] = (15,13)"
   ]
  },
  {
   "cell_type": "code",
   "execution_count": 9,
   "metadata": {},
   "outputs": [],
   "source": [
    "g = nx.complete_graph([1,2,3,4], create_using=None)\n",
    "g = g.to_directed()"
   ]
  },
  {
   "cell_type": "code",
   "execution_count": 10,
   "metadata": {},
   "outputs": [
    {
     "data": {
      "image/png": "[encoded data removed]",
      "text/plain": [
       "<Figure size 432x288 with 1 Axes>"
      ]
     },
     "metadata": {},
     "output_type": "display_data"
    }
   ],
   "source": [
    "nx.draw(g, pos, with_labels = True)"
   ]
  },
  {
   "cell_type": "code",
   "execution_count": 11,
   "metadata": {},
   "outputs": [],
   "source": [
    "for i in [1,2,3,4]:    \n",
    "    # Add demand for this payload\n",
    "    g.nodes[i][\"demand\"] = float(1)"
   ]
  },
  {
   "cell_type": "code",
   "execution_count": 12,
   "metadata": {},
   "outputs": [],
   "source": [
    "for edge in g.edges():\n",
    "    startnode=edge[0] \n",
    "    endnode=edge[1]\n",
    "    g[startnode][endnode]['cost']=round(math.sqrt(((pos[endnode][1]-pos[startnode][1])**2)+\n",
    "                                      ((pos[endnode][0]-pos[startnode][0])**2)),2)"
   ]
  },
  {
   "cell_type": "code",
   "execution_count": 13,
   "metadata": {},
   "outputs": [
    {
     "name": "stdout",
     "output_type": "stream",
     "text": [
      "distance is  5.83\n",
      "distance is  5.83\n",
      "distance is  5.83\n",
      "distance is  5.83\n"
     ]
    }
   ],
   "source": [
    "depot_loc = (10,10)\n",
    "\n",
    "g.add_node(\"Source\", pos=depot_loc)\n",
    "pos[\"Source\"] = depot_loc\n",
    "# Sink location is same as depo \n",
    "g.add_node(\"Sink\", pos=(depot_loc[0],depot_loc[0] + 0))\n",
    "pos[\"Sink\"] = (depot_loc[0],depot_loc[0] + 0)\n",
    "\n",
    "for i in [1,2,3,4]:  # Can we assume that payload id's are unique?\n",
    "    # Add edge to source and sink\n",
    "    dist = round(math.sqrt(((pos[\"Source\"][1]-pos[i][1])**2)+\n",
    "                                      ((pos[\"Source\"][0]-pos[i][0])**2)),2)\n",
    "    print(\"distance is \", dist)\n",
    "    g.add_edge(i, \"Sink\", cost=round(math.sqrt(((pos[\"Source\"][1]-pos[i][1])**2)+\n",
    "                                      ((pos[\"Source\"][0]-pos[i][0])**2)),2))\n",
    "    g.add_edge(\"Source\", i, cost=round(math.sqrt(((pos[\"Source\"][1]-pos[i][1])**2)+\n",
    "                                      ((pos[\"Source\"][0]-pos[i][0])**2)),2))"
   ]
  },
  {
   "cell_type": "code",
   "execution_count": 14,
   "metadata": {},
   "outputs": [],
   "source": [
    "prob = VehicleRoutingProblem(g, load_capacity=2)\n",
    "# prob.num_vehicles = 4\n",
    "# prob.time_windows = True"
   ]
  },
  {
   "cell_type": "code",
   "execution_count": 15,
   "metadata": {},
   "outputs": [
    {
     "name": "stderr",
     "output_type": "stream",
     "text": [
      "INFO:vrpy.vrp:new upper bound : max num stops = 4\n",
      "INFO:vrpy.vrp:Clarke & Wright solution found with value 35.32 and 2 vehicles\n",
      "INFO:vrpy.vrp:Greedy solution found with value 35.32 and 2 vehicles\n",
      "INFO:vrpy.vrp:iteration 0, 35.32\n",
      "INFO:vrpy.vrp:iteration 1, 35.32\n",
      "INFO:vrpy.vrp:iteration 2, 35.32\n",
      "INFO:vrpy.vrp:iteration 3, 35.32\n",
      "INFO:vrpy.vrp:iteration 4, 35.32\n",
      "INFO:vrpy.vrp:iteration 5, 35.32\n",
      "INFO:vrpy.master_solve_pulp:total cost = 35.32\n"
     ]
    },
    {
     "name": "stdout",
     "output_type": "stream",
     "text": [
      "0.276569128036499  sec\n"
     ]
    }
   ],
   "source": [
    "start = time.time()\n",
    "prob.solve()\n",
    "end = time.time()\n",
    "print(end - start, \" sec\")"
   ]
  },
  {
   "cell_type": "code",
   "execution_count": 16,
   "metadata": {},
   "outputs": [
    {
     "data": {
      "text/plain": [
       "35.32"
      ]
     },
     "execution_count": 16,
     "metadata": {},
     "output_type": "execute_result"
    }
   ],
   "source": [
    "prob.best_value"
   ]
  },
  {
   "cell_type": "code",
   "execution_count": 17,
   "metadata": {},
   "outputs": [
    {
     "data": {
      "text/plain": [
       "{1: ['Source', 3, 4, 'Sink'], 2: ['Source', 1, 2, 'Sink']}"
      ]
     },
     "execution_count": 17,
     "metadata": {},
     "output_type": "execute_result"
    }
   ],
   "source": [
    "prob.best_routes"
   ]
  },
  {
   "cell_type": "code",
   "execution_count": null,
   "metadata": {},
   "outputs": [],
   "source": []
  },
  {
   "cell_type": "code",
   "execution_count": null,
   "metadata": {},
   "outputs": [],
   "source": []
  }
 ],
 "metadata": {
  "kernelspec": {
   "display_name": "frism",
   "language": "python",
   "name": "frism"
  },
  "language_info": {
   "codemirror_mode": {
    "name": "ipython",
    "version": 3
   },
   "file_extension": ".py",
   "mimetype": "text/x-python",
   "name": "python",
   "nbconvert_exporter": "python",
   "pygments_lexer": "ipython3",
   "version": "3.6.12"
  }
 },
 "nbformat": 4,
 "nbformat_minor": 4
}
