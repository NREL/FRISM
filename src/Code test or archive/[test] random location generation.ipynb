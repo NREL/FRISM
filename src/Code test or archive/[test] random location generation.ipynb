{
 "cells": [
  {
   "cell_type": "code",
   "execution_count": 1,
   "id": "eea10a3b",
   "metadata": {},
   "outputs": [],
   "source": [
    "import pandas as pd\n",
    "import geopandas as gp\n",
    "import csv\n",
    "import numpy as np\n",
    "import xml.etree.ElementTree as ET\n",
    "from xml.etree.ElementTree import Element\n",
    "from copy import copy\n",
    "import os\n",
    "import inspect\n",
    "from xml.dom import minidom\n",
    "import math\n",
    "from ortools.constraint_solver import routing_enums_pb2\n",
    "from ortools.constraint_solver import pywrapcp\n",
    "from time import time\n",
    "import numpy as np\n",
    "from argparse import ArgumentParser\n",
    "from shapely.geometry import Point\n",
    "import random\n"
   ]
  },
  {
   "cell_type": "code",
   "execution_count": 29,
   "id": "ba141e24",
   "metadata": {},
   "outputs": [],
   "source": [
    "ship_type=\"B2B\""
   ]
  },
  {
   "cell_type": "code",
   "execution_count": 49,
   "id": "227cd413",
   "metadata": {},
   "outputs": [],
   "source": [
    "    tour_df=pd.read_csv(\"../../../FRISM_input_output/Sim_outputs/Tour_plan/%s_freight_tours.csv\" %ship_type)\n",
    "    carrier_df=pd.read_csv(\"../../../FRISM_input_output/Sim_outputs/Tour_plan/%s_carrier.csv\" %ship_type)\n",
    "    payload_df=pd.read_csv(\"../../../FRISM_input_output/Sim_outputs/Tour_plan/%s_payload.csv\" %ship_type)"
   ]
  },
  {
   "cell_type": "code",
   "execution_count": 91,
   "id": "0ee224e5",
   "metadata": {},
   "outputs": [],
   "source": [
    "    dir_geo='../../../FRISM_input_output/Sim_inputs/Geo_data/'\n",
    "    polygon_CBG = gp.read_file(dir_geo+'sfbay_freight.geojson') # include polygon for all the mesozones in the US"
   ]
  },
  {
   "cell_type": "code",
   "execution_count": 23,
   "id": "e974b42a",
   "metadata": {},
   "outputs": [],
   "source": [
    "def random_points_in_polygon(polygon):\n",
    "    temp = polygon.bounds\n",
    "    finished= False\n",
    "    while not finished:\n",
    "        point = Point(random.uniform(temp.minx.values[0], temp.maxx.values[0]), random.uniform(temp.miny, temp.maxy.values[0]))\n",
    "        finished = polygon.contains(point).values[0]\n",
    "    return point"
   ]
  },
  {
   "cell_type": "code",
   "execution_count": 33,
   "id": "61f73f78",
   "metadata": {},
   "outputs": [],
   "source": [
    "def random_loc (t_df,c_df,p_df,SFBay_CBG):\n",
    "    c_df['depot_zone_x']=0.0\n",
    "    c_df['depot_zone_y']=0.0\n",
    "    c_df =c_df.sort_values(by=['carrierId']).reset_index(drop=True)\n",
    "    carr_id=0.0\n",
    "    \n",
    "    for i in range(0,c_df.shape[0]):\n",
    "        if c_df.carrierId[i] == carr_id:\n",
    "            c_df.loc[i,'depot_zone_x']=c_df.loc[i-1,'depot_zone_x']\n",
    "            c_df.loc[i,'depot_zone_y']=c_df.loc[i-1,'depot_zone_y']\n",
    "        else:\n",
    "            point=random_points_in_polygon(SFBay_CBG.geometry[SFBay_CBG.MESOZONE==c_df.depot_zone[i]])\n",
    "            c_df.loc[i,'depot_zone_x']=point.x\n",
    "            c_df.loc[i,'depot_zone_y']=point.y\n",
    "            carr_id = c_df.carrierId[i]\n",
    "    t_df=t_df.merge(c_df[['tourId','depot_zone_x','depot_zone_y']], right_on='tourId', left_on='tour_id', how='left')\n",
    "    t_df=t_df.rename({'depot_zone_x':'departureLocation_x', \n",
    "                     'depot_zone_y':'departureLocation_y'}, axis=1)\n",
    "\n",
    "    p_df['locationZone_x']=0.0\n",
    "    p_df['locationZone_y']=0.0\n",
    "    for i in range(0,p_df.shape[0]):\n",
    "        if \"d\" in p_df.loc[i,\"payloadId\"]:\n",
    "            p_df.loc[i,['locationZone_x','locationZone_y']]=c_df.loc[c_df[\"tourId\"]==p_df.loc[i,\"tourId\"], ['depot_zone_x','depot_zone_y']]   \n",
    "        else:\n",
    "            point=random_points_in_polygon(SFBay_CBG.geometry[SFBay_CBG.MESOZONE==p_df['locationZone'][i]])\n",
    "            p_df.loc[i,'locationZone_x']=point.x\n",
    "            p_df.loc[i,'locationZone_y']=point.y\n",
    "\n",
    "    return c_df, t_df, p_df"
   ]
  },
  {
   "cell_type": "code",
   "execution_count": 8,
   "id": "d487609f",
   "metadata": {},
   "outputs": [
    {
     "data": {
      "text/html": [
       "<div>\n",
       "<style scoped>\n",
       "    .dataframe tbody tr th:only-of-type {\n",
       "        vertical-align: middle;\n",
       "    }\n",
       "\n",
       "    .dataframe tbody tr th {\n",
       "        vertical-align: top;\n",
       "    }\n",
       "\n",
       "    .dataframe thead th {\n",
       "        text-align: right;\n",
       "    }\n",
       "</style>\n",
       "<table border=\"1\" class=\"dataframe\">\n",
       "  <thead>\n",
       "    <tr style=\"text-align: right;\">\n",
       "      <th></th>\n",
       "      <th>tour_id</th>\n",
       "      <th>departureTimeInSec</th>\n",
       "      <th>departureLocation_zone</th>\n",
       "      <th>maxTourDurationInSec</th>\n",
       "    </tr>\n",
       "  </thead>\n",
       "  <tbody>\n",
       "    <tr>\n",
       "      <th>0</th>\n",
       "      <td>0</td>\n",
       "      <td>43800</td>\n",
       "      <td>909</td>\n",
       "      <td>3600</td>\n",
       "    </tr>\n",
       "    <tr>\n",
       "      <th>1</th>\n",
       "      <td>1</td>\n",
       "      <td>43800</td>\n",
       "      <td>909</td>\n",
       "      <td>3600</td>\n",
       "    </tr>\n",
       "    <tr>\n",
       "      <th>2</th>\n",
       "      <td>2</td>\n",
       "      <td>28800</td>\n",
       "      <td>564</td>\n",
       "      <td>3600</td>\n",
       "    </tr>\n",
       "    <tr>\n",
       "      <th>3</th>\n",
       "      <td>3</td>\n",
       "      <td>41400</td>\n",
       "      <td>413</td>\n",
       "      <td>3600</td>\n",
       "    </tr>\n",
       "    <tr>\n",
       "      <th>4</th>\n",
       "      <td>4</td>\n",
       "      <td>31200</td>\n",
       "      <td>924</td>\n",
       "      <td>3600</td>\n",
       "    </tr>\n",
       "  </tbody>\n",
       "</table>\n",
       "</div>"
      ],
      "text/plain": [
       "   tour_id  departureTimeInSec  departureLocation_zone  maxTourDurationInSec\n",
       "0        0               43800                     909                  3600\n",
       "1        1               43800                     909                  3600\n",
       "2        2               28800                     564                  3600\n",
       "3        3               41400                     413                  3600\n",
       "4        4               31200                     924                  3600"
      ]
     },
     "execution_count": 8,
     "metadata": {},
     "output_type": "execute_result"
    }
   ],
   "source": [
    "tour_df.head()"
   ]
  },
  {
   "cell_type": "code",
   "execution_count": 9,
   "id": "dea6b52a",
   "metadata": {},
   "outputs": [
    {
     "data": {
      "text/html": [
       "<div>\n",
       "<style scoped>\n",
       "    .dataframe tbody tr th:only-of-type {\n",
       "        vertical-align: middle;\n",
       "    }\n",
       "\n",
       "    .dataframe tbody tr th {\n",
       "        vertical-align: top;\n",
       "    }\n",
       "\n",
       "    .dataframe thead th {\n",
       "        text-align: right;\n",
       "    }\n",
       "</style>\n",
       "<table border=\"1\" class=\"dataframe\">\n",
       "  <thead>\n",
       "    <tr style=\"text-align: right;\">\n",
       "      <th></th>\n",
       "      <th>carrierId</th>\n",
       "      <th>tourId</th>\n",
       "      <th>vehicleId</th>\n",
       "      <th>vehicleTypeId</th>\n",
       "      <th>depot_zone</th>\n",
       "    </tr>\n",
       "  </thead>\n",
       "  <tbody>\n",
       "    <tr>\n",
       "      <th>0</th>\n",
       "      <td>685623</td>\n",
       "      <td>0</td>\n",
       "      <td>10</td>\n",
       "      <td>2</td>\n",
       "      <td>909</td>\n",
       "    </tr>\n",
       "    <tr>\n",
       "      <th>1</th>\n",
       "      <td>685623</td>\n",
       "      <td>1</td>\n",
       "      <td>11</td>\n",
       "      <td>2</td>\n",
       "      <td>909</td>\n",
       "    </tr>\n",
       "    <tr>\n",
       "      <th>2</th>\n",
       "      <td>685624</td>\n",
       "      <td>2</td>\n",
       "      <td>32</td>\n",
       "      <td>2</td>\n",
       "      <td>564</td>\n",
       "    </tr>\n",
       "    <tr>\n",
       "      <th>3</th>\n",
       "      <td>688382</td>\n",
       "      <td>3</td>\n",
       "      <td>39</td>\n",
       "      <td>2</td>\n",
       "      <td>413</td>\n",
       "    </tr>\n",
       "    <tr>\n",
       "      <th>4</th>\n",
       "      <td>688779</td>\n",
       "      <td>4</td>\n",
       "      <td>48</td>\n",
       "      <td>2</td>\n",
       "      <td>924</td>\n",
       "    </tr>\n",
       "  </tbody>\n",
       "</table>\n",
       "</div>"
      ],
      "text/plain": [
       "   carrierId  tourId  vehicleId  vehicleTypeId  depot_zone\n",
       "0     685623       0         10              2         909\n",
       "1     685623       1         11              2         909\n",
       "2     685624       2         32              2         564\n",
       "3     688382       3         39              2         413\n",
       "4     688779       4         48              2         924"
      ]
     },
     "execution_count": 9,
     "metadata": {},
     "output_type": "execute_result"
    }
   ],
   "source": [
    "carrier_df.head()"
   ]
  },
  {
   "cell_type": "code",
   "execution_count": 50,
   "id": "3bc1dfdc",
   "metadata": {},
   "outputs": [
    {
     "data": {
      "text/html": [
       "<div>\n",
       "<style scoped>\n",
       "    .dataframe tbody tr th:only-of-type {\n",
       "        vertical-align: middle;\n",
       "    }\n",
       "\n",
       "    .dataframe tbody tr th {\n",
       "        vertical-align: top;\n",
       "    }\n",
       "\n",
       "    .dataframe thead th {\n",
       "        text-align: right;\n",
       "    }\n",
       "</style>\n",
       "<table border=\"1\" class=\"dataframe\">\n",
       "  <thead>\n",
       "    <tr style=\"text-align: right;\">\n",
       "      <th></th>\n",
       "      <th>payloadId</th>\n",
       "      <th>sequenceRank</th>\n",
       "      <th>tourId</th>\n",
       "      <th>payloadType</th>\n",
       "      <th>weightInlb</th>\n",
       "      <th>requestType</th>\n",
       "      <th>locationZone</th>\n",
       "      <th>estimatedTimeOfArrivalInSec</th>\n",
       "      <th>arrivalTimeWindowInSec_lower</th>\n",
       "      <th>arrivalTimeWindowInSec_upper</th>\n",
       "      <th>operationDurationInSec</th>\n",
       "    </tr>\n",
       "  </thead>\n",
       "  <tbody>\n",
       "    <tr>\n",
       "      <th>0</th>\n",
       "      <td>cd0</td>\n",
       "      <td>1</td>\n",
       "      <td>0</td>\n",
       "      <td>1</td>\n",
       "      <td>226</td>\n",
       "      <td>1</td>\n",
       "      <td>872</td>\n",
       "      <td>44100</td>\n",
       "      <td>18000</td>\n",
       "      <td>79200</td>\n",
       "      <td>420</td>\n",
       "    </tr>\n",
       "    <tr>\n",
       "      <th>1</th>\n",
       "      <td>0</td>\n",
       "      <td>2</td>\n",
       "      <td>0</td>\n",
       "      <td>1</td>\n",
       "      <td>109</td>\n",
       "      <td>1</td>\n",
       "      <td>131</td>\n",
       "      <td>46020</td>\n",
       "      <td>18000</td>\n",
       "      <td>79200</td>\n",
       "      <td>540</td>\n",
       "    </tr>\n",
       "    <tr>\n",
       "      <th>2</th>\n",
       "      <td>8</td>\n",
       "      <td>3</td>\n",
       "      <td>0</td>\n",
       "      <td>1</td>\n",
       "      <td>730</td>\n",
       "      <td>1</td>\n",
       "      <td>5891</td>\n",
       "      <td>47520</td>\n",
       "      <td>18000</td>\n",
       "      <td>79200</td>\n",
       "      <td>2520</td>\n",
       "    </tr>\n",
       "    <tr>\n",
       "      <th>3</th>\n",
       "      <td>15</td>\n",
       "      <td>4</td>\n",
       "      <td>0</td>\n",
       "      <td>1</td>\n",
       "      <td>1395</td>\n",
       "      <td>1</td>\n",
       "      <td>5678</td>\n",
       "      <td>50400</td>\n",
       "      <td>18000</td>\n",
       "      <td>79200</td>\n",
       "      <td>4920</td>\n",
       "    </tr>\n",
       "    <tr>\n",
       "      <th>4</th>\n",
       "      <td>25</td>\n",
       "      <td>5</td>\n",
       "      <td>0</td>\n",
       "      <td>1</td>\n",
       "      <td>467</td>\n",
       "      <td>1</td>\n",
       "      <td>20091</td>\n",
       "      <td>105120</td>\n",
       "      <td>18000</td>\n",
       "      <td>1728000</td>\n",
       "      <td>960</td>\n",
       "    </tr>\n",
       "  </tbody>\n",
       "</table>\n",
       "</div>"
      ],
      "text/plain": [
       "  payloadId  sequenceRank  tourId  payloadType  weightInlb  requestType  \\\n",
       "0       cd0             1       0            1         226            1   \n",
       "1         0             2       0            1         109            1   \n",
       "2         8             3       0            1         730            1   \n",
       "3        15             4       0            1        1395            1   \n",
       "4        25             5       0            1         467            1   \n",
       "\n",
       "   locationZone  estimatedTimeOfArrivalInSec  arrivalTimeWindowInSec_lower  \\\n",
       "0           872                        44100                         18000   \n",
       "1           131                        46020                         18000   \n",
       "2          5891                        47520                         18000   \n",
       "3          5678                        50400                         18000   \n",
       "4         20091                       105120                         18000   \n",
       "\n",
       "   arrivalTimeWindowInSec_upper  operationDurationInSec  \n",
       "0                         79200                     420  \n",
       "1                         79200                     540  \n",
       "2                         79200                    2520  \n",
       "3                         79200                    4920  \n",
       "4                       1728000                     960  "
      ]
     },
     "execution_count": 50,
     "metadata": {},
     "output_type": "execute_result"
    }
   ],
   "source": [
    "payload_df.head()"
   ]
  },
  {
   "cell_type": "code",
   "execution_count": 13,
   "id": "da0b4a05",
   "metadata": {},
   "outputs": [
    {
     "data": {
      "text/plain": [
       "False"
      ]
     },
     "execution_count": 13,
     "metadata": {},
     "output_type": "execute_result"
    }
   ],
   "source": [
    "\"y\" in \"cd\""
   ]
  },
  {
   "cell_type": "code",
   "execution_count": 34,
   "id": "39204b19",
   "metadata": {},
   "outputs": [
    {
     "ename": "KeyboardInterrupt",
     "evalue": "",
     "output_type": "error",
     "traceback": [
      "\u001b[0;31m---------------------------------------------------------------------------\u001b[0m",
      "\u001b[0;31mKeyboardInterrupt\u001b[0m                         Traceback (most recent call last)",
      "\u001b[0;32m/var/folders/kr/2j58542j2_7chf9_h8bmr30mb0_4n0/T/ipykernel_15666/769777618.py\u001b[0m in \u001b[0;36m<module>\u001b[0;34m\u001b[0m\n\u001b[0;32m----> 1\u001b[0;31m \u001b[0mtour_df_xy\u001b[0m\u001b[0;34m,\u001b[0m\u001b[0mcarrier_df_xy\u001b[0m\u001b[0;34m,\u001b[0m\u001b[0mpayload_df_xy\u001b[0m\u001b[0;34m=\u001b[0m\u001b[0mrandom_loc\u001b[0m \u001b[0;34m(\u001b[0m\u001b[0mtour_df\u001b[0m\u001b[0;34m,\u001b[0m\u001b[0mcarrier_df\u001b[0m\u001b[0;34m,\u001b[0m\u001b[0mpayload_df\u001b[0m\u001b[0;34m,\u001b[0m \u001b[0mpolygon_CBG\u001b[0m\u001b[0;34m)\u001b[0m\u001b[0;34m\u001b[0m\u001b[0;34m\u001b[0m\u001b[0m\n\u001b[0m",
      "\u001b[0;32m/var/folders/kr/2j58542j2_7chf9_h8bmr30mb0_4n0/T/ipykernel_15666/3278366856.py\u001b[0m in \u001b[0;36mrandom_loc\u001b[0;34m(t_df, c_df, p_df, SFBay_CBG)\u001b[0m\n\u001b[1;32m     24\u001b[0m             \u001b[0mp_df\u001b[0m\u001b[0;34m.\u001b[0m\u001b[0mloc\u001b[0m\u001b[0;34m[\u001b[0m\u001b[0mi\u001b[0m\u001b[0;34m,\u001b[0m\u001b[0;34m[\u001b[0m\u001b[0;34m'locationZone_x'\u001b[0m\u001b[0;34m,\u001b[0m\u001b[0;34m'locationZone_y'\u001b[0m\u001b[0;34m]\u001b[0m\u001b[0;34m]\u001b[0m\u001b[0;34m=\u001b[0m\u001b[0mc_df\u001b[0m\u001b[0;34m.\u001b[0m\u001b[0mloc\u001b[0m\u001b[0;34m[\u001b[0m\u001b[0mc_df\u001b[0m\u001b[0;34m[\u001b[0m\u001b[0;34m\"tourId\"\u001b[0m\u001b[0;34m]\u001b[0m\u001b[0;34m==\u001b[0m\u001b[0mp_df\u001b[0m\u001b[0;34m.\u001b[0m\u001b[0mloc\u001b[0m\u001b[0;34m[\u001b[0m\u001b[0mi\u001b[0m\u001b[0;34m,\u001b[0m\u001b[0;34m\"tourId\"\u001b[0m\u001b[0;34m]\u001b[0m\u001b[0;34m,\u001b[0m \u001b[0;34m[\u001b[0m\u001b[0;34m'depot_zone_x'\u001b[0m\u001b[0;34m,\u001b[0m\u001b[0;34m'depot_zone_y'\u001b[0m\u001b[0;34m]\u001b[0m\u001b[0;34m]\u001b[0m\u001b[0;34m\u001b[0m\u001b[0;34m\u001b[0m\u001b[0m\n\u001b[1;32m     25\u001b[0m         \u001b[0;32melse\u001b[0m\u001b[0;34m:\u001b[0m\u001b[0;34m\u001b[0m\u001b[0;34m\u001b[0m\u001b[0m\n\u001b[0;32m---> 26\u001b[0;31m             \u001b[0mpoint\u001b[0m\u001b[0;34m=\u001b[0m\u001b[0mrandom_points_in_polygon\u001b[0m\u001b[0;34m(\u001b[0m\u001b[0mSFBay_CBG\u001b[0m\u001b[0;34m.\u001b[0m\u001b[0mgeometry\u001b[0m\u001b[0;34m[\u001b[0m\u001b[0mSFBay_CBG\u001b[0m\u001b[0;34m.\u001b[0m\u001b[0mMESOZONE\u001b[0m\u001b[0;34m==\u001b[0m\u001b[0mp_df\u001b[0m\u001b[0;34m[\u001b[0m\u001b[0;34m'locationZone'\u001b[0m\u001b[0;34m]\u001b[0m\u001b[0;34m[\u001b[0m\u001b[0mi\u001b[0m\u001b[0;34m]\u001b[0m\u001b[0;34m]\u001b[0m\u001b[0;34m)\u001b[0m\u001b[0;34m\u001b[0m\u001b[0;34m\u001b[0m\u001b[0m\n\u001b[0m\u001b[1;32m     27\u001b[0m             \u001b[0mp_df\u001b[0m\u001b[0;34m.\u001b[0m\u001b[0mloc\u001b[0m\u001b[0;34m[\u001b[0m\u001b[0mi\u001b[0m\u001b[0;34m,\u001b[0m\u001b[0;34m'locationZone_x'\u001b[0m\u001b[0;34m]\u001b[0m\u001b[0;34m=\u001b[0m\u001b[0mpoint\u001b[0m\u001b[0;34m.\u001b[0m\u001b[0mx\u001b[0m\u001b[0;34m\u001b[0m\u001b[0;34m\u001b[0m\u001b[0m\n\u001b[1;32m     28\u001b[0m             \u001b[0mp_df\u001b[0m\u001b[0;34m.\u001b[0m\u001b[0mloc\u001b[0m\u001b[0;34m[\u001b[0m\u001b[0mi\u001b[0m\u001b[0;34m,\u001b[0m\u001b[0;34m'locationZone_y'\u001b[0m\u001b[0;34m]\u001b[0m\u001b[0;34m=\u001b[0m\u001b[0mpoint\u001b[0m\u001b[0;34m.\u001b[0m\u001b[0my\u001b[0m\u001b[0;34m\u001b[0m\u001b[0;34m\u001b[0m\u001b[0m\n",
      "\u001b[0;32m/var/folders/kr/2j58542j2_7chf9_h8bmr30mb0_4n0/T/ipykernel_15666/1558198331.py\u001b[0m in \u001b[0;36mrandom_points_in_polygon\u001b[0;34m(polygon)\u001b[0m\n\u001b[1;32m      3\u001b[0m     \u001b[0mfinished\u001b[0m\u001b[0;34m=\u001b[0m \u001b[0;32mFalse\u001b[0m\u001b[0;34m\u001b[0m\u001b[0;34m\u001b[0m\u001b[0m\n\u001b[1;32m      4\u001b[0m     \u001b[0;32mwhile\u001b[0m \u001b[0;32mnot\u001b[0m \u001b[0mfinished\u001b[0m\u001b[0;34m:\u001b[0m\u001b[0;34m\u001b[0m\u001b[0;34m\u001b[0m\u001b[0m\n\u001b[0;32m----> 5\u001b[0;31m         \u001b[0mpoint\u001b[0m \u001b[0;34m=\u001b[0m \u001b[0mPoint\u001b[0m\u001b[0;34m(\u001b[0m\u001b[0mrandom\u001b[0m\u001b[0;34m.\u001b[0m\u001b[0muniform\u001b[0m\u001b[0;34m(\u001b[0m\u001b[0mtemp\u001b[0m\u001b[0;34m.\u001b[0m\u001b[0mminx\u001b[0m\u001b[0;34m.\u001b[0m\u001b[0mvalues\u001b[0m\u001b[0;34m[\u001b[0m\u001b[0;36m0\u001b[0m\u001b[0;34m]\u001b[0m\u001b[0;34m,\u001b[0m \u001b[0mtemp\u001b[0m\u001b[0;34m.\u001b[0m\u001b[0mmaxx\u001b[0m\u001b[0;34m.\u001b[0m\u001b[0mvalues\u001b[0m\u001b[0;34m[\u001b[0m\u001b[0;36m0\u001b[0m\u001b[0;34m]\u001b[0m\u001b[0;34m)\u001b[0m\u001b[0;34m,\u001b[0m \u001b[0mrandom\u001b[0m\u001b[0;34m.\u001b[0m\u001b[0muniform\u001b[0m\u001b[0;34m(\u001b[0m\u001b[0mtemp\u001b[0m\u001b[0;34m.\u001b[0m\u001b[0mminy\u001b[0m\u001b[0;34m,\u001b[0m \u001b[0mtemp\u001b[0m\u001b[0;34m.\u001b[0m\u001b[0mmaxy\u001b[0m\u001b[0;34m.\u001b[0m\u001b[0mvalues\u001b[0m\u001b[0;34m[\u001b[0m\u001b[0;36m0\u001b[0m\u001b[0;34m]\u001b[0m\u001b[0;34m)\u001b[0m\u001b[0;34m)\u001b[0m\u001b[0;34m\u001b[0m\u001b[0;34m\u001b[0m\u001b[0m\n\u001b[0m\u001b[1;32m      6\u001b[0m         \u001b[0mfinished\u001b[0m \u001b[0;34m=\u001b[0m \u001b[0mpolygon\u001b[0m\u001b[0;34m.\u001b[0m\u001b[0mcontains\u001b[0m\u001b[0;34m(\u001b[0m\u001b[0mpoint\u001b[0m\u001b[0;34m)\u001b[0m\u001b[0;34m.\u001b[0m\u001b[0mvalues\u001b[0m\u001b[0;34m[\u001b[0m\u001b[0;36m0\u001b[0m\u001b[0;34m]\u001b[0m\u001b[0;34m\u001b[0m\u001b[0;34m\u001b[0m\u001b[0m\n\u001b[1;32m      7\u001b[0m     \u001b[0;32mreturn\u001b[0m \u001b[0mpoint\u001b[0m\u001b[0;34m\u001b[0m\u001b[0;34m\u001b[0m\u001b[0m\n",
      "\u001b[0;32m~/opt/miniconda3/envs/frism/lib/python3.8/site-packages/shapely/geometry/point.py\u001b[0m in \u001b[0;36m__init__\u001b[0;34m(self, *args)\u001b[0m\n\u001b[1;32m     46\u001b[0m         \u001b[0mBaseGeometry\u001b[0m\u001b[0;34m.\u001b[0m\u001b[0m__init__\u001b[0m\u001b[0;34m(\u001b[0m\u001b[0mself\u001b[0m\u001b[0;34m)\u001b[0m\u001b[0;34m\u001b[0m\u001b[0;34m\u001b[0m\u001b[0m\n\u001b[1;32m     47\u001b[0m         \u001b[0;32mif\u001b[0m \u001b[0mlen\u001b[0m\u001b[0;34m(\u001b[0m\u001b[0margs\u001b[0m\u001b[0;34m)\u001b[0m \u001b[0;34m>\u001b[0m \u001b[0;36m0\u001b[0m\u001b[0;34m:\u001b[0m\u001b[0;34m\u001b[0m\u001b[0;34m\u001b[0m\u001b[0m\n\u001b[0;32m---> 48\u001b[0;31m             \u001b[0mself\u001b[0m\u001b[0;34m.\u001b[0m\u001b[0m_set_coords\u001b[0m\u001b[0;34m(\u001b[0m\u001b[0;34m*\u001b[0m\u001b[0margs\u001b[0m\u001b[0;34m)\u001b[0m\u001b[0;34m\u001b[0m\u001b[0;34m\u001b[0m\u001b[0m\n\u001b[0m\u001b[1;32m     49\u001b[0m \u001b[0;34m\u001b[0m\u001b[0m\n\u001b[1;32m     50\u001b[0m     \u001b[0;31m# Coordinate getters and setters\u001b[0m\u001b[0;34m\u001b[0m\u001b[0;34m\u001b[0m\u001b[0;34m\u001b[0m\u001b[0m\n",
      "\u001b[0;32m~/opt/miniconda3/envs/frism/lib/python3.8/site-packages/shapely/geometry/point.py\u001b[0m in \u001b[0;36m_set_coords\u001b[0;34m(self, *args)\u001b[0m\n\u001b[1;32m    135\u001b[0m             \u001b[0;32mraise\u001b[0m \u001b[0mTypeError\u001b[0m\u001b[0;34m(\u001b[0m\u001b[0;34m\"Point() takes at most 3 arguments ({} given)\"\u001b[0m\u001b[0;34m.\u001b[0m\u001b[0mformat\u001b[0m\u001b[0;34m(\u001b[0m\u001b[0mlen\u001b[0m\u001b[0;34m(\u001b[0m\u001b[0margs\u001b[0m\u001b[0;34m)\u001b[0m\u001b[0;34m)\u001b[0m\u001b[0;34m)\u001b[0m\u001b[0;34m\u001b[0m\u001b[0;34m\u001b[0m\u001b[0m\n\u001b[1;32m    136\u001b[0m         \u001b[0;32melse\u001b[0m\u001b[0;34m:\u001b[0m\u001b[0;34m\u001b[0m\u001b[0;34m\u001b[0m\u001b[0m\n\u001b[0;32m--> 137\u001b[0;31m             \u001b[0mself\u001b[0m\u001b[0;34m.\u001b[0m\u001b[0m_geom\u001b[0m\u001b[0;34m,\u001b[0m \u001b[0mself\u001b[0m\u001b[0;34m.\u001b[0m\u001b[0m_ndim\u001b[0m \u001b[0;34m=\u001b[0m \u001b[0mgeos_point_from_py\u001b[0m\u001b[0;34m(\u001b[0m\u001b[0mtuple\u001b[0m\u001b[0;34m(\u001b[0m\u001b[0margs\u001b[0m\u001b[0;34m)\u001b[0m\u001b[0;34m)\u001b[0m\u001b[0;34m\u001b[0m\u001b[0;34m\u001b[0m\u001b[0m\n\u001b[0m\u001b[1;32m    138\u001b[0m \u001b[0;34m\u001b[0m\u001b[0m\n\u001b[1;32m    139\u001b[0m     \u001b[0mcoords\u001b[0m \u001b[0;34m=\u001b[0m \u001b[0mproperty\u001b[0m\u001b[0;34m(\u001b[0m\u001b[0mBaseGeometry\u001b[0m\u001b[0;34m.\u001b[0m\u001b[0m_get_coords\u001b[0m\u001b[0;34m,\u001b[0m \u001b[0m_set_coords\u001b[0m\u001b[0;34m)\u001b[0m\u001b[0;34m\u001b[0m\u001b[0;34m\u001b[0m\u001b[0m\n",
      "\u001b[0;32m~/opt/miniconda3/envs/frism/lib/python3.8/site-packages/shapely/geometry/point.py\u001b[0m in \u001b[0;36mgeos_point_from_py\u001b[0;34m(ob, update_geom, update_ndim)\u001b[0m\n\u001b[1;32m    228\u001b[0m \u001b[0;34m\u001b[0m\u001b[0m\n\u001b[1;32m    229\u001b[0m     \u001b[0;31m# Because of a bug in the GEOS C API, always set X before Y\u001b[0m\u001b[0;34m\u001b[0m\u001b[0;34m\u001b[0m\u001b[0;34m\u001b[0m\u001b[0m\n\u001b[0;32m--> 230\u001b[0;31m     \u001b[0mlgeos\u001b[0m\u001b[0;34m.\u001b[0m\u001b[0mGEOSCoordSeq_setX\u001b[0m\u001b[0;34m(\u001b[0m\u001b[0mcs\u001b[0m\u001b[0;34m,\u001b[0m \u001b[0;36m0\u001b[0m\u001b[0;34m,\u001b[0m \u001b[0mdx\u001b[0m\u001b[0;34m)\u001b[0m\u001b[0;34m\u001b[0m\u001b[0;34m\u001b[0m\u001b[0m\n\u001b[0m\u001b[1;32m    231\u001b[0m     \u001b[0mlgeos\u001b[0m\u001b[0;34m.\u001b[0m\u001b[0mGEOSCoordSeq_setY\u001b[0m\u001b[0;34m(\u001b[0m\u001b[0mcs\u001b[0m\u001b[0;34m,\u001b[0m \u001b[0;36m0\u001b[0m\u001b[0;34m,\u001b[0m \u001b[0mdy\u001b[0m\u001b[0;34m)\u001b[0m\u001b[0;34m\u001b[0m\u001b[0;34m\u001b[0m\u001b[0m\n\u001b[1;32m    232\u001b[0m     \u001b[0;32mif\u001b[0m \u001b[0mn\u001b[0m \u001b[0;34m==\u001b[0m \u001b[0;36m3\u001b[0m\u001b[0;34m:\u001b[0m\u001b[0;34m\u001b[0m\u001b[0;34m\u001b[0m\u001b[0m\n",
      "\u001b[0;31mKeyboardInterrupt\u001b[0m: "
     ]
    }
   ],
   "source": [
    "tour_df_xy,carrier_df_xy,payload_df_xy=random_loc (tour_df,carrier_df,payload_df, polygon_CBG)"
   ]
  },
  {
   "cell_type": "code",
   "execution_count": 31,
   "id": "d627fb08",
   "metadata": {},
   "outputs": [
    {
     "data": {
      "text/plain": [
       "payloadId                       object\n",
       "sequenceRank                     int64\n",
       "tourId                           int64\n",
       "payloadType                      int64\n",
       "weightInlb                       int64\n",
       "requestType                      int64\n",
       "locationZone                     int64\n",
       "estimatedTimeOfArrivalInSec      int64\n",
       "arrivalTimeWindowInSec_lower     int64\n",
       "arrivalTimeWindowInSec_upper     int64\n",
       "operationDurationInSec           int64\n",
       "dtype: object"
      ]
     },
     "execution_count": 31,
     "metadata": {},
     "output_type": "execute_result"
    }
   ],
   "source": [
    "payload_df.dtypes"
   ]
  },
  {
   "cell_type": "code",
   "execution_count": 51,
   "id": "5d3123e5",
   "metadata": {},
   "outputs": [],
   "source": [
    "c_df=carrier_df"
   ]
  },
  {
   "cell_type": "code",
   "execution_count": 52,
   "id": "668cd4bd",
   "metadata": {},
   "outputs": [],
   "source": [
    "p_df=payload_df"
   ]
  },
  {
   "cell_type": "code",
   "execution_count": 53,
   "id": "651d2766",
   "metadata": {},
   "outputs": [],
   "source": [
    "t_df=tour_df"
   ]
  },
  {
   "cell_type": "code",
   "execution_count": 94,
   "id": "81d79874",
   "metadata": {},
   "outputs": [],
   "source": [
    "SFBay_CBG=polygon_CBG"
   ]
  },
  {
   "cell_type": "code",
   "execution_count": 55,
   "id": "f32ab3af",
   "metadata": {},
   "outputs": [],
   "source": [
    "    c_df['depot_zone_x']=0.0\n",
    "    c_df['depot_zone_y']=0.0\n",
    "    c_df =c_df.sort_values(by=['carrierId']).reset_index(drop=True)\n",
    "    carr_id=0.0\n",
    "    \n",
    "    for i in range(0,c_df.shape[0]):\n",
    "        if c_df.carrierId[i] == carr_id:\n",
    "            c_df.loc[i,'depot_zone_x']=c_df.loc[i-1,'depot_zone_x']\n",
    "            c_df.loc[i,'depot_zone_y']=c_df.loc[i-1,'depot_zone_y']\n",
    "        else:\n",
    "            point=random_points_in_polygon(SFBay_CBG.geometry[SFBay_CBG.MESOZONE==c_df.depot_zone[i]])\n",
    "            c_df.loc[i,'depot_zone_x']=point.x\n",
    "            c_df.loc[i,'depot_zone_y']=point.y\n",
    "            carr_id = c_df.carrierId[i]\n",
    "    t_df=t_df.merge(c_df[['tourId','depot_zone_x','depot_zone_y']], right_on='tourId', left_on='tour_id', how='left')\n",
    "    t_df=t_df.rename({'depot_zone_x':'departureLocation_x', \n",
    "                     'depot_zone_y':'departureLocation_y'}, axis=1)\n"
   ]
  },
  {
   "cell_type": "code",
   "execution_count": 122,
   "id": "5b151041",
   "metadata": {},
   "outputs": [
    {
     "name": "stdout",
     "output_type": "stream",
     "text": [
      "0\n",
      "1\n",
      "2\n",
      "3\n",
      "4\n"
     ]
    },
    {
     "name": "stderr",
     "output_type": "stream",
     "text": [
      "/var/folders/kr/2j58542j2_7chf9_h8bmr30mb0_4n0/T/ipykernel_15666/3676463546.py:9: UserWarning: Geometry is in a geographic CRS. Results from 'area' are likely incorrect. Use 'GeoSeries.to_crs()' to re-project geometries to a projected CRS before this operation.\n",
      "\n",
      "  if SFBay_CBG.area[SFBay_CBG.MESOZONE==p_df['locationZone'][i]].values[0]==0:\n",
      "/var/folders/kr/2j58542j2_7chf9_h8bmr30mb0_4n0/T/ipykernel_15666/3676463546.py:9: UserWarning: Geometry is in a geographic CRS. Results from 'area' are likely incorrect. Use 'GeoSeries.to_crs()' to re-project geometries to a projected CRS before this operation.\n",
      "\n",
      "  if SFBay_CBG.area[SFBay_CBG.MESOZONE==p_df['locationZone'][i]].values[0]==0:\n",
      "/var/folders/kr/2j58542j2_7chf9_h8bmr30mb0_4n0/T/ipykernel_15666/3676463546.py:9: UserWarning: Geometry is in a geographic CRS. Results from 'area' are likely incorrect. Use 'GeoSeries.to_crs()' to re-project geometries to a projected CRS before this operation.\n",
      "\n",
      "  if SFBay_CBG.area[SFBay_CBG.MESOZONE==p_df['locationZone'][i]].values[0]==0:\n",
      "/var/folders/kr/2j58542j2_7chf9_h8bmr30mb0_4n0/T/ipykernel_15666/3676463546.py:9: UserWarning: Geometry is in a geographic CRS. Results from 'area' are likely incorrect. Use 'GeoSeries.to_crs()' to re-project geometries to a projected CRS before this operation.\n",
      "\n",
      "  if SFBay_CBG.area[SFBay_CBG.MESOZONE==p_df['locationZone'][i]].values[0]==0:\n"
     ]
    },
    {
     "name": "stdout",
     "output_type": "stream",
     "text": [
      "5\n",
      "6\n",
      "7\n",
      "8\n"
     ]
    },
    {
     "name": "stderr",
     "output_type": "stream",
     "text": [
      "/var/folders/kr/2j58542j2_7chf9_h8bmr30mb0_4n0/T/ipykernel_15666/3676463546.py:9: UserWarning: Geometry is in a geographic CRS. Results from 'area' are likely incorrect. Use 'GeoSeries.to_crs()' to re-project geometries to a projected CRS before this operation.\n",
      "\n",
      "  if SFBay_CBG.area[SFBay_CBG.MESOZONE==p_df['locationZone'][i]].values[0]==0:\n",
      "/var/folders/kr/2j58542j2_7chf9_h8bmr30mb0_4n0/T/ipykernel_15666/3676463546.py:9: UserWarning: Geometry is in a geographic CRS. Results from 'area' are likely incorrect. Use 'GeoSeries.to_crs()' to re-project geometries to a projected CRS before this operation.\n",
      "\n",
      "  if SFBay_CBG.area[SFBay_CBG.MESOZONE==p_df['locationZone'][i]].values[0]==0:\n",
      "/var/folders/kr/2j58542j2_7chf9_h8bmr30mb0_4n0/T/ipykernel_15666/3676463546.py:9: UserWarning: Geometry is in a geographic CRS. Results from 'area' are likely incorrect. Use 'GeoSeries.to_crs()' to re-project geometries to a projected CRS before this operation.\n",
      "\n",
      "  if SFBay_CBG.area[SFBay_CBG.MESOZONE==p_df['locationZone'][i]].values[0]==0:\n",
      "/var/folders/kr/2j58542j2_7chf9_h8bmr30mb0_4n0/T/ipykernel_15666/3676463546.py:9: UserWarning: Geometry is in a geographic CRS. Results from 'area' are likely incorrect. Use 'GeoSeries.to_crs()' to re-project geometries to a projected CRS before this operation.\n",
      "\n",
      "  if SFBay_CBG.area[SFBay_CBG.MESOZONE==p_df['locationZone'][i]].values[0]==0:\n"
     ]
    },
    {
     "name": "stdout",
     "output_type": "stream",
     "text": [
      "9\n",
      "10\n",
      "11\n",
      "12\n",
      "13\n"
     ]
    },
    {
     "name": "stderr",
     "output_type": "stream",
     "text": [
      "/var/folders/kr/2j58542j2_7chf9_h8bmr30mb0_4n0/T/ipykernel_15666/3676463546.py:9: UserWarning: Geometry is in a geographic CRS. Results from 'area' are likely incorrect. Use 'GeoSeries.to_crs()' to re-project geometries to a projected CRS before this operation.\n",
      "\n",
      "  if SFBay_CBG.area[SFBay_CBG.MESOZONE==p_df['locationZone'][i]].values[0]==0:\n",
      "/var/folders/kr/2j58542j2_7chf9_h8bmr30mb0_4n0/T/ipykernel_15666/3676463546.py:9: UserWarning: Geometry is in a geographic CRS. Results from 'area' are likely incorrect. Use 'GeoSeries.to_crs()' to re-project geometries to a projected CRS before this operation.\n",
      "\n",
      "  if SFBay_CBG.area[SFBay_CBG.MESOZONE==p_df['locationZone'][i]].values[0]==0:\n",
      "/var/folders/kr/2j58542j2_7chf9_h8bmr30mb0_4n0/T/ipykernel_15666/3676463546.py:9: UserWarning: Geometry is in a geographic CRS. Results from 'area' are likely incorrect. Use 'GeoSeries.to_crs()' to re-project geometries to a projected CRS before this operation.\n",
      "\n",
      "  if SFBay_CBG.area[SFBay_CBG.MESOZONE==p_df['locationZone'][i]].values[0]==0:\n",
      "/var/folders/kr/2j58542j2_7chf9_h8bmr30mb0_4n0/T/ipykernel_15666/3676463546.py:9: UserWarning: Geometry is in a geographic CRS. Results from 'area' are likely incorrect. Use 'GeoSeries.to_crs()' to re-project geometries to a projected CRS before this operation.\n",
      "\n",
      "  if SFBay_CBG.area[SFBay_CBG.MESOZONE==p_df['locationZone'][i]].values[0]==0:\n",
      "/var/folders/kr/2j58542j2_7chf9_h8bmr30mb0_4n0/T/ipykernel_15666/3676463546.py:9: UserWarning: Geometry is in a geographic CRS. Results from 'area' are likely incorrect. Use 'GeoSeries.to_crs()' to re-project geometries to a projected CRS before this operation.\n",
      "\n",
      "  if SFBay_CBG.area[SFBay_CBG.MESOZONE==p_df['locationZone'][i]].values[0]==0:\n"
     ]
    },
    {
     "name": "stdout",
     "output_type": "stream",
     "text": [
      "14\n",
      "15\n",
      "16\n",
      "17\n",
      "18\n",
      "19\n"
     ]
    },
    {
     "name": "stderr",
     "output_type": "stream",
     "text": [
      "/var/folders/kr/2j58542j2_7chf9_h8bmr30mb0_4n0/T/ipykernel_15666/3676463546.py:9: UserWarning: Geometry is in a geographic CRS. Results from 'area' are likely incorrect. Use 'GeoSeries.to_crs()' to re-project geometries to a projected CRS before this operation.\n",
      "\n",
      "  if SFBay_CBG.area[SFBay_CBG.MESOZONE==p_df['locationZone'][i]].values[0]==0:\n",
      "/var/folders/kr/2j58542j2_7chf9_h8bmr30mb0_4n0/T/ipykernel_15666/3676463546.py:9: UserWarning: Geometry is in a geographic CRS. Results from 'area' are likely incorrect. Use 'GeoSeries.to_crs()' to re-project geometries to a projected CRS before this operation.\n",
      "\n",
      "  if SFBay_CBG.area[SFBay_CBG.MESOZONE==p_df['locationZone'][i]].values[0]==0:\n",
      "/var/folders/kr/2j58542j2_7chf9_h8bmr30mb0_4n0/T/ipykernel_15666/3676463546.py:9: UserWarning: Geometry is in a geographic CRS. Results from 'area' are likely incorrect. Use 'GeoSeries.to_crs()' to re-project geometries to a projected CRS before this operation.\n",
      "\n",
      "  if SFBay_CBG.area[SFBay_CBG.MESOZONE==p_df['locationZone'][i]].values[0]==0:\n",
      "/var/folders/kr/2j58542j2_7chf9_h8bmr30mb0_4n0/T/ipykernel_15666/3676463546.py:9: UserWarning: Geometry is in a geographic CRS. Results from 'area' are likely incorrect. Use 'GeoSeries.to_crs()' to re-project geometries to a projected CRS before this operation.\n",
      "\n",
      "  if SFBay_CBG.area[SFBay_CBG.MESOZONE==p_df['locationZone'][i]].values[0]==0:\n",
      "/var/folders/kr/2j58542j2_7chf9_h8bmr30mb0_4n0/T/ipykernel_15666/3676463546.py:9: UserWarning: Geometry is in a geographic CRS. Results from 'area' are likely incorrect. Use 'GeoSeries.to_crs()' to re-project geometries to a projected CRS before this operation.\n",
      "\n",
      "  if SFBay_CBG.area[SFBay_CBG.MESOZONE==p_df['locationZone'][i]].values[0]==0:\n",
      "/var/folders/kr/2j58542j2_7chf9_h8bmr30mb0_4n0/T/ipykernel_15666/3676463546.py:9: UserWarning: Geometry is in a geographic CRS. Results from 'area' are likely incorrect. Use 'GeoSeries.to_crs()' to re-project geometries to a projected CRS before this operation.\n",
      "\n",
      "  if SFBay_CBG.area[SFBay_CBG.MESOZONE==p_df['locationZone'][i]].values[0]==0:\n",
      "/var/folders/kr/2j58542j2_7chf9_h8bmr30mb0_4n0/T/ipykernel_15666/3676463546.py:9: UserWarning: Geometry is in a geographic CRS. Results from 'area' are likely incorrect. Use 'GeoSeries.to_crs()' to re-project geometries to a projected CRS before this operation.\n",
      "\n",
      "  if SFBay_CBG.area[SFBay_CBG.MESOZONE==p_df['locationZone'][i]].values[0]==0:\n",
      "/var/folders/kr/2j58542j2_7chf9_h8bmr30mb0_4n0/T/ipykernel_15666/3676463546.py:9: UserWarning: Geometry is in a geographic CRS. Results from 'area' are likely incorrect. Use 'GeoSeries.to_crs()' to re-project geometries to a projected CRS before this operation.\n",
      "\n",
      "  if SFBay_CBG.area[SFBay_CBG.MESOZONE==p_df['locationZone'][i]].values[0]==0:\n",
      "/var/folders/kr/2j58542j2_7chf9_h8bmr30mb0_4n0/T/ipykernel_15666/3676463546.py:9: UserWarning: Geometry is in a geographic CRS. Results from 'area' are likely incorrect. Use 'GeoSeries.to_crs()' to re-project geometries to a projected CRS before this operation.\n",
      "\n",
      "  if SFBay_CBG.area[SFBay_CBG.MESOZONE==p_df['locationZone'][i]].values[0]==0:\n",
      "/var/folders/kr/2j58542j2_7chf9_h8bmr30mb0_4n0/T/ipykernel_15666/3676463546.py:9: UserWarning: Geometry is in a geographic CRS. Results from 'area' are likely incorrect. Use 'GeoSeries.to_crs()' to re-project geometries to a projected CRS before this operation.\n",
      "\n",
      "  if SFBay_CBG.area[SFBay_CBG.MESOZONE==p_df['locationZone'][i]].values[0]==0:\n"
     ]
    },
    {
     "name": "stdout",
     "output_type": "stream",
     "text": [
      "20\n",
      "21\n",
      "22\n",
      "23\n",
      "24\n"
     ]
    },
    {
     "name": "stderr",
     "output_type": "stream",
     "text": [
      "/var/folders/kr/2j58542j2_7chf9_h8bmr30mb0_4n0/T/ipykernel_15666/3676463546.py:9: UserWarning: Geometry is in a geographic CRS. Results from 'area' are likely incorrect. Use 'GeoSeries.to_crs()' to re-project geometries to a projected CRS before this operation.\n",
      "\n",
      "  if SFBay_CBG.area[SFBay_CBG.MESOZONE==p_df['locationZone'][i]].values[0]==0:\n",
      "/var/folders/kr/2j58542j2_7chf9_h8bmr30mb0_4n0/T/ipykernel_15666/3676463546.py:9: UserWarning: Geometry is in a geographic CRS. Results from 'area' are likely incorrect. Use 'GeoSeries.to_crs()' to re-project geometries to a projected CRS before this operation.\n",
      "\n",
      "  if SFBay_CBG.area[SFBay_CBG.MESOZONE==p_df['locationZone'][i]].values[0]==0:\n",
      "/var/folders/kr/2j58542j2_7chf9_h8bmr30mb0_4n0/T/ipykernel_15666/3676463546.py:9: UserWarning: Geometry is in a geographic CRS. Results from 'area' are likely incorrect. Use 'GeoSeries.to_crs()' to re-project geometries to a projected CRS before this operation.\n",
      "\n",
      "  if SFBay_CBG.area[SFBay_CBG.MESOZONE==p_df['locationZone'][i]].values[0]==0:\n",
      "/var/folders/kr/2j58542j2_7chf9_h8bmr30mb0_4n0/T/ipykernel_15666/3676463546.py:9: UserWarning: Geometry is in a geographic CRS. Results from 'area' are likely incorrect. Use 'GeoSeries.to_crs()' to re-project geometries to a projected CRS before this operation.\n",
      "\n",
      "  if SFBay_CBG.area[SFBay_CBG.MESOZONE==p_df['locationZone'][i]].values[0]==0:\n",
      "/var/folders/kr/2j58542j2_7chf9_h8bmr30mb0_4n0/T/ipykernel_15666/3676463546.py:9: UserWarning: Geometry is in a geographic CRS. Results from 'area' are likely incorrect. Use 'GeoSeries.to_crs()' to re-project geometries to a projected CRS before this operation.\n",
      "\n",
      "  if SFBay_CBG.area[SFBay_CBG.MESOZONE==p_df['locationZone'][i]].values[0]==0:\n"
     ]
    },
    {
     "name": "stdout",
     "output_type": "stream",
     "text": [
      "25\n",
      "26\n",
      "27\n",
      "28\n",
      "29\n"
     ]
    },
    {
     "name": "stderr",
     "output_type": "stream",
     "text": [
      "/var/folders/kr/2j58542j2_7chf9_h8bmr30mb0_4n0/T/ipykernel_15666/3676463546.py:9: UserWarning: Geometry is in a geographic CRS. Results from 'area' are likely incorrect. Use 'GeoSeries.to_crs()' to re-project geometries to a projected CRS before this operation.\n",
      "\n",
      "  if SFBay_CBG.area[SFBay_CBG.MESOZONE==p_df['locationZone'][i]].values[0]==0:\n",
      "/var/folders/kr/2j58542j2_7chf9_h8bmr30mb0_4n0/T/ipykernel_15666/3676463546.py:9: UserWarning: Geometry is in a geographic CRS. Results from 'area' are likely incorrect. Use 'GeoSeries.to_crs()' to re-project geometries to a projected CRS before this operation.\n",
      "\n",
      "  if SFBay_CBG.area[SFBay_CBG.MESOZONE==p_df['locationZone'][i]].values[0]==0:\n",
      "/var/folders/kr/2j58542j2_7chf9_h8bmr30mb0_4n0/T/ipykernel_15666/3676463546.py:9: UserWarning: Geometry is in a geographic CRS. Results from 'area' are likely incorrect. Use 'GeoSeries.to_crs()' to re-project geometries to a projected CRS before this operation.\n",
      "\n",
      "  if SFBay_CBG.area[SFBay_CBG.MESOZONE==p_df['locationZone'][i]].values[0]==0:\n",
      "/var/folders/kr/2j58542j2_7chf9_h8bmr30mb0_4n0/T/ipykernel_15666/3676463546.py:9: UserWarning: Geometry is in a geographic CRS. Results from 'area' are likely incorrect. Use 'GeoSeries.to_crs()' to re-project geometries to a projected CRS before this operation.\n",
      "\n",
      "  if SFBay_CBG.area[SFBay_CBG.MESOZONE==p_df['locationZone'][i]].values[0]==0:\n",
      "/var/folders/kr/2j58542j2_7chf9_h8bmr30mb0_4n0/T/ipykernel_15666/3676463546.py:9: UserWarning: Geometry is in a geographic CRS. Results from 'area' are likely incorrect. Use 'GeoSeries.to_crs()' to re-project geometries to a projected CRS before this operation.\n",
      "\n",
      "  if SFBay_CBG.area[SFBay_CBG.MESOZONE==p_df['locationZone'][i]].values[0]==0:\n"
     ]
    },
    {
     "name": "stdout",
     "output_type": "stream",
     "text": [
      "30\n",
      "31\n",
      "32\n",
      "33\n",
      "34\n"
     ]
    },
    {
     "name": "stderr",
     "output_type": "stream",
     "text": [
      "/var/folders/kr/2j58542j2_7chf9_h8bmr30mb0_4n0/T/ipykernel_15666/3676463546.py:9: UserWarning: Geometry is in a geographic CRS. Results from 'area' are likely incorrect. Use 'GeoSeries.to_crs()' to re-project geometries to a projected CRS before this operation.\n",
      "\n",
      "  if SFBay_CBG.area[SFBay_CBG.MESOZONE==p_df['locationZone'][i]].values[0]==0:\n",
      "/var/folders/kr/2j58542j2_7chf9_h8bmr30mb0_4n0/T/ipykernel_15666/3676463546.py:9: UserWarning: Geometry is in a geographic CRS. Results from 'area' are likely incorrect. Use 'GeoSeries.to_crs()' to re-project geometries to a projected CRS before this operation.\n",
      "\n",
      "  if SFBay_CBG.area[SFBay_CBG.MESOZONE==p_df['locationZone'][i]].values[0]==0:\n",
      "/var/folders/kr/2j58542j2_7chf9_h8bmr30mb0_4n0/T/ipykernel_15666/3676463546.py:9: UserWarning: Geometry is in a geographic CRS. Results from 'area' are likely incorrect. Use 'GeoSeries.to_crs()' to re-project geometries to a projected CRS before this operation.\n",
      "\n",
      "  if SFBay_CBG.area[SFBay_CBG.MESOZONE==p_df['locationZone'][i]].values[0]==0:\n",
      "/var/folders/kr/2j58542j2_7chf9_h8bmr30mb0_4n0/T/ipykernel_15666/3676463546.py:9: UserWarning: Geometry is in a geographic CRS. Results from 'area' are likely incorrect. Use 'GeoSeries.to_crs()' to re-project geometries to a projected CRS before this operation.\n",
      "\n",
      "  if SFBay_CBG.area[SFBay_CBG.MESOZONE==p_df['locationZone'][i]].values[0]==0:\n",
      "/var/folders/kr/2j58542j2_7chf9_h8bmr30mb0_4n0/T/ipykernel_15666/3676463546.py:9: UserWarning: Geometry is in a geographic CRS. Results from 'area' are likely incorrect. Use 'GeoSeries.to_crs()' to re-project geometries to a projected CRS before this operation.\n",
      "\n",
      "  if SFBay_CBG.area[SFBay_CBG.MESOZONE==p_df['locationZone'][i]].values[0]==0:\n"
     ]
    },
    {
     "name": "stdout",
     "output_type": "stream",
     "text": [
      "35\n",
      "36\n",
      "37\n",
      "38\n",
      "39\n"
     ]
    },
    {
     "name": "stderr",
     "output_type": "stream",
     "text": [
      "/var/folders/kr/2j58542j2_7chf9_h8bmr30mb0_4n0/T/ipykernel_15666/3676463546.py:9: UserWarning: Geometry is in a geographic CRS. Results from 'area' are likely incorrect. Use 'GeoSeries.to_crs()' to re-project geometries to a projected CRS before this operation.\n",
      "\n",
      "  if SFBay_CBG.area[SFBay_CBG.MESOZONE==p_df['locationZone'][i]].values[0]==0:\n",
      "/var/folders/kr/2j58542j2_7chf9_h8bmr30mb0_4n0/T/ipykernel_15666/3676463546.py:9: UserWarning: Geometry is in a geographic CRS. Results from 'area' are likely incorrect. Use 'GeoSeries.to_crs()' to re-project geometries to a projected CRS before this operation.\n",
      "\n",
      "  if SFBay_CBG.area[SFBay_CBG.MESOZONE==p_df['locationZone'][i]].values[0]==0:\n",
      "/var/folders/kr/2j58542j2_7chf9_h8bmr30mb0_4n0/T/ipykernel_15666/3676463546.py:9: UserWarning: Geometry is in a geographic CRS. Results from 'area' are likely incorrect. Use 'GeoSeries.to_crs()' to re-project geometries to a projected CRS before this operation.\n",
      "\n",
      "  if SFBay_CBG.area[SFBay_CBG.MESOZONE==p_df['locationZone'][i]].values[0]==0:\n",
      "/var/folders/kr/2j58542j2_7chf9_h8bmr30mb0_4n0/T/ipykernel_15666/3676463546.py:9: UserWarning: Geometry is in a geographic CRS. Results from 'area' are likely incorrect. Use 'GeoSeries.to_crs()' to re-project geometries to a projected CRS before this operation.\n",
      "\n",
      "  if SFBay_CBG.area[SFBay_CBG.MESOZONE==p_df['locationZone'][i]].values[0]==0:\n",
      "/var/folders/kr/2j58542j2_7chf9_h8bmr30mb0_4n0/T/ipykernel_15666/3676463546.py:9: UserWarning: Geometry is in a geographic CRS. Results from 'area' are likely incorrect. Use 'GeoSeries.to_crs()' to re-project geometries to a projected CRS before this operation.\n",
      "\n",
      "  if SFBay_CBG.area[SFBay_CBG.MESOZONE==p_df['locationZone'][i]].values[0]==0:\n"
     ]
    },
    {
     "name": "stdout",
     "output_type": "stream",
     "text": [
      "40\n",
      "41\n",
      "42\n",
      "43\n",
      "44\n"
     ]
    },
    {
     "name": "stderr",
     "output_type": "stream",
     "text": [
      "/var/folders/kr/2j58542j2_7chf9_h8bmr30mb0_4n0/T/ipykernel_15666/3676463546.py:9: UserWarning: Geometry is in a geographic CRS. Results from 'area' are likely incorrect. Use 'GeoSeries.to_crs()' to re-project geometries to a projected CRS before this operation.\n",
      "\n",
      "  if SFBay_CBG.area[SFBay_CBG.MESOZONE==p_df['locationZone'][i]].values[0]==0:\n",
      "/var/folders/kr/2j58542j2_7chf9_h8bmr30mb0_4n0/T/ipykernel_15666/3676463546.py:9: UserWarning: Geometry is in a geographic CRS. Results from 'area' are likely incorrect. Use 'GeoSeries.to_crs()' to re-project geometries to a projected CRS before this operation.\n",
      "\n",
      "  if SFBay_CBG.area[SFBay_CBG.MESOZONE==p_df['locationZone'][i]].values[0]==0:\n",
      "/var/folders/kr/2j58542j2_7chf9_h8bmr30mb0_4n0/T/ipykernel_15666/3676463546.py:9: UserWarning: Geometry is in a geographic CRS. Results from 'area' are likely incorrect. Use 'GeoSeries.to_crs()' to re-project geometries to a projected CRS before this operation.\n",
      "\n",
      "  if SFBay_CBG.area[SFBay_CBG.MESOZONE==p_df['locationZone'][i]].values[0]==0:\n",
      "/var/folders/kr/2j58542j2_7chf9_h8bmr30mb0_4n0/T/ipykernel_15666/3676463546.py:9: UserWarning: Geometry is in a geographic CRS. Results from 'area' are likely incorrect. Use 'GeoSeries.to_crs()' to re-project geometries to a projected CRS before this operation.\n",
      "\n",
      "  if SFBay_CBG.area[SFBay_CBG.MESOZONE==p_df['locationZone'][i]].values[0]==0:\n",
      "/var/folders/kr/2j58542j2_7chf9_h8bmr30mb0_4n0/T/ipykernel_15666/3676463546.py:9: UserWarning: Geometry is in a geographic CRS. Results from 'area' are likely incorrect. Use 'GeoSeries.to_crs()' to re-project geometries to a projected CRS before this operation.\n",
      "\n",
      "  if SFBay_CBG.area[SFBay_CBG.MESOZONE==p_df['locationZone'][i]].values[0]==0:\n"
     ]
    },
    {
     "name": "stdout",
     "output_type": "stream",
     "text": [
      "45\n",
      "46\n",
      "47\n",
      "48\n",
      "49\n"
     ]
    },
    {
     "name": "stderr",
     "output_type": "stream",
     "text": [
      "/var/folders/kr/2j58542j2_7chf9_h8bmr30mb0_4n0/T/ipykernel_15666/3676463546.py:9: UserWarning: Geometry is in a geographic CRS. Results from 'area' are likely incorrect. Use 'GeoSeries.to_crs()' to re-project geometries to a projected CRS before this operation.\n",
      "\n",
      "  if SFBay_CBG.area[SFBay_CBG.MESOZONE==p_df['locationZone'][i]].values[0]==0:\n",
      "/var/folders/kr/2j58542j2_7chf9_h8bmr30mb0_4n0/T/ipykernel_15666/3676463546.py:9: UserWarning: Geometry is in a geographic CRS. Results from 'area' are likely incorrect. Use 'GeoSeries.to_crs()' to re-project geometries to a projected CRS before this operation.\n",
      "\n",
      "  if SFBay_CBG.area[SFBay_CBG.MESOZONE==p_df['locationZone'][i]].values[0]==0:\n",
      "/var/folders/kr/2j58542j2_7chf9_h8bmr30mb0_4n0/T/ipykernel_15666/3676463546.py:9: UserWarning: Geometry is in a geographic CRS. Results from 'area' are likely incorrect. Use 'GeoSeries.to_crs()' to re-project geometries to a projected CRS before this operation.\n",
      "\n",
      "  if SFBay_CBG.area[SFBay_CBG.MESOZONE==p_df['locationZone'][i]].values[0]==0:\n",
      "/var/folders/kr/2j58542j2_7chf9_h8bmr30mb0_4n0/T/ipykernel_15666/3676463546.py:9: UserWarning: Geometry is in a geographic CRS. Results from 'area' are likely incorrect. Use 'GeoSeries.to_crs()' to re-project geometries to a projected CRS before this operation.\n",
      "\n",
      "  if SFBay_CBG.area[SFBay_CBG.MESOZONE==p_df['locationZone'][i]].values[0]==0:\n"
     ]
    },
    {
     "name": "stdout",
     "output_type": "stream",
     "text": [
      "50\n",
      "51\n",
      "52\n",
      "53\n"
     ]
    },
    {
     "name": "stderr",
     "output_type": "stream",
     "text": [
      "/var/folders/kr/2j58542j2_7chf9_h8bmr30mb0_4n0/T/ipykernel_15666/3676463546.py:9: UserWarning: Geometry is in a geographic CRS. Results from 'area' are likely incorrect. Use 'GeoSeries.to_crs()' to re-project geometries to a projected CRS before this operation.\n",
      "\n",
      "  if SFBay_CBG.area[SFBay_CBG.MESOZONE==p_df['locationZone'][i]].values[0]==0:\n",
      "/var/folders/kr/2j58542j2_7chf9_h8bmr30mb0_4n0/T/ipykernel_15666/3676463546.py:9: UserWarning: Geometry is in a geographic CRS. Results from 'area' are likely incorrect. Use 'GeoSeries.to_crs()' to re-project geometries to a projected CRS before this operation.\n",
      "\n",
      "  if SFBay_CBG.area[SFBay_CBG.MESOZONE==p_df['locationZone'][i]].values[0]==0:\n",
      "/var/folders/kr/2j58542j2_7chf9_h8bmr30mb0_4n0/T/ipykernel_15666/3676463546.py:9: UserWarning: Geometry is in a geographic CRS. Results from 'area' are likely incorrect. Use 'GeoSeries.to_crs()' to re-project geometries to a projected CRS before this operation.\n",
      "\n",
      "  if SFBay_CBG.area[SFBay_CBG.MESOZONE==p_df['locationZone'][i]].values[0]==0:\n",
      "/var/folders/kr/2j58542j2_7chf9_h8bmr30mb0_4n0/T/ipykernel_15666/3676463546.py:9: UserWarning: Geometry is in a geographic CRS. Results from 'area' are likely incorrect. Use 'GeoSeries.to_crs()' to re-project geometries to a projected CRS before this operation.\n",
      "\n",
      "  if SFBay_CBG.area[SFBay_CBG.MESOZONE==p_df['locationZone'][i]].values[0]==0:\n"
     ]
    },
    {
     "name": "stdout",
     "output_type": "stream",
     "text": [
      "54\n",
      "55\n",
      "56\n",
      "57\n",
      "58\n"
     ]
    },
    {
     "name": "stderr",
     "output_type": "stream",
     "text": [
      "/var/folders/kr/2j58542j2_7chf9_h8bmr30mb0_4n0/T/ipykernel_15666/3676463546.py:9: UserWarning: Geometry is in a geographic CRS. Results from 'area' are likely incorrect. Use 'GeoSeries.to_crs()' to re-project geometries to a projected CRS before this operation.\n",
      "\n",
      "  if SFBay_CBG.area[SFBay_CBG.MESOZONE==p_df['locationZone'][i]].values[0]==0:\n",
      "/var/folders/kr/2j58542j2_7chf9_h8bmr30mb0_4n0/T/ipykernel_15666/3676463546.py:9: UserWarning: Geometry is in a geographic CRS. Results from 'area' are likely incorrect. Use 'GeoSeries.to_crs()' to re-project geometries to a projected CRS before this operation.\n",
      "\n",
      "  if SFBay_CBG.area[SFBay_CBG.MESOZONE==p_df['locationZone'][i]].values[0]==0:\n",
      "/var/folders/kr/2j58542j2_7chf9_h8bmr30mb0_4n0/T/ipykernel_15666/3676463546.py:9: UserWarning: Geometry is in a geographic CRS. Results from 'area' are likely incorrect. Use 'GeoSeries.to_crs()' to re-project geometries to a projected CRS before this operation.\n",
      "\n",
      "  if SFBay_CBG.area[SFBay_CBG.MESOZONE==p_df['locationZone'][i]].values[0]==0:\n",
      "/var/folders/kr/2j58542j2_7chf9_h8bmr30mb0_4n0/T/ipykernel_15666/3676463546.py:9: UserWarning: Geometry is in a geographic CRS. Results from 'area' are likely incorrect. Use 'GeoSeries.to_crs()' to re-project geometries to a projected CRS before this operation.\n",
      "\n",
      "  if SFBay_CBG.area[SFBay_CBG.MESOZONE==p_df['locationZone'][i]].values[0]==0:\n",
      "/var/folders/kr/2j58542j2_7chf9_h8bmr30mb0_4n0/T/ipykernel_15666/3676463546.py:9: UserWarning: Geometry is in a geographic CRS. Results from 'area' are likely incorrect. Use 'GeoSeries.to_crs()' to re-project geometries to a projected CRS before this operation.\n",
      "\n",
      "  if SFBay_CBG.area[SFBay_CBG.MESOZONE==p_df['locationZone'][i]].values[0]==0:\n"
     ]
    },
    {
     "name": "stdout",
     "output_type": "stream",
     "text": [
      "59\n",
      "60\n",
      "61\n",
      "62\n",
      "63\n",
      "64\n"
     ]
    },
    {
     "name": "stderr",
     "output_type": "stream",
     "text": [
      "/var/folders/kr/2j58542j2_7chf9_h8bmr30mb0_4n0/T/ipykernel_15666/3676463546.py:9: UserWarning: Geometry is in a geographic CRS. Results from 'area' are likely incorrect. Use 'GeoSeries.to_crs()' to re-project geometries to a projected CRS before this operation.\n",
      "\n",
      "  if SFBay_CBG.area[SFBay_CBG.MESOZONE==p_df['locationZone'][i]].values[0]==0:\n",
      "/var/folders/kr/2j58542j2_7chf9_h8bmr30mb0_4n0/T/ipykernel_15666/3676463546.py:9: UserWarning: Geometry is in a geographic CRS. Results from 'area' are likely incorrect. Use 'GeoSeries.to_crs()' to re-project geometries to a projected CRS before this operation.\n",
      "\n",
      "  if SFBay_CBG.area[SFBay_CBG.MESOZONE==p_df['locationZone'][i]].values[0]==0:\n",
      "/var/folders/kr/2j58542j2_7chf9_h8bmr30mb0_4n0/T/ipykernel_15666/3676463546.py:9: UserWarning: Geometry is in a geographic CRS. Results from 'area' are likely incorrect. Use 'GeoSeries.to_crs()' to re-project geometries to a projected CRS before this operation.\n",
      "\n",
      "  if SFBay_CBG.area[SFBay_CBG.MESOZONE==p_df['locationZone'][i]].values[0]==0:\n",
      "/var/folders/kr/2j58542j2_7chf9_h8bmr30mb0_4n0/T/ipykernel_15666/3676463546.py:9: UserWarning: Geometry is in a geographic CRS. Results from 'area' are likely incorrect. Use 'GeoSeries.to_crs()' to re-project geometries to a projected CRS before this operation.\n",
      "\n",
      "  if SFBay_CBG.area[SFBay_CBG.MESOZONE==p_df['locationZone'][i]].values[0]==0:\n",
      "/var/folders/kr/2j58542j2_7chf9_h8bmr30mb0_4n0/T/ipykernel_15666/3676463546.py:9: UserWarning: Geometry is in a geographic CRS. Results from 'area' are likely incorrect. Use 'GeoSeries.to_crs()' to re-project geometries to a projected CRS before this operation.\n",
      "\n",
      "  if SFBay_CBG.area[SFBay_CBG.MESOZONE==p_df['locationZone'][i]].values[0]==0:\n"
     ]
    },
    {
     "name": "stdout",
     "output_type": "stream",
     "text": [
      "65\n",
      "66\n",
      "67\n",
      "68\n",
      "69\n"
     ]
    },
    {
     "name": "stderr",
     "output_type": "stream",
     "text": [
      "/var/folders/kr/2j58542j2_7chf9_h8bmr30mb0_4n0/T/ipykernel_15666/3676463546.py:9: UserWarning: Geometry is in a geographic CRS. Results from 'area' are likely incorrect. Use 'GeoSeries.to_crs()' to re-project geometries to a projected CRS before this operation.\n",
      "\n",
      "  if SFBay_CBG.area[SFBay_CBG.MESOZONE==p_df['locationZone'][i]].values[0]==0:\n",
      "/var/folders/kr/2j58542j2_7chf9_h8bmr30mb0_4n0/T/ipykernel_15666/3676463546.py:9: UserWarning: Geometry is in a geographic CRS. Results from 'area' are likely incorrect. Use 'GeoSeries.to_crs()' to re-project geometries to a projected CRS before this operation.\n",
      "\n",
      "  if SFBay_CBG.area[SFBay_CBG.MESOZONE==p_df['locationZone'][i]].values[0]==0:\n",
      "/var/folders/kr/2j58542j2_7chf9_h8bmr30mb0_4n0/T/ipykernel_15666/3676463546.py:9: UserWarning: Geometry is in a geographic CRS. Results from 'area' are likely incorrect. Use 'GeoSeries.to_crs()' to re-project geometries to a projected CRS before this operation.\n",
      "\n",
      "  if SFBay_CBG.area[SFBay_CBG.MESOZONE==p_df['locationZone'][i]].values[0]==0:\n",
      "/var/folders/kr/2j58542j2_7chf9_h8bmr30mb0_4n0/T/ipykernel_15666/3676463546.py:9: UserWarning: Geometry is in a geographic CRS. Results from 'area' are likely incorrect. Use 'GeoSeries.to_crs()' to re-project geometries to a projected CRS before this operation.\n",
      "\n",
      "  if SFBay_CBG.area[SFBay_CBG.MESOZONE==p_df['locationZone'][i]].values[0]==0:\n",
      "/var/folders/kr/2j58542j2_7chf9_h8bmr30mb0_4n0/T/ipykernel_15666/3676463546.py:9: UserWarning: Geometry is in a geographic CRS. Results from 'area' are likely incorrect. Use 'GeoSeries.to_crs()' to re-project geometries to a projected CRS before this operation.\n",
      "\n",
      "  if SFBay_CBG.area[SFBay_CBG.MESOZONE==p_df['locationZone'][i]].values[0]==0:\n"
     ]
    },
    {
     "name": "stdout",
     "output_type": "stream",
     "text": [
      "70\n",
      "71\n",
      "72\n",
      "73\n",
      "74\n"
     ]
    },
    {
     "name": "stderr",
     "output_type": "stream",
     "text": [
      "/var/folders/kr/2j58542j2_7chf9_h8bmr30mb0_4n0/T/ipykernel_15666/3676463546.py:9: UserWarning: Geometry is in a geographic CRS. Results from 'area' are likely incorrect. Use 'GeoSeries.to_crs()' to re-project geometries to a projected CRS before this operation.\n",
      "\n",
      "  if SFBay_CBG.area[SFBay_CBG.MESOZONE==p_df['locationZone'][i]].values[0]==0:\n",
      "/var/folders/kr/2j58542j2_7chf9_h8bmr30mb0_4n0/T/ipykernel_15666/3676463546.py:9: UserWarning: Geometry is in a geographic CRS. Results from 'area' are likely incorrect. Use 'GeoSeries.to_crs()' to re-project geometries to a projected CRS before this operation.\n",
      "\n",
      "  if SFBay_CBG.area[SFBay_CBG.MESOZONE==p_df['locationZone'][i]].values[0]==0:\n",
      "/var/folders/kr/2j58542j2_7chf9_h8bmr30mb0_4n0/T/ipykernel_15666/3676463546.py:9: UserWarning: Geometry is in a geographic CRS. Results from 'area' are likely incorrect. Use 'GeoSeries.to_crs()' to re-project geometries to a projected CRS before this operation.\n",
      "\n",
      "  if SFBay_CBG.area[SFBay_CBG.MESOZONE==p_df['locationZone'][i]].values[0]==0:\n",
      "/var/folders/kr/2j58542j2_7chf9_h8bmr30mb0_4n0/T/ipykernel_15666/3676463546.py:9: UserWarning: Geometry is in a geographic CRS. Results from 'area' are likely incorrect. Use 'GeoSeries.to_crs()' to re-project geometries to a projected CRS before this operation.\n",
      "\n",
      "  if SFBay_CBG.area[SFBay_CBG.MESOZONE==p_df['locationZone'][i]].values[0]==0:\n",
      "/var/folders/kr/2j58542j2_7chf9_h8bmr30mb0_4n0/T/ipykernel_15666/3676463546.py:9: UserWarning: Geometry is in a geographic CRS. Results from 'area' are likely incorrect. Use 'GeoSeries.to_crs()' to re-project geometries to a projected CRS before this operation.\n",
      "\n",
      "  if SFBay_CBG.area[SFBay_CBG.MESOZONE==p_df['locationZone'][i]].values[0]==0:\n",
      "/var/folders/kr/2j58542j2_7chf9_h8bmr30mb0_4n0/T/ipykernel_15666/3676463546.py:9: UserWarning: Geometry is in a geographic CRS. Results from 'area' are likely incorrect. Use 'GeoSeries.to_crs()' to re-project geometries to a projected CRS before this operation.\n",
      "\n",
      "  if SFBay_CBG.area[SFBay_CBG.MESOZONE==p_df['locationZone'][i]].values[0]==0:\n"
     ]
    },
    {
     "name": "stdout",
     "output_type": "stream",
     "text": [
      "75\n",
      "76\n",
      "77\n",
      "78\n",
      "79\n"
     ]
    },
    {
     "name": "stderr",
     "output_type": "stream",
     "text": [
      "/var/folders/kr/2j58542j2_7chf9_h8bmr30mb0_4n0/T/ipykernel_15666/3676463546.py:9: UserWarning: Geometry is in a geographic CRS. Results from 'area' are likely incorrect. Use 'GeoSeries.to_crs()' to re-project geometries to a projected CRS before this operation.\n",
      "\n",
      "  if SFBay_CBG.area[SFBay_CBG.MESOZONE==p_df['locationZone'][i]].values[0]==0:\n",
      "/var/folders/kr/2j58542j2_7chf9_h8bmr30mb0_4n0/T/ipykernel_15666/3676463546.py:9: UserWarning: Geometry is in a geographic CRS. Results from 'area' are likely incorrect. Use 'GeoSeries.to_crs()' to re-project geometries to a projected CRS before this operation.\n",
      "\n",
      "  if SFBay_CBG.area[SFBay_CBG.MESOZONE==p_df['locationZone'][i]].values[0]==0:\n",
      "/var/folders/kr/2j58542j2_7chf9_h8bmr30mb0_4n0/T/ipykernel_15666/3676463546.py:9: UserWarning: Geometry is in a geographic CRS. Results from 'area' are likely incorrect. Use 'GeoSeries.to_crs()' to re-project geometries to a projected CRS before this operation.\n",
      "\n",
      "  if SFBay_CBG.area[SFBay_CBG.MESOZONE==p_df['locationZone'][i]].values[0]==0:\n",
      "/var/folders/kr/2j58542j2_7chf9_h8bmr30mb0_4n0/T/ipykernel_15666/3676463546.py:9: UserWarning: Geometry is in a geographic CRS. Results from 'area' are likely incorrect. Use 'GeoSeries.to_crs()' to re-project geometries to a projected CRS before this operation.\n",
      "\n",
      "  if SFBay_CBG.area[SFBay_CBG.MESOZONE==p_df['locationZone'][i]].values[0]==0:\n",
      "/var/folders/kr/2j58542j2_7chf9_h8bmr30mb0_4n0/T/ipykernel_15666/3676463546.py:9: UserWarning: Geometry is in a geographic CRS. Results from 'area' are likely incorrect. Use 'GeoSeries.to_crs()' to re-project geometries to a projected CRS before this operation.\n",
      "\n",
      "  if SFBay_CBG.area[SFBay_CBG.MESOZONE==p_df['locationZone'][i]].values[0]==0:\n"
     ]
    },
    {
     "name": "stdout",
     "output_type": "stream",
     "text": [
      "80\n",
      "81\n",
      "82\n",
      "83\n",
      "84\n",
      "85\n"
     ]
    },
    {
     "name": "stderr",
     "output_type": "stream",
     "text": [
      "/var/folders/kr/2j58542j2_7chf9_h8bmr30mb0_4n0/T/ipykernel_15666/3676463546.py:9: UserWarning: Geometry is in a geographic CRS. Results from 'area' are likely incorrect. Use 'GeoSeries.to_crs()' to re-project geometries to a projected CRS before this operation.\n",
      "\n",
      "  if SFBay_CBG.area[SFBay_CBG.MESOZONE==p_df['locationZone'][i]].values[0]==0:\n",
      "/var/folders/kr/2j58542j2_7chf9_h8bmr30mb0_4n0/T/ipykernel_15666/3676463546.py:9: UserWarning: Geometry is in a geographic CRS. Results from 'area' are likely incorrect. Use 'GeoSeries.to_crs()' to re-project geometries to a projected CRS before this operation.\n",
      "\n",
      "  if SFBay_CBG.area[SFBay_CBG.MESOZONE==p_df['locationZone'][i]].values[0]==0:\n",
      "/var/folders/kr/2j58542j2_7chf9_h8bmr30mb0_4n0/T/ipykernel_15666/3676463546.py:9: UserWarning: Geometry is in a geographic CRS. Results from 'area' are likely incorrect. Use 'GeoSeries.to_crs()' to re-project geometries to a projected CRS before this operation.\n",
      "\n",
      "  if SFBay_CBG.area[SFBay_CBG.MESOZONE==p_df['locationZone'][i]].values[0]==0:\n",
      "/var/folders/kr/2j58542j2_7chf9_h8bmr30mb0_4n0/T/ipykernel_15666/3676463546.py:9: UserWarning: Geometry is in a geographic CRS. Results from 'area' are likely incorrect. Use 'GeoSeries.to_crs()' to re-project geometries to a projected CRS before this operation.\n",
      "\n",
      "  if SFBay_CBG.area[SFBay_CBG.MESOZONE==p_df['locationZone'][i]].values[0]==0:\n",
      "/var/folders/kr/2j58542j2_7chf9_h8bmr30mb0_4n0/T/ipykernel_15666/3676463546.py:9: UserWarning: Geometry is in a geographic CRS. Results from 'area' are likely incorrect. Use 'GeoSeries.to_crs()' to re-project geometries to a projected CRS before this operation.\n",
      "\n",
      "  if SFBay_CBG.area[SFBay_CBG.MESOZONE==p_df['locationZone'][i]].values[0]==0:\n"
     ]
    },
    {
     "name": "stdout",
     "output_type": "stream",
     "text": [
      "86\n",
      "87\n",
      "88\n",
      "89\n",
      "90\n"
     ]
    },
    {
     "name": "stderr",
     "output_type": "stream",
     "text": [
      "/var/folders/kr/2j58542j2_7chf9_h8bmr30mb0_4n0/T/ipykernel_15666/3676463546.py:9: UserWarning: Geometry is in a geographic CRS. Results from 'area' are likely incorrect. Use 'GeoSeries.to_crs()' to re-project geometries to a projected CRS before this operation.\n",
      "\n",
      "  if SFBay_CBG.area[SFBay_CBG.MESOZONE==p_df['locationZone'][i]].values[0]==0:\n",
      "/var/folders/kr/2j58542j2_7chf9_h8bmr30mb0_4n0/T/ipykernel_15666/3676463546.py:9: UserWarning: Geometry is in a geographic CRS. Results from 'area' are likely incorrect. Use 'GeoSeries.to_crs()' to re-project geometries to a projected CRS before this operation.\n",
      "\n",
      "  if SFBay_CBG.area[SFBay_CBG.MESOZONE==p_df['locationZone'][i]].values[0]==0:\n",
      "/var/folders/kr/2j58542j2_7chf9_h8bmr30mb0_4n0/T/ipykernel_15666/3676463546.py:9: UserWarning: Geometry is in a geographic CRS. Results from 'area' are likely incorrect. Use 'GeoSeries.to_crs()' to re-project geometries to a projected CRS before this operation.\n",
      "\n",
      "  if SFBay_CBG.area[SFBay_CBG.MESOZONE==p_df['locationZone'][i]].values[0]==0:\n",
      "/var/folders/kr/2j58542j2_7chf9_h8bmr30mb0_4n0/T/ipykernel_15666/3676463546.py:9: UserWarning: Geometry is in a geographic CRS. Results from 'area' are likely incorrect. Use 'GeoSeries.to_crs()' to re-project geometries to a projected CRS before this operation.\n",
      "\n",
      "  if SFBay_CBG.area[SFBay_CBG.MESOZONE==p_df['locationZone'][i]].values[0]==0:\n",
      "/var/folders/kr/2j58542j2_7chf9_h8bmr30mb0_4n0/T/ipykernel_15666/3676463546.py:9: UserWarning: Geometry is in a geographic CRS. Results from 'area' are likely incorrect. Use 'GeoSeries.to_crs()' to re-project geometries to a projected CRS before this operation.\n",
      "\n",
      "  if SFBay_CBG.area[SFBay_CBG.MESOZONE==p_df['locationZone'][i]].values[0]==0:\n",
      "/var/folders/kr/2j58542j2_7chf9_h8bmr30mb0_4n0/T/ipykernel_15666/3676463546.py:9: UserWarning: Geometry is in a geographic CRS. Results from 'area' are likely incorrect. Use 'GeoSeries.to_crs()' to re-project geometries to a projected CRS before this operation.\n",
      "\n",
      "  if SFBay_CBG.area[SFBay_CBG.MESOZONE==p_df['locationZone'][i]].values[0]==0:\n"
     ]
    },
    {
     "name": "stdout",
     "output_type": "stream",
     "text": [
      "91\n",
      "92\n",
      "93\n",
      "94\n",
      "95\n"
     ]
    },
    {
     "name": "stderr",
     "output_type": "stream",
     "text": [
      "/var/folders/kr/2j58542j2_7chf9_h8bmr30mb0_4n0/T/ipykernel_15666/3676463546.py:9: UserWarning: Geometry is in a geographic CRS. Results from 'area' are likely incorrect. Use 'GeoSeries.to_crs()' to re-project geometries to a projected CRS before this operation.\n",
      "\n",
      "  if SFBay_CBG.area[SFBay_CBG.MESOZONE==p_df['locationZone'][i]].values[0]==0:\n",
      "/var/folders/kr/2j58542j2_7chf9_h8bmr30mb0_4n0/T/ipykernel_15666/3676463546.py:9: UserWarning: Geometry is in a geographic CRS. Results from 'area' are likely incorrect. Use 'GeoSeries.to_crs()' to re-project geometries to a projected CRS before this operation.\n",
      "\n",
      "  if SFBay_CBG.area[SFBay_CBG.MESOZONE==p_df['locationZone'][i]].values[0]==0:\n",
      "/var/folders/kr/2j58542j2_7chf9_h8bmr30mb0_4n0/T/ipykernel_15666/3676463546.py:9: UserWarning: Geometry is in a geographic CRS. Results from 'area' are likely incorrect. Use 'GeoSeries.to_crs()' to re-project geometries to a projected CRS before this operation.\n",
      "\n",
      "  if SFBay_CBG.area[SFBay_CBG.MESOZONE==p_df['locationZone'][i]].values[0]==0:\n",
      "/var/folders/kr/2j58542j2_7chf9_h8bmr30mb0_4n0/T/ipykernel_15666/3676463546.py:9: UserWarning: Geometry is in a geographic CRS. Results from 'area' are likely incorrect. Use 'GeoSeries.to_crs()' to re-project geometries to a projected CRS before this operation.\n",
      "\n",
      "  if SFBay_CBG.area[SFBay_CBG.MESOZONE==p_df['locationZone'][i]].values[0]==0:\n",
      "/var/folders/kr/2j58542j2_7chf9_h8bmr30mb0_4n0/T/ipykernel_15666/3676463546.py:9: UserWarning: Geometry is in a geographic CRS. Results from 'area' are likely incorrect. Use 'GeoSeries.to_crs()' to re-project geometries to a projected CRS before this operation.\n",
      "\n",
      "  if SFBay_CBG.area[SFBay_CBG.MESOZONE==p_df['locationZone'][i]].values[0]==0:\n"
     ]
    },
    {
     "name": "stdout",
     "output_type": "stream",
     "text": [
      "96\n",
      "97\n",
      "98\n",
      "99\n",
      "100\n"
     ]
    },
    {
     "name": "stderr",
     "output_type": "stream",
     "text": [
      "/var/folders/kr/2j58542j2_7chf9_h8bmr30mb0_4n0/T/ipykernel_15666/3676463546.py:9: UserWarning: Geometry is in a geographic CRS. Results from 'area' are likely incorrect. Use 'GeoSeries.to_crs()' to re-project geometries to a projected CRS before this operation.\n",
      "\n",
      "  if SFBay_CBG.area[SFBay_CBG.MESOZONE==p_df['locationZone'][i]].values[0]==0:\n",
      "/var/folders/kr/2j58542j2_7chf9_h8bmr30mb0_4n0/T/ipykernel_15666/3676463546.py:9: UserWarning: Geometry is in a geographic CRS. Results from 'area' are likely incorrect. Use 'GeoSeries.to_crs()' to re-project geometries to a projected CRS before this operation.\n",
      "\n",
      "  if SFBay_CBG.area[SFBay_CBG.MESOZONE==p_df['locationZone'][i]].values[0]==0:\n",
      "/var/folders/kr/2j58542j2_7chf9_h8bmr30mb0_4n0/T/ipykernel_15666/3676463546.py:9: UserWarning: Geometry is in a geographic CRS. Results from 'area' are likely incorrect. Use 'GeoSeries.to_crs()' to re-project geometries to a projected CRS before this operation.\n",
      "\n",
      "  if SFBay_CBG.area[SFBay_CBG.MESOZONE==p_df['locationZone'][i]].values[0]==0:\n",
      "/var/folders/kr/2j58542j2_7chf9_h8bmr30mb0_4n0/T/ipykernel_15666/3676463546.py:9: UserWarning: Geometry is in a geographic CRS. Results from 'area' are likely incorrect. Use 'GeoSeries.to_crs()' to re-project geometries to a projected CRS before this operation.\n",
      "\n",
      "  if SFBay_CBG.area[SFBay_CBG.MESOZONE==p_df['locationZone'][i]].values[0]==0:\n",
      "/var/folders/kr/2j58542j2_7chf9_h8bmr30mb0_4n0/T/ipykernel_15666/3676463546.py:9: UserWarning: Geometry is in a geographic CRS. Results from 'area' are likely incorrect. Use 'GeoSeries.to_crs()' to re-project geometries to a projected CRS before this operation.\n",
      "\n",
      "  if SFBay_CBG.area[SFBay_CBG.MESOZONE==p_df['locationZone'][i]].values[0]==0:\n"
     ]
    },
    {
     "name": "stdout",
     "output_type": "stream",
     "text": [
      "101\n",
      "102\n",
      "103\n",
      "104\n",
      "105\n"
     ]
    },
    {
     "name": "stderr",
     "output_type": "stream",
     "text": [
      "/var/folders/kr/2j58542j2_7chf9_h8bmr30mb0_4n0/T/ipykernel_15666/3676463546.py:9: UserWarning: Geometry is in a geographic CRS. Results from 'area' are likely incorrect. Use 'GeoSeries.to_crs()' to re-project geometries to a projected CRS before this operation.\n",
      "\n",
      "  if SFBay_CBG.area[SFBay_CBG.MESOZONE==p_df['locationZone'][i]].values[0]==0:\n",
      "/var/folders/kr/2j58542j2_7chf9_h8bmr30mb0_4n0/T/ipykernel_15666/3676463546.py:9: UserWarning: Geometry is in a geographic CRS. Results from 'area' are likely incorrect. Use 'GeoSeries.to_crs()' to re-project geometries to a projected CRS before this operation.\n",
      "\n",
      "  if SFBay_CBG.area[SFBay_CBG.MESOZONE==p_df['locationZone'][i]].values[0]==0:\n",
      "/var/folders/kr/2j58542j2_7chf9_h8bmr30mb0_4n0/T/ipykernel_15666/3676463546.py:9: UserWarning: Geometry is in a geographic CRS. Results from 'area' are likely incorrect. Use 'GeoSeries.to_crs()' to re-project geometries to a projected CRS before this operation.\n",
      "\n",
      "  if SFBay_CBG.area[SFBay_CBG.MESOZONE==p_df['locationZone'][i]].values[0]==0:\n",
      "/var/folders/kr/2j58542j2_7chf9_h8bmr30mb0_4n0/T/ipykernel_15666/3676463546.py:9: UserWarning: Geometry is in a geographic CRS. Results from 'area' are likely incorrect. Use 'GeoSeries.to_crs()' to re-project geometries to a projected CRS before this operation.\n",
      "\n",
      "  if SFBay_CBG.area[SFBay_CBG.MESOZONE==p_df['locationZone'][i]].values[0]==0:\n",
      "/var/folders/kr/2j58542j2_7chf9_h8bmr30mb0_4n0/T/ipykernel_15666/3676463546.py:9: UserWarning: Geometry is in a geographic CRS. Results from 'area' are likely incorrect. Use 'GeoSeries.to_crs()' to re-project geometries to a projected CRS before this operation.\n",
      "\n",
      "  if SFBay_CBG.area[SFBay_CBG.MESOZONE==p_df['locationZone'][i]].values[0]==0:\n",
      "/var/folders/kr/2j58542j2_7chf9_h8bmr30mb0_4n0/T/ipykernel_15666/3676463546.py:9: UserWarning: Geometry is in a geographic CRS. Results from 'area' are likely incorrect. Use 'GeoSeries.to_crs()' to re-project geometries to a projected CRS before this operation.\n",
      "\n",
      "  if SFBay_CBG.area[SFBay_CBG.MESOZONE==p_df['locationZone'][i]].values[0]==0:\n"
     ]
    },
    {
     "name": "stdout",
     "output_type": "stream",
     "text": [
      "106\n",
      "107\n",
      "108\n",
      "109\n",
      "110\n",
      "111\n"
     ]
    },
    {
     "name": "stderr",
     "output_type": "stream",
     "text": [
      "/var/folders/kr/2j58542j2_7chf9_h8bmr30mb0_4n0/T/ipykernel_15666/3676463546.py:9: UserWarning: Geometry is in a geographic CRS. Results from 'area' are likely incorrect. Use 'GeoSeries.to_crs()' to re-project geometries to a projected CRS before this operation.\n",
      "\n",
      "  if SFBay_CBG.area[SFBay_CBG.MESOZONE==p_df['locationZone'][i]].values[0]==0:\n",
      "/var/folders/kr/2j58542j2_7chf9_h8bmr30mb0_4n0/T/ipykernel_15666/3676463546.py:9: UserWarning: Geometry is in a geographic CRS. Results from 'area' are likely incorrect. Use 'GeoSeries.to_crs()' to re-project geometries to a projected CRS before this operation.\n",
      "\n",
      "  if SFBay_CBG.area[SFBay_CBG.MESOZONE==p_df['locationZone'][i]].values[0]==0:\n",
      "/var/folders/kr/2j58542j2_7chf9_h8bmr30mb0_4n0/T/ipykernel_15666/3676463546.py:9: UserWarning: Geometry is in a geographic CRS. Results from 'area' are likely incorrect. Use 'GeoSeries.to_crs()' to re-project geometries to a projected CRS before this operation.\n",
      "\n",
      "  if SFBay_CBG.area[SFBay_CBG.MESOZONE==p_df['locationZone'][i]].values[0]==0:\n",
      "/var/folders/kr/2j58542j2_7chf9_h8bmr30mb0_4n0/T/ipykernel_15666/3676463546.py:9: UserWarning: Geometry is in a geographic CRS. Results from 'area' are likely incorrect. Use 'GeoSeries.to_crs()' to re-project geometries to a projected CRS before this operation.\n",
      "\n",
      "  if SFBay_CBG.area[SFBay_CBG.MESOZONE==p_df['locationZone'][i]].values[0]==0:\n",
      "/var/folders/kr/2j58542j2_7chf9_h8bmr30mb0_4n0/T/ipykernel_15666/3676463546.py:9: UserWarning: Geometry is in a geographic CRS. Results from 'area' are likely incorrect. Use 'GeoSeries.to_crs()' to re-project geometries to a projected CRS before this operation.\n",
      "\n",
      "  if SFBay_CBG.area[SFBay_CBG.MESOZONE==p_df['locationZone'][i]].values[0]==0:\n",
      "/var/folders/kr/2j58542j2_7chf9_h8bmr30mb0_4n0/T/ipykernel_15666/3676463546.py:9: UserWarning: Geometry is in a geographic CRS. Results from 'area' are likely incorrect. Use 'GeoSeries.to_crs()' to re-project geometries to a projected CRS before this operation.\n",
      "\n",
      "  if SFBay_CBG.area[SFBay_CBG.MESOZONE==p_df['locationZone'][i]].values[0]==0:\n"
     ]
    },
    {
     "name": "stdout",
     "output_type": "stream",
     "text": [
      "112\n",
      "113\n",
      "114\n",
      "115\n",
      "116\n",
      "117\n"
     ]
    },
    {
     "name": "stderr",
     "output_type": "stream",
     "text": [
      "/var/folders/kr/2j58542j2_7chf9_h8bmr30mb0_4n0/T/ipykernel_15666/3676463546.py:9: UserWarning: Geometry is in a geographic CRS. Results from 'area' are likely incorrect. Use 'GeoSeries.to_crs()' to re-project geometries to a projected CRS before this operation.\n",
      "\n",
      "  if SFBay_CBG.area[SFBay_CBG.MESOZONE==p_df['locationZone'][i]].values[0]==0:\n",
      "/var/folders/kr/2j58542j2_7chf9_h8bmr30mb0_4n0/T/ipykernel_15666/3676463546.py:9: UserWarning: Geometry is in a geographic CRS. Results from 'area' are likely incorrect. Use 'GeoSeries.to_crs()' to re-project geometries to a projected CRS before this operation.\n",
      "\n",
      "  if SFBay_CBG.area[SFBay_CBG.MESOZONE==p_df['locationZone'][i]].values[0]==0:\n",
      "/var/folders/kr/2j58542j2_7chf9_h8bmr30mb0_4n0/T/ipykernel_15666/3676463546.py:9: UserWarning: Geometry is in a geographic CRS. Results from 'area' are likely incorrect. Use 'GeoSeries.to_crs()' to re-project geometries to a projected CRS before this operation.\n",
      "\n",
      "  if SFBay_CBG.area[SFBay_CBG.MESOZONE==p_df['locationZone'][i]].values[0]==0:\n",
      "/var/folders/kr/2j58542j2_7chf9_h8bmr30mb0_4n0/T/ipykernel_15666/3676463546.py:9: UserWarning: Geometry is in a geographic CRS. Results from 'area' are likely incorrect. Use 'GeoSeries.to_crs()' to re-project geometries to a projected CRS before this operation.\n",
      "\n",
      "  if SFBay_CBG.area[SFBay_CBG.MESOZONE==p_df['locationZone'][i]].values[0]==0:\n",
      "/var/folders/kr/2j58542j2_7chf9_h8bmr30mb0_4n0/T/ipykernel_15666/3676463546.py:9: UserWarning: Geometry is in a geographic CRS. Results from 'area' are likely incorrect. Use 'GeoSeries.to_crs()' to re-project geometries to a projected CRS before this operation.\n",
      "\n",
      "  if SFBay_CBG.area[SFBay_CBG.MESOZONE==p_df['locationZone'][i]].values[0]==0:\n",
      "/var/folders/kr/2j58542j2_7chf9_h8bmr30mb0_4n0/T/ipykernel_15666/3676463546.py:9: UserWarning: Geometry is in a geographic CRS. Results from 'area' are likely incorrect. Use 'GeoSeries.to_crs()' to re-project geometries to a projected CRS before this operation.\n",
      "\n",
      "  if SFBay_CBG.area[SFBay_CBG.MESOZONE==p_df['locationZone'][i]].values[0]==0:\n"
     ]
    },
    {
     "name": "stdout",
     "output_type": "stream",
     "text": [
      "118\n",
      "119\n",
      "120\n",
      "121\n",
      "122\n",
      "123\n"
     ]
    },
    {
     "name": "stderr",
     "output_type": "stream",
     "text": [
      "/var/folders/kr/2j58542j2_7chf9_h8bmr30mb0_4n0/T/ipykernel_15666/3676463546.py:9: UserWarning: Geometry is in a geographic CRS. Results from 'area' are likely incorrect. Use 'GeoSeries.to_crs()' to re-project geometries to a projected CRS before this operation.\n",
      "\n",
      "  if SFBay_CBG.area[SFBay_CBG.MESOZONE==p_df['locationZone'][i]].values[0]==0:\n",
      "/var/folders/kr/2j58542j2_7chf9_h8bmr30mb0_4n0/T/ipykernel_15666/3676463546.py:9: UserWarning: Geometry is in a geographic CRS. Results from 'area' are likely incorrect. Use 'GeoSeries.to_crs()' to re-project geometries to a projected CRS before this operation.\n",
      "\n",
      "  if SFBay_CBG.area[SFBay_CBG.MESOZONE==p_df['locationZone'][i]].values[0]==0:\n",
      "/var/folders/kr/2j58542j2_7chf9_h8bmr30mb0_4n0/T/ipykernel_15666/3676463546.py:9: UserWarning: Geometry is in a geographic CRS. Results from 'area' are likely incorrect. Use 'GeoSeries.to_crs()' to re-project geometries to a projected CRS before this operation.\n",
      "\n",
      "  if SFBay_CBG.area[SFBay_CBG.MESOZONE==p_df['locationZone'][i]].values[0]==0:\n",
      "/var/folders/kr/2j58542j2_7chf9_h8bmr30mb0_4n0/T/ipykernel_15666/3676463546.py:9: UserWarning: Geometry is in a geographic CRS. Results from 'area' are likely incorrect. Use 'GeoSeries.to_crs()' to re-project geometries to a projected CRS before this operation.\n",
      "\n",
      "  if SFBay_CBG.area[SFBay_CBG.MESOZONE==p_df['locationZone'][i]].values[0]==0:\n",
      "/var/folders/kr/2j58542j2_7chf9_h8bmr30mb0_4n0/T/ipykernel_15666/3676463546.py:9: UserWarning: Geometry is in a geographic CRS. Results from 'area' are likely incorrect. Use 'GeoSeries.to_crs()' to re-project geometries to a projected CRS before this operation.\n",
      "\n",
      "  if SFBay_CBG.area[SFBay_CBG.MESOZONE==p_df['locationZone'][i]].values[0]==0:\n"
     ]
    },
    {
     "name": "stdout",
     "output_type": "stream",
     "text": [
      "124\n",
      "125\n",
      "126\n",
      "127\n",
      "128\n"
     ]
    },
    {
     "name": "stderr",
     "output_type": "stream",
     "text": [
      "/var/folders/kr/2j58542j2_7chf9_h8bmr30mb0_4n0/T/ipykernel_15666/3676463546.py:9: UserWarning: Geometry is in a geographic CRS. Results from 'area' are likely incorrect. Use 'GeoSeries.to_crs()' to re-project geometries to a projected CRS before this operation.\n",
      "\n",
      "  if SFBay_CBG.area[SFBay_CBG.MESOZONE==p_df['locationZone'][i]].values[0]==0:\n",
      "/var/folders/kr/2j58542j2_7chf9_h8bmr30mb0_4n0/T/ipykernel_15666/3676463546.py:9: UserWarning: Geometry is in a geographic CRS. Results from 'area' are likely incorrect. Use 'GeoSeries.to_crs()' to re-project geometries to a projected CRS before this operation.\n",
      "\n",
      "  if SFBay_CBG.area[SFBay_CBG.MESOZONE==p_df['locationZone'][i]].values[0]==0:\n",
      "/var/folders/kr/2j58542j2_7chf9_h8bmr30mb0_4n0/T/ipykernel_15666/3676463546.py:9: UserWarning: Geometry is in a geographic CRS. Results from 'area' are likely incorrect. Use 'GeoSeries.to_crs()' to re-project geometries to a projected CRS before this operation.\n",
      "\n",
      "  if SFBay_CBG.area[SFBay_CBG.MESOZONE==p_df['locationZone'][i]].values[0]==0:\n",
      "/var/folders/kr/2j58542j2_7chf9_h8bmr30mb0_4n0/T/ipykernel_15666/3676463546.py:9: UserWarning: Geometry is in a geographic CRS. Results from 'area' are likely incorrect. Use 'GeoSeries.to_crs()' to re-project geometries to a projected CRS before this operation.\n",
      "\n",
      "  if SFBay_CBG.area[SFBay_CBG.MESOZONE==p_df['locationZone'][i]].values[0]==0:\n",
      "/var/folders/kr/2j58542j2_7chf9_h8bmr30mb0_4n0/T/ipykernel_15666/3676463546.py:9: UserWarning: Geometry is in a geographic CRS. Results from 'area' are likely incorrect. Use 'GeoSeries.to_crs()' to re-project geometries to a projected CRS before this operation.\n",
      "\n",
      "  if SFBay_CBG.area[SFBay_CBG.MESOZONE==p_df['locationZone'][i]].values[0]==0:\n"
     ]
    },
    {
     "name": "stdout",
     "output_type": "stream",
     "text": [
      "129\n",
      "130\n",
      "131\n",
      "132\n",
      "133\n"
     ]
    },
    {
     "name": "stderr",
     "output_type": "stream",
     "text": [
      "/var/folders/kr/2j58542j2_7chf9_h8bmr30mb0_4n0/T/ipykernel_15666/3676463546.py:9: UserWarning: Geometry is in a geographic CRS. Results from 'area' are likely incorrect. Use 'GeoSeries.to_crs()' to re-project geometries to a projected CRS before this operation.\n",
      "\n",
      "  if SFBay_CBG.area[SFBay_CBG.MESOZONE==p_df['locationZone'][i]].values[0]==0:\n",
      "/var/folders/kr/2j58542j2_7chf9_h8bmr30mb0_4n0/T/ipykernel_15666/3676463546.py:9: UserWarning: Geometry is in a geographic CRS. Results from 'area' are likely incorrect. Use 'GeoSeries.to_crs()' to re-project geometries to a projected CRS before this operation.\n",
      "\n",
      "  if SFBay_CBG.area[SFBay_CBG.MESOZONE==p_df['locationZone'][i]].values[0]==0:\n",
      "/var/folders/kr/2j58542j2_7chf9_h8bmr30mb0_4n0/T/ipykernel_15666/3676463546.py:9: UserWarning: Geometry is in a geographic CRS. Results from 'area' are likely incorrect. Use 'GeoSeries.to_crs()' to re-project geometries to a projected CRS before this operation.\n",
      "\n",
      "  if SFBay_CBG.area[SFBay_CBG.MESOZONE==p_df['locationZone'][i]].values[0]==0:\n",
      "/var/folders/kr/2j58542j2_7chf9_h8bmr30mb0_4n0/T/ipykernel_15666/3676463546.py:9: UserWarning: Geometry is in a geographic CRS. Results from 'area' are likely incorrect. Use 'GeoSeries.to_crs()' to re-project geometries to a projected CRS before this operation.\n",
      "\n",
      "  if SFBay_CBG.area[SFBay_CBG.MESOZONE==p_df['locationZone'][i]].values[0]==0:\n",
      "/var/folders/kr/2j58542j2_7chf9_h8bmr30mb0_4n0/T/ipykernel_15666/3676463546.py:9: UserWarning: Geometry is in a geographic CRS. Results from 'area' are likely incorrect. Use 'GeoSeries.to_crs()' to re-project geometries to a projected CRS before this operation.\n",
      "\n",
      "  if SFBay_CBG.area[SFBay_CBG.MESOZONE==p_df['locationZone'][i]].values[0]==0:\n"
     ]
    },
    {
     "name": "stdout",
     "output_type": "stream",
     "text": [
      "134\n",
      "135\n",
      "136\n",
      "137\n",
      "138\n"
     ]
    },
    {
     "name": "stderr",
     "output_type": "stream",
     "text": [
      "/var/folders/kr/2j58542j2_7chf9_h8bmr30mb0_4n0/T/ipykernel_15666/3676463546.py:9: UserWarning: Geometry is in a geographic CRS. Results from 'area' are likely incorrect. Use 'GeoSeries.to_crs()' to re-project geometries to a projected CRS before this operation.\n",
      "\n",
      "  if SFBay_CBG.area[SFBay_CBG.MESOZONE==p_df['locationZone'][i]].values[0]==0:\n",
      "/var/folders/kr/2j58542j2_7chf9_h8bmr30mb0_4n0/T/ipykernel_15666/3676463546.py:9: UserWarning: Geometry is in a geographic CRS. Results from 'area' are likely incorrect. Use 'GeoSeries.to_crs()' to re-project geometries to a projected CRS before this operation.\n",
      "\n",
      "  if SFBay_CBG.area[SFBay_CBG.MESOZONE==p_df['locationZone'][i]].values[0]==0:\n",
      "/var/folders/kr/2j58542j2_7chf9_h8bmr30mb0_4n0/T/ipykernel_15666/3676463546.py:9: UserWarning: Geometry is in a geographic CRS. Results from 'area' are likely incorrect. Use 'GeoSeries.to_crs()' to re-project geometries to a projected CRS before this operation.\n",
      "\n",
      "  if SFBay_CBG.area[SFBay_CBG.MESOZONE==p_df['locationZone'][i]].values[0]==0:\n",
      "/var/folders/kr/2j58542j2_7chf9_h8bmr30mb0_4n0/T/ipykernel_15666/3676463546.py:9: UserWarning: Geometry is in a geographic CRS. Results from 'area' are likely incorrect. Use 'GeoSeries.to_crs()' to re-project geometries to a projected CRS before this operation.\n",
      "\n",
      "  if SFBay_CBG.area[SFBay_CBG.MESOZONE==p_df['locationZone'][i]].values[0]==0:\n",
      "/var/folders/kr/2j58542j2_7chf9_h8bmr30mb0_4n0/T/ipykernel_15666/3676463546.py:9: UserWarning: Geometry is in a geographic CRS. Results from 'area' are likely incorrect. Use 'GeoSeries.to_crs()' to re-project geometries to a projected CRS before this operation.\n",
      "\n",
      "  if SFBay_CBG.area[SFBay_CBG.MESOZONE==p_df['locationZone'][i]].values[0]==0:\n"
     ]
    },
    {
     "name": "stdout",
     "output_type": "stream",
     "text": [
      "139\n",
      "140\n",
      "141\n",
      "142\n",
      "143\n"
     ]
    },
    {
     "name": "stderr",
     "output_type": "stream",
     "text": [
      "/var/folders/kr/2j58542j2_7chf9_h8bmr30mb0_4n0/T/ipykernel_15666/3676463546.py:9: UserWarning: Geometry is in a geographic CRS. Results from 'area' are likely incorrect. Use 'GeoSeries.to_crs()' to re-project geometries to a projected CRS before this operation.\n",
      "\n",
      "  if SFBay_CBG.area[SFBay_CBG.MESOZONE==p_df['locationZone'][i]].values[0]==0:\n",
      "/var/folders/kr/2j58542j2_7chf9_h8bmr30mb0_4n0/T/ipykernel_15666/3676463546.py:9: UserWarning: Geometry is in a geographic CRS. Results from 'area' are likely incorrect. Use 'GeoSeries.to_crs()' to re-project geometries to a projected CRS before this operation.\n",
      "\n",
      "  if SFBay_CBG.area[SFBay_CBG.MESOZONE==p_df['locationZone'][i]].values[0]==0:\n",
      "/var/folders/kr/2j58542j2_7chf9_h8bmr30mb0_4n0/T/ipykernel_15666/3676463546.py:9: UserWarning: Geometry is in a geographic CRS. Results from 'area' are likely incorrect. Use 'GeoSeries.to_crs()' to re-project geometries to a projected CRS before this operation.\n",
      "\n",
      "  if SFBay_CBG.area[SFBay_CBG.MESOZONE==p_df['locationZone'][i]].values[0]==0:\n",
      "/var/folders/kr/2j58542j2_7chf9_h8bmr30mb0_4n0/T/ipykernel_15666/3676463546.py:9: UserWarning: Geometry is in a geographic CRS. Results from 'area' are likely incorrect. Use 'GeoSeries.to_crs()' to re-project geometries to a projected CRS before this operation.\n",
      "\n",
      "  if SFBay_CBG.area[SFBay_CBG.MESOZONE==p_df['locationZone'][i]].values[0]==0:\n",
      "/var/folders/kr/2j58542j2_7chf9_h8bmr30mb0_4n0/T/ipykernel_15666/3676463546.py:9: UserWarning: Geometry is in a geographic CRS. Results from 'area' are likely incorrect. Use 'GeoSeries.to_crs()' to re-project geometries to a projected CRS before this operation.\n",
      "\n",
      "  if SFBay_CBG.area[SFBay_CBG.MESOZONE==p_df['locationZone'][i]].values[0]==0:\n",
      "/var/folders/kr/2j58542j2_7chf9_h8bmr30mb0_4n0/T/ipykernel_15666/3676463546.py:9: UserWarning: Geometry is in a geographic CRS. Results from 'area' are likely incorrect. Use 'GeoSeries.to_crs()' to re-project geometries to a projected CRS before this operation.\n",
      "\n",
      "  if SFBay_CBG.area[SFBay_CBG.MESOZONE==p_df['locationZone'][i]].values[0]==0:\n"
     ]
    },
    {
     "name": "stdout",
     "output_type": "stream",
     "text": [
      "144\n",
      "145\n",
      "146\n",
      "147\n",
      "148\n"
     ]
    },
    {
     "name": "stderr",
     "output_type": "stream",
     "text": [
      "/var/folders/kr/2j58542j2_7chf9_h8bmr30mb0_4n0/T/ipykernel_15666/3676463546.py:9: UserWarning: Geometry is in a geographic CRS. Results from 'area' are likely incorrect. Use 'GeoSeries.to_crs()' to re-project geometries to a projected CRS before this operation.\n",
      "\n",
      "  if SFBay_CBG.area[SFBay_CBG.MESOZONE==p_df['locationZone'][i]].values[0]==0:\n",
      "/var/folders/kr/2j58542j2_7chf9_h8bmr30mb0_4n0/T/ipykernel_15666/3676463546.py:9: UserWarning: Geometry is in a geographic CRS. Results from 'area' are likely incorrect. Use 'GeoSeries.to_crs()' to re-project geometries to a projected CRS before this operation.\n",
      "\n",
      "  if SFBay_CBG.area[SFBay_CBG.MESOZONE==p_df['locationZone'][i]].values[0]==0:\n",
      "/var/folders/kr/2j58542j2_7chf9_h8bmr30mb0_4n0/T/ipykernel_15666/3676463546.py:9: UserWarning: Geometry is in a geographic CRS. Results from 'area' are likely incorrect. Use 'GeoSeries.to_crs()' to re-project geometries to a projected CRS before this operation.\n",
      "\n",
      "  if SFBay_CBG.area[SFBay_CBG.MESOZONE==p_df['locationZone'][i]].values[0]==0:\n",
      "/var/folders/kr/2j58542j2_7chf9_h8bmr30mb0_4n0/T/ipykernel_15666/3676463546.py:9: UserWarning: Geometry is in a geographic CRS. Results from 'area' are likely incorrect. Use 'GeoSeries.to_crs()' to re-project geometries to a projected CRS before this operation.\n",
      "\n",
      "  if SFBay_CBG.area[SFBay_CBG.MESOZONE==p_df['locationZone'][i]].values[0]==0:\n",
      "/var/folders/kr/2j58542j2_7chf9_h8bmr30mb0_4n0/T/ipykernel_15666/3676463546.py:9: UserWarning: Geometry is in a geographic CRS. Results from 'area' are likely incorrect. Use 'GeoSeries.to_crs()' to re-project geometries to a projected CRS before this operation.\n",
      "\n",
      "  if SFBay_CBG.area[SFBay_CBG.MESOZONE==p_df['locationZone'][i]].values[0]==0:\n"
     ]
    },
    {
     "name": "stdout",
     "output_type": "stream",
     "text": [
      "149\n",
      "150\n",
      "151\n",
      "152\n",
      "153\n"
     ]
    },
    {
     "name": "stderr",
     "output_type": "stream",
     "text": [
      "/var/folders/kr/2j58542j2_7chf9_h8bmr30mb0_4n0/T/ipykernel_15666/3676463546.py:9: UserWarning: Geometry is in a geographic CRS. Results from 'area' are likely incorrect. Use 'GeoSeries.to_crs()' to re-project geometries to a projected CRS before this operation.\n",
      "\n",
      "  if SFBay_CBG.area[SFBay_CBG.MESOZONE==p_df['locationZone'][i]].values[0]==0:\n",
      "/var/folders/kr/2j58542j2_7chf9_h8bmr30mb0_4n0/T/ipykernel_15666/3676463546.py:9: UserWarning: Geometry is in a geographic CRS. Results from 'area' are likely incorrect. Use 'GeoSeries.to_crs()' to re-project geometries to a projected CRS before this operation.\n",
      "\n",
      "  if SFBay_CBG.area[SFBay_CBG.MESOZONE==p_df['locationZone'][i]].values[0]==0:\n",
      "/var/folders/kr/2j58542j2_7chf9_h8bmr30mb0_4n0/T/ipykernel_15666/3676463546.py:9: UserWarning: Geometry is in a geographic CRS. Results from 'area' are likely incorrect. Use 'GeoSeries.to_crs()' to re-project geometries to a projected CRS before this operation.\n",
      "\n",
      "  if SFBay_CBG.area[SFBay_CBG.MESOZONE==p_df['locationZone'][i]].values[0]==0:\n",
      "/var/folders/kr/2j58542j2_7chf9_h8bmr30mb0_4n0/T/ipykernel_15666/3676463546.py:9: UserWarning: Geometry is in a geographic CRS. Results from 'area' are likely incorrect. Use 'GeoSeries.to_crs()' to re-project geometries to a projected CRS before this operation.\n",
      "\n",
      "  if SFBay_CBG.area[SFBay_CBG.MESOZONE==p_df['locationZone'][i]].values[0]==0:\n",
      "/var/folders/kr/2j58542j2_7chf9_h8bmr30mb0_4n0/T/ipykernel_15666/3676463546.py:9: UserWarning: Geometry is in a geographic CRS. Results from 'area' are likely incorrect. Use 'GeoSeries.to_crs()' to re-project geometries to a projected CRS before this operation.\n",
      "\n",
      "  if SFBay_CBG.area[SFBay_CBG.MESOZONE==p_df['locationZone'][i]].values[0]==0:\n"
     ]
    },
    {
     "name": "stdout",
     "output_type": "stream",
     "text": [
      "154\n",
      "155\n",
      "156\n",
      "157\n",
      "158\n",
      "159\n"
     ]
    },
    {
     "name": "stderr",
     "output_type": "stream",
     "text": [
      "/var/folders/kr/2j58542j2_7chf9_h8bmr30mb0_4n0/T/ipykernel_15666/3676463546.py:9: UserWarning: Geometry is in a geographic CRS. Results from 'area' are likely incorrect. Use 'GeoSeries.to_crs()' to re-project geometries to a projected CRS before this operation.\n",
      "\n",
      "  if SFBay_CBG.area[SFBay_CBG.MESOZONE==p_df['locationZone'][i]].values[0]==0:\n",
      "/var/folders/kr/2j58542j2_7chf9_h8bmr30mb0_4n0/T/ipykernel_15666/3676463546.py:9: UserWarning: Geometry is in a geographic CRS. Results from 'area' are likely incorrect. Use 'GeoSeries.to_crs()' to re-project geometries to a projected CRS before this operation.\n",
      "\n",
      "  if SFBay_CBG.area[SFBay_CBG.MESOZONE==p_df['locationZone'][i]].values[0]==0:\n",
      "/var/folders/kr/2j58542j2_7chf9_h8bmr30mb0_4n0/T/ipykernel_15666/3676463546.py:9: UserWarning: Geometry is in a geographic CRS. Results from 'area' are likely incorrect. Use 'GeoSeries.to_crs()' to re-project geometries to a projected CRS before this operation.\n",
      "\n",
      "  if SFBay_CBG.area[SFBay_CBG.MESOZONE==p_df['locationZone'][i]].values[0]==0:\n",
      "/var/folders/kr/2j58542j2_7chf9_h8bmr30mb0_4n0/T/ipykernel_15666/3676463546.py:9: UserWarning: Geometry is in a geographic CRS. Results from 'area' are likely incorrect. Use 'GeoSeries.to_crs()' to re-project geometries to a projected CRS before this operation.\n",
      "\n",
      "  if SFBay_CBG.area[SFBay_CBG.MESOZONE==p_df['locationZone'][i]].values[0]==0:\n",
      "/var/folders/kr/2j58542j2_7chf9_h8bmr30mb0_4n0/T/ipykernel_15666/3676463546.py:9: UserWarning: Geometry is in a geographic CRS. Results from 'area' are likely incorrect. Use 'GeoSeries.to_crs()' to re-project geometries to a projected CRS before this operation.\n",
      "\n",
      "  if SFBay_CBG.area[SFBay_CBG.MESOZONE==p_df['locationZone'][i]].values[0]==0:\n"
     ]
    },
    {
     "name": "stdout",
     "output_type": "stream",
     "text": [
      "160\n",
      "161\n",
      "162\n",
      "163\n",
      "164\n"
     ]
    },
    {
     "name": "stderr",
     "output_type": "stream",
     "text": [
      "/var/folders/kr/2j58542j2_7chf9_h8bmr30mb0_4n0/T/ipykernel_15666/3676463546.py:9: UserWarning: Geometry is in a geographic CRS. Results from 'area' are likely incorrect. Use 'GeoSeries.to_crs()' to re-project geometries to a projected CRS before this operation.\n",
      "\n",
      "  if SFBay_CBG.area[SFBay_CBG.MESOZONE==p_df['locationZone'][i]].values[0]==0:\n",
      "/var/folders/kr/2j58542j2_7chf9_h8bmr30mb0_4n0/T/ipykernel_15666/3676463546.py:9: UserWarning: Geometry is in a geographic CRS. Results from 'area' are likely incorrect. Use 'GeoSeries.to_crs()' to re-project geometries to a projected CRS before this operation.\n",
      "\n",
      "  if SFBay_CBG.area[SFBay_CBG.MESOZONE==p_df['locationZone'][i]].values[0]==0:\n",
      "/var/folders/kr/2j58542j2_7chf9_h8bmr30mb0_4n0/T/ipykernel_15666/3676463546.py:9: UserWarning: Geometry is in a geographic CRS. Results from 'area' are likely incorrect. Use 'GeoSeries.to_crs()' to re-project geometries to a projected CRS before this operation.\n",
      "\n",
      "  if SFBay_CBG.area[SFBay_CBG.MESOZONE==p_df['locationZone'][i]].values[0]==0:\n",
      "/var/folders/kr/2j58542j2_7chf9_h8bmr30mb0_4n0/T/ipykernel_15666/3676463546.py:9: UserWarning: Geometry is in a geographic CRS. Results from 'area' are likely incorrect. Use 'GeoSeries.to_crs()' to re-project geometries to a projected CRS before this operation.\n",
      "\n",
      "  if SFBay_CBG.area[SFBay_CBG.MESOZONE==p_df['locationZone'][i]].values[0]==0:\n",
      "/var/folders/kr/2j58542j2_7chf9_h8bmr30mb0_4n0/T/ipykernel_15666/3676463546.py:9: UserWarning: Geometry is in a geographic CRS. Results from 'area' are likely incorrect. Use 'GeoSeries.to_crs()' to re-project geometries to a projected CRS before this operation.\n",
      "\n",
      "  if SFBay_CBG.area[SFBay_CBG.MESOZONE==p_df['locationZone'][i]].values[0]==0:\n"
     ]
    },
    {
     "name": "stdout",
     "output_type": "stream",
     "text": [
      "165\n",
      "166\n",
      "167\n",
      "168\n",
      "169\n"
     ]
    },
    {
     "name": "stderr",
     "output_type": "stream",
     "text": [
      "/var/folders/kr/2j58542j2_7chf9_h8bmr30mb0_4n0/T/ipykernel_15666/3676463546.py:9: UserWarning: Geometry is in a geographic CRS. Results from 'area' are likely incorrect. Use 'GeoSeries.to_crs()' to re-project geometries to a projected CRS before this operation.\n",
      "\n",
      "  if SFBay_CBG.area[SFBay_CBG.MESOZONE==p_df['locationZone'][i]].values[0]==0:\n",
      "/var/folders/kr/2j58542j2_7chf9_h8bmr30mb0_4n0/T/ipykernel_15666/3676463546.py:9: UserWarning: Geometry is in a geographic CRS. Results from 'area' are likely incorrect. Use 'GeoSeries.to_crs()' to re-project geometries to a projected CRS before this operation.\n",
      "\n",
      "  if SFBay_CBG.area[SFBay_CBG.MESOZONE==p_df['locationZone'][i]].values[0]==0:\n",
      "/var/folders/kr/2j58542j2_7chf9_h8bmr30mb0_4n0/T/ipykernel_15666/3676463546.py:9: UserWarning: Geometry is in a geographic CRS. Results from 'area' are likely incorrect. Use 'GeoSeries.to_crs()' to re-project geometries to a projected CRS before this operation.\n",
      "\n",
      "  if SFBay_CBG.area[SFBay_CBG.MESOZONE==p_df['locationZone'][i]].values[0]==0:\n",
      "/var/folders/kr/2j58542j2_7chf9_h8bmr30mb0_4n0/T/ipykernel_15666/3676463546.py:9: UserWarning: Geometry is in a geographic CRS. Results from 'area' are likely incorrect. Use 'GeoSeries.to_crs()' to re-project geometries to a projected CRS before this operation.\n",
      "\n",
      "  if SFBay_CBG.area[SFBay_CBG.MESOZONE==p_df['locationZone'][i]].values[0]==0:\n",
      "/var/folders/kr/2j58542j2_7chf9_h8bmr30mb0_4n0/T/ipykernel_15666/3676463546.py:9: UserWarning: Geometry is in a geographic CRS. Results from 'area' are likely incorrect. Use 'GeoSeries.to_crs()' to re-project geometries to a projected CRS before this operation.\n",
      "\n",
      "  if SFBay_CBG.area[SFBay_CBG.MESOZONE==p_df['locationZone'][i]].values[0]==0:\n"
     ]
    },
    {
     "name": "stdout",
     "output_type": "stream",
     "text": [
      "170\n",
      "171\n",
      "172\n",
      "173\n",
      "174\n"
     ]
    },
    {
     "name": "stderr",
     "output_type": "stream",
     "text": [
      "/var/folders/kr/2j58542j2_7chf9_h8bmr30mb0_4n0/T/ipykernel_15666/3676463546.py:9: UserWarning: Geometry is in a geographic CRS. Results from 'area' are likely incorrect. Use 'GeoSeries.to_crs()' to re-project geometries to a projected CRS before this operation.\n",
      "\n",
      "  if SFBay_CBG.area[SFBay_CBG.MESOZONE==p_df['locationZone'][i]].values[0]==0:\n",
      "/var/folders/kr/2j58542j2_7chf9_h8bmr30mb0_4n0/T/ipykernel_15666/3676463546.py:9: UserWarning: Geometry is in a geographic CRS. Results from 'area' are likely incorrect. Use 'GeoSeries.to_crs()' to re-project geometries to a projected CRS before this operation.\n",
      "\n",
      "  if SFBay_CBG.area[SFBay_CBG.MESOZONE==p_df['locationZone'][i]].values[0]==0:\n",
      "/var/folders/kr/2j58542j2_7chf9_h8bmr30mb0_4n0/T/ipykernel_15666/3676463546.py:9: UserWarning: Geometry is in a geographic CRS. Results from 'area' are likely incorrect. Use 'GeoSeries.to_crs()' to re-project geometries to a projected CRS before this operation.\n",
      "\n",
      "  if SFBay_CBG.area[SFBay_CBG.MESOZONE==p_df['locationZone'][i]].values[0]==0:\n",
      "/var/folders/kr/2j58542j2_7chf9_h8bmr30mb0_4n0/T/ipykernel_15666/3676463546.py:9: UserWarning: Geometry is in a geographic CRS. Results from 'area' are likely incorrect. Use 'GeoSeries.to_crs()' to re-project geometries to a projected CRS before this operation.\n",
      "\n",
      "  if SFBay_CBG.area[SFBay_CBG.MESOZONE==p_df['locationZone'][i]].values[0]==0:\n",
      "/var/folders/kr/2j58542j2_7chf9_h8bmr30mb0_4n0/T/ipykernel_15666/3676463546.py:9: UserWarning: Geometry is in a geographic CRS. Results from 'area' are likely incorrect. Use 'GeoSeries.to_crs()' to re-project geometries to a projected CRS before this operation.\n",
      "\n",
      "  if SFBay_CBG.area[SFBay_CBG.MESOZONE==p_df['locationZone'][i]].values[0]==0:\n"
     ]
    },
    {
     "name": "stdout",
     "output_type": "stream",
     "text": [
      "175\n",
      "176\n",
      "177\n",
      "178\n",
      "179\n"
     ]
    },
    {
     "name": "stderr",
     "output_type": "stream",
     "text": [
      "/var/folders/kr/2j58542j2_7chf9_h8bmr30mb0_4n0/T/ipykernel_15666/3676463546.py:9: UserWarning: Geometry is in a geographic CRS. Results from 'area' are likely incorrect. Use 'GeoSeries.to_crs()' to re-project geometries to a projected CRS before this operation.\n",
      "\n",
      "  if SFBay_CBG.area[SFBay_CBG.MESOZONE==p_df['locationZone'][i]].values[0]==0:\n",
      "/var/folders/kr/2j58542j2_7chf9_h8bmr30mb0_4n0/T/ipykernel_15666/3676463546.py:9: UserWarning: Geometry is in a geographic CRS. Results from 'area' are likely incorrect. Use 'GeoSeries.to_crs()' to re-project geometries to a projected CRS before this operation.\n",
      "\n",
      "  if SFBay_CBG.area[SFBay_CBG.MESOZONE==p_df['locationZone'][i]].values[0]==0:\n",
      "/var/folders/kr/2j58542j2_7chf9_h8bmr30mb0_4n0/T/ipykernel_15666/3676463546.py:9: UserWarning: Geometry is in a geographic CRS. Results from 'area' are likely incorrect. Use 'GeoSeries.to_crs()' to re-project geometries to a projected CRS before this operation.\n",
      "\n",
      "  if SFBay_CBG.area[SFBay_CBG.MESOZONE==p_df['locationZone'][i]].values[0]==0:\n",
      "/var/folders/kr/2j58542j2_7chf9_h8bmr30mb0_4n0/T/ipykernel_15666/3676463546.py:9: UserWarning: Geometry is in a geographic CRS. Results from 'area' are likely incorrect. Use 'GeoSeries.to_crs()' to re-project geometries to a projected CRS before this operation.\n",
      "\n",
      "  if SFBay_CBG.area[SFBay_CBG.MESOZONE==p_df['locationZone'][i]].values[0]==0:\n",
      "/var/folders/kr/2j58542j2_7chf9_h8bmr30mb0_4n0/T/ipykernel_15666/3676463546.py:9: UserWarning: Geometry is in a geographic CRS. Results from 'area' are likely incorrect. Use 'GeoSeries.to_crs()' to re-project geometries to a projected CRS before this operation.\n",
      "\n",
      "  if SFBay_CBG.area[SFBay_CBG.MESOZONE==p_df['locationZone'][i]].values[0]==0:\n"
     ]
    },
    {
     "name": "stdout",
     "output_type": "stream",
     "text": [
      "180\n",
      "181\n",
      "182\n",
      "183\n",
      "184\n",
      "185\n"
     ]
    },
    {
     "name": "stderr",
     "output_type": "stream",
     "text": [
      "/var/folders/kr/2j58542j2_7chf9_h8bmr30mb0_4n0/T/ipykernel_15666/3676463546.py:9: UserWarning: Geometry is in a geographic CRS. Results from 'area' are likely incorrect. Use 'GeoSeries.to_crs()' to re-project geometries to a projected CRS before this operation.\n",
      "\n",
      "  if SFBay_CBG.area[SFBay_CBG.MESOZONE==p_df['locationZone'][i]].values[0]==0:\n",
      "/var/folders/kr/2j58542j2_7chf9_h8bmr30mb0_4n0/T/ipykernel_15666/3676463546.py:9: UserWarning: Geometry is in a geographic CRS. Results from 'area' are likely incorrect. Use 'GeoSeries.to_crs()' to re-project geometries to a projected CRS before this operation.\n",
      "\n",
      "  if SFBay_CBG.area[SFBay_CBG.MESOZONE==p_df['locationZone'][i]].values[0]==0:\n",
      "/var/folders/kr/2j58542j2_7chf9_h8bmr30mb0_4n0/T/ipykernel_15666/3676463546.py:9: UserWarning: Geometry is in a geographic CRS. Results from 'area' are likely incorrect. Use 'GeoSeries.to_crs()' to re-project geometries to a projected CRS before this operation.\n",
      "\n",
      "  if SFBay_CBG.area[SFBay_CBG.MESOZONE==p_df['locationZone'][i]].values[0]==0:\n",
      "/var/folders/kr/2j58542j2_7chf9_h8bmr30mb0_4n0/T/ipykernel_15666/3676463546.py:9: UserWarning: Geometry is in a geographic CRS. Results from 'area' are likely incorrect. Use 'GeoSeries.to_crs()' to re-project geometries to a projected CRS before this operation.\n",
      "\n",
      "  if SFBay_CBG.area[SFBay_CBG.MESOZONE==p_df['locationZone'][i]].values[0]==0:\n",
      "/var/folders/kr/2j58542j2_7chf9_h8bmr30mb0_4n0/T/ipykernel_15666/3676463546.py:9: UserWarning: Geometry is in a geographic CRS. Results from 'area' are likely incorrect. Use 'GeoSeries.to_crs()' to re-project geometries to a projected CRS before this operation.\n",
      "\n",
      "  if SFBay_CBG.area[SFBay_CBG.MESOZONE==p_df['locationZone'][i]].values[0]==0:\n"
     ]
    },
    {
     "name": "stdout",
     "output_type": "stream",
     "text": [
      "186\n",
      "187\n",
      "188\n",
      "189\n",
      "190\n",
      "191\n"
     ]
    },
    {
     "name": "stderr",
     "output_type": "stream",
     "text": [
      "/var/folders/kr/2j58542j2_7chf9_h8bmr30mb0_4n0/T/ipykernel_15666/3676463546.py:9: UserWarning: Geometry is in a geographic CRS. Results from 'area' are likely incorrect. Use 'GeoSeries.to_crs()' to re-project geometries to a projected CRS before this operation.\n",
      "\n",
      "  if SFBay_CBG.area[SFBay_CBG.MESOZONE==p_df['locationZone'][i]].values[0]==0:\n",
      "/var/folders/kr/2j58542j2_7chf9_h8bmr30mb0_4n0/T/ipykernel_15666/3676463546.py:9: UserWarning: Geometry is in a geographic CRS. Results from 'area' are likely incorrect. Use 'GeoSeries.to_crs()' to re-project geometries to a projected CRS before this operation.\n",
      "\n",
      "  if SFBay_CBG.area[SFBay_CBG.MESOZONE==p_df['locationZone'][i]].values[0]==0:\n",
      "/var/folders/kr/2j58542j2_7chf9_h8bmr30mb0_4n0/T/ipykernel_15666/3676463546.py:9: UserWarning: Geometry is in a geographic CRS. Results from 'area' are likely incorrect. Use 'GeoSeries.to_crs()' to re-project geometries to a projected CRS before this operation.\n",
      "\n",
      "  if SFBay_CBG.area[SFBay_CBG.MESOZONE==p_df['locationZone'][i]].values[0]==0:\n",
      "/var/folders/kr/2j58542j2_7chf9_h8bmr30mb0_4n0/T/ipykernel_15666/3676463546.py:9: UserWarning: Geometry is in a geographic CRS. Results from 'area' are likely incorrect. Use 'GeoSeries.to_crs()' to re-project geometries to a projected CRS before this operation.\n",
      "\n",
      "  if SFBay_CBG.area[SFBay_CBG.MESOZONE==p_df['locationZone'][i]].values[0]==0:\n",
      "/var/folders/kr/2j58542j2_7chf9_h8bmr30mb0_4n0/T/ipykernel_15666/3676463546.py:9: UserWarning: Geometry is in a geographic CRS. Results from 'area' are likely incorrect. Use 'GeoSeries.to_crs()' to re-project geometries to a projected CRS before this operation.\n",
      "\n",
      "  if SFBay_CBG.area[SFBay_CBG.MESOZONE==p_df['locationZone'][i]].values[0]==0:\n",
      "/var/folders/kr/2j58542j2_7chf9_h8bmr30mb0_4n0/T/ipykernel_15666/3676463546.py:9: UserWarning: Geometry is in a geographic CRS. Results from 'area' are likely incorrect. Use 'GeoSeries.to_crs()' to re-project geometries to a projected CRS before this operation.\n",
      "\n",
      "  if SFBay_CBG.area[SFBay_CBG.MESOZONE==p_df['locationZone'][i]].values[0]==0:\n"
     ]
    },
    {
     "name": "stdout",
     "output_type": "stream",
     "text": [
      "192\n",
      "193\n",
      "194\n",
      "195\n",
      "196\n",
      "197\n"
     ]
    },
    {
     "name": "stderr",
     "output_type": "stream",
     "text": [
      "/var/folders/kr/2j58542j2_7chf9_h8bmr30mb0_4n0/T/ipykernel_15666/3676463546.py:9: UserWarning: Geometry is in a geographic CRS. Results from 'area' are likely incorrect. Use 'GeoSeries.to_crs()' to re-project geometries to a projected CRS before this operation.\n",
      "\n",
      "  if SFBay_CBG.area[SFBay_CBG.MESOZONE==p_df['locationZone'][i]].values[0]==0:\n",
      "/var/folders/kr/2j58542j2_7chf9_h8bmr30mb0_4n0/T/ipykernel_15666/3676463546.py:9: UserWarning: Geometry is in a geographic CRS. Results from 'area' are likely incorrect. Use 'GeoSeries.to_crs()' to re-project geometries to a projected CRS before this operation.\n",
      "\n",
      "  if SFBay_CBG.area[SFBay_CBG.MESOZONE==p_df['locationZone'][i]].values[0]==0:\n",
      "/var/folders/kr/2j58542j2_7chf9_h8bmr30mb0_4n0/T/ipykernel_15666/3676463546.py:9: UserWarning: Geometry is in a geographic CRS. Results from 'area' are likely incorrect. Use 'GeoSeries.to_crs()' to re-project geometries to a projected CRS before this operation.\n",
      "\n",
      "  if SFBay_CBG.area[SFBay_CBG.MESOZONE==p_df['locationZone'][i]].values[0]==0:\n",
      "/var/folders/kr/2j58542j2_7chf9_h8bmr30mb0_4n0/T/ipykernel_15666/3676463546.py:9: UserWarning: Geometry is in a geographic CRS. Results from 'area' are likely incorrect. Use 'GeoSeries.to_crs()' to re-project geometries to a projected CRS before this operation.\n",
      "\n",
      "  if SFBay_CBG.area[SFBay_CBG.MESOZONE==p_df['locationZone'][i]].values[0]==0:\n",
      "/var/folders/kr/2j58542j2_7chf9_h8bmr30mb0_4n0/T/ipykernel_15666/3676463546.py:9: UserWarning: Geometry is in a geographic CRS. Results from 'area' are likely incorrect. Use 'GeoSeries.to_crs()' to re-project geometries to a projected CRS before this operation.\n",
      "\n",
      "  if SFBay_CBG.area[SFBay_CBG.MESOZONE==p_df['locationZone'][i]].values[0]==0:\n"
     ]
    },
    {
     "name": "stdout",
     "output_type": "stream",
     "text": [
      "198\n",
      "199\n",
      "200\n",
      "201\n",
      "202\n"
     ]
    },
    {
     "name": "stderr",
     "output_type": "stream",
     "text": [
      "/var/folders/kr/2j58542j2_7chf9_h8bmr30mb0_4n0/T/ipykernel_15666/3676463546.py:9: UserWarning: Geometry is in a geographic CRS. Results from 'area' are likely incorrect. Use 'GeoSeries.to_crs()' to re-project geometries to a projected CRS before this operation.\n",
      "\n",
      "  if SFBay_CBG.area[SFBay_CBG.MESOZONE==p_df['locationZone'][i]].values[0]==0:\n",
      "/var/folders/kr/2j58542j2_7chf9_h8bmr30mb0_4n0/T/ipykernel_15666/3676463546.py:9: UserWarning: Geometry is in a geographic CRS. Results from 'area' are likely incorrect. Use 'GeoSeries.to_crs()' to re-project geometries to a projected CRS before this operation.\n",
      "\n",
      "  if SFBay_CBG.area[SFBay_CBG.MESOZONE==p_df['locationZone'][i]].values[0]==0:\n",
      "/var/folders/kr/2j58542j2_7chf9_h8bmr30mb0_4n0/T/ipykernel_15666/3676463546.py:9: UserWarning: Geometry is in a geographic CRS. Results from 'area' are likely incorrect. Use 'GeoSeries.to_crs()' to re-project geometries to a projected CRS before this operation.\n",
      "\n",
      "  if SFBay_CBG.area[SFBay_CBG.MESOZONE==p_df['locationZone'][i]].values[0]==0:\n",
      "/var/folders/kr/2j58542j2_7chf9_h8bmr30mb0_4n0/T/ipykernel_15666/3676463546.py:9: UserWarning: Geometry is in a geographic CRS. Results from 'area' are likely incorrect. Use 'GeoSeries.to_crs()' to re-project geometries to a projected CRS before this operation.\n",
      "\n",
      "  if SFBay_CBG.area[SFBay_CBG.MESOZONE==p_df['locationZone'][i]].values[0]==0:\n",
      "/var/folders/kr/2j58542j2_7chf9_h8bmr30mb0_4n0/T/ipykernel_15666/3676463546.py:9: UserWarning: Geometry is in a geographic CRS. Results from 'area' are likely incorrect. Use 'GeoSeries.to_crs()' to re-project geometries to a projected CRS before this operation.\n",
      "\n",
      "  if SFBay_CBG.area[SFBay_CBG.MESOZONE==p_df['locationZone'][i]].values[0]==0:\n"
     ]
    },
    {
     "name": "stdout",
     "output_type": "stream",
     "text": [
      "203\n",
      "204\n",
      "205\n",
      "206\n",
      "207\n"
     ]
    },
    {
     "name": "stderr",
     "output_type": "stream",
     "text": [
      "/var/folders/kr/2j58542j2_7chf9_h8bmr30mb0_4n0/T/ipykernel_15666/3676463546.py:9: UserWarning: Geometry is in a geographic CRS. Results from 'area' are likely incorrect. Use 'GeoSeries.to_crs()' to re-project geometries to a projected CRS before this operation.\n",
      "\n",
      "  if SFBay_CBG.area[SFBay_CBG.MESOZONE==p_df['locationZone'][i]].values[0]==0:\n",
      "/var/folders/kr/2j58542j2_7chf9_h8bmr30mb0_4n0/T/ipykernel_15666/3676463546.py:9: UserWarning: Geometry is in a geographic CRS. Results from 'area' are likely incorrect. Use 'GeoSeries.to_crs()' to re-project geometries to a projected CRS before this operation.\n",
      "\n",
      "  if SFBay_CBG.area[SFBay_CBG.MESOZONE==p_df['locationZone'][i]].values[0]==0:\n",
      "/var/folders/kr/2j58542j2_7chf9_h8bmr30mb0_4n0/T/ipykernel_15666/3676463546.py:9: UserWarning: Geometry is in a geographic CRS. Results from 'area' are likely incorrect. Use 'GeoSeries.to_crs()' to re-project geometries to a projected CRS before this operation.\n",
      "\n",
      "  if SFBay_CBG.area[SFBay_CBG.MESOZONE==p_df['locationZone'][i]].values[0]==0:\n",
      "/var/folders/kr/2j58542j2_7chf9_h8bmr30mb0_4n0/T/ipykernel_15666/3676463546.py:9: UserWarning: Geometry is in a geographic CRS. Results from 'area' are likely incorrect. Use 'GeoSeries.to_crs()' to re-project geometries to a projected CRS before this operation.\n",
      "\n",
      "  if SFBay_CBG.area[SFBay_CBG.MESOZONE==p_df['locationZone'][i]].values[0]==0:\n",
      "/var/folders/kr/2j58542j2_7chf9_h8bmr30mb0_4n0/T/ipykernel_15666/3676463546.py:9: UserWarning: Geometry is in a geographic CRS. Results from 'area' are likely incorrect. Use 'GeoSeries.to_crs()' to re-project geometries to a projected CRS before this operation.\n",
      "\n",
      "  if SFBay_CBG.area[SFBay_CBG.MESOZONE==p_df['locationZone'][i]].values[0]==0:\n"
     ]
    },
    {
     "name": "stdout",
     "output_type": "stream",
     "text": [
      "208\n",
      "209\n",
      "210\n",
      "211\n",
      "212\n"
     ]
    },
    {
     "name": "stderr",
     "output_type": "stream",
     "text": [
      "/var/folders/kr/2j58542j2_7chf9_h8bmr30mb0_4n0/T/ipykernel_15666/3676463546.py:9: UserWarning: Geometry is in a geographic CRS. Results from 'area' are likely incorrect. Use 'GeoSeries.to_crs()' to re-project geometries to a projected CRS before this operation.\n",
      "\n",
      "  if SFBay_CBG.area[SFBay_CBG.MESOZONE==p_df['locationZone'][i]].values[0]==0:\n",
      "/var/folders/kr/2j58542j2_7chf9_h8bmr30mb0_4n0/T/ipykernel_15666/3676463546.py:9: UserWarning: Geometry is in a geographic CRS. Results from 'area' are likely incorrect. Use 'GeoSeries.to_crs()' to re-project geometries to a projected CRS before this operation.\n",
      "\n",
      "  if SFBay_CBG.area[SFBay_CBG.MESOZONE==p_df['locationZone'][i]].values[0]==0:\n",
      "/var/folders/kr/2j58542j2_7chf9_h8bmr30mb0_4n0/T/ipykernel_15666/3676463546.py:9: UserWarning: Geometry is in a geographic CRS. Results from 'area' are likely incorrect. Use 'GeoSeries.to_crs()' to re-project geometries to a projected CRS before this operation.\n",
      "\n",
      "  if SFBay_CBG.area[SFBay_CBG.MESOZONE==p_df['locationZone'][i]].values[0]==0:\n",
      "/var/folders/kr/2j58542j2_7chf9_h8bmr30mb0_4n0/T/ipykernel_15666/3676463546.py:9: UserWarning: Geometry is in a geographic CRS. Results from 'area' are likely incorrect. Use 'GeoSeries.to_crs()' to re-project geometries to a projected CRS before this operation.\n",
      "\n",
      "  if SFBay_CBG.area[SFBay_CBG.MESOZONE==p_df['locationZone'][i]].values[0]==0:\n",
      "/var/folders/kr/2j58542j2_7chf9_h8bmr30mb0_4n0/T/ipykernel_15666/3676463546.py:9: UserWarning: Geometry is in a geographic CRS. Results from 'area' are likely incorrect. Use 'GeoSeries.to_crs()' to re-project geometries to a projected CRS before this operation.\n",
      "\n",
      "  if SFBay_CBG.area[SFBay_CBG.MESOZONE==p_df['locationZone'][i]].values[0]==0:\n"
     ]
    },
    {
     "name": "stdout",
     "output_type": "stream",
     "text": [
      "213\n",
      "214\n",
      "215\n",
      "216\n",
      "217\n",
      "218\n"
     ]
    },
    {
     "name": "stderr",
     "output_type": "stream",
     "text": [
      "/var/folders/kr/2j58542j2_7chf9_h8bmr30mb0_4n0/T/ipykernel_15666/3676463546.py:9: UserWarning: Geometry is in a geographic CRS. Results from 'area' are likely incorrect. Use 'GeoSeries.to_crs()' to re-project geometries to a projected CRS before this operation.\n",
      "\n",
      "  if SFBay_CBG.area[SFBay_CBG.MESOZONE==p_df['locationZone'][i]].values[0]==0:\n",
      "/var/folders/kr/2j58542j2_7chf9_h8bmr30mb0_4n0/T/ipykernel_15666/3676463546.py:9: UserWarning: Geometry is in a geographic CRS. Results from 'area' are likely incorrect. Use 'GeoSeries.to_crs()' to re-project geometries to a projected CRS before this operation.\n",
      "\n",
      "  if SFBay_CBG.area[SFBay_CBG.MESOZONE==p_df['locationZone'][i]].values[0]==0:\n",
      "/var/folders/kr/2j58542j2_7chf9_h8bmr30mb0_4n0/T/ipykernel_15666/3676463546.py:9: UserWarning: Geometry is in a geographic CRS. Results from 'area' are likely incorrect. Use 'GeoSeries.to_crs()' to re-project geometries to a projected CRS before this operation.\n",
      "\n",
      "  if SFBay_CBG.area[SFBay_CBG.MESOZONE==p_df['locationZone'][i]].values[0]==0:\n",
      "/var/folders/kr/2j58542j2_7chf9_h8bmr30mb0_4n0/T/ipykernel_15666/3676463546.py:9: UserWarning: Geometry is in a geographic CRS. Results from 'area' are likely incorrect. Use 'GeoSeries.to_crs()' to re-project geometries to a projected CRS before this operation.\n",
      "\n",
      "  if SFBay_CBG.area[SFBay_CBG.MESOZONE==p_df['locationZone'][i]].values[0]==0:\n",
      "/var/folders/kr/2j58542j2_7chf9_h8bmr30mb0_4n0/T/ipykernel_15666/3676463546.py:9: UserWarning: Geometry is in a geographic CRS. Results from 'area' are likely incorrect. Use 'GeoSeries.to_crs()' to re-project geometries to a projected CRS before this operation.\n",
      "\n",
      "  if SFBay_CBG.area[SFBay_CBG.MESOZONE==p_df['locationZone'][i]].values[0]==0:\n"
     ]
    },
    {
     "name": "stdout",
     "output_type": "stream",
     "text": [
      "219\n",
      "220\n",
      "221\n",
      "222\n",
      "223\n"
     ]
    },
    {
     "name": "stderr",
     "output_type": "stream",
     "text": [
      "/var/folders/kr/2j58542j2_7chf9_h8bmr30mb0_4n0/T/ipykernel_15666/3676463546.py:9: UserWarning: Geometry is in a geographic CRS. Results from 'area' are likely incorrect. Use 'GeoSeries.to_crs()' to re-project geometries to a projected CRS before this operation.\n",
      "\n",
      "  if SFBay_CBG.area[SFBay_CBG.MESOZONE==p_df['locationZone'][i]].values[0]==0:\n",
      "/var/folders/kr/2j58542j2_7chf9_h8bmr30mb0_4n0/T/ipykernel_15666/3676463546.py:9: UserWarning: Geometry is in a geographic CRS. Results from 'area' are likely incorrect. Use 'GeoSeries.to_crs()' to re-project geometries to a projected CRS before this operation.\n",
      "\n",
      "  if SFBay_CBG.area[SFBay_CBG.MESOZONE==p_df['locationZone'][i]].values[0]==0:\n",
      "/var/folders/kr/2j58542j2_7chf9_h8bmr30mb0_4n0/T/ipykernel_15666/3676463546.py:9: UserWarning: Geometry is in a geographic CRS. Results from 'area' are likely incorrect. Use 'GeoSeries.to_crs()' to re-project geometries to a projected CRS before this operation.\n",
      "\n",
      "  if SFBay_CBG.area[SFBay_CBG.MESOZONE==p_df['locationZone'][i]].values[0]==0:\n",
      "/var/folders/kr/2j58542j2_7chf9_h8bmr30mb0_4n0/T/ipykernel_15666/3676463546.py:9: UserWarning: Geometry is in a geographic CRS. Results from 'area' are likely incorrect. Use 'GeoSeries.to_crs()' to re-project geometries to a projected CRS before this operation.\n",
      "\n",
      "  if SFBay_CBG.area[SFBay_CBG.MESOZONE==p_df['locationZone'][i]].values[0]==0:\n",
      "/var/folders/kr/2j58542j2_7chf9_h8bmr30mb0_4n0/T/ipykernel_15666/3676463546.py:9: UserWarning: Geometry is in a geographic CRS. Results from 'area' are likely incorrect. Use 'GeoSeries.to_crs()' to re-project geometries to a projected CRS before this operation.\n",
      "\n",
      "  if SFBay_CBG.area[SFBay_CBG.MESOZONE==p_df['locationZone'][i]].values[0]==0:\n",
      "/var/folders/kr/2j58542j2_7chf9_h8bmr30mb0_4n0/T/ipykernel_15666/3676463546.py:9: UserWarning: Geometry is in a geographic CRS. Results from 'area' are likely incorrect. Use 'GeoSeries.to_crs()' to re-project geometries to a projected CRS before this operation.\n",
      "\n",
      "  if SFBay_CBG.area[SFBay_CBG.MESOZONE==p_df['locationZone'][i]].values[0]==0:\n"
     ]
    },
    {
     "name": "stdout",
     "output_type": "stream",
     "text": [
      "224\n",
      "225\n",
      "226\n",
      "227\n",
      "228\n"
     ]
    },
    {
     "name": "stderr",
     "output_type": "stream",
     "text": [
      "/var/folders/kr/2j58542j2_7chf9_h8bmr30mb0_4n0/T/ipykernel_15666/3676463546.py:9: UserWarning: Geometry is in a geographic CRS. Results from 'area' are likely incorrect. Use 'GeoSeries.to_crs()' to re-project geometries to a projected CRS before this operation.\n",
      "\n",
      "  if SFBay_CBG.area[SFBay_CBG.MESOZONE==p_df['locationZone'][i]].values[0]==0:\n",
      "/var/folders/kr/2j58542j2_7chf9_h8bmr30mb0_4n0/T/ipykernel_15666/3676463546.py:9: UserWarning: Geometry is in a geographic CRS. Results from 'area' are likely incorrect. Use 'GeoSeries.to_crs()' to re-project geometries to a projected CRS before this operation.\n",
      "\n",
      "  if SFBay_CBG.area[SFBay_CBG.MESOZONE==p_df['locationZone'][i]].values[0]==0:\n",
      "/var/folders/kr/2j58542j2_7chf9_h8bmr30mb0_4n0/T/ipykernel_15666/3676463546.py:9: UserWarning: Geometry is in a geographic CRS. Results from 'area' are likely incorrect. Use 'GeoSeries.to_crs()' to re-project geometries to a projected CRS before this operation.\n",
      "\n",
      "  if SFBay_CBG.area[SFBay_CBG.MESOZONE==p_df['locationZone'][i]].values[0]==0:\n",
      "/var/folders/kr/2j58542j2_7chf9_h8bmr30mb0_4n0/T/ipykernel_15666/3676463546.py:9: UserWarning: Geometry is in a geographic CRS. Results from 'area' are likely incorrect. Use 'GeoSeries.to_crs()' to re-project geometries to a projected CRS before this operation.\n",
      "\n",
      "  if SFBay_CBG.area[SFBay_CBG.MESOZONE==p_df['locationZone'][i]].values[0]==0:\n",
      "/var/folders/kr/2j58542j2_7chf9_h8bmr30mb0_4n0/T/ipykernel_15666/3676463546.py:9: UserWarning: Geometry is in a geographic CRS. Results from 'area' are likely incorrect. Use 'GeoSeries.to_crs()' to re-project geometries to a projected CRS before this operation.\n",
      "\n",
      "  if SFBay_CBG.area[SFBay_CBG.MESOZONE==p_df['locationZone'][i]].values[0]==0:\n"
     ]
    },
    {
     "name": "stdout",
     "output_type": "stream",
     "text": [
      "229\n",
      "230\n",
      "231\n",
      "232\n",
      "233\n"
     ]
    },
    {
     "name": "stderr",
     "output_type": "stream",
     "text": [
      "/var/folders/kr/2j58542j2_7chf9_h8bmr30mb0_4n0/T/ipykernel_15666/3676463546.py:9: UserWarning: Geometry is in a geographic CRS. Results from 'area' are likely incorrect. Use 'GeoSeries.to_crs()' to re-project geometries to a projected CRS before this operation.\n",
      "\n",
      "  if SFBay_CBG.area[SFBay_CBG.MESOZONE==p_df['locationZone'][i]].values[0]==0:\n",
      "/var/folders/kr/2j58542j2_7chf9_h8bmr30mb0_4n0/T/ipykernel_15666/3676463546.py:9: UserWarning: Geometry is in a geographic CRS. Results from 'area' are likely incorrect. Use 'GeoSeries.to_crs()' to re-project geometries to a projected CRS before this operation.\n",
      "\n",
      "  if SFBay_CBG.area[SFBay_CBG.MESOZONE==p_df['locationZone'][i]].values[0]==0:\n",
      "/var/folders/kr/2j58542j2_7chf9_h8bmr30mb0_4n0/T/ipykernel_15666/3676463546.py:9: UserWarning: Geometry is in a geographic CRS. Results from 'area' are likely incorrect. Use 'GeoSeries.to_crs()' to re-project geometries to a projected CRS before this operation.\n",
      "\n",
      "  if SFBay_CBG.area[SFBay_CBG.MESOZONE==p_df['locationZone'][i]].values[0]==0:\n",
      "/var/folders/kr/2j58542j2_7chf9_h8bmr30mb0_4n0/T/ipykernel_15666/3676463546.py:9: UserWarning: Geometry is in a geographic CRS. Results from 'area' are likely incorrect. Use 'GeoSeries.to_crs()' to re-project geometries to a projected CRS before this operation.\n",
      "\n",
      "  if SFBay_CBG.area[SFBay_CBG.MESOZONE==p_df['locationZone'][i]].values[0]==0:\n",
      "/var/folders/kr/2j58542j2_7chf9_h8bmr30mb0_4n0/T/ipykernel_15666/3676463546.py:9: UserWarning: Geometry is in a geographic CRS. Results from 'area' are likely incorrect. Use 'GeoSeries.to_crs()' to re-project geometries to a projected CRS before this operation.\n",
      "\n",
      "  if SFBay_CBG.area[SFBay_CBG.MESOZONE==p_df['locationZone'][i]].values[0]==0:\n"
     ]
    },
    {
     "name": "stdout",
     "output_type": "stream",
     "text": [
      "234\n",
      "235\n",
      "236\n",
      "237\n",
      "238\n",
      "239\n"
     ]
    },
    {
     "name": "stderr",
     "output_type": "stream",
     "text": [
      "/var/folders/kr/2j58542j2_7chf9_h8bmr30mb0_4n0/T/ipykernel_15666/3676463546.py:9: UserWarning: Geometry is in a geographic CRS. Results from 'area' are likely incorrect. Use 'GeoSeries.to_crs()' to re-project geometries to a projected CRS before this operation.\n",
      "\n",
      "  if SFBay_CBG.area[SFBay_CBG.MESOZONE==p_df['locationZone'][i]].values[0]==0:\n",
      "/var/folders/kr/2j58542j2_7chf9_h8bmr30mb0_4n0/T/ipykernel_15666/3676463546.py:9: UserWarning: Geometry is in a geographic CRS. Results from 'area' are likely incorrect. Use 'GeoSeries.to_crs()' to re-project geometries to a projected CRS before this operation.\n",
      "\n",
      "  if SFBay_CBG.area[SFBay_CBG.MESOZONE==p_df['locationZone'][i]].values[0]==0:\n",
      "/var/folders/kr/2j58542j2_7chf9_h8bmr30mb0_4n0/T/ipykernel_15666/3676463546.py:9: UserWarning: Geometry is in a geographic CRS. Results from 'area' are likely incorrect. Use 'GeoSeries.to_crs()' to re-project geometries to a projected CRS before this operation.\n",
      "\n",
      "  if SFBay_CBG.area[SFBay_CBG.MESOZONE==p_df['locationZone'][i]].values[0]==0:\n",
      "/var/folders/kr/2j58542j2_7chf9_h8bmr30mb0_4n0/T/ipykernel_15666/3676463546.py:9: UserWarning: Geometry is in a geographic CRS. Results from 'area' are likely incorrect. Use 'GeoSeries.to_crs()' to re-project geometries to a projected CRS before this operation.\n",
      "\n",
      "  if SFBay_CBG.area[SFBay_CBG.MESOZONE==p_df['locationZone'][i]].values[0]==0:\n",
      "/var/folders/kr/2j58542j2_7chf9_h8bmr30mb0_4n0/T/ipykernel_15666/3676463546.py:9: UserWarning: Geometry is in a geographic CRS. Results from 'area' are likely incorrect. Use 'GeoSeries.to_crs()' to re-project geometries to a projected CRS before this operation.\n",
      "\n",
      "  if SFBay_CBG.area[SFBay_CBG.MESOZONE==p_df['locationZone'][i]].values[0]==0:\n"
     ]
    },
    {
     "name": "stdout",
     "output_type": "stream",
     "text": [
      "240\n",
      "241\n",
      "242\n",
      "243\n",
      "244\n"
     ]
    },
    {
     "name": "stderr",
     "output_type": "stream",
     "text": [
      "/var/folders/kr/2j58542j2_7chf9_h8bmr30mb0_4n0/T/ipykernel_15666/3676463546.py:9: UserWarning: Geometry is in a geographic CRS. Results from 'area' are likely incorrect. Use 'GeoSeries.to_crs()' to re-project geometries to a projected CRS before this operation.\n",
      "\n",
      "  if SFBay_CBG.area[SFBay_CBG.MESOZONE==p_df['locationZone'][i]].values[0]==0:\n",
      "/var/folders/kr/2j58542j2_7chf9_h8bmr30mb0_4n0/T/ipykernel_15666/3676463546.py:9: UserWarning: Geometry is in a geographic CRS. Results from 'area' are likely incorrect. Use 'GeoSeries.to_crs()' to re-project geometries to a projected CRS before this operation.\n",
      "\n",
      "  if SFBay_CBG.area[SFBay_CBG.MESOZONE==p_df['locationZone'][i]].values[0]==0:\n",
      "/var/folders/kr/2j58542j2_7chf9_h8bmr30mb0_4n0/T/ipykernel_15666/3676463546.py:9: UserWarning: Geometry is in a geographic CRS. Results from 'area' are likely incorrect. Use 'GeoSeries.to_crs()' to re-project geometries to a projected CRS before this operation.\n",
      "\n",
      "  if SFBay_CBG.area[SFBay_CBG.MESOZONE==p_df['locationZone'][i]].values[0]==0:\n",
      "/var/folders/kr/2j58542j2_7chf9_h8bmr30mb0_4n0/T/ipykernel_15666/3676463546.py:9: UserWarning: Geometry is in a geographic CRS. Results from 'area' are likely incorrect. Use 'GeoSeries.to_crs()' to re-project geometries to a projected CRS before this operation.\n",
      "\n",
      "  if SFBay_CBG.area[SFBay_CBG.MESOZONE==p_df['locationZone'][i]].values[0]==0:\n",
      "/var/folders/kr/2j58542j2_7chf9_h8bmr30mb0_4n0/T/ipykernel_15666/3676463546.py:9: UserWarning: Geometry is in a geographic CRS. Results from 'area' are likely incorrect. Use 'GeoSeries.to_crs()' to re-project geometries to a projected CRS before this operation.\n",
      "\n",
      "  if SFBay_CBG.area[SFBay_CBG.MESOZONE==p_df['locationZone'][i]].values[0]==0:\n"
     ]
    },
    {
     "name": "stdout",
     "output_type": "stream",
     "text": [
      "245\n",
      "246\n",
      "247\n",
      "248\n",
      "249\n"
     ]
    },
    {
     "name": "stderr",
     "output_type": "stream",
     "text": [
      "/var/folders/kr/2j58542j2_7chf9_h8bmr30mb0_4n0/T/ipykernel_15666/3676463546.py:9: UserWarning: Geometry is in a geographic CRS. Results from 'area' are likely incorrect. Use 'GeoSeries.to_crs()' to re-project geometries to a projected CRS before this operation.\n",
      "\n",
      "  if SFBay_CBG.area[SFBay_CBG.MESOZONE==p_df['locationZone'][i]].values[0]==0:\n",
      "/var/folders/kr/2j58542j2_7chf9_h8bmr30mb0_4n0/T/ipykernel_15666/3676463546.py:9: UserWarning: Geometry is in a geographic CRS. Results from 'area' are likely incorrect. Use 'GeoSeries.to_crs()' to re-project geometries to a projected CRS before this operation.\n",
      "\n",
      "  if SFBay_CBG.area[SFBay_CBG.MESOZONE==p_df['locationZone'][i]].values[0]==0:\n",
      "/var/folders/kr/2j58542j2_7chf9_h8bmr30mb0_4n0/T/ipykernel_15666/3676463546.py:9: UserWarning: Geometry is in a geographic CRS. Results from 'area' are likely incorrect. Use 'GeoSeries.to_crs()' to re-project geometries to a projected CRS before this operation.\n",
      "\n",
      "  if SFBay_CBG.area[SFBay_CBG.MESOZONE==p_df['locationZone'][i]].values[0]==0:\n",
      "/var/folders/kr/2j58542j2_7chf9_h8bmr30mb0_4n0/T/ipykernel_15666/3676463546.py:9: UserWarning: Geometry is in a geographic CRS. Results from 'area' are likely incorrect. Use 'GeoSeries.to_crs()' to re-project geometries to a projected CRS before this operation.\n",
      "\n",
      "  if SFBay_CBG.area[SFBay_CBG.MESOZONE==p_df['locationZone'][i]].values[0]==0:\n",
      "/var/folders/kr/2j58542j2_7chf9_h8bmr30mb0_4n0/T/ipykernel_15666/3676463546.py:9: UserWarning: Geometry is in a geographic CRS. Results from 'area' are likely incorrect. Use 'GeoSeries.to_crs()' to re-project geometries to a projected CRS before this operation.\n",
      "\n",
      "  if SFBay_CBG.area[SFBay_CBG.MESOZONE==p_df['locationZone'][i]].values[0]==0:\n"
     ]
    },
    {
     "name": "stdout",
     "output_type": "stream",
     "text": [
      "250\n",
      "251\n",
      "252\n",
      "253\n",
      "254\n"
     ]
    },
    {
     "name": "stderr",
     "output_type": "stream",
     "text": [
      "/var/folders/kr/2j58542j2_7chf9_h8bmr30mb0_4n0/T/ipykernel_15666/3676463546.py:9: UserWarning: Geometry is in a geographic CRS. Results from 'area' are likely incorrect. Use 'GeoSeries.to_crs()' to re-project geometries to a projected CRS before this operation.\n",
      "\n",
      "  if SFBay_CBG.area[SFBay_CBG.MESOZONE==p_df['locationZone'][i]].values[0]==0:\n",
      "/var/folders/kr/2j58542j2_7chf9_h8bmr30mb0_4n0/T/ipykernel_15666/3676463546.py:9: UserWarning: Geometry is in a geographic CRS. Results from 'area' are likely incorrect. Use 'GeoSeries.to_crs()' to re-project geometries to a projected CRS before this operation.\n",
      "\n",
      "  if SFBay_CBG.area[SFBay_CBG.MESOZONE==p_df['locationZone'][i]].values[0]==0:\n",
      "/var/folders/kr/2j58542j2_7chf9_h8bmr30mb0_4n0/T/ipykernel_15666/3676463546.py:9: UserWarning: Geometry is in a geographic CRS. Results from 'area' are likely incorrect. Use 'GeoSeries.to_crs()' to re-project geometries to a projected CRS before this operation.\n",
      "\n",
      "  if SFBay_CBG.area[SFBay_CBG.MESOZONE==p_df['locationZone'][i]].values[0]==0:\n",
      "/var/folders/kr/2j58542j2_7chf9_h8bmr30mb0_4n0/T/ipykernel_15666/3676463546.py:9: UserWarning: Geometry is in a geographic CRS. Results from 'area' are likely incorrect. Use 'GeoSeries.to_crs()' to re-project geometries to a projected CRS before this operation.\n",
      "\n",
      "  if SFBay_CBG.area[SFBay_CBG.MESOZONE==p_df['locationZone'][i]].values[0]==0:\n",
      "/var/folders/kr/2j58542j2_7chf9_h8bmr30mb0_4n0/T/ipykernel_15666/3676463546.py:9: UserWarning: Geometry is in a geographic CRS. Results from 'area' are likely incorrect. Use 'GeoSeries.to_crs()' to re-project geometries to a projected CRS before this operation.\n",
      "\n",
      "  if SFBay_CBG.area[SFBay_CBG.MESOZONE==p_df['locationZone'][i]].values[0]==0:\n"
     ]
    },
    {
     "name": "stdout",
     "output_type": "stream",
     "text": [
      "255\n",
      "256\n",
      "257\n",
      "258\n"
     ]
    },
    {
     "name": "stderr",
     "output_type": "stream",
     "text": [
      "/var/folders/kr/2j58542j2_7chf9_h8bmr30mb0_4n0/T/ipykernel_15666/3676463546.py:9: UserWarning: Geometry is in a geographic CRS. Results from 'area' are likely incorrect. Use 'GeoSeries.to_crs()' to re-project geometries to a projected CRS before this operation.\n",
      "\n",
      "  if SFBay_CBG.area[SFBay_CBG.MESOZONE==p_df['locationZone'][i]].values[0]==0:\n",
      "/var/folders/kr/2j58542j2_7chf9_h8bmr30mb0_4n0/T/ipykernel_15666/3676463546.py:9: UserWarning: Geometry is in a geographic CRS. Results from 'area' are likely incorrect. Use 'GeoSeries.to_crs()' to re-project geometries to a projected CRS before this operation.\n",
      "\n",
      "  if SFBay_CBG.area[SFBay_CBG.MESOZONE==p_df['locationZone'][i]].values[0]==0:\n",
      "/var/folders/kr/2j58542j2_7chf9_h8bmr30mb0_4n0/T/ipykernel_15666/3676463546.py:9: UserWarning: Geometry is in a geographic CRS. Results from 'area' are likely incorrect. Use 'GeoSeries.to_crs()' to re-project geometries to a projected CRS before this operation.\n",
      "\n",
      "  if SFBay_CBG.area[SFBay_CBG.MESOZONE==p_df['locationZone'][i]].values[0]==0:\n",
      "/var/folders/kr/2j58542j2_7chf9_h8bmr30mb0_4n0/T/ipykernel_15666/3676463546.py:9: UserWarning: Geometry is in a geographic CRS. Results from 'area' are likely incorrect. Use 'GeoSeries.to_crs()' to re-project geometries to a projected CRS before this operation.\n",
      "\n",
      "  if SFBay_CBG.area[SFBay_CBG.MESOZONE==p_df['locationZone'][i]].values[0]==0:\n",
      "/var/folders/kr/2j58542j2_7chf9_h8bmr30mb0_4n0/T/ipykernel_15666/3676463546.py:9: UserWarning: Geometry is in a geographic CRS. Results from 'area' are likely incorrect. Use 'GeoSeries.to_crs()' to re-project geometries to a projected CRS before this operation.\n",
      "\n",
      "  if SFBay_CBG.area[SFBay_CBG.MESOZONE==p_df['locationZone'][i]].values[0]==0:\n"
     ]
    },
    {
     "name": "stdout",
     "output_type": "stream",
     "text": [
      "259\n",
      "260\n",
      "261\n",
      "262\n"
     ]
    },
    {
     "name": "stderr",
     "output_type": "stream",
     "text": [
      "/var/folders/kr/2j58542j2_7chf9_h8bmr30mb0_4n0/T/ipykernel_15666/3676463546.py:9: UserWarning: Geometry is in a geographic CRS. Results from 'area' are likely incorrect. Use 'GeoSeries.to_crs()' to re-project geometries to a projected CRS before this operation.\n",
      "\n",
      "  if SFBay_CBG.area[SFBay_CBG.MESOZONE==p_df['locationZone'][i]].values[0]==0:\n",
      "/var/folders/kr/2j58542j2_7chf9_h8bmr30mb0_4n0/T/ipykernel_15666/3676463546.py:9: UserWarning: Geometry is in a geographic CRS. Results from 'area' are likely incorrect. Use 'GeoSeries.to_crs()' to re-project geometries to a projected CRS before this operation.\n",
      "\n",
      "  if SFBay_CBG.area[SFBay_CBG.MESOZONE==p_df['locationZone'][i]].values[0]==0:\n",
      "/var/folders/kr/2j58542j2_7chf9_h8bmr30mb0_4n0/T/ipykernel_15666/3676463546.py:9: UserWarning: Geometry is in a geographic CRS. Results from 'area' are likely incorrect. Use 'GeoSeries.to_crs()' to re-project geometries to a projected CRS before this operation.\n",
      "\n",
      "  if SFBay_CBG.area[SFBay_CBG.MESOZONE==p_df['locationZone'][i]].values[0]==0:\n",
      "/var/folders/kr/2j58542j2_7chf9_h8bmr30mb0_4n0/T/ipykernel_15666/3676463546.py:9: UserWarning: Geometry is in a geographic CRS. Results from 'area' are likely incorrect. Use 'GeoSeries.to_crs()' to re-project geometries to a projected CRS before this operation.\n",
      "\n",
      "  if SFBay_CBG.area[SFBay_CBG.MESOZONE==p_df['locationZone'][i]].values[0]==0:\n"
     ]
    },
    {
     "name": "stdout",
     "output_type": "stream",
     "text": [
      "263\n",
      "264\n",
      "265\n",
      "266\n"
     ]
    },
    {
     "name": "stderr",
     "output_type": "stream",
     "text": [
      "/var/folders/kr/2j58542j2_7chf9_h8bmr30mb0_4n0/T/ipykernel_15666/3676463546.py:9: UserWarning: Geometry is in a geographic CRS. Results from 'area' are likely incorrect. Use 'GeoSeries.to_crs()' to re-project geometries to a projected CRS before this operation.\n",
      "\n",
      "  if SFBay_CBG.area[SFBay_CBG.MESOZONE==p_df['locationZone'][i]].values[0]==0:\n",
      "/var/folders/kr/2j58542j2_7chf9_h8bmr30mb0_4n0/T/ipykernel_15666/3676463546.py:9: UserWarning: Geometry is in a geographic CRS. Results from 'area' are likely incorrect. Use 'GeoSeries.to_crs()' to re-project geometries to a projected CRS before this operation.\n",
      "\n",
      "  if SFBay_CBG.area[SFBay_CBG.MESOZONE==p_df['locationZone'][i]].values[0]==0:\n",
      "/var/folders/kr/2j58542j2_7chf9_h8bmr30mb0_4n0/T/ipykernel_15666/3676463546.py:9: UserWarning: Geometry is in a geographic CRS. Results from 'area' are likely incorrect. Use 'GeoSeries.to_crs()' to re-project geometries to a projected CRS before this operation.\n",
      "\n",
      "  if SFBay_CBG.area[SFBay_CBG.MESOZONE==p_df['locationZone'][i]].values[0]==0:\n",
      "/var/folders/kr/2j58542j2_7chf9_h8bmr30mb0_4n0/T/ipykernel_15666/3676463546.py:9: UserWarning: Geometry is in a geographic CRS. Results from 'area' are likely incorrect. Use 'GeoSeries.to_crs()' to re-project geometries to a projected CRS before this operation.\n",
      "\n",
      "  if SFBay_CBG.area[SFBay_CBG.MESOZONE==p_df['locationZone'][i]].values[0]==0:\n",
      "/var/folders/kr/2j58542j2_7chf9_h8bmr30mb0_4n0/T/ipykernel_15666/3676463546.py:9: UserWarning: Geometry is in a geographic CRS. Results from 'area' are likely incorrect. Use 'GeoSeries.to_crs()' to re-project geometries to a projected CRS before this operation.\n",
      "\n",
      "  if SFBay_CBG.area[SFBay_CBG.MESOZONE==p_df['locationZone'][i]].values[0]==0:\n"
     ]
    },
    {
     "name": "stdout",
     "output_type": "stream",
     "text": [
      "267\n",
      "268\n",
      "269\n",
      "270\n"
     ]
    },
    {
     "name": "stderr",
     "output_type": "stream",
     "text": [
      "/var/folders/kr/2j58542j2_7chf9_h8bmr30mb0_4n0/T/ipykernel_15666/3676463546.py:9: UserWarning: Geometry is in a geographic CRS. Results from 'area' are likely incorrect. Use 'GeoSeries.to_crs()' to re-project geometries to a projected CRS before this operation.\n",
      "\n",
      "  if SFBay_CBG.area[SFBay_CBG.MESOZONE==p_df['locationZone'][i]].values[0]==0:\n",
      "/var/folders/kr/2j58542j2_7chf9_h8bmr30mb0_4n0/T/ipykernel_15666/3676463546.py:9: UserWarning: Geometry is in a geographic CRS. Results from 'area' are likely incorrect. Use 'GeoSeries.to_crs()' to re-project geometries to a projected CRS before this operation.\n",
      "\n",
      "  if SFBay_CBG.area[SFBay_CBG.MESOZONE==p_df['locationZone'][i]].values[0]==0:\n",
      "/var/folders/kr/2j58542j2_7chf9_h8bmr30mb0_4n0/T/ipykernel_15666/3676463546.py:9: UserWarning: Geometry is in a geographic CRS. Results from 'area' are likely incorrect. Use 'GeoSeries.to_crs()' to re-project geometries to a projected CRS before this operation.\n",
      "\n",
      "  if SFBay_CBG.area[SFBay_CBG.MESOZONE==p_df['locationZone'][i]].values[0]==0:\n",
      "/var/folders/kr/2j58542j2_7chf9_h8bmr30mb0_4n0/T/ipykernel_15666/3676463546.py:9: UserWarning: Geometry is in a geographic CRS. Results from 'area' are likely incorrect. Use 'GeoSeries.to_crs()' to re-project geometries to a projected CRS before this operation.\n",
      "\n",
      "  if SFBay_CBG.area[SFBay_CBG.MESOZONE==p_df['locationZone'][i]].values[0]==0:\n"
     ]
    },
    {
     "name": "stdout",
     "output_type": "stream",
     "text": [
      "271\n",
      "272\n",
      "273\n",
      "274\n",
      "275\n"
     ]
    },
    {
     "name": "stderr",
     "output_type": "stream",
     "text": [
      "/var/folders/kr/2j58542j2_7chf9_h8bmr30mb0_4n0/T/ipykernel_15666/3676463546.py:9: UserWarning: Geometry is in a geographic CRS. Results from 'area' are likely incorrect. Use 'GeoSeries.to_crs()' to re-project geometries to a projected CRS before this operation.\n",
      "\n",
      "  if SFBay_CBG.area[SFBay_CBG.MESOZONE==p_df['locationZone'][i]].values[0]==0:\n",
      "/var/folders/kr/2j58542j2_7chf9_h8bmr30mb0_4n0/T/ipykernel_15666/3676463546.py:9: UserWarning: Geometry is in a geographic CRS. Results from 'area' are likely incorrect. Use 'GeoSeries.to_crs()' to re-project geometries to a projected CRS before this operation.\n",
      "\n",
      "  if SFBay_CBG.area[SFBay_CBG.MESOZONE==p_df['locationZone'][i]].values[0]==0:\n",
      "/var/folders/kr/2j58542j2_7chf9_h8bmr30mb0_4n0/T/ipykernel_15666/3676463546.py:9: UserWarning: Geometry is in a geographic CRS. Results from 'area' are likely incorrect. Use 'GeoSeries.to_crs()' to re-project geometries to a projected CRS before this operation.\n",
      "\n",
      "  if SFBay_CBG.area[SFBay_CBG.MESOZONE==p_df['locationZone'][i]].values[0]==0:\n",
      "/var/folders/kr/2j58542j2_7chf9_h8bmr30mb0_4n0/T/ipykernel_15666/3676463546.py:9: UserWarning: Geometry is in a geographic CRS. Results from 'area' are likely incorrect. Use 'GeoSeries.to_crs()' to re-project geometries to a projected CRS before this operation.\n",
      "\n",
      "  if SFBay_CBG.area[SFBay_CBG.MESOZONE==p_df['locationZone'][i]].values[0]==0:\n",
      "/var/folders/kr/2j58542j2_7chf9_h8bmr30mb0_4n0/T/ipykernel_15666/3676463546.py:9: UserWarning: Geometry is in a geographic CRS. Results from 'area' are likely incorrect. Use 'GeoSeries.to_crs()' to re-project geometries to a projected CRS before this operation.\n",
      "\n",
      "  if SFBay_CBG.area[SFBay_CBG.MESOZONE==p_df['locationZone'][i]].values[0]==0:\n"
     ]
    },
    {
     "name": "stdout",
     "output_type": "stream",
     "text": [
      "276\n",
      "277\n",
      "278\n",
      "279\n",
      "280\n"
     ]
    },
    {
     "name": "stderr",
     "output_type": "stream",
     "text": [
      "/var/folders/kr/2j58542j2_7chf9_h8bmr30mb0_4n0/T/ipykernel_15666/3676463546.py:9: UserWarning: Geometry is in a geographic CRS. Results from 'area' are likely incorrect. Use 'GeoSeries.to_crs()' to re-project geometries to a projected CRS before this operation.\n",
      "\n",
      "  if SFBay_CBG.area[SFBay_CBG.MESOZONE==p_df['locationZone'][i]].values[0]==0:\n",
      "/var/folders/kr/2j58542j2_7chf9_h8bmr30mb0_4n0/T/ipykernel_15666/3676463546.py:9: UserWarning: Geometry is in a geographic CRS. Results from 'area' are likely incorrect. Use 'GeoSeries.to_crs()' to re-project geometries to a projected CRS before this operation.\n",
      "\n",
      "  if SFBay_CBG.area[SFBay_CBG.MESOZONE==p_df['locationZone'][i]].values[0]==0:\n",
      "/var/folders/kr/2j58542j2_7chf9_h8bmr30mb0_4n0/T/ipykernel_15666/3676463546.py:9: UserWarning: Geometry is in a geographic CRS. Results from 'area' are likely incorrect. Use 'GeoSeries.to_crs()' to re-project geometries to a projected CRS before this operation.\n",
      "\n",
      "  if SFBay_CBG.area[SFBay_CBG.MESOZONE==p_df['locationZone'][i]].values[0]==0:\n",
      "/var/folders/kr/2j58542j2_7chf9_h8bmr30mb0_4n0/T/ipykernel_15666/3676463546.py:9: UserWarning: Geometry is in a geographic CRS. Results from 'area' are likely incorrect. Use 'GeoSeries.to_crs()' to re-project geometries to a projected CRS before this operation.\n",
      "\n",
      "  if SFBay_CBG.area[SFBay_CBG.MESOZONE==p_df['locationZone'][i]].values[0]==0:\n",
      "/var/folders/kr/2j58542j2_7chf9_h8bmr30mb0_4n0/T/ipykernel_15666/3676463546.py:9: UserWarning: Geometry is in a geographic CRS. Results from 'area' are likely incorrect. Use 'GeoSeries.to_crs()' to re-project geometries to a projected CRS before this operation.\n",
      "\n",
      "  if SFBay_CBG.area[SFBay_CBG.MESOZONE==p_df['locationZone'][i]].values[0]==0:\n"
     ]
    },
    {
     "name": "stdout",
     "output_type": "stream",
     "text": [
      "281\n",
      "282\n",
      "283\n",
      "284\n",
      "285\n"
     ]
    },
    {
     "name": "stderr",
     "output_type": "stream",
     "text": [
      "/var/folders/kr/2j58542j2_7chf9_h8bmr30mb0_4n0/T/ipykernel_15666/3676463546.py:9: UserWarning: Geometry is in a geographic CRS. Results from 'area' are likely incorrect. Use 'GeoSeries.to_crs()' to re-project geometries to a projected CRS before this operation.\n",
      "\n",
      "  if SFBay_CBG.area[SFBay_CBG.MESOZONE==p_df['locationZone'][i]].values[0]==0:\n",
      "/var/folders/kr/2j58542j2_7chf9_h8bmr30mb0_4n0/T/ipykernel_15666/3676463546.py:9: UserWarning: Geometry is in a geographic CRS. Results from 'area' are likely incorrect. Use 'GeoSeries.to_crs()' to re-project geometries to a projected CRS before this operation.\n",
      "\n",
      "  if SFBay_CBG.area[SFBay_CBG.MESOZONE==p_df['locationZone'][i]].values[0]==0:\n",
      "/var/folders/kr/2j58542j2_7chf9_h8bmr30mb0_4n0/T/ipykernel_15666/3676463546.py:9: UserWarning: Geometry is in a geographic CRS. Results from 'area' are likely incorrect. Use 'GeoSeries.to_crs()' to re-project geometries to a projected CRS before this operation.\n",
      "\n",
      "  if SFBay_CBG.area[SFBay_CBG.MESOZONE==p_df['locationZone'][i]].values[0]==0:\n",
      "/var/folders/kr/2j58542j2_7chf9_h8bmr30mb0_4n0/T/ipykernel_15666/3676463546.py:9: UserWarning: Geometry is in a geographic CRS. Results from 'area' are likely incorrect. Use 'GeoSeries.to_crs()' to re-project geometries to a projected CRS before this operation.\n",
      "\n",
      "  if SFBay_CBG.area[SFBay_CBG.MESOZONE==p_df['locationZone'][i]].values[0]==0:\n",
      "/var/folders/kr/2j58542j2_7chf9_h8bmr30mb0_4n0/T/ipykernel_15666/3676463546.py:9: UserWarning: Geometry is in a geographic CRS. Results from 'area' are likely incorrect. Use 'GeoSeries.to_crs()' to re-project geometries to a projected CRS before this operation.\n",
      "\n",
      "  if SFBay_CBG.area[SFBay_CBG.MESOZONE==p_df['locationZone'][i]].values[0]==0:\n"
     ]
    },
    {
     "name": "stdout",
     "output_type": "stream",
     "text": [
      "286\n",
      "287\n",
      "288\n",
      "289\n",
      "290\n"
     ]
    },
    {
     "name": "stderr",
     "output_type": "stream",
     "text": [
      "/var/folders/kr/2j58542j2_7chf9_h8bmr30mb0_4n0/T/ipykernel_15666/3676463546.py:9: UserWarning: Geometry is in a geographic CRS. Results from 'area' are likely incorrect. Use 'GeoSeries.to_crs()' to re-project geometries to a projected CRS before this operation.\n",
      "\n",
      "  if SFBay_CBG.area[SFBay_CBG.MESOZONE==p_df['locationZone'][i]].values[0]==0:\n",
      "/var/folders/kr/2j58542j2_7chf9_h8bmr30mb0_4n0/T/ipykernel_15666/3676463546.py:9: UserWarning: Geometry is in a geographic CRS. Results from 'area' are likely incorrect. Use 'GeoSeries.to_crs()' to re-project geometries to a projected CRS before this operation.\n",
      "\n",
      "  if SFBay_CBG.area[SFBay_CBG.MESOZONE==p_df['locationZone'][i]].values[0]==0:\n",
      "/var/folders/kr/2j58542j2_7chf9_h8bmr30mb0_4n0/T/ipykernel_15666/3676463546.py:9: UserWarning: Geometry is in a geographic CRS. Results from 'area' are likely incorrect. Use 'GeoSeries.to_crs()' to re-project geometries to a projected CRS before this operation.\n",
      "\n",
      "  if SFBay_CBG.area[SFBay_CBG.MESOZONE==p_df['locationZone'][i]].values[0]==0:\n",
      "/var/folders/kr/2j58542j2_7chf9_h8bmr30mb0_4n0/T/ipykernel_15666/3676463546.py:9: UserWarning: Geometry is in a geographic CRS. Results from 'area' are likely incorrect. Use 'GeoSeries.to_crs()' to re-project geometries to a projected CRS before this operation.\n",
      "\n",
      "  if SFBay_CBG.area[SFBay_CBG.MESOZONE==p_df['locationZone'][i]].values[0]==0:\n",
      "/var/folders/kr/2j58542j2_7chf9_h8bmr30mb0_4n0/T/ipykernel_15666/3676463546.py:9: UserWarning: Geometry is in a geographic CRS. Results from 'area' are likely incorrect. Use 'GeoSeries.to_crs()' to re-project geometries to a projected CRS before this operation.\n",
      "\n",
      "  if SFBay_CBG.area[SFBay_CBG.MESOZONE==p_df['locationZone'][i]].values[0]==0:\n"
     ]
    },
    {
     "name": "stdout",
     "output_type": "stream",
     "text": [
      "291\n",
      "292\n",
      "293\n",
      "294\n"
     ]
    },
    {
     "name": "stderr",
     "output_type": "stream",
     "text": [
      "/var/folders/kr/2j58542j2_7chf9_h8bmr30mb0_4n0/T/ipykernel_15666/3676463546.py:9: UserWarning: Geometry is in a geographic CRS. Results from 'area' are likely incorrect. Use 'GeoSeries.to_crs()' to re-project geometries to a projected CRS before this operation.\n",
      "\n",
      "  if SFBay_CBG.area[SFBay_CBG.MESOZONE==p_df['locationZone'][i]].values[0]==0:\n",
      "/var/folders/kr/2j58542j2_7chf9_h8bmr30mb0_4n0/T/ipykernel_15666/3676463546.py:9: UserWarning: Geometry is in a geographic CRS. Results from 'area' are likely incorrect. Use 'GeoSeries.to_crs()' to re-project geometries to a projected CRS before this operation.\n",
      "\n",
      "  if SFBay_CBG.area[SFBay_CBG.MESOZONE==p_df['locationZone'][i]].values[0]==0:\n",
      "/var/folders/kr/2j58542j2_7chf9_h8bmr30mb0_4n0/T/ipykernel_15666/3676463546.py:9: UserWarning: Geometry is in a geographic CRS. Results from 'area' are likely incorrect. Use 'GeoSeries.to_crs()' to re-project geometries to a projected CRS before this operation.\n",
      "\n",
      "  if SFBay_CBG.area[SFBay_CBG.MESOZONE==p_df['locationZone'][i]].values[0]==0:\n",
      "/var/folders/kr/2j58542j2_7chf9_h8bmr30mb0_4n0/T/ipykernel_15666/3676463546.py:9: UserWarning: Geometry is in a geographic CRS. Results from 'area' are likely incorrect. Use 'GeoSeries.to_crs()' to re-project geometries to a projected CRS before this operation.\n",
      "\n",
      "  if SFBay_CBG.area[SFBay_CBG.MESOZONE==p_df['locationZone'][i]].values[0]==0:\n"
     ]
    },
    {
     "name": "stdout",
     "output_type": "stream",
     "text": [
      "295\n",
      "296\n",
      "297\n",
      "298\n",
      "299\n"
     ]
    },
    {
     "name": "stderr",
     "output_type": "stream",
     "text": [
      "/var/folders/kr/2j58542j2_7chf9_h8bmr30mb0_4n0/T/ipykernel_15666/3676463546.py:9: UserWarning: Geometry is in a geographic CRS. Results from 'area' are likely incorrect. Use 'GeoSeries.to_crs()' to re-project geometries to a projected CRS before this operation.\n",
      "\n",
      "  if SFBay_CBG.area[SFBay_CBG.MESOZONE==p_df['locationZone'][i]].values[0]==0:\n",
      "/var/folders/kr/2j58542j2_7chf9_h8bmr30mb0_4n0/T/ipykernel_15666/3676463546.py:9: UserWarning: Geometry is in a geographic CRS. Results from 'area' are likely incorrect. Use 'GeoSeries.to_crs()' to re-project geometries to a projected CRS before this operation.\n",
      "\n",
      "  if SFBay_CBG.area[SFBay_CBG.MESOZONE==p_df['locationZone'][i]].values[0]==0:\n",
      "/var/folders/kr/2j58542j2_7chf9_h8bmr30mb0_4n0/T/ipykernel_15666/3676463546.py:9: UserWarning: Geometry is in a geographic CRS. Results from 'area' are likely incorrect. Use 'GeoSeries.to_crs()' to re-project geometries to a projected CRS before this operation.\n",
      "\n",
      "  if SFBay_CBG.area[SFBay_CBG.MESOZONE==p_df['locationZone'][i]].values[0]==0:\n",
      "/var/folders/kr/2j58542j2_7chf9_h8bmr30mb0_4n0/T/ipykernel_15666/3676463546.py:9: UserWarning: Geometry is in a geographic CRS. Results from 'area' are likely incorrect. Use 'GeoSeries.to_crs()' to re-project geometries to a projected CRS before this operation.\n",
      "\n",
      "  if SFBay_CBG.area[SFBay_CBG.MESOZONE==p_df['locationZone'][i]].values[0]==0:\n",
      "/var/folders/kr/2j58542j2_7chf9_h8bmr30mb0_4n0/T/ipykernel_15666/3676463546.py:9: UserWarning: Geometry is in a geographic CRS. Results from 'area' are likely incorrect. Use 'GeoSeries.to_crs()' to re-project geometries to a projected CRS before this operation.\n",
      "\n",
      "  if SFBay_CBG.area[SFBay_CBG.MESOZONE==p_df['locationZone'][i]].values[0]==0:\n"
     ]
    },
    {
     "name": "stdout",
     "output_type": "stream",
     "text": [
      "300\n",
      "301\n",
      "302\n",
      "303\n"
     ]
    },
    {
     "name": "stderr",
     "output_type": "stream",
     "text": [
      "/var/folders/kr/2j58542j2_7chf9_h8bmr30mb0_4n0/T/ipykernel_15666/3676463546.py:9: UserWarning: Geometry is in a geographic CRS. Results from 'area' are likely incorrect. Use 'GeoSeries.to_crs()' to re-project geometries to a projected CRS before this operation.\n",
      "\n",
      "  if SFBay_CBG.area[SFBay_CBG.MESOZONE==p_df['locationZone'][i]].values[0]==0:\n",
      "/var/folders/kr/2j58542j2_7chf9_h8bmr30mb0_4n0/T/ipykernel_15666/3676463546.py:9: UserWarning: Geometry is in a geographic CRS. Results from 'area' are likely incorrect. Use 'GeoSeries.to_crs()' to re-project geometries to a projected CRS before this operation.\n",
      "\n",
      "  if SFBay_CBG.area[SFBay_CBG.MESOZONE==p_df['locationZone'][i]].values[0]==0:\n",
      "/var/folders/kr/2j58542j2_7chf9_h8bmr30mb0_4n0/T/ipykernel_15666/3676463546.py:9: UserWarning: Geometry is in a geographic CRS. Results from 'area' are likely incorrect. Use 'GeoSeries.to_crs()' to re-project geometries to a projected CRS before this operation.\n",
      "\n",
      "  if SFBay_CBG.area[SFBay_CBG.MESOZONE==p_df['locationZone'][i]].values[0]==0:\n",
      "/var/folders/kr/2j58542j2_7chf9_h8bmr30mb0_4n0/T/ipykernel_15666/3676463546.py:9: UserWarning: Geometry is in a geographic CRS. Results from 'area' are likely incorrect. Use 'GeoSeries.to_crs()' to re-project geometries to a projected CRS before this operation.\n",
      "\n",
      "  if SFBay_CBG.area[SFBay_CBG.MESOZONE==p_df['locationZone'][i]].values[0]==0:\n",
      "/var/folders/kr/2j58542j2_7chf9_h8bmr30mb0_4n0/T/ipykernel_15666/3676463546.py:9: UserWarning: Geometry is in a geographic CRS. Results from 'area' are likely incorrect. Use 'GeoSeries.to_crs()' to re-project geometries to a projected CRS before this operation.\n",
      "\n",
      "  if SFBay_CBG.area[SFBay_CBG.MESOZONE==p_df['locationZone'][i]].values[0]==0:\n"
     ]
    },
    {
     "name": "stdout",
     "output_type": "stream",
     "text": [
      "304\n",
      "305\n",
      "306\n",
      "307\n",
      "308\n"
     ]
    },
    {
     "name": "stderr",
     "output_type": "stream",
     "text": [
      "/var/folders/kr/2j58542j2_7chf9_h8bmr30mb0_4n0/T/ipykernel_15666/3676463546.py:9: UserWarning: Geometry is in a geographic CRS. Results from 'area' are likely incorrect. Use 'GeoSeries.to_crs()' to re-project geometries to a projected CRS before this operation.\n",
      "\n",
      "  if SFBay_CBG.area[SFBay_CBG.MESOZONE==p_df['locationZone'][i]].values[0]==0:\n",
      "/var/folders/kr/2j58542j2_7chf9_h8bmr30mb0_4n0/T/ipykernel_15666/3676463546.py:9: UserWarning: Geometry is in a geographic CRS. Results from 'area' are likely incorrect. Use 'GeoSeries.to_crs()' to re-project geometries to a projected CRS before this operation.\n",
      "\n",
      "  if SFBay_CBG.area[SFBay_CBG.MESOZONE==p_df['locationZone'][i]].values[0]==0:\n",
      "/var/folders/kr/2j58542j2_7chf9_h8bmr30mb0_4n0/T/ipykernel_15666/3676463546.py:9: UserWarning: Geometry is in a geographic CRS. Results from 'area' are likely incorrect. Use 'GeoSeries.to_crs()' to re-project geometries to a projected CRS before this operation.\n",
      "\n",
      "  if SFBay_CBG.area[SFBay_CBG.MESOZONE==p_df['locationZone'][i]].values[0]==0:\n",
      "/var/folders/kr/2j58542j2_7chf9_h8bmr30mb0_4n0/T/ipykernel_15666/3676463546.py:9: UserWarning: Geometry is in a geographic CRS. Results from 'area' are likely incorrect. Use 'GeoSeries.to_crs()' to re-project geometries to a projected CRS before this operation.\n",
      "\n",
      "  if SFBay_CBG.area[SFBay_CBG.MESOZONE==p_df['locationZone'][i]].values[0]==0:\n"
     ]
    },
    {
     "name": "stdout",
     "output_type": "stream",
     "text": [
      "309\n",
      "310\n",
      "311\n",
      "312\n",
      "313\n"
     ]
    },
    {
     "name": "stderr",
     "output_type": "stream",
     "text": [
      "/var/folders/kr/2j58542j2_7chf9_h8bmr30mb0_4n0/T/ipykernel_15666/3676463546.py:9: UserWarning: Geometry is in a geographic CRS. Results from 'area' are likely incorrect. Use 'GeoSeries.to_crs()' to re-project geometries to a projected CRS before this operation.\n",
      "\n",
      "  if SFBay_CBG.area[SFBay_CBG.MESOZONE==p_df['locationZone'][i]].values[0]==0:\n",
      "/var/folders/kr/2j58542j2_7chf9_h8bmr30mb0_4n0/T/ipykernel_15666/3676463546.py:9: UserWarning: Geometry is in a geographic CRS. Results from 'area' are likely incorrect. Use 'GeoSeries.to_crs()' to re-project geometries to a projected CRS before this operation.\n",
      "\n",
      "  if SFBay_CBG.area[SFBay_CBG.MESOZONE==p_df['locationZone'][i]].values[0]==0:\n",
      "/var/folders/kr/2j58542j2_7chf9_h8bmr30mb0_4n0/T/ipykernel_15666/3676463546.py:9: UserWarning: Geometry is in a geographic CRS. Results from 'area' are likely incorrect. Use 'GeoSeries.to_crs()' to re-project geometries to a projected CRS before this operation.\n",
      "\n",
      "  if SFBay_CBG.area[SFBay_CBG.MESOZONE==p_df['locationZone'][i]].values[0]==0:\n",
      "/var/folders/kr/2j58542j2_7chf9_h8bmr30mb0_4n0/T/ipykernel_15666/3676463546.py:9: UserWarning: Geometry is in a geographic CRS. Results from 'area' are likely incorrect. Use 'GeoSeries.to_crs()' to re-project geometries to a projected CRS before this operation.\n",
      "\n",
      "  if SFBay_CBG.area[SFBay_CBG.MESOZONE==p_df['locationZone'][i]].values[0]==0:\n",
      "/var/folders/kr/2j58542j2_7chf9_h8bmr30mb0_4n0/T/ipykernel_15666/3676463546.py:9: UserWarning: Geometry is in a geographic CRS. Results from 'area' are likely incorrect. Use 'GeoSeries.to_crs()' to re-project geometries to a projected CRS before this operation.\n",
      "\n",
      "  if SFBay_CBG.area[SFBay_CBG.MESOZONE==p_df['locationZone'][i]].values[0]==0:\n"
     ]
    },
    {
     "name": "stdout",
     "output_type": "stream",
     "text": [
      "314\n",
      "315\n",
      "316\n",
      "317\n"
     ]
    },
    {
     "name": "stderr",
     "output_type": "stream",
     "text": [
      "/var/folders/kr/2j58542j2_7chf9_h8bmr30mb0_4n0/T/ipykernel_15666/3676463546.py:9: UserWarning: Geometry is in a geographic CRS. Results from 'area' are likely incorrect. Use 'GeoSeries.to_crs()' to re-project geometries to a projected CRS before this operation.\n",
      "\n",
      "  if SFBay_CBG.area[SFBay_CBG.MESOZONE==p_df['locationZone'][i]].values[0]==0:\n",
      "/var/folders/kr/2j58542j2_7chf9_h8bmr30mb0_4n0/T/ipykernel_15666/3676463546.py:9: UserWarning: Geometry is in a geographic CRS. Results from 'area' are likely incorrect. Use 'GeoSeries.to_crs()' to re-project geometries to a projected CRS before this operation.\n",
      "\n",
      "  if SFBay_CBG.area[SFBay_CBG.MESOZONE==p_df['locationZone'][i]].values[0]==0:\n",
      "/var/folders/kr/2j58542j2_7chf9_h8bmr30mb0_4n0/T/ipykernel_15666/3676463546.py:9: UserWarning: Geometry is in a geographic CRS. Results from 'area' are likely incorrect. Use 'GeoSeries.to_crs()' to re-project geometries to a projected CRS before this operation.\n",
      "\n",
      "  if SFBay_CBG.area[SFBay_CBG.MESOZONE==p_df['locationZone'][i]].values[0]==0:\n",
      "/var/folders/kr/2j58542j2_7chf9_h8bmr30mb0_4n0/T/ipykernel_15666/3676463546.py:9: UserWarning: Geometry is in a geographic CRS. Results from 'area' are likely incorrect. Use 'GeoSeries.to_crs()' to re-project geometries to a projected CRS before this operation.\n",
      "\n",
      "  if SFBay_CBG.area[SFBay_CBG.MESOZONE==p_df['locationZone'][i]].values[0]==0:\n"
     ]
    },
    {
     "name": "stdout",
     "output_type": "stream",
     "text": [
      "318\n",
      "319\n",
      "320\n",
      "321\n",
      "322\n"
     ]
    },
    {
     "name": "stderr",
     "output_type": "stream",
     "text": [
      "/var/folders/kr/2j58542j2_7chf9_h8bmr30mb0_4n0/T/ipykernel_15666/3676463546.py:9: UserWarning: Geometry is in a geographic CRS. Results from 'area' are likely incorrect. Use 'GeoSeries.to_crs()' to re-project geometries to a projected CRS before this operation.\n",
      "\n",
      "  if SFBay_CBG.area[SFBay_CBG.MESOZONE==p_df['locationZone'][i]].values[0]==0:\n",
      "/var/folders/kr/2j58542j2_7chf9_h8bmr30mb0_4n0/T/ipykernel_15666/3676463546.py:9: UserWarning: Geometry is in a geographic CRS. Results from 'area' are likely incorrect. Use 'GeoSeries.to_crs()' to re-project geometries to a projected CRS before this operation.\n",
      "\n",
      "  if SFBay_CBG.area[SFBay_CBG.MESOZONE==p_df['locationZone'][i]].values[0]==0:\n",
      "/var/folders/kr/2j58542j2_7chf9_h8bmr30mb0_4n0/T/ipykernel_15666/3676463546.py:9: UserWarning: Geometry is in a geographic CRS. Results from 'area' are likely incorrect. Use 'GeoSeries.to_crs()' to re-project geometries to a projected CRS before this operation.\n",
      "\n",
      "  if SFBay_CBG.area[SFBay_CBG.MESOZONE==p_df['locationZone'][i]].values[0]==0:\n",
      "/var/folders/kr/2j58542j2_7chf9_h8bmr30mb0_4n0/T/ipykernel_15666/3676463546.py:9: UserWarning: Geometry is in a geographic CRS. Results from 'area' are likely incorrect. Use 'GeoSeries.to_crs()' to re-project geometries to a projected CRS before this operation.\n",
      "\n",
      "  if SFBay_CBG.area[SFBay_CBG.MESOZONE==p_df['locationZone'][i]].values[0]==0:\n",
      "/var/folders/kr/2j58542j2_7chf9_h8bmr30mb0_4n0/T/ipykernel_15666/3676463546.py:9: UserWarning: Geometry is in a geographic CRS. Results from 'area' are likely incorrect. Use 'GeoSeries.to_crs()' to re-project geometries to a projected CRS before this operation.\n",
      "\n",
      "  if SFBay_CBG.area[SFBay_CBG.MESOZONE==p_df['locationZone'][i]].values[0]==0:\n"
     ]
    },
    {
     "name": "stdout",
     "output_type": "stream",
     "text": [
      "323\n",
      "324\n",
      "325\n",
      "326\n",
      "327\n"
     ]
    },
    {
     "name": "stderr",
     "output_type": "stream",
     "text": [
      "/var/folders/kr/2j58542j2_7chf9_h8bmr30mb0_4n0/T/ipykernel_15666/3676463546.py:9: UserWarning: Geometry is in a geographic CRS. Results from 'area' are likely incorrect. Use 'GeoSeries.to_crs()' to re-project geometries to a projected CRS before this operation.\n",
      "\n",
      "  if SFBay_CBG.area[SFBay_CBG.MESOZONE==p_df['locationZone'][i]].values[0]==0:\n",
      "/var/folders/kr/2j58542j2_7chf9_h8bmr30mb0_4n0/T/ipykernel_15666/3676463546.py:9: UserWarning: Geometry is in a geographic CRS. Results from 'area' are likely incorrect. Use 'GeoSeries.to_crs()' to re-project geometries to a projected CRS before this operation.\n",
      "\n",
      "  if SFBay_CBG.area[SFBay_CBG.MESOZONE==p_df['locationZone'][i]].values[0]==0:\n",
      "/var/folders/kr/2j58542j2_7chf9_h8bmr30mb0_4n0/T/ipykernel_15666/3676463546.py:9: UserWarning: Geometry is in a geographic CRS. Results from 'area' are likely incorrect. Use 'GeoSeries.to_crs()' to re-project geometries to a projected CRS before this operation.\n",
      "\n",
      "  if SFBay_CBG.area[SFBay_CBG.MESOZONE==p_df['locationZone'][i]].values[0]==0:\n",
      "/var/folders/kr/2j58542j2_7chf9_h8bmr30mb0_4n0/T/ipykernel_15666/3676463546.py:9: UserWarning: Geometry is in a geographic CRS. Results from 'area' are likely incorrect. Use 'GeoSeries.to_crs()' to re-project geometries to a projected CRS before this operation.\n",
      "\n",
      "  if SFBay_CBG.area[SFBay_CBG.MESOZONE==p_df['locationZone'][i]].values[0]==0:\n",
      "/var/folders/kr/2j58542j2_7chf9_h8bmr30mb0_4n0/T/ipykernel_15666/3676463546.py:9: UserWarning: Geometry is in a geographic CRS. Results from 'area' are likely incorrect. Use 'GeoSeries.to_crs()' to re-project geometries to a projected CRS before this operation.\n",
      "\n",
      "  if SFBay_CBG.area[SFBay_CBG.MESOZONE==p_df['locationZone'][i]].values[0]==0:\n"
     ]
    },
    {
     "name": "stdout",
     "output_type": "stream",
     "text": [
      "328\n",
      "329\n",
      "330\n",
      "331\n",
      "332\n"
     ]
    },
    {
     "name": "stderr",
     "output_type": "stream",
     "text": [
      "/var/folders/kr/2j58542j2_7chf9_h8bmr30mb0_4n0/T/ipykernel_15666/3676463546.py:9: UserWarning: Geometry is in a geographic CRS. Results from 'area' are likely incorrect. Use 'GeoSeries.to_crs()' to re-project geometries to a projected CRS before this operation.\n",
      "\n",
      "  if SFBay_CBG.area[SFBay_CBG.MESOZONE==p_df['locationZone'][i]].values[0]==0:\n",
      "/var/folders/kr/2j58542j2_7chf9_h8bmr30mb0_4n0/T/ipykernel_15666/3676463546.py:9: UserWarning: Geometry is in a geographic CRS. Results from 'area' are likely incorrect. Use 'GeoSeries.to_crs()' to re-project geometries to a projected CRS before this operation.\n",
      "\n",
      "  if SFBay_CBG.area[SFBay_CBG.MESOZONE==p_df['locationZone'][i]].values[0]==0:\n",
      "/var/folders/kr/2j58542j2_7chf9_h8bmr30mb0_4n0/T/ipykernel_15666/3676463546.py:9: UserWarning: Geometry is in a geographic CRS. Results from 'area' are likely incorrect. Use 'GeoSeries.to_crs()' to re-project geometries to a projected CRS before this operation.\n",
      "\n",
      "  if SFBay_CBG.area[SFBay_CBG.MESOZONE==p_df['locationZone'][i]].values[0]==0:\n",
      "/var/folders/kr/2j58542j2_7chf9_h8bmr30mb0_4n0/T/ipykernel_15666/3676463546.py:9: UserWarning: Geometry is in a geographic CRS. Results from 'area' are likely incorrect. Use 'GeoSeries.to_crs()' to re-project geometries to a projected CRS before this operation.\n",
      "\n",
      "  if SFBay_CBG.area[SFBay_CBG.MESOZONE==p_df['locationZone'][i]].values[0]==0:\n",
      "/var/folders/kr/2j58542j2_7chf9_h8bmr30mb0_4n0/T/ipykernel_15666/3676463546.py:9: UserWarning: Geometry is in a geographic CRS. Results from 'area' are likely incorrect. Use 'GeoSeries.to_crs()' to re-project geometries to a projected CRS before this operation.\n",
      "\n",
      "  if SFBay_CBG.area[SFBay_CBG.MESOZONE==p_df['locationZone'][i]].values[0]==0:\n"
     ]
    },
    {
     "name": "stdout",
     "output_type": "stream",
     "text": [
      "333\n",
      "334\n",
      "335\n",
      "336\n",
      "337\n"
     ]
    },
    {
     "name": "stderr",
     "output_type": "stream",
     "text": [
      "/var/folders/kr/2j58542j2_7chf9_h8bmr30mb0_4n0/T/ipykernel_15666/3676463546.py:9: UserWarning: Geometry is in a geographic CRS. Results from 'area' are likely incorrect. Use 'GeoSeries.to_crs()' to re-project geometries to a projected CRS before this operation.\n",
      "\n",
      "  if SFBay_CBG.area[SFBay_CBG.MESOZONE==p_df['locationZone'][i]].values[0]==0:\n",
      "/var/folders/kr/2j58542j2_7chf9_h8bmr30mb0_4n0/T/ipykernel_15666/3676463546.py:9: UserWarning: Geometry is in a geographic CRS. Results from 'area' are likely incorrect. Use 'GeoSeries.to_crs()' to re-project geometries to a projected CRS before this operation.\n",
      "\n",
      "  if SFBay_CBG.area[SFBay_CBG.MESOZONE==p_df['locationZone'][i]].values[0]==0:\n",
      "/var/folders/kr/2j58542j2_7chf9_h8bmr30mb0_4n0/T/ipykernel_15666/3676463546.py:9: UserWarning: Geometry is in a geographic CRS. Results from 'area' are likely incorrect. Use 'GeoSeries.to_crs()' to re-project geometries to a projected CRS before this operation.\n",
      "\n",
      "  if SFBay_CBG.area[SFBay_CBG.MESOZONE==p_df['locationZone'][i]].values[0]==0:\n",
      "/var/folders/kr/2j58542j2_7chf9_h8bmr30mb0_4n0/T/ipykernel_15666/3676463546.py:9: UserWarning: Geometry is in a geographic CRS. Results from 'area' are likely incorrect. Use 'GeoSeries.to_crs()' to re-project geometries to a projected CRS before this operation.\n",
      "\n",
      "  if SFBay_CBG.area[SFBay_CBG.MESOZONE==p_df['locationZone'][i]].values[0]==0:\n",
      "/var/folders/kr/2j58542j2_7chf9_h8bmr30mb0_4n0/T/ipykernel_15666/3676463546.py:9: UserWarning: Geometry is in a geographic CRS. Results from 'area' are likely incorrect. Use 'GeoSeries.to_crs()' to re-project geometries to a projected CRS before this operation.\n",
      "\n",
      "  if SFBay_CBG.area[SFBay_CBG.MESOZONE==p_df['locationZone'][i]].values[0]==0:\n"
     ]
    },
    {
     "name": "stdout",
     "output_type": "stream",
     "text": [
      "338\n",
      "339\n",
      "340\n",
      "341\n",
      "342\n"
     ]
    },
    {
     "name": "stderr",
     "output_type": "stream",
     "text": [
      "/var/folders/kr/2j58542j2_7chf9_h8bmr30mb0_4n0/T/ipykernel_15666/3676463546.py:9: UserWarning: Geometry is in a geographic CRS. Results from 'area' are likely incorrect. Use 'GeoSeries.to_crs()' to re-project geometries to a projected CRS before this operation.\n",
      "\n",
      "  if SFBay_CBG.area[SFBay_CBG.MESOZONE==p_df['locationZone'][i]].values[0]==0:\n",
      "/var/folders/kr/2j58542j2_7chf9_h8bmr30mb0_4n0/T/ipykernel_15666/3676463546.py:9: UserWarning: Geometry is in a geographic CRS. Results from 'area' are likely incorrect. Use 'GeoSeries.to_crs()' to re-project geometries to a projected CRS before this operation.\n",
      "\n",
      "  if SFBay_CBG.area[SFBay_CBG.MESOZONE==p_df['locationZone'][i]].values[0]==0:\n",
      "/var/folders/kr/2j58542j2_7chf9_h8bmr30mb0_4n0/T/ipykernel_15666/3676463546.py:9: UserWarning: Geometry is in a geographic CRS. Results from 'area' are likely incorrect. Use 'GeoSeries.to_crs()' to re-project geometries to a projected CRS before this operation.\n",
      "\n",
      "  if SFBay_CBG.area[SFBay_CBG.MESOZONE==p_df['locationZone'][i]].values[0]==0:\n",
      "/var/folders/kr/2j58542j2_7chf9_h8bmr30mb0_4n0/T/ipykernel_15666/3676463546.py:9: UserWarning: Geometry is in a geographic CRS. Results from 'area' are likely incorrect. Use 'GeoSeries.to_crs()' to re-project geometries to a projected CRS before this operation.\n",
      "\n",
      "  if SFBay_CBG.area[SFBay_CBG.MESOZONE==p_df['locationZone'][i]].values[0]==0:\n",
      "/var/folders/kr/2j58542j2_7chf9_h8bmr30mb0_4n0/T/ipykernel_15666/3676463546.py:9: UserWarning: Geometry is in a geographic CRS. Results from 'area' are likely incorrect. Use 'GeoSeries.to_crs()' to re-project geometries to a projected CRS before this operation.\n",
      "\n",
      "  if SFBay_CBG.area[SFBay_CBG.MESOZONE==p_df['locationZone'][i]].values[0]==0:\n"
     ]
    },
    {
     "name": "stdout",
     "output_type": "stream",
     "text": [
      "343\n",
      "344\n",
      "345\n",
      "346\n",
      "347\n"
     ]
    },
    {
     "name": "stderr",
     "output_type": "stream",
     "text": [
      "/var/folders/kr/2j58542j2_7chf9_h8bmr30mb0_4n0/T/ipykernel_15666/3676463546.py:9: UserWarning: Geometry is in a geographic CRS. Results from 'area' are likely incorrect. Use 'GeoSeries.to_crs()' to re-project geometries to a projected CRS before this operation.\n",
      "\n",
      "  if SFBay_CBG.area[SFBay_CBG.MESOZONE==p_df['locationZone'][i]].values[0]==0:\n",
      "/var/folders/kr/2j58542j2_7chf9_h8bmr30mb0_4n0/T/ipykernel_15666/3676463546.py:9: UserWarning: Geometry is in a geographic CRS. Results from 'area' are likely incorrect. Use 'GeoSeries.to_crs()' to re-project geometries to a projected CRS before this operation.\n",
      "\n",
      "  if SFBay_CBG.area[SFBay_CBG.MESOZONE==p_df['locationZone'][i]].values[0]==0:\n",
      "/var/folders/kr/2j58542j2_7chf9_h8bmr30mb0_4n0/T/ipykernel_15666/3676463546.py:9: UserWarning: Geometry is in a geographic CRS. Results from 'area' are likely incorrect. Use 'GeoSeries.to_crs()' to re-project geometries to a projected CRS before this operation.\n",
      "\n",
      "  if SFBay_CBG.area[SFBay_CBG.MESOZONE==p_df['locationZone'][i]].values[0]==0:\n",
      "/var/folders/kr/2j58542j2_7chf9_h8bmr30mb0_4n0/T/ipykernel_15666/3676463546.py:9: UserWarning: Geometry is in a geographic CRS. Results from 'area' are likely incorrect. Use 'GeoSeries.to_crs()' to re-project geometries to a projected CRS before this operation.\n",
      "\n",
      "  if SFBay_CBG.area[SFBay_CBG.MESOZONE==p_df['locationZone'][i]].values[0]==0:\n",
      "/var/folders/kr/2j58542j2_7chf9_h8bmr30mb0_4n0/T/ipykernel_15666/3676463546.py:9: UserWarning: Geometry is in a geographic CRS. Results from 'area' are likely incorrect. Use 'GeoSeries.to_crs()' to re-project geometries to a projected CRS before this operation.\n",
      "\n",
      "  if SFBay_CBG.area[SFBay_CBG.MESOZONE==p_df['locationZone'][i]].values[0]==0:\n"
     ]
    },
    {
     "name": "stdout",
     "output_type": "stream",
     "text": [
      "348\n",
      "349\n",
      "350\n",
      "351\n",
      "352\n"
     ]
    },
    {
     "name": "stderr",
     "output_type": "stream",
     "text": [
      "/var/folders/kr/2j58542j2_7chf9_h8bmr30mb0_4n0/T/ipykernel_15666/3676463546.py:9: UserWarning: Geometry is in a geographic CRS. Results from 'area' are likely incorrect. Use 'GeoSeries.to_crs()' to re-project geometries to a projected CRS before this operation.\n",
      "\n",
      "  if SFBay_CBG.area[SFBay_CBG.MESOZONE==p_df['locationZone'][i]].values[0]==0:\n",
      "/var/folders/kr/2j58542j2_7chf9_h8bmr30mb0_4n0/T/ipykernel_15666/3676463546.py:9: UserWarning: Geometry is in a geographic CRS. Results from 'area' are likely incorrect. Use 'GeoSeries.to_crs()' to re-project geometries to a projected CRS before this operation.\n",
      "\n",
      "  if SFBay_CBG.area[SFBay_CBG.MESOZONE==p_df['locationZone'][i]].values[0]==0:\n",
      "/var/folders/kr/2j58542j2_7chf9_h8bmr30mb0_4n0/T/ipykernel_15666/3676463546.py:9: UserWarning: Geometry is in a geographic CRS. Results from 'area' are likely incorrect. Use 'GeoSeries.to_crs()' to re-project geometries to a projected CRS before this operation.\n",
      "\n",
      "  if SFBay_CBG.area[SFBay_CBG.MESOZONE==p_df['locationZone'][i]].values[0]==0:\n",
      "/var/folders/kr/2j58542j2_7chf9_h8bmr30mb0_4n0/T/ipykernel_15666/3676463546.py:9: UserWarning: Geometry is in a geographic CRS. Results from 'area' are likely incorrect. Use 'GeoSeries.to_crs()' to re-project geometries to a projected CRS before this operation.\n",
      "\n",
      "  if SFBay_CBG.area[SFBay_CBG.MESOZONE==p_df['locationZone'][i]].values[0]==0:\n",
      "/var/folders/kr/2j58542j2_7chf9_h8bmr30mb0_4n0/T/ipykernel_15666/3676463546.py:9: UserWarning: Geometry is in a geographic CRS. Results from 'area' are likely incorrect. Use 'GeoSeries.to_crs()' to re-project geometries to a projected CRS before this operation.\n",
      "\n",
      "  if SFBay_CBG.area[SFBay_CBG.MESOZONE==p_df['locationZone'][i]].values[0]==0:\n"
     ]
    },
    {
     "name": "stdout",
     "output_type": "stream",
     "text": [
      "353\n",
      "354\n",
      "355\n",
      "356\n",
      "357\n"
     ]
    },
    {
     "name": "stderr",
     "output_type": "stream",
     "text": [
      "/var/folders/kr/2j58542j2_7chf9_h8bmr30mb0_4n0/T/ipykernel_15666/3676463546.py:9: UserWarning: Geometry is in a geographic CRS. Results from 'area' are likely incorrect. Use 'GeoSeries.to_crs()' to re-project geometries to a projected CRS before this operation.\n",
      "\n",
      "  if SFBay_CBG.area[SFBay_CBG.MESOZONE==p_df['locationZone'][i]].values[0]==0:\n",
      "/var/folders/kr/2j58542j2_7chf9_h8bmr30mb0_4n0/T/ipykernel_15666/3676463546.py:9: UserWarning: Geometry is in a geographic CRS. Results from 'area' are likely incorrect. Use 'GeoSeries.to_crs()' to re-project geometries to a projected CRS before this operation.\n",
      "\n",
      "  if SFBay_CBG.area[SFBay_CBG.MESOZONE==p_df['locationZone'][i]].values[0]==0:\n",
      "/var/folders/kr/2j58542j2_7chf9_h8bmr30mb0_4n0/T/ipykernel_15666/3676463546.py:9: UserWarning: Geometry is in a geographic CRS. Results from 'area' are likely incorrect. Use 'GeoSeries.to_crs()' to re-project geometries to a projected CRS before this operation.\n",
      "\n",
      "  if SFBay_CBG.area[SFBay_CBG.MESOZONE==p_df['locationZone'][i]].values[0]==0:\n",
      "/var/folders/kr/2j58542j2_7chf9_h8bmr30mb0_4n0/T/ipykernel_15666/3676463546.py:9: UserWarning: Geometry is in a geographic CRS. Results from 'area' are likely incorrect. Use 'GeoSeries.to_crs()' to re-project geometries to a projected CRS before this operation.\n",
      "\n",
      "  if SFBay_CBG.area[SFBay_CBG.MESOZONE==p_df['locationZone'][i]].values[0]==0:\n",
      "/var/folders/kr/2j58542j2_7chf9_h8bmr30mb0_4n0/T/ipykernel_15666/3676463546.py:9: UserWarning: Geometry is in a geographic CRS. Results from 'area' are likely incorrect. Use 'GeoSeries.to_crs()' to re-project geometries to a projected CRS before this operation.\n",
      "\n",
      "  if SFBay_CBG.area[SFBay_CBG.MESOZONE==p_df['locationZone'][i]].values[0]==0:\n"
     ]
    },
    {
     "name": "stdout",
     "output_type": "stream",
     "text": [
      "358\n",
      "359\n",
      "360\n",
      "361\n",
      "362\n"
     ]
    },
    {
     "name": "stderr",
     "output_type": "stream",
     "text": [
      "/var/folders/kr/2j58542j2_7chf9_h8bmr30mb0_4n0/T/ipykernel_15666/3676463546.py:9: UserWarning: Geometry is in a geographic CRS. Results from 'area' are likely incorrect. Use 'GeoSeries.to_crs()' to re-project geometries to a projected CRS before this operation.\n",
      "\n",
      "  if SFBay_CBG.area[SFBay_CBG.MESOZONE==p_df['locationZone'][i]].values[0]==0:\n",
      "/var/folders/kr/2j58542j2_7chf9_h8bmr30mb0_4n0/T/ipykernel_15666/3676463546.py:9: UserWarning: Geometry is in a geographic CRS. Results from 'area' are likely incorrect. Use 'GeoSeries.to_crs()' to re-project geometries to a projected CRS before this operation.\n",
      "\n",
      "  if SFBay_CBG.area[SFBay_CBG.MESOZONE==p_df['locationZone'][i]].values[0]==0:\n",
      "/var/folders/kr/2j58542j2_7chf9_h8bmr30mb0_4n0/T/ipykernel_15666/3676463546.py:9: UserWarning: Geometry is in a geographic CRS. Results from 'area' are likely incorrect. Use 'GeoSeries.to_crs()' to re-project geometries to a projected CRS before this operation.\n",
      "\n",
      "  if SFBay_CBG.area[SFBay_CBG.MESOZONE==p_df['locationZone'][i]].values[0]==0:\n",
      "/var/folders/kr/2j58542j2_7chf9_h8bmr30mb0_4n0/T/ipykernel_15666/3676463546.py:9: UserWarning: Geometry is in a geographic CRS. Results from 'area' are likely incorrect. Use 'GeoSeries.to_crs()' to re-project geometries to a projected CRS before this operation.\n",
      "\n",
      "  if SFBay_CBG.area[SFBay_CBG.MESOZONE==p_df['locationZone'][i]].values[0]==0:\n",
      "/var/folders/kr/2j58542j2_7chf9_h8bmr30mb0_4n0/T/ipykernel_15666/3676463546.py:9: UserWarning: Geometry is in a geographic CRS. Results from 'area' are likely incorrect. Use 'GeoSeries.to_crs()' to re-project geometries to a projected CRS before this operation.\n",
      "\n",
      "  if SFBay_CBG.area[SFBay_CBG.MESOZONE==p_df['locationZone'][i]].values[0]==0:\n"
     ]
    },
    {
     "name": "stdout",
     "output_type": "stream",
     "text": [
      "363\n",
      "364\n",
      "365\n",
      "366\n"
     ]
    },
    {
     "name": "stderr",
     "output_type": "stream",
     "text": [
      "/var/folders/kr/2j58542j2_7chf9_h8bmr30mb0_4n0/T/ipykernel_15666/3676463546.py:9: UserWarning: Geometry is in a geographic CRS. Results from 'area' are likely incorrect. Use 'GeoSeries.to_crs()' to re-project geometries to a projected CRS before this operation.\n",
      "\n",
      "  if SFBay_CBG.area[SFBay_CBG.MESOZONE==p_df['locationZone'][i]].values[0]==0:\n",
      "/var/folders/kr/2j58542j2_7chf9_h8bmr30mb0_4n0/T/ipykernel_15666/3676463546.py:9: UserWarning: Geometry is in a geographic CRS. Results from 'area' are likely incorrect. Use 'GeoSeries.to_crs()' to re-project geometries to a projected CRS before this operation.\n",
      "\n",
      "  if SFBay_CBG.area[SFBay_CBG.MESOZONE==p_df['locationZone'][i]].values[0]==0:\n",
      "/var/folders/kr/2j58542j2_7chf9_h8bmr30mb0_4n0/T/ipykernel_15666/3676463546.py:9: UserWarning: Geometry is in a geographic CRS. Results from 'area' are likely incorrect. Use 'GeoSeries.to_crs()' to re-project geometries to a projected CRS before this operation.\n",
      "\n",
      "  if SFBay_CBG.area[SFBay_CBG.MESOZONE==p_df['locationZone'][i]].values[0]==0:\n",
      "/var/folders/kr/2j58542j2_7chf9_h8bmr30mb0_4n0/T/ipykernel_15666/3676463546.py:9: UserWarning: Geometry is in a geographic CRS. Results from 'area' are likely incorrect. Use 'GeoSeries.to_crs()' to re-project geometries to a projected CRS before this operation.\n",
      "\n",
      "  if SFBay_CBG.area[SFBay_CBG.MESOZONE==p_df['locationZone'][i]].values[0]==0:\n"
     ]
    },
    {
     "name": "stdout",
     "output_type": "stream",
     "text": [
      "367\n",
      "368\n",
      "369\n",
      "370\n",
      "371\n"
     ]
    },
    {
     "name": "stderr",
     "output_type": "stream",
     "text": [
      "/var/folders/kr/2j58542j2_7chf9_h8bmr30mb0_4n0/T/ipykernel_15666/3676463546.py:9: UserWarning: Geometry is in a geographic CRS. Results from 'area' are likely incorrect. Use 'GeoSeries.to_crs()' to re-project geometries to a projected CRS before this operation.\n",
      "\n",
      "  if SFBay_CBG.area[SFBay_CBG.MESOZONE==p_df['locationZone'][i]].values[0]==0:\n",
      "/var/folders/kr/2j58542j2_7chf9_h8bmr30mb0_4n0/T/ipykernel_15666/3676463546.py:9: UserWarning: Geometry is in a geographic CRS. Results from 'area' are likely incorrect. Use 'GeoSeries.to_crs()' to re-project geometries to a projected CRS before this operation.\n",
      "\n",
      "  if SFBay_CBG.area[SFBay_CBG.MESOZONE==p_df['locationZone'][i]].values[0]==0:\n",
      "/var/folders/kr/2j58542j2_7chf9_h8bmr30mb0_4n0/T/ipykernel_15666/3676463546.py:9: UserWarning: Geometry is in a geographic CRS. Results from 'area' are likely incorrect. Use 'GeoSeries.to_crs()' to re-project geometries to a projected CRS before this operation.\n",
      "\n",
      "  if SFBay_CBG.area[SFBay_CBG.MESOZONE==p_df['locationZone'][i]].values[0]==0:\n",
      "/var/folders/kr/2j58542j2_7chf9_h8bmr30mb0_4n0/T/ipykernel_15666/3676463546.py:9: UserWarning: Geometry is in a geographic CRS. Results from 'area' are likely incorrect. Use 'GeoSeries.to_crs()' to re-project geometries to a projected CRS before this operation.\n",
      "\n",
      "  if SFBay_CBG.area[SFBay_CBG.MESOZONE==p_df['locationZone'][i]].values[0]==0:\n",
      "/var/folders/kr/2j58542j2_7chf9_h8bmr30mb0_4n0/T/ipykernel_15666/3676463546.py:9: UserWarning: Geometry is in a geographic CRS. Results from 'area' are likely incorrect. Use 'GeoSeries.to_crs()' to re-project geometries to a projected CRS before this operation.\n",
      "\n",
      "  if SFBay_CBG.area[SFBay_CBG.MESOZONE==p_df['locationZone'][i]].values[0]==0:\n"
     ]
    },
    {
     "name": "stdout",
     "output_type": "stream",
     "text": [
      "372\n",
      "373\n",
      "374\n",
      "375\n",
      "376\n"
     ]
    },
    {
     "name": "stderr",
     "output_type": "stream",
     "text": [
      "/var/folders/kr/2j58542j2_7chf9_h8bmr30mb0_4n0/T/ipykernel_15666/3676463546.py:9: UserWarning: Geometry is in a geographic CRS. Results from 'area' are likely incorrect. Use 'GeoSeries.to_crs()' to re-project geometries to a projected CRS before this operation.\n",
      "\n",
      "  if SFBay_CBG.area[SFBay_CBG.MESOZONE==p_df['locationZone'][i]].values[0]==0:\n",
      "/var/folders/kr/2j58542j2_7chf9_h8bmr30mb0_4n0/T/ipykernel_15666/3676463546.py:9: UserWarning: Geometry is in a geographic CRS. Results from 'area' are likely incorrect. Use 'GeoSeries.to_crs()' to re-project geometries to a projected CRS before this operation.\n",
      "\n",
      "  if SFBay_CBG.area[SFBay_CBG.MESOZONE==p_df['locationZone'][i]].values[0]==0:\n",
      "/var/folders/kr/2j58542j2_7chf9_h8bmr30mb0_4n0/T/ipykernel_15666/3676463546.py:9: UserWarning: Geometry is in a geographic CRS. Results from 'area' are likely incorrect. Use 'GeoSeries.to_crs()' to re-project geometries to a projected CRS before this operation.\n",
      "\n",
      "  if SFBay_CBG.area[SFBay_CBG.MESOZONE==p_df['locationZone'][i]].values[0]==0:\n",
      "/var/folders/kr/2j58542j2_7chf9_h8bmr30mb0_4n0/T/ipykernel_15666/3676463546.py:9: UserWarning: Geometry is in a geographic CRS. Results from 'area' are likely incorrect. Use 'GeoSeries.to_crs()' to re-project geometries to a projected CRS before this operation.\n",
      "\n",
      "  if SFBay_CBG.area[SFBay_CBG.MESOZONE==p_df['locationZone'][i]].values[0]==0:\n",
      "/var/folders/kr/2j58542j2_7chf9_h8bmr30mb0_4n0/T/ipykernel_15666/3676463546.py:9: UserWarning: Geometry is in a geographic CRS. Results from 'area' are likely incorrect. Use 'GeoSeries.to_crs()' to re-project geometries to a projected CRS before this operation.\n",
      "\n",
      "  if SFBay_CBG.area[SFBay_CBG.MESOZONE==p_df['locationZone'][i]].values[0]==0:\n"
     ]
    },
    {
     "name": "stdout",
     "output_type": "stream",
     "text": [
      "377\n",
      "378\n",
      "379\n",
      "380\n",
      "381\n"
     ]
    },
    {
     "name": "stderr",
     "output_type": "stream",
     "text": [
      "/var/folders/kr/2j58542j2_7chf9_h8bmr30mb0_4n0/T/ipykernel_15666/3676463546.py:9: UserWarning: Geometry is in a geographic CRS. Results from 'area' are likely incorrect. Use 'GeoSeries.to_crs()' to re-project geometries to a projected CRS before this operation.\n",
      "\n",
      "  if SFBay_CBG.area[SFBay_CBG.MESOZONE==p_df['locationZone'][i]].values[0]==0:\n",
      "/var/folders/kr/2j58542j2_7chf9_h8bmr30mb0_4n0/T/ipykernel_15666/3676463546.py:9: UserWarning: Geometry is in a geographic CRS. Results from 'area' are likely incorrect. Use 'GeoSeries.to_crs()' to re-project geometries to a projected CRS before this operation.\n",
      "\n",
      "  if SFBay_CBG.area[SFBay_CBG.MESOZONE==p_df['locationZone'][i]].values[0]==0:\n",
      "/var/folders/kr/2j58542j2_7chf9_h8bmr30mb0_4n0/T/ipykernel_15666/3676463546.py:9: UserWarning: Geometry is in a geographic CRS. Results from 'area' are likely incorrect. Use 'GeoSeries.to_crs()' to re-project geometries to a projected CRS before this operation.\n",
      "\n",
      "  if SFBay_CBG.area[SFBay_CBG.MESOZONE==p_df['locationZone'][i]].values[0]==0:\n",
      "/var/folders/kr/2j58542j2_7chf9_h8bmr30mb0_4n0/T/ipykernel_15666/3676463546.py:9: UserWarning: Geometry is in a geographic CRS. Results from 'area' are likely incorrect. Use 'GeoSeries.to_crs()' to re-project geometries to a projected CRS before this operation.\n",
      "\n",
      "  if SFBay_CBG.area[SFBay_CBG.MESOZONE==p_df['locationZone'][i]].values[0]==0:\n",
      "/var/folders/kr/2j58542j2_7chf9_h8bmr30mb0_4n0/T/ipykernel_15666/3676463546.py:9: UserWarning: Geometry is in a geographic CRS. Results from 'area' are likely incorrect. Use 'GeoSeries.to_crs()' to re-project geometries to a projected CRS before this operation.\n",
      "\n",
      "  if SFBay_CBG.area[SFBay_CBG.MESOZONE==p_df['locationZone'][i]].values[0]==0:\n"
     ]
    },
    {
     "name": "stdout",
     "output_type": "stream",
     "text": [
      "382\n",
      "383\n",
      "384\n",
      "385\n",
      "386\n"
     ]
    },
    {
     "name": "stderr",
     "output_type": "stream",
     "text": [
      "/var/folders/kr/2j58542j2_7chf9_h8bmr30mb0_4n0/T/ipykernel_15666/3676463546.py:9: UserWarning: Geometry is in a geographic CRS. Results from 'area' are likely incorrect. Use 'GeoSeries.to_crs()' to re-project geometries to a projected CRS before this operation.\n",
      "\n",
      "  if SFBay_CBG.area[SFBay_CBG.MESOZONE==p_df['locationZone'][i]].values[0]==0:\n",
      "/var/folders/kr/2j58542j2_7chf9_h8bmr30mb0_4n0/T/ipykernel_15666/3676463546.py:9: UserWarning: Geometry is in a geographic CRS. Results from 'area' are likely incorrect. Use 'GeoSeries.to_crs()' to re-project geometries to a projected CRS before this operation.\n",
      "\n",
      "  if SFBay_CBG.area[SFBay_CBG.MESOZONE==p_df['locationZone'][i]].values[0]==0:\n",
      "/var/folders/kr/2j58542j2_7chf9_h8bmr30mb0_4n0/T/ipykernel_15666/3676463546.py:9: UserWarning: Geometry is in a geographic CRS. Results from 'area' are likely incorrect. Use 'GeoSeries.to_crs()' to re-project geometries to a projected CRS before this operation.\n",
      "\n",
      "  if SFBay_CBG.area[SFBay_CBG.MESOZONE==p_df['locationZone'][i]].values[0]==0:\n",
      "/var/folders/kr/2j58542j2_7chf9_h8bmr30mb0_4n0/T/ipykernel_15666/3676463546.py:9: UserWarning: Geometry is in a geographic CRS. Results from 'area' are likely incorrect. Use 'GeoSeries.to_crs()' to re-project geometries to a projected CRS before this operation.\n",
      "\n",
      "  if SFBay_CBG.area[SFBay_CBG.MESOZONE==p_df['locationZone'][i]].values[0]==0:\n",
      "/var/folders/kr/2j58542j2_7chf9_h8bmr30mb0_4n0/T/ipykernel_15666/3676463546.py:9: UserWarning: Geometry is in a geographic CRS. Results from 'area' are likely incorrect. Use 'GeoSeries.to_crs()' to re-project geometries to a projected CRS before this operation.\n",
      "\n",
      "  if SFBay_CBG.area[SFBay_CBG.MESOZONE==p_df['locationZone'][i]].values[0]==0:\n"
     ]
    },
    {
     "name": "stdout",
     "output_type": "stream",
     "text": [
      "387\n",
      "388\n",
      "389\n",
      "390\n",
      "391\n"
     ]
    },
    {
     "name": "stderr",
     "output_type": "stream",
     "text": [
      "/var/folders/kr/2j58542j2_7chf9_h8bmr30mb0_4n0/T/ipykernel_15666/3676463546.py:9: UserWarning: Geometry is in a geographic CRS. Results from 'area' are likely incorrect. Use 'GeoSeries.to_crs()' to re-project geometries to a projected CRS before this operation.\n",
      "\n",
      "  if SFBay_CBG.area[SFBay_CBG.MESOZONE==p_df['locationZone'][i]].values[0]==0:\n",
      "/var/folders/kr/2j58542j2_7chf9_h8bmr30mb0_4n0/T/ipykernel_15666/3676463546.py:9: UserWarning: Geometry is in a geographic CRS. Results from 'area' are likely incorrect. Use 'GeoSeries.to_crs()' to re-project geometries to a projected CRS before this operation.\n",
      "\n",
      "  if SFBay_CBG.area[SFBay_CBG.MESOZONE==p_df['locationZone'][i]].values[0]==0:\n",
      "/var/folders/kr/2j58542j2_7chf9_h8bmr30mb0_4n0/T/ipykernel_15666/3676463546.py:9: UserWarning: Geometry is in a geographic CRS. Results from 'area' are likely incorrect. Use 'GeoSeries.to_crs()' to re-project geometries to a projected CRS before this operation.\n",
      "\n",
      "  if SFBay_CBG.area[SFBay_CBG.MESOZONE==p_df['locationZone'][i]].values[0]==0:\n",
      "/var/folders/kr/2j58542j2_7chf9_h8bmr30mb0_4n0/T/ipykernel_15666/3676463546.py:9: UserWarning: Geometry is in a geographic CRS. Results from 'area' are likely incorrect. Use 'GeoSeries.to_crs()' to re-project geometries to a projected CRS before this operation.\n",
      "\n",
      "  if SFBay_CBG.area[SFBay_CBG.MESOZONE==p_df['locationZone'][i]].values[0]==0:\n",
      "/var/folders/kr/2j58542j2_7chf9_h8bmr30mb0_4n0/T/ipykernel_15666/3676463546.py:9: UserWarning: Geometry is in a geographic CRS. Results from 'area' are likely incorrect. Use 'GeoSeries.to_crs()' to re-project geometries to a projected CRS before this operation.\n",
      "\n",
      "  if SFBay_CBG.area[SFBay_CBG.MESOZONE==p_df['locationZone'][i]].values[0]==0:\n"
     ]
    },
    {
     "name": "stdout",
     "output_type": "stream",
     "text": [
      "392\n",
      "393\n",
      "394\n",
      "395\n",
      "396\n"
     ]
    },
    {
     "name": "stderr",
     "output_type": "stream",
     "text": [
      "/var/folders/kr/2j58542j2_7chf9_h8bmr30mb0_4n0/T/ipykernel_15666/3676463546.py:9: UserWarning: Geometry is in a geographic CRS. Results from 'area' are likely incorrect. Use 'GeoSeries.to_crs()' to re-project geometries to a projected CRS before this operation.\n",
      "\n",
      "  if SFBay_CBG.area[SFBay_CBG.MESOZONE==p_df['locationZone'][i]].values[0]==0:\n",
      "/var/folders/kr/2j58542j2_7chf9_h8bmr30mb0_4n0/T/ipykernel_15666/3676463546.py:9: UserWarning: Geometry is in a geographic CRS. Results from 'area' are likely incorrect. Use 'GeoSeries.to_crs()' to re-project geometries to a projected CRS before this operation.\n",
      "\n",
      "  if SFBay_CBG.area[SFBay_CBG.MESOZONE==p_df['locationZone'][i]].values[0]==0:\n",
      "/var/folders/kr/2j58542j2_7chf9_h8bmr30mb0_4n0/T/ipykernel_15666/3676463546.py:9: UserWarning: Geometry is in a geographic CRS. Results from 'area' are likely incorrect. Use 'GeoSeries.to_crs()' to re-project geometries to a projected CRS before this operation.\n",
      "\n",
      "  if SFBay_CBG.area[SFBay_CBG.MESOZONE==p_df['locationZone'][i]].values[0]==0:\n",
      "/var/folders/kr/2j58542j2_7chf9_h8bmr30mb0_4n0/T/ipykernel_15666/3676463546.py:9: UserWarning: Geometry is in a geographic CRS. Results from 'area' are likely incorrect. Use 'GeoSeries.to_crs()' to re-project geometries to a projected CRS before this operation.\n",
      "\n",
      "  if SFBay_CBG.area[SFBay_CBG.MESOZONE==p_df['locationZone'][i]].values[0]==0:\n",
      "/var/folders/kr/2j58542j2_7chf9_h8bmr30mb0_4n0/T/ipykernel_15666/3676463546.py:9: UserWarning: Geometry is in a geographic CRS. Results from 'area' are likely incorrect. Use 'GeoSeries.to_crs()' to re-project geometries to a projected CRS before this operation.\n",
      "\n",
      "  if SFBay_CBG.area[SFBay_CBG.MESOZONE==p_df['locationZone'][i]].values[0]==0:\n"
     ]
    },
    {
     "name": "stdout",
     "output_type": "stream",
     "text": [
      "397\n",
      "398\n",
      "399\n",
      "400\n",
      "401\n"
     ]
    },
    {
     "name": "stderr",
     "output_type": "stream",
     "text": [
      "/var/folders/kr/2j58542j2_7chf9_h8bmr30mb0_4n0/T/ipykernel_15666/3676463546.py:9: UserWarning: Geometry is in a geographic CRS. Results from 'area' are likely incorrect. Use 'GeoSeries.to_crs()' to re-project geometries to a projected CRS before this operation.\n",
      "\n",
      "  if SFBay_CBG.area[SFBay_CBG.MESOZONE==p_df['locationZone'][i]].values[0]==0:\n",
      "/var/folders/kr/2j58542j2_7chf9_h8bmr30mb0_4n0/T/ipykernel_15666/3676463546.py:9: UserWarning: Geometry is in a geographic CRS. Results from 'area' are likely incorrect. Use 'GeoSeries.to_crs()' to re-project geometries to a projected CRS before this operation.\n",
      "\n",
      "  if SFBay_CBG.area[SFBay_CBG.MESOZONE==p_df['locationZone'][i]].values[0]==0:\n",
      "/var/folders/kr/2j58542j2_7chf9_h8bmr30mb0_4n0/T/ipykernel_15666/3676463546.py:9: UserWarning: Geometry is in a geographic CRS. Results from 'area' are likely incorrect. Use 'GeoSeries.to_crs()' to re-project geometries to a projected CRS before this operation.\n",
      "\n",
      "  if SFBay_CBG.area[SFBay_CBG.MESOZONE==p_df['locationZone'][i]].values[0]==0:\n",
      "/var/folders/kr/2j58542j2_7chf9_h8bmr30mb0_4n0/T/ipykernel_15666/3676463546.py:9: UserWarning: Geometry is in a geographic CRS. Results from 'area' are likely incorrect. Use 'GeoSeries.to_crs()' to re-project geometries to a projected CRS before this operation.\n",
      "\n",
      "  if SFBay_CBG.area[SFBay_CBG.MESOZONE==p_df['locationZone'][i]].values[0]==0:\n",
      "/var/folders/kr/2j58542j2_7chf9_h8bmr30mb0_4n0/T/ipykernel_15666/3676463546.py:9: UserWarning: Geometry is in a geographic CRS. Results from 'area' are likely incorrect. Use 'GeoSeries.to_crs()' to re-project geometries to a projected CRS before this operation.\n",
      "\n",
      "  if SFBay_CBG.area[SFBay_CBG.MESOZONE==p_df['locationZone'][i]].values[0]==0:\n"
     ]
    },
    {
     "name": "stdout",
     "output_type": "stream",
     "text": [
      "402\n",
      "403\n",
      "404\n",
      "405\n",
      "406\n"
     ]
    },
    {
     "name": "stderr",
     "output_type": "stream",
     "text": [
      "/var/folders/kr/2j58542j2_7chf9_h8bmr30mb0_4n0/T/ipykernel_15666/3676463546.py:9: UserWarning: Geometry is in a geographic CRS. Results from 'area' are likely incorrect. Use 'GeoSeries.to_crs()' to re-project geometries to a projected CRS before this operation.\n",
      "\n",
      "  if SFBay_CBG.area[SFBay_CBG.MESOZONE==p_df['locationZone'][i]].values[0]==0:\n",
      "/var/folders/kr/2j58542j2_7chf9_h8bmr30mb0_4n0/T/ipykernel_15666/3676463546.py:9: UserWarning: Geometry is in a geographic CRS. Results from 'area' are likely incorrect. Use 'GeoSeries.to_crs()' to re-project geometries to a projected CRS before this operation.\n",
      "\n",
      "  if SFBay_CBG.area[SFBay_CBG.MESOZONE==p_df['locationZone'][i]].values[0]==0:\n",
      "/var/folders/kr/2j58542j2_7chf9_h8bmr30mb0_4n0/T/ipykernel_15666/3676463546.py:9: UserWarning: Geometry is in a geographic CRS. Results from 'area' are likely incorrect. Use 'GeoSeries.to_crs()' to re-project geometries to a projected CRS before this operation.\n",
      "\n",
      "  if SFBay_CBG.area[SFBay_CBG.MESOZONE==p_df['locationZone'][i]].values[0]==0:\n",
      "/var/folders/kr/2j58542j2_7chf9_h8bmr30mb0_4n0/T/ipykernel_15666/3676463546.py:9: UserWarning: Geometry is in a geographic CRS. Results from 'area' are likely incorrect. Use 'GeoSeries.to_crs()' to re-project geometries to a projected CRS before this operation.\n",
      "\n",
      "  if SFBay_CBG.area[SFBay_CBG.MESOZONE==p_df['locationZone'][i]].values[0]==0:\n",
      "/var/folders/kr/2j58542j2_7chf9_h8bmr30mb0_4n0/T/ipykernel_15666/3676463546.py:9: UserWarning: Geometry is in a geographic CRS. Results from 'area' are likely incorrect. Use 'GeoSeries.to_crs()' to re-project geometries to a projected CRS before this operation.\n",
      "\n",
      "  if SFBay_CBG.area[SFBay_CBG.MESOZONE==p_df['locationZone'][i]].values[0]==0:\n"
     ]
    },
    {
     "name": "stdout",
     "output_type": "stream",
     "text": [
      "407\n",
      "408\n",
      "409\n",
      "410\n",
      "411\n"
     ]
    },
    {
     "name": "stderr",
     "output_type": "stream",
     "text": [
      "/var/folders/kr/2j58542j2_7chf9_h8bmr30mb0_4n0/T/ipykernel_15666/3676463546.py:9: UserWarning: Geometry is in a geographic CRS. Results from 'area' are likely incorrect. Use 'GeoSeries.to_crs()' to re-project geometries to a projected CRS before this operation.\n",
      "\n",
      "  if SFBay_CBG.area[SFBay_CBG.MESOZONE==p_df['locationZone'][i]].values[0]==0:\n",
      "/var/folders/kr/2j58542j2_7chf9_h8bmr30mb0_4n0/T/ipykernel_15666/3676463546.py:9: UserWarning: Geometry is in a geographic CRS. Results from 'area' are likely incorrect. Use 'GeoSeries.to_crs()' to re-project geometries to a projected CRS before this operation.\n",
      "\n",
      "  if SFBay_CBG.area[SFBay_CBG.MESOZONE==p_df['locationZone'][i]].values[0]==0:\n",
      "/var/folders/kr/2j58542j2_7chf9_h8bmr30mb0_4n0/T/ipykernel_15666/3676463546.py:9: UserWarning: Geometry is in a geographic CRS. Results from 'area' are likely incorrect. Use 'GeoSeries.to_crs()' to re-project geometries to a projected CRS before this operation.\n",
      "\n",
      "  if SFBay_CBG.area[SFBay_CBG.MESOZONE==p_df['locationZone'][i]].values[0]==0:\n",
      "/var/folders/kr/2j58542j2_7chf9_h8bmr30mb0_4n0/T/ipykernel_15666/3676463546.py:9: UserWarning: Geometry is in a geographic CRS. Results from 'area' are likely incorrect. Use 'GeoSeries.to_crs()' to re-project geometries to a projected CRS before this operation.\n",
      "\n",
      "  if SFBay_CBG.area[SFBay_CBG.MESOZONE==p_df['locationZone'][i]].values[0]==0:\n",
      "/var/folders/kr/2j58542j2_7chf9_h8bmr30mb0_4n0/T/ipykernel_15666/3676463546.py:9: UserWarning: Geometry is in a geographic CRS. Results from 'area' are likely incorrect. Use 'GeoSeries.to_crs()' to re-project geometries to a projected CRS before this operation.\n",
      "\n",
      "  if SFBay_CBG.area[SFBay_CBG.MESOZONE==p_df['locationZone'][i]].values[0]==0:\n"
     ]
    },
    {
     "name": "stdout",
     "output_type": "stream",
     "text": [
      "412\n",
      "413\n",
      "414\n",
      "415\n",
      "416\n"
     ]
    },
    {
     "name": "stderr",
     "output_type": "stream",
     "text": [
      "/var/folders/kr/2j58542j2_7chf9_h8bmr30mb0_4n0/T/ipykernel_15666/3676463546.py:9: UserWarning: Geometry is in a geographic CRS. Results from 'area' are likely incorrect. Use 'GeoSeries.to_crs()' to re-project geometries to a projected CRS before this operation.\n",
      "\n",
      "  if SFBay_CBG.area[SFBay_CBG.MESOZONE==p_df['locationZone'][i]].values[0]==0:\n",
      "/var/folders/kr/2j58542j2_7chf9_h8bmr30mb0_4n0/T/ipykernel_15666/3676463546.py:9: UserWarning: Geometry is in a geographic CRS. Results from 'area' are likely incorrect. Use 'GeoSeries.to_crs()' to re-project geometries to a projected CRS before this operation.\n",
      "\n",
      "  if SFBay_CBG.area[SFBay_CBG.MESOZONE==p_df['locationZone'][i]].values[0]==0:\n",
      "/var/folders/kr/2j58542j2_7chf9_h8bmr30mb0_4n0/T/ipykernel_15666/3676463546.py:9: UserWarning: Geometry is in a geographic CRS. Results from 'area' are likely incorrect. Use 'GeoSeries.to_crs()' to re-project geometries to a projected CRS before this operation.\n",
      "\n",
      "  if SFBay_CBG.area[SFBay_CBG.MESOZONE==p_df['locationZone'][i]].values[0]==0:\n",
      "/var/folders/kr/2j58542j2_7chf9_h8bmr30mb0_4n0/T/ipykernel_15666/3676463546.py:9: UserWarning: Geometry is in a geographic CRS. Results from 'area' are likely incorrect. Use 'GeoSeries.to_crs()' to re-project geometries to a projected CRS before this operation.\n",
      "\n",
      "  if SFBay_CBG.area[SFBay_CBG.MESOZONE==p_df['locationZone'][i]].values[0]==0:\n",
      "/var/folders/kr/2j58542j2_7chf9_h8bmr30mb0_4n0/T/ipykernel_15666/3676463546.py:9: UserWarning: Geometry is in a geographic CRS. Results from 'area' are likely incorrect. Use 'GeoSeries.to_crs()' to re-project geometries to a projected CRS before this operation.\n",
      "\n",
      "  if SFBay_CBG.area[SFBay_CBG.MESOZONE==p_df['locationZone'][i]].values[0]==0:\n"
     ]
    },
    {
     "name": "stdout",
     "output_type": "stream",
     "text": [
      "417\n",
      "418\n",
      "419\n",
      "420\n",
      "421\n"
     ]
    },
    {
     "name": "stderr",
     "output_type": "stream",
     "text": [
      "/var/folders/kr/2j58542j2_7chf9_h8bmr30mb0_4n0/T/ipykernel_15666/3676463546.py:9: UserWarning: Geometry is in a geographic CRS. Results from 'area' are likely incorrect. Use 'GeoSeries.to_crs()' to re-project geometries to a projected CRS before this operation.\n",
      "\n",
      "  if SFBay_CBG.area[SFBay_CBG.MESOZONE==p_df['locationZone'][i]].values[0]==0:\n",
      "/var/folders/kr/2j58542j2_7chf9_h8bmr30mb0_4n0/T/ipykernel_15666/3676463546.py:9: UserWarning: Geometry is in a geographic CRS. Results from 'area' are likely incorrect. Use 'GeoSeries.to_crs()' to re-project geometries to a projected CRS before this operation.\n",
      "\n",
      "  if SFBay_CBG.area[SFBay_CBG.MESOZONE==p_df['locationZone'][i]].values[0]==0:\n",
      "/var/folders/kr/2j58542j2_7chf9_h8bmr30mb0_4n0/T/ipykernel_15666/3676463546.py:9: UserWarning: Geometry is in a geographic CRS. Results from 'area' are likely incorrect. Use 'GeoSeries.to_crs()' to re-project geometries to a projected CRS before this operation.\n",
      "\n",
      "  if SFBay_CBG.area[SFBay_CBG.MESOZONE==p_df['locationZone'][i]].values[0]==0:\n",
      "/var/folders/kr/2j58542j2_7chf9_h8bmr30mb0_4n0/T/ipykernel_15666/3676463546.py:9: UserWarning: Geometry is in a geographic CRS. Results from 'area' are likely incorrect. Use 'GeoSeries.to_crs()' to re-project geometries to a projected CRS before this operation.\n",
      "\n",
      "  if SFBay_CBG.area[SFBay_CBG.MESOZONE==p_df['locationZone'][i]].values[0]==0:\n",
      "/var/folders/kr/2j58542j2_7chf9_h8bmr30mb0_4n0/T/ipykernel_15666/3676463546.py:9: UserWarning: Geometry is in a geographic CRS. Results from 'area' are likely incorrect. Use 'GeoSeries.to_crs()' to re-project geometries to a projected CRS before this operation.\n",
      "\n",
      "  if SFBay_CBG.area[SFBay_CBG.MESOZONE==p_df['locationZone'][i]].values[0]==0:\n"
     ]
    },
    {
     "name": "stdout",
     "output_type": "stream",
     "text": [
      "422\n",
      "423\n",
      "424\n",
      "425\n",
      "426\n"
     ]
    },
    {
     "name": "stderr",
     "output_type": "stream",
     "text": [
      "/var/folders/kr/2j58542j2_7chf9_h8bmr30mb0_4n0/T/ipykernel_15666/3676463546.py:9: UserWarning: Geometry is in a geographic CRS. Results from 'area' are likely incorrect. Use 'GeoSeries.to_crs()' to re-project geometries to a projected CRS before this operation.\n",
      "\n",
      "  if SFBay_CBG.area[SFBay_CBG.MESOZONE==p_df['locationZone'][i]].values[0]==0:\n",
      "/var/folders/kr/2j58542j2_7chf9_h8bmr30mb0_4n0/T/ipykernel_15666/3676463546.py:9: UserWarning: Geometry is in a geographic CRS. Results from 'area' are likely incorrect. Use 'GeoSeries.to_crs()' to re-project geometries to a projected CRS before this operation.\n",
      "\n",
      "  if SFBay_CBG.area[SFBay_CBG.MESOZONE==p_df['locationZone'][i]].values[0]==0:\n",
      "/var/folders/kr/2j58542j2_7chf9_h8bmr30mb0_4n0/T/ipykernel_15666/3676463546.py:9: UserWarning: Geometry is in a geographic CRS. Results from 'area' are likely incorrect. Use 'GeoSeries.to_crs()' to re-project geometries to a projected CRS before this operation.\n",
      "\n",
      "  if SFBay_CBG.area[SFBay_CBG.MESOZONE==p_df['locationZone'][i]].values[0]==0:\n",
      "/var/folders/kr/2j58542j2_7chf9_h8bmr30mb0_4n0/T/ipykernel_15666/3676463546.py:9: UserWarning: Geometry is in a geographic CRS. Results from 'area' are likely incorrect. Use 'GeoSeries.to_crs()' to re-project geometries to a projected CRS before this operation.\n",
      "\n",
      "  if SFBay_CBG.area[SFBay_CBG.MESOZONE==p_df['locationZone'][i]].values[0]==0:\n",
      "/var/folders/kr/2j58542j2_7chf9_h8bmr30mb0_4n0/T/ipykernel_15666/3676463546.py:9: UserWarning: Geometry is in a geographic CRS. Results from 'area' are likely incorrect. Use 'GeoSeries.to_crs()' to re-project geometries to a projected CRS before this operation.\n",
      "\n",
      "  if SFBay_CBG.area[SFBay_CBG.MESOZONE==p_df['locationZone'][i]].values[0]==0:\n"
     ]
    },
    {
     "name": "stdout",
     "output_type": "stream",
     "text": [
      "427\n",
      "428\n",
      "429\n",
      "430\n",
      "431\n"
     ]
    },
    {
     "name": "stderr",
     "output_type": "stream",
     "text": [
      "/var/folders/kr/2j58542j2_7chf9_h8bmr30mb0_4n0/T/ipykernel_15666/3676463546.py:9: UserWarning: Geometry is in a geographic CRS. Results from 'area' are likely incorrect. Use 'GeoSeries.to_crs()' to re-project geometries to a projected CRS before this operation.\n",
      "\n",
      "  if SFBay_CBG.area[SFBay_CBG.MESOZONE==p_df['locationZone'][i]].values[0]==0:\n",
      "/var/folders/kr/2j58542j2_7chf9_h8bmr30mb0_4n0/T/ipykernel_15666/3676463546.py:9: UserWarning: Geometry is in a geographic CRS. Results from 'area' are likely incorrect. Use 'GeoSeries.to_crs()' to re-project geometries to a projected CRS before this operation.\n",
      "\n",
      "  if SFBay_CBG.area[SFBay_CBG.MESOZONE==p_df['locationZone'][i]].values[0]==0:\n",
      "/var/folders/kr/2j58542j2_7chf9_h8bmr30mb0_4n0/T/ipykernel_15666/3676463546.py:9: UserWarning: Geometry is in a geographic CRS. Results from 'area' are likely incorrect. Use 'GeoSeries.to_crs()' to re-project geometries to a projected CRS before this operation.\n",
      "\n",
      "  if SFBay_CBG.area[SFBay_CBG.MESOZONE==p_df['locationZone'][i]].values[0]==0:\n",
      "/var/folders/kr/2j58542j2_7chf9_h8bmr30mb0_4n0/T/ipykernel_15666/3676463546.py:9: UserWarning: Geometry is in a geographic CRS. Results from 'area' are likely incorrect. Use 'GeoSeries.to_crs()' to re-project geometries to a projected CRS before this operation.\n",
      "\n",
      "  if SFBay_CBG.area[SFBay_CBG.MESOZONE==p_df['locationZone'][i]].values[0]==0:\n",
      "/var/folders/kr/2j58542j2_7chf9_h8bmr30mb0_4n0/T/ipykernel_15666/3676463546.py:9: UserWarning: Geometry is in a geographic CRS. Results from 'area' are likely incorrect. Use 'GeoSeries.to_crs()' to re-project geometries to a projected CRS before this operation.\n",
      "\n",
      "  if SFBay_CBG.area[SFBay_CBG.MESOZONE==p_df['locationZone'][i]].values[0]==0:\n"
     ]
    },
    {
     "name": "stdout",
     "output_type": "stream",
     "text": [
      "432\n",
      "433\n",
      "434\n",
      "435\n",
      "436\n"
     ]
    },
    {
     "name": "stderr",
     "output_type": "stream",
     "text": [
      "/var/folders/kr/2j58542j2_7chf9_h8bmr30mb0_4n0/T/ipykernel_15666/3676463546.py:9: UserWarning: Geometry is in a geographic CRS. Results from 'area' are likely incorrect. Use 'GeoSeries.to_crs()' to re-project geometries to a projected CRS before this operation.\n",
      "\n",
      "  if SFBay_CBG.area[SFBay_CBG.MESOZONE==p_df['locationZone'][i]].values[0]==0:\n",
      "/var/folders/kr/2j58542j2_7chf9_h8bmr30mb0_4n0/T/ipykernel_15666/3676463546.py:9: UserWarning: Geometry is in a geographic CRS. Results from 'area' are likely incorrect. Use 'GeoSeries.to_crs()' to re-project geometries to a projected CRS before this operation.\n",
      "\n",
      "  if SFBay_CBG.area[SFBay_CBG.MESOZONE==p_df['locationZone'][i]].values[0]==0:\n",
      "/var/folders/kr/2j58542j2_7chf9_h8bmr30mb0_4n0/T/ipykernel_15666/3676463546.py:9: UserWarning: Geometry is in a geographic CRS. Results from 'area' are likely incorrect. Use 'GeoSeries.to_crs()' to re-project geometries to a projected CRS before this operation.\n",
      "\n",
      "  if SFBay_CBG.area[SFBay_CBG.MESOZONE==p_df['locationZone'][i]].values[0]==0:\n",
      "/var/folders/kr/2j58542j2_7chf9_h8bmr30mb0_4n0/T/ipykernel_15666/3676463546.py:9: UserWarning: Geometry is in a geographic CRS. Results from 'area' are likely incorrect. Use 'GeoSeries.to_crs()' to re-project geometries to a projected CRS before this operation.\n",
      "\n",
      "  if SFBay_CBG.area[SFBay_CBG.MESOZONE==p_df['locationZone'][i]].values[0]==0:\n",
      "/var/folders/kr/2j58542j2_7chf9_h8bmr30mb0_4n0/T/ipykernel_15666/3676463546.py:9: UserWarning: Geometry is in a geographic CRS. Results from 'area' are likely incorrect. Use 'GeoSeries.to_crs()' to re-project geometries to a projected CRS before this operation.\n",
      "\n",
      "  if SFBay_CBG.area[SFBay_CBG.MESOZONE==p_df['locationZone'][i]].values[0]==0:\n"
     ]
    },
    {
     "name": "stdout",
     "output_type": "stream",
     "text": [
      "437\n",
      "438\n",
      "439\n",
      "440\n",
      "441\n"
     ]
    },
    {
     "name": "stderr",
     "output_type": "stream",
     "text": [
      "/var/folders/kr/2j58542j2_7chf9_h8bmr30mb0_4n0/T/ipykernel_15666/3676463546.py:9: UserWarning: Geometry is in a geographic CRS. Results from 'area' are likely incorrect. Use 'GeoSeries.to_crs()' to re-project geometries to a projected CRS before this operation.\n",
      "\n",
      "  if SFBay_CBG.area[SFBay_CBG.MESOZONE==p_df['locationZone'][i]].values[0]==0:\n",
      "/var/folders/kr/2j58542j2_7chf9_h8bmr30mb0_4n0/T/ipykernel_15666/3676463546.py:9: UserWarning: Geometry is in a geographic CRS. Results from 'area' are likely incorrect. Use 'GeoSeries.to_crs()' to re-project geometries to a projected CRS before this operation.\n",
      "\n",
      "  if SFBay_CBG.area[SFBay_CBG.MESOZONE==p_df['locationZone'][i]].values[0]==0:\n",
      "/var/folders/kr/2j58542j2_7chf9_h8bmr30mb0_4n0/T/ipykernel_15666/3676463546.py:9: UserWarning: Geometry is in a geographic CRS. Results from 'area' are likely incorrect. Use 'GeoSeries.to_crs()' to re-project geometries to a projected CRS before this operation.\n",
      "\n",
      "  if SFBay_CBG.area[SFBay_CBG.MESOZONE==p_df['locationZone'][i]].values[0]==0:\n",
      "/var/folders/kr/2j58542j2_7chf9_h8bmr30mb0_4n0/T/ipykernel_15666/3676463546.py:9: UserWarning: Geometry is in a geographic CRS. Results from 'area' are likely incorrect. Use 'GeoSeries.to_crs()' to re-project geometries to a projected CRS before this operation.\n",
      "\n",
      "  if SFBay_CBG.area[SFBay_CBG.MESOZONE==p_df['locationZone'][i]].values[0]==0:\n",
      "/var/folders/kr/2j58542j2_7chf9_h8bmr30mb0_4n0/T/ipykernel_15666/3676463546.py:9: UserWarning: Geometry is in a geographic CRS. Results from 'area' are likely incorrect. Use 'GeoSeries.to_crs()' to re-project geometries to a projected CRS before this operation.\n",
      "\n",
      "  if SFBay_CBG.area[SFBay_CBG.MESOZONE==p_df['locationZone'][i]].values[0]==0:\n"
     ]
    },
    {
     "name": "stdout",
     "output_type": "stream",
     "text": [
      "442\n",
      "443\n",
      "444\n",
      "445\n",
      "446\n"
     ]
    },
    {
     "name": "stderr",
     "output_type": "stream",
     "text": [
      "/var/folders/kr/2j58542j2_7chf9_h8bmr30mb0_4n0/T/ipykernel_15666/3676463546.py:9: UserWarning: Geometry is in a geographic CRS. Results from 'area' are likely incorrect. Use 'GeoSeries.to_crs()' to re-project geometries to a projected CRS before this operation.\n",
      "\n",
      "  if SFBay_CBG.area[SFBay_CBG.MESOZONE==p_df['locationZone'][i]].values[0]==0:\n",
      "/var/folders/kr/2j58542j2_7chf9_h8bmr30mb0_4n0/T/ipykernel_15666/3676463546.py:9: UserWarning: Geometry is in a geographic CRS. Results from 'area' are likely incorrect. Use 'GeoSeries.to_crs()' to re-project geometries to a projected CRS before this operation.\n",
      "\n",
      "  if SFBay_CBG.area[SFBay_CBG.MESOZONE==p_df['locationZone'][i]].values[0]==0:\n",
      "/var/folders/kr/2j58542j2_7chf9_h8bmr30mb0_4n0/T/ipykernel_15666/3676463546.py:9: UserWarning: Geometry is in a geographic CRS. Results from 'area' are likely incorrect. Use 'GeoSeries.to_crs()' to re-project geometries to a projected CRS before this operation.\n",
      "\n",
      "  if SFBay_CBG.area[SFBay_CBG.MESOZONE==p_df['locationZone'][i]].values[0]==0:\n",
      "/var/folders/kr/2j58542j2_7chf9_h8bmr30mb0_4n0/T/ipykernel_15666/3676463546.py:9: UserWarning: Geometry is in a geographic CRS. Results from 'area' are likely incorrect. Use 'GeoSeries.to_crs()' to re-project geometries to a projected CRS before this operation.\n",
      "\n",
      "  if SFBay_CBG.area[SFBay_CBG.MESOZONE==p_df['locationZone'][i]].values[0]==0:\n",
      "/var/folders/kr/2j58542j2_7chf9_h8bmr30mb0_4n0/T/ipykernel_15666/3676463546.py:9: UserWarning: Geometry is in a geographic CRS. Results from 'area' are likely incorrect. Use 'GeoSeries.to_crs()' to re-project geometries to a projected CRS before this operation.\n",
      "\n",
      "  if SFBay_CBG.area[SFBay_CBG.MESOZONE==p_df['locationZone'][i]].values[0]==0:\n"
     ]
    },
    {
     "name": "stdout",
     "output_type": "stream",
     "text": [
      "447\n",
      "448\n",
      "449\n",
      "450\n",
      "451\n"
     ]
    },
    {
     "name": "stderr",
     "output_type": "stream",
     "text": [
      "/var/folders/kr/2j58542j2_7chf9_h8bmr30mb0_4n0/T/ipykernel_15666/3676463546.py:9: UserWarning: Geometry is in a geographic CRS. Results from 'area' are likely incorrect. Use 'GeoSeries.to_crs()' to re-project geometries to a projected CRS before this operation.\n",
      "\n",
      "  if SFBay_CBG.area[SFBay_CBG.MESOZONE==p_df['locationZone'][i]].values[0]==0:\n",
      "/var/folders/kr/2j58542j2_7chf9_h8bmr30mb0_4n0/T/ipykernel_15666/3676463546.py:9: UserWarning: Geometry is in a geographic CRS. Results from 'area' are likely incorrect. Use 'GeoSeries.to_crs()' to re-project geometries to a projected CRS before this operation.\n",
      "\n",
      "  if SFBay_CBG.area[SFBay_CBG.MESOZONE==p_df['locationZone'][i]].values[0]==0:\n",
      "/var/folders/kr/2j58542j2_7chf9_h8bmr30mb0_4n0/T/ipykernel_15666/3676463546.py:9: UserWarning: Geometry is in a geographic CRS. Results from 'area' are likely incorrect. Use 'GeoSeries.to_crs()' to re-project geometries to a projected CRS before this operation.\n",
      "\n",
      "  if SFBay_CBG.area[SFBay_CBG.MESOZONE==p_df['locationZone'][i]].values[0]==0:\n",
      "/var/folders/kr/2j58542j2_7chf9_h8bmr30mb0_4n0/T/ipykernel_15666/3676463546.py:9: UserWarning: Geometry is in a geographic CRS. Results from 'area' are likely incorrect. Use 'GeoSeries.to_crs()' to re-project geometries to a projected CRS before this operation.\n",
      "\n",
      "  if SFBay_CBG.area[SFBay_CBG.MESOZONE==p_df['locationZone'][i]].values[0]==0:\n",
      "/var/folders/kr/2j58542j2_7chf9_h8bmr30mb0_4n0/T/ipykernel_15666/3676463546.py:9: UserWarning: Geometry is in a geographic CRS. Results from 'area' are likely incorrect. Use 'GeoSeries.to_crs()' to re-project geometries to a projected CRS before this operation.\n",
      "\n",
      "  if SFBay_CBG.area[SFBay_CBG.MESOZONE==p_df['locationZone'][i]].values[0]==0:\n"
     ]
    },
    {
     "name": "stdout",
     "output_type": "stream",
     "text": [
      "452\n",
      "453\n",
      "454\n",
      "455\n",
      "456\n"
     ]
    },
    {
     "name": "stderr",
     "output_type": "stream",
     "text": [
      "/var/folders/kr/2j58542j2_7chf9_h8bmr30mb0_4n0/T/ipykernel_15666/3676463546.py:9: UserWarning: Geometry is in a geographic CRS. Results from 'area' are likely incorrect. Use 'GeoSeries.to_crs()' to re-project geometries to a projected CRS before this operation.\n",
      "\n",
      "  if SFBay_CBG.area[SFBay_CBG.MESOZONE==p_df['locationZone'][i]].values[0]==0:\n",
      "/var/folders/kr/2j58542j2_7chf9_h8bmr30mb0_4n0/T/ipykernel_15666/3676463546.py:9: UserWarning: Geometry is in a geographic CRS. Results from 'area' are likely incorrect. Use 'GeoSeries.to_crs()' to re-project geometries to a projected CRS before this operation.\n",
      "\n",
      "  if SFBay_CBG.area[SFBay_CBG.MESOZONE==p_df['locationZone'][i]].values[0]==0:\n",
      "/var/folders/kr/2j58542j2_7chf9_h8bmr30mb0_4n0/T/ipykernel_15666/3676463546.py:9: UserWarning: Geometry is in a geographic CRS. Results from 'area' are likely incorrect. Use 'GeoSeries.to_crs()' to re-project geometries to a projected CRS before this operation.\n",
      "\n",
      "  if SFBay_CBG.area[SFBay_CBG.MESOZONE==p_df['locationZone'][i]].values[0]==0:\n",
      "/var/folders/kr/2j58542j2_7chf9_h8bmr30mb0_4n0/T/ipykernel_15666/3676463546.py:9: UserWarning: Geometry is in a geographic CRS. Results from 'area' are likely incorrect. Use 'GeoSeries.to_crs()' to re-project geometries to a projected CRS before this operation.\n",
      "\n",
      "  if SFBay_CBG.area[SFBay_CBG.MESOZONE==p_df['locationZone'][i]].values[0]==0:\n",
      "/var/folders/kr/2j58542j2_7chf9_h8bmr30mb0_4n0/T/ipykernel_15666/3676463546.py:9: UserWarning: Geometry is in a geographic CRS. Results from 'area' are likely incorrect. Use 'GeoSeries.to_crs()' to re-project geometries to a projected CRS before this operation.\n",
      "\n",
      "  if SFBay_CBG.area[SFBay_CBG.MESOZONE==p_df['locationZone'][i]].values[0]==0:\n"
     ]
    },
    {
     "name": "stdout",
     "output_type": "stream",
     "text": [
      "457\n",
      "458\n",
      "459\n",
      "460\n",
      "461\n"
     ]
    },
    {
     "name": "stderr",
     "output_type": "stream",
     "text": [
      "/var/folders/kr/2j58542j2_7chf9_h8bmr30mb0_4n0/T/ipykernel_15666/3676463546.py:9: UserWarning: Geometry is in a geographic CRS. Results from 'area' are likely incorrect. Use 'GeoSeries.to_crs()' to re-project geometries to a projected CRS before this operation.\n",
      "\n",
      "  if SFBay_CBG.area[SFBay_CBG.MESOZONE==p_df['locationZone'][i]].values[0]==0:\n",
      "/var/folders/kr/2j58542j2_7chf9_h8bmr30mb0_4n0/T/ipykernel_15666/3676463546.py:9: UserWarning: Geometry is in a geographic CRS. Results from 'area' are likely incorrect. Use 'GeoSeries.to_crs()' to re-project geometries to a projected CRS before this operation.\n",
      "\n",
      "  if SFBay_CBG.area[SFBay_CBG.MESOZONE==p_df['locationZone'][i]].values[0]==0:\n",
      "/var/folders/kr/2j58542j2_7chf9_h8bmr30mb0_4n0/T/ipykernel_15666/3676463546.py:9: UserWarning: Geometry is in a geographic CRS. Results from 'area' are likely incorrect. Use 'GeoSeries.to_crs()' to re-project geometries to a projected CRS before this operation.\n",
      "\n",
      "  if SFBay_CBG.area[SFBay_CBG.MESOZONE==p_df['locationZone'][i]].values[0]==0:\n",
      "/var/folders/kr/2j58542j2_7chf9_h8bmr30mb0_4n0/T/ipykernel_15666/3676463546.py:9: UserWarning: Geometry is in a geographic CRS. Results from 'area' are likely incorrect. Use 'GeoSeries.to_crs()' to re-project geometries to a projected CRS before this operation.\n",
      "\n",
      "  if SFBay_CBG.area[SFBay_CBG.MESOZONE==p_df['locationZone'][i]].values[0]==0:\n",
      "/var/folders/kr/2j58542j2_7chf9_h8bmr30mb0_4n0/T/ipykernel_15666/3676463546.py:9: UserWarning: Geometry is in a geographic CRS. Results from 'area' are likely incorrect. Use 'GeoSeries.to_crs()' to re-project geometries to a projected CRS before this operation.\n",
      "\n",
      "  if SFBay_CBG.area[SFBay_CBG.MESOZONE==p_df['locationZone'][i]].values[0]==0:\n"
     ]
    },
    {
     "name": "stdout",
     "output_type": "stream",
     "text": [
      "462\n",
      "463\n",
      "464\n",
      "465\n",
      "466\n",
      "467\n"
     ]
    },
    {
     "name": "stderr",
     "output_type": "stream",
     "text": [
      "/var/folders/kr/2j58542j2_7chf9_h8bmr30mb0_4n0/T/ipykernel_15666/3676463546.py:9: UserWarning: Geometry is in a geographic CRS. Results from 'area' are likely incorrect. Use 'GeoSeries.to_crs()' to re-project geometries to a projected CRS before this operation.\n",
      "\n",
      "  if SFBay_CBG.area[SFBay_CBG.MESOZONE==p_df['locationZone'][i]].values[0]==0:\n",
      "/var/folders/kr/2j58542j2_7chf9_h8bmr30mb0_4n0/T/ipykernel_15666/3676463546.py:9: UserWarning: Geometry is in a geographic CRS. Results from 'area' are likely incorrect. Use 'GeoSeries.to_crs()' to re-project geometries to a projected CRS before this operation.\n",
      "\n",
      "  if SFBay_CBG.area[SFBay_CBG.MESOZONE==p_df['locationZone'][i]].values[0]==0:\n",
      "/var/folders/kr/2j58542j2_7chf9_h8bmr30mb0_4n0/T/ipykernel_15666/3676463546.py:9: UserWarning: Geometry is in a geographic CRS. Results from 'area' are likely incorrect. Use 'GeoSeries.to_crs()' to re-project geometries to a projected CRS before this operation.\n",
      "\n",
      "  if SFBay_CBG.area[SFBay_CBG.MESOZONE==p_df['locationZone'][i]].values[0]==0:\n",
      "/var/folders/kr/2j58542j2_7chf9_h8bmr30mb0_4n0/T/ipykernel_15666/3676463546.py:9: UserWarning: Geometry is in a geographic CRS. Results from 'area' are likely incorrect. Use 'GeoSeries.to_crs()' to re-project geometries to a projected CRS before this operation.\n",
      "\n",
      "  if SFBay_CBG.area[SFBay_CBG.MESOZONE==p_df['locationZone'][i]].values[0]==0:\n",
      "/var/folders/kr/2j58542j2_7chf9_h8bmr30mb0_4n0/T/ipykernel_15666/3676463546.py:9: UserWarning: Geometry is in a geographic CRS. Results from 'area' are likely incorrect. Use 'GeoSeries.to_crs()' to re-project geometries to a projected CRS before this operation.\n",
      "\n",
      "  if SFBay_CBG.area[SFBay_CBG.MESOZONE==p_df['locationZone'][i]].values[0]==0:\n",
      "/var/folders/kr/2j58542j2_7chf9_h8bmr30mb0_4n0/T/ipykernel_15666/3676463546.py:9: UserWarning: Geometry is in a geographic CRS. Results from 'area' are likely incorrect. Use 'GeoSeries.to_crs()' to re-project geometries to a projected CRS before this operation.\n",
      "\n",
      "  if SFBay_CBG.area[SFBay_CBG.MESOZONE==p_df['locationZone'][i]].values[0]==0:\n"
     ]
    },
    {
     "name": "stdout",
     "output_type": "stream",
     "text": [
      "468\n",
      "469\n",
      "470\n",
      "471\n",
      "472\n"
     ]
    },
    {
     "name": "stderr",
     "output_type": "stream",
     "text": [
      "/var/folders/kr/2j58542j2_7chf9_h8bmr30mb0_4n0/T/ipykernel_15666/3676463546.py:9: UserWarning: Geometry is in a geographic CRS. Results from 'area' are likely incorrect. Use 'GeoSeries.to_crs()' to re-project geometries to a projected CRS before this operation.\n",
      "\n",
      "  if SFBay_CBG.area[SFBay_CBG.MESOZONE==p_df['locationZone'][i]].values[0]==0:\n",
      "/var/folders/kr/2j58542j2_7chf9_h8bmr30mb0_4n0/T/ipykernel_15666/3676463546.py:9: UserWarning: Geometry is in a geographic CRS. Results from 'area' are likely incorrect. Use 'GeoSeries.to_crs()' to re-project geometries to a projected CRS before this operation.\n",
      "\n",
      "  if SFBay_CBG.area[SFBay_CBG.MESOZONE==p_df['locationZone'][i]].values[0]==0:\n",
      "/var/folders/kr/2j58542j2_7chf9_h8bmr30mb0_4n0/T/ipykernel_15666/3676463546.py:9: UserWarning: Geometry is in a geographic CRS. Results from 'area' are likely incorrect. Use 'GeoSeries.to_crs()' to re-project geometries to a projected CRS before this operation.\n",
      "\n",
      "  if SFBay_CBG.area[SFBay_CBG.MESOZONE==p_df['locationZone'][i]].values[0]==0:\n",
      "/var/folders/kr/2j58542j2_7chf9_h8bmr30mb0_4n0/T/ipykernel_15666/3676463546.py:9: UserWarning: Geometry is in a geographic CRS. Results from 'area' are likely incorrect. Use 'GeoSeries.to_crs()' to re-project geometries to a projected CRS before this operation.\n",
      "\n",
      "  if SFBay_CBG.area[SFBay_CBG.MESOZONE==p_df['locationZone'][i]].values[0]==0:\n",
      "/var/folders/kr/2j58542j2_7chf9_h8bmr30mb0_4n0/T/ipykernel_15666/3676463546.py:9: UserWarning: Geometry is in a geographic CRS. Results from 'area' are likely incorrect. Use 'GeoSeries.to_crs()' to re-project geometries to a projected CRS before this operation.\n",
      "\n",
      "  if SFBay_CBG.area[SFBay_CBG.MESOZONE==p_df['locationZone'][i]].values[0]==0:\n"
     ]
    },
    {
     "name": "stdout",
     "output_type": "stream",
     "text": [
      "473\n",
      "474\n",
      "475\n",
      "476\n",
      "477\n",
      "478\n"
     ]
    },
    {
     "name": "stderr",
     "output_type": "stream",
     "text": [
      "/var/folders/kr/2j58542j2_7chf9_h8bmr30mb0_4n0/T/ipykernel_15666/3676463546.py:9: UserWarning: Geometry is in a geographic CRS. Results from 'area' are likely incorrect. Use 'GeoSeries.to_crs()' to re-project geometries to a projected CRS before this operation.\n",
      "\n",
      "  if SFBay_CBG.area[SFBay_CBG.MESOZONE==p_df['locationZone'][i]].values[0]==0:\n",
      "/var/folders/kr/2j58542j2_7chf9_h8bmr30mb0_4n0/T/ipykernel_15666/3676463546.py:9: UserWarning: Geometry is in a geographic CRS. Results from 'area' are likely incorrect. Use 'GeoSeries.to_crs()' to re-project geometries to a projected CRS before this operation.\n",
      "\n",
      "  if SFBay_CBG.area[SFBay_CBG.MESOZONE==p_df['locationZone'][i]].values[0]==0:\n",
      "/var/folders/kr/2j58542j2_7chf9_h8bmr30mb0_4n0/T/ipykernel_15666/3676463546.py:9: UserWarning: Geometry is in a geographic CRS. Results from 'area' are likely incorrect. Use 'GeoSeries.to_crs()' to re-project geometries to a projected CRS before this operation.\n",
      "\n",
      "  if SFBay_CBG.area[SFBay_CBG.MESOZONE==p_df['locationZone'][i]].values[0]==0:\n",
      "/var/folders/kr/2j58542j2_7chf9_h8bmr30mb0_4n0/T/ipykernel_15666/3676463546.py:9: UserWarning: Geometry is in a geographic CRS. Results from 'area' are likely incorrect. Use 'GeoSeries.to_crs()' to re-project geometries to a projected CRS before this operation.\n",
      "\n",
      "  if SFBay_CBG.area[SFBay_CBG.MESOZONE==p_df['locationZone'][i]].values[0]==0:\n",
      "/var/folders/kr/2j58542j2_7chf9_h8bmr30mb0_4n0/T/ipykernel_15666/3676463546.py:9: UserWarning: Geometry is in a geographic CRS. Results from 'area' are likely incorrect. Use 'GeoSeries.to_crs()' to re-project geometries to a projected CRS before this operation.\n",
      "\n",
      "  if SFBay_CBG.area[SFBay_CBG.MESOZONE==p_df['locationZone'][i]].values[0]==0:\n"
     ]
    },
    {
     "name": "stdout",
     "output_type": "stream",
     "text": [
      "479\n",
      "480\n",
      "481\n",
      "482\n",
      "483\n",
      "484\n"
     ]
    },
    {
     "name": "stderr",
     "output_type": "stream",
     "text": [
      "/var/folders/kr/2j58542j2_7chf9_h8bmr30mb0_4n0/T/ipykernel_15666/3676463546.py:9: UserWarning: Geometry is in a geographic CRS. Results from 'area' are likely incorrect. Use 'GeoSeries.to_crs()' to re-project geometries to a projected CRS before this operation.\n",
      "\n",
      "  if SFBay_CBG.area[SFBay_CBG.MESOZONE==p_df['locationZone'][i]].values[0]==0:\n",
      "/var/folders/kr/2j58542j2_7chf9_h8bmr30mb0_4n0/T/ipykernel_15666/3676463546.py:9: UserWarning: Geometry is in a geographic CRS. Results from 'area' are likely incorrect. Use 'GeoSeries.to_crs()' to re-project geometries to a projected CRS before this operation.\n",
      "\n",
      "  if SFBay_CBG.area[SFBay_CBG.MESOZONE==p_df['locationZone'][i]].values[0]==0:\n",
      "/var/folders/kr/2j58542j2_7chf9_h8bmr30mb0_4n0/T/ipykernel_15666/3676463546.py:9: UserWarning: Geometry is in a geographic CRS. Results from 'area' are likely incorrect. Use 'GeoSeries.to_crs()' to re-project geometries to a projected CRS before this operation.\n",
      "\n",
      "  if SFBay_CBG.area[SFBay_CBG.MESOZONE==p_df['locationZone'][i]].values[0]==0:\n",
      "/var/folders/kr/2j58542j2_7chf9_h8bmr30mb0_4n0/T/ipykernel_15666/3676463546.py:9: UserWarning: Geometry is in a geographic CRS. Results from 'area' are likely incorrect. Use 'GeoSeries.to_crs()' to re-project geometries to a projected CRS before this operation.\n",
      "\n",
      "  if SFBay_CBG.area[SFBay_CBG.MESOZONE==p_df['locationZone'][i]].values[0]==0:\n",
      "/var/folders/kr/2j58542j2_7chf9_h8bmr30mb0_4n0/T/ipykernel_15666/3676463546.py:9: UserWarning: Geometry is in a geographic CRS. Results from 'area' are likely incorrect. Use 'GeoSeries.to_crs()' to re-project geometries to a projected CRS before this operation.\n",
      "\n",
      "  if SFBay_CBG.area[SFBay_CBG.MESOZONE==p_df['locationZone'][i]].values[0]==0:\n"
     ]
    },
    {
     "name": "stdout",
     "output_type": "stream",
     "text": [
      "485\n",
      "486\n",
      "487\n",
      "488\n",
      "489\n"
     ]
    },
    {
     "name": "stderr",
     "output_type": "stream",
     "text": [
      "/var/folders/kr/2j58542j2_7chf9_h8bmr30mb0_4n0/T/ipykernel_15666/3676463546.py:9: UserWarning: Geometry is in a geographic CRS. Results from 'area' are likely incorrect. Use 'GeoSeries.to_crs()' to re-project geometries to a projected CRS before this operation.\n",
      "\n",
      "  if SFBay_CBG.area[SFBay_CBG.MESOZONE==p_df['locationZone'][i]].values[0]==0:\n",
      "/var/folders/kr/2j58542j2_7chf9_h8bmr30mb0_4n0/T/ipykernel_15666/3676463546.py:9: UserWarning: Geometry is in a geographic CRS. Results from 'area' are likely incorrect. Use 'GeoSeries.to_crs()' to re-project geometries to a projected CRS before this operation.\n",
      "\n",
      "  if SFBay_CBG.area[SFBay_CBG.MESOZONE==p_df['locationZone'][i]].values[0]==0:\n",
      "/var/folders/kr/2j58542j2_7chf9_h8bmr30mb0_4n0/T/ipykernel_15666/3676463546.py:9: UserWarning: Geometry is in a geographic CRS. Results from 'area' are likely incorrect. Use 'GeoSeries.to_crs()' to re-project geometries to a projected CRS before this operation.\n",
      "\n",
      "  if SFBay_CBG.area[SFBay_CBG.MESOZONE==p_df['locationZone'][i]].values[0]==0:\n",
      "/var/folders/kr/2j58542j2_7chf9_h8bmr30mb0_4n0/T/ipykernel_15666/3676463546.py:9: UserWarning: Geometry is in a geographic CRS. Results from 'area' are likely incorrect. Use 'GeoSeries.to_crs()' to re-project geometries to a projected CRS before this operation.\n",
      "\n",
      "  if SFBay_CBG.area[SFBay_CBG.MESOZONE==p_df['locationZone'][i]].values[0]==0:\n",
      "/var/folders/kr/2j58542j2_7chf9_h8bmr30mb0_4n0/T/ipykernel_15666/3676463546.py:9: UserWarning: Geometry is in a geographic CRS. Results from 'area' are likely incorrect. Use 'GeoSeries.to_crs()' to re-project geometries to a projected CRS before this operation.\n",
      "\n",
      "  if SFBay_CBG.area[SFBay_CBG.MESOZONE==p_df['locationZone'][i]].values[0]==0:\n",
      "/var/folders/kr/2j58542j2_7chf9_h8bmr30mb0_4n0/T/ipykernel_15666/3676463546.py:9: UserWarning: Geometry is in a geographic CRS. Results from 'area' are likely incorrect. Use 'GeoSeries.to_crs()' to re-project geometries to a projected CRS before this operation.\n",
      "\n",
      "  if SFBay_CBG.area[SFBay_CBG.MESOZONE==p_df['locationZone'][i]].values[0]==0:\n"
     ]
    },
    {
     "name": "stdout",
     "output_type": "stream",
     "text": [
      "490\n",
      "491\n",
      "492\n",
      "493\n",
      "494\n"
     ]
    },
    {
     "name": "stderr",
     "output_type": "stream",
     "text": [
      "/var/folders/kr/2j58542j2_7chf9_h8bmr30mb0_4n0/T/ipykernel_15666/3676463546.py:9: UserWarning: Geometry is in a geographic CRS. Results from 'area' are likely incorrect. Use 'GeoSeries.to_crs()' to re-project geometries to a projected CRS before this operation.\n",
      "\n",
      "  if SFBay_CBG.area[SFBay_CBG.MESOZONE==p_df['locationZone'][i]].values[0]==0:\n",
      "/var/folders/kr/2j58542j2_7chf9_h8bmr30mb0_4n0/T/ipykernel_15666/3676463546.py:9: UserWarning: Geometry is in a geographic CRS. Results from 'area' are likely incorrect. Use 'GeoSeries.to_crs()' to re-project geometries to a projected CRS before this operation.\n",
      "\n",
      "  if SFBay_CBG.area[SFBay_CBG.MESOZONE==p_df['locationZone'][i]].values[0]==0:\n",
      "/var/folders/kr/2j58542j2_7chf9_h8bmr30mb0_4n0/T/ipykernel_15666/3676463546.py:9: UserWarning: Geometry is in a geographic CRS. Results from 'area' are likely incorrect. Use 'GeoSeries.to_crs()' to re-project geometries to a projected CRS before this operation.\n",
      "\n",
      "  if SFBay_CBG.area[SFBay_CBG.MESOZONE==p_df['locationZone'][i]].values[0]==0:\n",
      "/var/folders/kr/2j58542j2_7chf9_h8bmr30mb0_4n0/T/ipykernel_15666/3676463546.py:9: UserWarning: Geometry is in a geographic CRS. Results from 'area' are likely incorrect. Use 'GeoSeries.to_crs()' to re-project geometries to a projected CRS before this operation.\n",
      "\n",
      "  if SFBay_CBG.area[SFBay_CBG.MESOZONE==p_df['locationZone'][i]].values[0]==0:\n",
      "/var/folders/kr/2j58542j2_7chf9_h8bmr30mb0_4n0/T/ipykernel_15666/3676463546.py:9: UserWarning: Geometry is in a geographic CRS. Results from 'area' are likely incorrect. Use 'GeoSeries.to_crs()' to re-project geometries to a projected CRS before this operation.\n",
      "\n",
      "  if SFBay_CBG.area[SFBay_CBG.MESOZONE==p_df['locationZone'][i]].values[0]==0:\n"
     ]
    },
    {
     "name": "stdout",
     "output_type": "stream",
     "text": [
      "495\n",
      "496\n",
      "497\n",
      "498\n",
      "499\n"
     ]
    },
    {
     "name": "stderr",
     "output_type": "stream",
     "text": [
      "/var/folders/kr/2j58542j2_7chf9_h8bmr30mb0_4n0/T/ipykernel_15666/3676463546.py:9: UserWarning: Geometry is in a geographic CRS. Results from 'area' are likely incorrect. Use 'GeoSeries.to_crs()' to re-project geometries to a projected CRS before this operation.\n",
      "\n",
      "  if SFBay_CBG.area[SFBay_CBG.MESOZONE==p_df['locationZone'][i]].values[0]==0:\n",
      "/var/folders/kr/2j58542j2_7chf9_h8bmr30mb0_4n0/T/ipykernel_15666/3676463546.py:9: UserWarning: Geometry is in a geographic CRS. Results from 'area' are likely incorrect. Use 'GeoSeries.to_crs()' to re-project geometries to a projected CRS before this operation.\n",
      "\n",
      "  if SFBay_CBG.area[SFBay_CBG.MESOZONE==p_df['locationZone'][i]].values[0]==0:\n",
      "/var/folders/kr/2j58542j2_7chf9_h8bmr30mb0_4n0/T/ipykernel_15666/3676463546.py:9: UserWarning: Geometry is in a geographic CRS. Results from 'area' are likely incorrect. Use 'GeoSeries.to_crs()' to re-project geometries to a projected CRS before this operation.\n",
      "\n",
      "  if SFBay_CBG.area[SFBay_CBG.MESOZONE==p_df['locationZone'][i]].values[0]==0:\n",
      "/var/folders/kr/2j58542j2_7chf9_h8bmr30mb0_4n0/T/ipykernel_15666/3676463546.py:9: UserWarning: Geometry is in a geographic CRS. Results from 'area' are likely incorrect. Use 'GeoSeries.to_crs()' to re-project geometries to a projected CRS before this operation.\n",
      "\n",
      "  if SFBay_CBG.area[SFBay_CBG.MESOZONE==p_df['locationZone'][i]].values[0]==0:\n",
      "/var/folders/kr/2j58542j2_7chf9_h8bmr30mb0_4n0/T/ipykernel_15666/3676463546.py:9: UserWarning: Geometry is in a geographic CRS. Results from 'area' are likely incorrect. Use 'GeoSeries.to_crs()' to re-project geometries to a projected CRS before this operation.\n",
      "\n",
      "  if SFBay_CBG.area[SFBay_CBG.MESOZONE==p_df['locationZone'][i]].values[0]==0:\n"
     ]
    },
    {
     "name": "stdout",
     "output_type": "stream",
     "text": [
      "500\n",
      "501\n",
      "502\n",
      "503\n",
      "504\n"
     ]
    },
    {
     "name": "stderr",
     "output_type": "stream",
     "text": [
      "/var/folders/kr/2j58542j2_7chf9_h8bmr30mb0_4n0/T/ipykernel_15666/3676463546.py:9: UserWarning: Geometry is in a geographic CRS. Results from 'area' are likely incorrect. Use 'GeoSeries.to_crs()' to re-project geometries to a projected CRS before this operation.\n",
      "\n",
      "  if SFBay_CBG.area[SFBay_CBG.MESOZONE==p_df['locationZone'][i]].values[0]==0:\n",
      "/var/folders/kr/2j58542j2_7chf9_h8bmr30mb0_4n0/T/ipykernel_15666/3676463546.py:9: UserWarning: Geometry is in a geographic CRS. Results from 'area' are likely incorrect. Use 'GeoSeries.to_crs()' to re-project geometries to a projected CRS before this operation.\n",
      "\n",
      "  if SFBay_CBG.area[SFBay_CBG.MESOZONE==p_df['locationZone'][i]].values[0]==0:\n",
      "/var/folders/kr/2j58542j2_7chf9_h8bmr30mb0_4n0/T/ipykernel_15666/3676463546.py:9: UserWarning: Geometry is in a geographic CRS. Results from 'area' are likely incorrect. Use 'GeoSeries.to_crs()' to re-project geometries to a projected CRS before this operation.\n",
      "\n",
      "  if SFBay_CBG.area[SFBay_CBG.MESOZONE==p_df['locationZone'][i]].values[0]==0:\n",
      "/var/folders/kr/2j58542j2_7chf9_h8bmr30mb0_4n0/T/ipykernel_15666/3676463546.py:9: UserWarning: Geometry is in a geographic CRS. Results from 'area' are likely incorrect. Use 'GeoSeries.to_crs()' to re-project geometries to a projected CRS before this operation.\n",
      "\n",
      "  if SFBay_CBG.area[SFBay_CBG.MESOZONE==p_df['locationZone'][i]].values[0]==0:\n",
      "/var/folders/kr/2j58542j2_7chf9_h8bmr30mb0_4n0/T/ipykernel_15666/3676463546.py:9: UserWarning: Geometry is in a geographic CRS. Results from 'area' are likely incorrect. Use 'GeoSeries.to_crs()' to re-project geometries to a projected CRS before this operation.\n",
      "\n",
      "  if SFBay_CBG.area[SFBay_CBG.MESOZONE==p_df['locationZone'][i]].values[0]==0:\n"
     ]
    },
    {
     "name": "stdout",
     "output_type": "stream",
     "text": [
      "505\n",
      "506\n",
      "507\n",
      "508\n",
      "509\n",
      "510\n"
     ]
    },
    {
     "name": "stderr",
     "output_type": "stream",
     "text": [
      "/var/folders/kr/2j58542j2_7chf9_h8bmr30mb0_4n0/T/ipykernel_15666/3676463546.py:9: UserWarning: Geometry is in a geographic CRS. Results from 'area' are likely incorrect. Use 'GeoSeries.to_crs()' to re-project geometries to a projected CRS before this operation.\n",
      "\n",
      "  if SFBay_CBG.area[SFBay_CBG.MESOZONE==p_df['locationZone'][i]].values[0]==0:\n",
      "/var/folders/kr/2j58542j2_7chf9_h8bmr30mb0_4n0/T/ipykernel_15666/3676463546.py:9: UserWarning: Geometry is in a geographic CRS. Results from 'area' are likely incorrect. Use 'GeoSeries.to_crs()' to re-project geometries to a projected CRS before this operation.\n",
      "\n",
      "  if SFBay_CBG.area[SFBay_CBG.MESOZONE==p_df['locationZone'][i]].values[0]==0:\n",
      "/var/folders/kr/2j58542j2_7chf9_h8bmr30mb0_4n0/T/ipykernel_15666/3676463546.py:9: UserWarning: Geometry is in a geographic CRS. Results from 'area' are likely incorrect. Use 'GeoSeries.to_crs()' to re-project geometries to a projected CRS before this operation.\n",
      "\n",
      "  if SFBay_CBG.area[SFBay_CBG.MESOZONE==p_df['locationZone'][i]].values[0]==0:\n",
      "/var/folders/kr/2j58542j2_7chf9_h8bmr30mb0_4n0/T/ipykernel_15666/3676463546.py:9: UserWarning: Geometry is in a geographic CRS. Results from 'area' are likely incorrect. Use 'GeoSeries.to_crs()' to re-project geometries to a projected CRS before this operation.\n",
      "\n",
      "  if SFBay_CBG.area[SFBay_CBG.MESOZONE==p_df['locationZone'][i]].values[0]==0:\n",
      "/var/folders/kr/2j58542j2_7chf9_h8bmr30mb0_4n0/T/ipykernel_15666/3676463546.py:9: UserWarning: Geometry is in a geographic CRS. Results from 'area' are likely incorrect. Use 'GeoSeries.to_crs()' to re-project geometries to a projected CRS before this operation.\n",
      "\n",
      "  if SFBay_CBG.area[SFBay_CBG.MESOZONE==p_df['locationZone'][i]].values[0]==0:\n",
      "/var/folders/kr/2j58542j2_7chf9_h8bmr30mb0_4n0/T/ipykernel_15666/3676463546.py:9: UserWarning: Geometry is in a geographic CRS. Results from 'area' are likely incorrect. Use 'GeoSeries.to_crs()' to re-project geometries to a projected CRS before this operation.\n",
      "\n",
      "  if SFBay_CBG.area[SFBay_CBG.MESOZONE==p_df['locationZone'][i]].values[0]==0:\n"
     ]
    },
    {
     "name": "stdout",
     "output_type": "stream",
     "text": [
      "511\n",
      "512\n",
      "513\n",
      "514\n",
      "515\n",
      "516\n"
     ]
    },
    {
     "name": "stderr",
     "output_type": "stream",
     "text": [
      "/var/folders/kr/2j58542j2_7chf9_h8bmr30mb0_4n0/T/ipykernel_15666/3676463546.py:9: UserWarning: Geometry is in a geographic CRS. Results from 'area' are likely incorrect. Use 'GeoSeries.to_crs()' to re-project geometries to a projected CRS before this operation.\n",
      "\n",
      "  if SFBay_CBG.area[SFBay_CBG.MESOZONE==p_df['locationZone'][i]].values[0]==0:\n",
      "/var/folders/kr/2j58542j2_7chf9_h8bmr30mb0_4n0/T/ipykernel_15666/3676463546.py:9: UserWarning: Geometry is in a geographic CRS. Results from 'area' are likely incorrect. Use 'GeoSeries.to_crs()' to re-project geometries to a projected CRS before this operation.\n",
      "\n",
      "  if SFBay_CBG.area[SFBay_CBG.MESOZONE==p_df['locationZone'][i]].values[0]==0:\n",
      "/var/folders/kr/2j58542j2_7chf9_h8bmr30mb0_4n0/T/ipykernel_15666/3676463546.py:9: UserWarning: Geometry is in a geographic CRS. Results from 'area' are likely incorrect. Use 'GeoSeries.to_crs()' to re-project geometries to a projected CRS before this operation.\n",
      "\n",
      "  if SFBay_CBG.area[SFBay_CBG.MESOZONE==p_df['locationZone'][i]].values[0]==0:\n",
      "/var/folders/kr/2j58542j2_7chf9_h8bmr30mb0_4n0/T/ipykernel_15666/3676463546.py:9: UserWarning: Geometry is in a geographic CRS. Results from 'area' are likely incorrect. Use 'GeoSeries.to_crs()' to re-project geometries to a projected CRS before this operation.\n",
      "\n",
      "  if SFBay_CBG.area[SFBay_CBG.MESOZONE==p_df['locationZone'][i]].values[0]==0:\n",
      "/var/folders/kr/2j58542j2_7chf9_h8bmr30mb0_4n0/T/ipykernel_15666/3676463546.py:9: UserWarning: Geometry is in a geographic CRS. Results from 'area' are likely incorrect. Use 'GeoSeries.to_crs()' to re-project geometries to a projected CRS before this operation.\n",
      "\n",
      "  if SFBay_CBG.area[SFBay_CBG.MESOZONE==p_df['locationZone'][i]].values[0]==0:\n",
      "/var/folders/kr/2j58542j2_7chf9_h8bmr30mb0_4n0/T/ipykernel_15666/3676463546.py:9: UserWarning: Geometry is in a geographic CRS. Results from 'area' are likely incorrect. Use 'GeoSeries.to_crs()' to re-project geometries to a projected CRS before this operation.\n",
      "\n",
      "  if SFBay_CBG.area[SFBay_CBG.MESOZONE==p_df['locationZone'][i]].values[0]==0:\n"
     ]
    },
    {
     "name": "stdout",
     "output_type": "stream",
     "text": [
      "517\n",
      "518\n",
      "519\n",
      "520\n",
      "521\n",
      "522\n"
     ]
    },
    {
     "name": "stderr",
     "output_type": "stream",
     "text": [
      "/var/folders/kr/2j58542j2_7chf9_h8bmr30mb0_4n0/T/ipykernel_15666/3676463546.py:9: UserWarning: Geometry is in a geographic CRS. Results from 'area' are likely incorrect. Use 'GeoSeries.to_crs()' to re-project geometries to a projected CRS before this operation.\n",
      "\n",
      "  if SFBay_CBG.area[SFBay_CBG.MESOZONE==p_df['locationZone'][i]].values[0]==0:\n",
      "/var/folders/kr/2j58542j2_7chf9_h8bmr30mb0_4n0/T/ipykernel_15666/3676463546.py:9: UserWarning: Geometry is in a geographic CRS. Results from 'area' are likely incorrect. Use 'GeoSeries.to_crs()' to re-project geometries to a projected CRS before this operation.\n",
      "\n",
      "  if SFBay_CBG.area[SFBay_CBG.MESOZONE==p_df['locationZone'][i]].values[0]==0:\n",
      "/var/folders/kr/2j58542j2_7chf9_h8bmr30mb0_4n0/T/ipykernel_15666/3676463546.py:9: UserWarning: Geometry is in a geographic CRS. Results from 'area' are likely incorrect. Use 'GeoSeries.to_crs()' to re-project geometries to a projected CRS before this operation.\n",
      "\n",
      "  if SFBay_CBG.area[SFBay_CBG.MESOZONE==p_df['locationZone'][i]].values[0]==0:\n",
      "/var/folders/kr/2j58542j2_7chf9_h8bmr30mb0_4n0/T/ipykernel_15666/3676463546.py:9: UserWarning: Geometry is in a geographic CRS. Results from 'area' are likely incorrect. Use 'GeoSeries.to_crs()' to re-project geometries to a projected CRS before this operation.\n",
      "\n",
      "  if SFBay_CBG.area[SFBay_CBG.MESOZONE==p_df['locationZone'][i]].values[0]==0:\n",
      "/var/folders/kr/2j58542j2_7chf9_h8bmr30mb0_4n0/T/ipykernel_15666/3676463546.py:9: UserWarning: Geometry is in a geographic CRS. Results from 'area' are likely incorrect. Use 'GeoSeries.to_crs()' to re-project geometries to a projected CRS before this operation.\n",
      "\n",
      "  if SFBay_CBG.area[SFBay_CBG.MESOZONE==p_df['locationZone'][i]].values[0]==0:\n",
      "/var/folders/kr/2j58542j2_7chf9_h8bmr30mb0_4n0/T/ipykernel_15666/3676463546.py:9: UserWarning: Geometry is in a geographic CRS. Results from 'area' are likely incorrect. Use 'GeoSeries.to_crs()' to re-project geometries to a projected CRS before this operation.\n",
      "\n",
      "  if SFBay_CBG.area[SFBay_CBG.MESOZONE==p_df['locationZone'][i]].values[0]==0:\n"
     ]
    },
    {
     "name": "stdout",
     "output_type": "stream",
     "text": [
      "523\n",
      "524\n",
      "525\n",
      "526\n",
      "527\n"
     ]
    },
    {
     "name": "stderr",
     "output_type": "stream",
     "text": [
      "/var/folders/kr/2j58542j2_7chf9_h8bmr30mb0_4n0/T/ipykernel_15666/3676463546.py:9: UserWarning: Geometry is in a geographic CRS. Results from 'area' are likely incorrect. Use 'GeoSeries.to_crs()' to re-project geometries to a projected CRS before this operation.\n",
      "\n",
      "  if SFBay_CBG.area[SFBay_CBG.MESOZONE==p_df['locationZone'][i]].values[0]==0:\n",
      "/var/folders/kr/2j58542j2_7chf9_h8bmr30mb0_4n0/T/ipykernel_15666/3676463546.py:9: UserWarning: Geometry is in a geographic CRS. Results from 'area' are likely incorrect. Use 'GeoSeries.to_crs()' to re-project geometries to a projected CRS before this operation.\n",
      "\n",
      "  if SFBay_CBG.area[SFBay_CBG.MESOZONE==p_df['locationZone'][i]].values[0]==0:\n",
      "/var/folders/kr/2j58542j2_7chf9_h8bmr30mb0_4n0/T/ipykernel_15666/3676463546.py:9: UserWarning: Geometry is in a geographic CRS. Results from 'area' are likely incorrect. Use 'GeoSeries.to_crs()' to re-project geometries to a projected CRS before this operation.\n",
      "\n",
      "  if SFBay_CBG.area[SFBay_CBG.MESOZONE==p_df['locationZone'][i]].values[0]==0:\n",
      "/var/folders/kr/2j58542j2_7chf9_h8bmr30mb0_4n0/T/ipykernel_15666/3676463546.py:9: UserWarning: Geometry is in a geographic CRS. Results from 'area' are likely incorrect. Use 'GeoSeries.to_crs()' to re-project geometries to a projected CRS before this operation.\n",
      "\n",
      "  if SFBay_CBG.area[SFBay_CBG.MESOZONE==p_df['locationZone'][i]].values[0]==0:\n",
      "/var/folders/kr/2j58542j2_7chf9_h8bmr30mb0_4n0/T/ipykernel_15666/3676463546.py:9: UserWarning: Geometry is in a geographic CRS. Results from 'area' are likely incorrect. Use 'GeoSeries.to_crs()' to re-project geometries to a projected CRS before this operation.\n",
      "\n",
      "  if SFBay_CBG.area[SFBay_CBG.MESOZONE==p_df['locationZone'][i]].values[0]==0:\n"
     ]
    },
    {
     "name": "stdout",
     "output_type": "stream",
     "text": [
      "528\n",
      "529\n",
      "530\n",
      "531\n",
      "532\n"
     ]
    },
    {
     "name": "stderr",
     "output_type": "stream",
     "text": [
      "/var/folders/kr/2j58542j2_7chf9_h8bmr30mb0_4n0/T/ipykernel_15666/3676463546.py:9: UserWarning: Geometry is in a geographic CRS. Results from 'area' are likely incorrect. Use 'GeoSeries.to_crs()' to re-project geometries to a projected CRS before this operation.\n",
      "\n",
      "  if SFBay_CBG.area[SFBay_CBG.MESOZONE==p_df['locationZone'][i]].values[0]==0:\n",
      "/var/folders/kr/2j58542j2_7chf9_h8bmr30mb0_4n0/T/ipykernel_15666/3676463546.py:9: UserWarning: Geometry is in a geographic CRS. Results from 'area' are likely incorrect. Use 'GeoSeries.to_crs()' to re-project geometries to a projected CRS before this operation.\n",
      "\n",
      "  if SFBay_CBG.area[SFBay_CBG.MESOZONE==p_df['locationZone'][i]].values[0]==0:\n",
      "/var/folders/kr/2j58542j2_7chf9_h8bmr30mb0_4n0/T/ipykernel_15666/3676463546.py:9: UserWarning: Geometry is in a geographic CRS. Results from 'area' are likely incorrect. Use 'GeoSeries.to_crs()' to re-project geometries to a projected CRS before this operation.\n",
      "\n",
      "  if SFBay_CBG.area[SFBay_CBG.MESOZONE==p_df['locationZone'][i]].values[0]==0:\n",
      "/var/folders/kr/2j58542j2_7chf9_h8bmr30mb0_4n0/T/ipykernel_15666/3676463546.py:9: UserWarning: Geometry is in a geographic CRS. Results from 'area' are likely incorrect. Use 'GeoSeries.to_crs()' to re-project geometries to a projected CRS before this operation.\n",
      "\n",
      "  if SFBay_CBG.area[SFBay_CBG.MESOZONE==p_df['locationZone'][i]].values[0]==0:\n",
      "/var/folders/kr/2j58542j2_7chf9_h8bmr30mb0_4n0/T/ipykernel_15666/3676463546.py:9: UserWarning: Geometry is in a geographic CRS. Results from 'area' are likely incorrect. Use 'GeoSeries.to_crs()' to re-project geometries to a projected CRS before this operation.\n",
      "\n",
      "  if SFBay_CBG.area[SFBay_CBG.MESOZONE==p_df['locationZone'][i]].values[0]==0:\n",
      "/var/folders/kr/2j58542j2_7chf9_h8bmr30mb0_4n0/T/ipykernel_15666/3676463546.py:9: UserWarning: Geometry is in a geographic CRS. Results from 'area' are likely incorrect. Use 'GeoSeries.to_crs()' to re-project geometries to a projected CRS before this operation.\n",
      "\n",
      "  if SFBay_CBG.area[SFBay_CBG.MESOZONE==p_df['locationZone'][i]].values[0]==0:\n"
     ]
    },
    {
     "name": "stdout",
     "output_type": "stream",
     "text": [
      "533\n",
      "534\n",
      "535\n",
      "536\n",
      "537\n",
      "538\n",
      "539\n"
     ]
    },
    {
     "name": "stderr",
     "output_type": "stream",
     "text": [
      "/var/folders/kr/2j58542j2_7chf9_h8bmr30mb0_4n0/T/ipykernel_15666/3676463546.py:9: UserWarning: Geometry is in a geographic CRS. Results from 'area' are likely incorrect. Use 'GeoSeries.to_crs()' to re-project geometries to a projected CRS before this operation.\n",
      "\n",
      "  if SFBay_CBG.area[SFBay_CBG.MESOZONE==p_df['locationZone'][i]].values[0]==0:\n",
      "/var/folders/kr/2j58542j2_7chf9_h8bmr30mb0_4n0/T/ipykernel_15666/3676463546.py:9: UserWarning: Geometry is in a geographic CRS. Results from 'area' are likely incorrect. Use 'GeoSeries.to_crs()' to re-project geometries to a projected CRS before this operation.\n",
      "\n",
      "  if SFBay_CBG.area[SFBay_CBG.MESOZONE==p_df['locationZone'][i]].values[0]==0:\n",
      "/var/folders/kr/2j58542j2_7chf9_h8bmr30mb0_4n0/T/ipykernel_15666/3676463546.py:9: UserWarning: Geometry is in a geographic CRS. Results from 'area' are likely incorrect. Use 'GeoSeries.to_crs()' to re-project geometries to a projected CRS before this operation.\n",
      "\n",
      "  if SFBay_CBG.area[SFBay_CBG.MESOZONE==p_df['locationZone'][i]].values[0]==0:\n",
      "/var/folders/kr/2j58542j2_7chf9_h8bmr30mb0_4n0/T/ipykernel_15666/3676463546.py:9: UserWarning: Geometry is in a geographic CRS. Results from 'area' are likely incorrect. Use 'GeoSeries.to_crs()' to re-project geometries to a projected CRS before this operation.\n",
      "\n",
      "  if SFBay_CBG.area[SFBay_CBG.MESOZONE==p_df['locationZone'][i]].values[0]==0:\n",
      "/var/folders/kr/2j58542j2_7chf9_h8bmr30mb0_4n0/T/ipykernel_15666/3676463546.py:9: UserWarning: Geometry is in a geographic CRS. Results from 'area' are likely incorrect. Use 'GeoSeries.to_crs()' to re-project geometries to a projected CRS before this operation.\n",
      "\n",
      "  if SFBay_CBG.area[SFBay_CBG.MESOZONE==p_df['locationZone'][i]].values[0]==0:\n",
      "/var/folders/kr/2j58542j2_7chf9_h8bmr30mb0_4n0/T/ipykernel_15666/3676463546.py:9: UserWarning: Geometry is in a geographic CRS. Results from 'area' are likely incorrect. Use 'GeoSeries.to_crs()' to re-project geometries to a projected CRS before this operation.\n",
      "\n",
      "  if SFBay_CBG.area[SFBay_CBG.MESOZONE==p_df['locationZone'][i]].values[0]==0:\n"
     ]
    },
    {
     "name": "stdout",
     "output_type": "stream",
     "text": [
      "540\n",
      "541\n",
      "542\n",
      "543\n",
      "544\n"
     ]
    },
    {
     "name": "stderr",
     "output_type": "stream",
     "text": [
      "/var/folders/kr/2j58542j2_7chf9_h8bmr30mb0_4n0/T/ipykernel_15666/3676463546.py:9: UserWarning: Geometry is in a geographic CRS. Results from 'area' are likely incorrect. Use 'GeoSeries.to_crs()' to re-project geometries to a projected CRS before this operation.\n",
      "\n",
      "  if SFBay_CBG.area[SFBay_CBG.MESOZONE==p_df['locationZone'][i]].values[0]==0:\n",
      "/var/folders/kr/2j58542j2_7chf9_h8bmr30mb0_4n0/T/ipykernel_15666/3676463546.py:9: UserWarning: Geometry is in a geographic CRS. Results from 'area' are likely incorrect. Use 'GeoSeries.to_crs()' to re-project geometries to a projected CRS before this operation.\n",
      "\n",
      "  if SFBay_CBG.area[SFBay_CBG.MESOZONE==p_df['locationZone'][i]].values[0]==0:\n",
      "/var/folders/kr/2j58542j2_7chf9_h8bmr30mb0_4n0/T/ipykernel_15666/3676463546.py:9: UserWarning: Geometry is in a geographic CRS. Results from 'area' are likely incorrect. Use 'GeoSeries.to_crs()' to re-project geometries to a projected CRS before this operation.\n",
      "\n",
      "  if SFBay_CBG.area[SFBay_CBG.MESOZONE==p_df['locationZone'][i]].values[0]==0:\n",
      "/var/folders/kr/2j58542j2_7chf9_h8bmr30mb0_4n0/T/ipykernel_15666/3676463546.py:9: UserWarning: Geometry is in a geographic CRS. Results from 'area' are likely incorrect. Use 'GeoSeries.to_crs()' to re-project geometries to a projected CRS before this operation.\n",
      "\n",
      "  if SFBay_CBG.area[SFBay_CBG.MESOZONE==p_df['locationZone'][i]].values[0]==0:\n",
      "/var/folders/kr/2j58542j2_7chf9_h8bmr30mb0_4n0/T/ipykernel_15666/3676463546.py:9: UserWarning: Geometry is in a geographic CRS. Results from 'area' are likely incorrect. Use 'GeoSeries.to_crs()' to re-project geometries to a projected CRS before this operation.\n",
      "\n",
      "  if SFBay_CBG.area[SFBay_CBG.MESOZONE==p_df['locationZone'][i]].values[0]==0:\n"
     ]
    },
    {
     "name": "stdout",
     "output_type": "stream",
     "text": [
      "545\n",
      "546\n",
      "547\n",
      "548\n",
      "549\n"
     ]
    },
    {
     "name": "stderr",
     "output_type": "stream",
     "text": [
      "/var/folders/kr/2j58542j2_7chf9_h8bmr30mb0_4n0/T/ipykernel_15666/3676463546.py:9: UserWarning: Geometry is in a geographic CRS. Results from 'area' are likely incorrect. Use 'GeoSeries.to_crs()' to re-project geometries to a projected CRS before this operation.\n",
      "\n",
      "  if SFBay_CBG.area[SFBay_CBG.MESOZONE==p_df['locationZone'][i]].values[0]==0:\n",
      "/var/folders/kr/2j58542j2_7chf9_h8bmr30mb0_4n0/T/ipykernel_15666/3676463546.py:9: UserWarning: Geometry is in a geographic CRS. Results from 'area' are likely incorrect. Use 'GeoSeries.to_crs()' to re-project geometries to a projected CRS before this operation.\n",
      "\n",
      "  if SFBay_CBG.area[SFBay_CBG.MESOZONE==p_df['locationZone'][i]].values[0]==0:\n",
      "/var/folders/kr/2j58542j2_7chf9_h8bmr30mb0_4n0/T/ipykernel_15666/3676463546.py:9: UserWarning: Geometry is in a geographic CRS. Results from 'area' are likely incorrect. Use 'GeoSeries.to_crs()' to re-project geometries to a projected CRS before this operation.\n",
      "\n",
      "  if SFBay_CBG.area[SFBay_CBG.MESOZONE==p_df['locationZone'][i]].values[0]==0:\n",
      "/var/folders/kr/2j58542j2_7chf9_h8bmr30mb0_4n0/T/ipykernel_15666/3676463546.py:9: UserWarning: Geometry is in a geographic CRS. Results from 'area' are likely incorrect. Use 'GeoSeries.to_crs()' to re-project geometries to a projected CRS before this operation.\n",
      "\n",
      "  if SFBay_CBG.area[SFBay_CBG.MESOZONE==p_df['locationZone'][i]].values[0]==0:\n",
      "/var/folders/kr/2j58542j2_7chf9_h8bmr30mb0_4n0/T/ipykernel_15666/3676463546.py:9: UserWarning: Geometry is in a geographic CRS. Results from 'area' are likely incorrect. Use 'GeoSeries.to_crs()' to re-project geometries to a projected CRS before this operation.\n",
      "\n",
      "  if SFBay_CBG.area[SFBay_CBG.MESOZONE==p_df['locationZone'][i]].values[0]==0:\n"
     ]
    },
    {
     "name": "stdout",
     "output_type": "stream",
     "text": [
      "550\n",
      "551\n",
      "552\n",
      "553\n",
      "554\n"
     ]
    },
    {
     "name": "stderr",
     "output_type": "stream",
     "text": [
      "/var/folders/kr/2j58542j2_7chf9_h8bmr30mb0_4n0/T/ipykernel_15666/3676463546.py:9: UserWarning: Geometry is in a geographic CRS. Results from 'area' are likely incorrect. Use 'GeoSeries.to_crs()' to re-project geometries to a projected CRS before this operation.\n",
      "\n",
      "  if SFBay_CBG.area[SFBay_CBG.MESOZONE==p_df['locationZone'][i]].values[0]==0:\n",
      "/var/folders/kr/2j58542j2_7chf9_h8bmr30mb0_4n0/T/ipykernel_15666/3676463546.py:9: UserWarning: Geometry is in a geographic CRS. Results from 'area' are likely incorrect. Use 'GeoSeries.to_crs()' to re-project geometries to a projected CRS before this operation.\n",
      "\n",
      "  if SFBay_CBG.area[SFBay_CBG.MESOZONE==p_df['locationZone'][i]].values[0]==0:\n",
      "/var/folders/kr/2j58542j2_7chf9_h8bmr30mb0_4n0/T/ipykernel_15666/3676463546.py:9: UserWarning: Geometry is in a geographic CRS. Results from 'area' are likely incorrect. Use 'GeoSeries.to_crs()' to re-project geometries to a projected CRS before this operation.\n",
      "\n",
      "  if SFBay_CBG.area[SFBay_CBG.MESOZONE==p_df['locationZone'][i]].values[0]==0:\n",
      "/var/folders/kr/2j58542j2_7chf9_h8bmr30mb0_4n0/T/ipykernel_15666/3676463546.py:9: UserWarning: Geometry is in a geographic CRS. Results from 'area' are likely incorrect. Use 'GeoSeries.to_crs()' to re-project geometries to a projected CRS before this operation.\n",
      "\n",
      "  if SFBay_CBG.area[SFBay_CBG.MESOZONE==p_df['locationZone'][i]].values[0]==0:\n",
      "/var/folders/kr/2j58542j2_7chf9_h8bmr30mb0_4n0/T/ipykernel_15666/3676463546.py:9: UserWarning: Geometry is in a geographic CRS. Results from 'area' are likely incorrect. Use 'GeoSeries.to_crs()' to re-project geometries to a projected CRS before this operation.\n",
      "\n",
      "  if SFBay_CBG.area[SFBay_CBG.MESOZONE==p_df['locationZone'][i]].values[0]==0:\n"
     ]
    },
    {
     "name": "stdout",
     "output_type": "stream",
     "text": [
      "555\n",
      "556\n",
      "557\n",
      "558\n",
      "559\n"
     ]
    },
    {
     "name": "stderr",
     "output_type": "stream",
     "text": [
      "/var/folders/kr/2j58542j2_7chf9_h8bmr30mb0_4n0/T/ipykernel_15666/3676463546.py:9: UserWarning: Geometry is in a geographic CRS. Results from 'area' are likely incorrect. Use 'GeoSeries.to_crs()' to re-project geometries to a projected CRS before this operation.\n",
      "\n",
      "  if SFBay_CBG.area[SFBay_CBG.MESOZONE==p_df['locationZone'][i]].values[0]==0:\n",
      "/var/folders/kr/2j58542j2_7chf9_h8bmr30mb0_4n0/T/ipykernel_15666/3676463546.py:9: UserWarning: Geometry is in a geographic CRS. Results from 'area' are likely incorrect. Use 'GeoSeries.to_crs()' to re-project geometries to a projected CRS before this operation.\n",
      "\n",
      "  if SFBay_CBG.area[SFBay_CBG.MESOZONE==p_df['locationZone'][i]].values[0]==0:\n",
      "/var/folders/kr/2j58542j2_7chf9_h8bmr30mb0_4n0/T/ipykernel_15666/3676463546.py:9: UserWarning: Geometry is in a geographic CRS. Results from 'area' are likely incorrect. Use 'GeoSeries.to_crs()' to re-project geometries to a projected CRS before this operation.\n",
      "\n",
      "  if SFBay_CBG.area[SFBay_CBG.MESOZONE==p_df['locationZone'][i]].values[0]==0:\n",
      "/var/folders/kr/2j58542j2_7chf9_h8bmr30mb0_4n0/T/ipykernel_15666/3676463546.py:9: UserWarning: Geometry is in a geographic CRS. Results from 'area' are likely incorrect. Use 'GeoSeries.to_crs()' to re-project geometries to a projected CRS before this operation.\n",
      "\n",
      "  if SFBay_CBG.area[SFBay_CBG.MESOZONE==p_df['locationZone'][i]].values[0]==0:\n",
      "/var/folders/kr/2j58542j2_7chf9_h8bmr30mb0_4n0/T/ipykernel_15666/3676463546.py:9: UserWarning: Geometry is in a geographic CRS. Results from 'area' are likely incorrect. Use 'GeoSeries.to_crs()' to re-project geometries to a projected CRS before this operation.\n",
      "\n",
      "  if SFBay_CBG.area[SFBay_CBG.MESOZONE==p_df['locationZone'][i]].values[0]==0:\n"
     ]
    },
    {
     "name": "stdout",
     "output_type": "stream",
     "text": [
      "560\n",
      "561\n",
      "562\n",
      "563\n",
      "564\n"
     ]
    },
    {
     "name": "stderr",
     "output_type": "stream",
     "text": [
      "/var/folders/kr/2j58542j2_7chf9_h8bmr30mb0_4n0/T/ipykernel_15666/3676463546.py:9: UserWarning: Geometry is in a geographic CRS. Results from 'area' are likely incorrect. Use 'GeoSeries.to_crs()' to re-project geometries to a projected CRS before this operation.\n",
      "\n",
      "  if SFBay_CBG.area[SFBay_CBG.MESOZONE==p_df['locationZone'][i]].values[0]==0:\n",
      "/var/folders/kr/2j58542j2_7chf9_h8bmr30mb0_4n0/T/ipykernel_15666/3676463546.py:9: UserWarning: Geometry is in a geographic CRS. Results from 'area' are likely incorrect. Use 'GeoSeries.to_crs()' to re-project geometries to a projected CRS before this operation.\n",
      "\n",
      "  if SFBay_CBG.area[SFBay_CBG.MESOZONE==p_df['locationZone'][i]].values[0]==0:\n",
      "/var/folders/kr/2j58542j2_7chf9_h8bmr30mb0_4n0/T/ipykernel_15666/3676463546.py:9: UserWarning: Geometry is in a geographic CRS. Results from 'area' are likely incorrect. Use 'GeoSeries.to_crs()' to re-project geometries to a projected CRS before this operation.\n",
      "\n",
      "  if SFBay_CBG.area[SFBay_CBG.MESOZONE==p_df['locationZone'][i]].values[0]==0:\n",
      "/var/folders/kr/2j58542j2_7chf9_h8bmr30mb0_4n0/T/ipykernel_15666/3676463546.py:9: UserWarning: Geometry is in a geographic CRS. Results from 'area' are likely incorrect. Use 'GeoSeries.to_crs()' to re-project geometries to a projected CRS before this operation.\n",
      "\n",
      "  if SFBay_CBG.area[SFBay_CBG.MESOZONE==p_df['locationZone'][i]].values[0]==0:\n",
      "/var/folders/kr/2j58542j2_7chf9_h8bmr30mb0_4n0/T/ipykernel_15666/3676463546.py:9: UserWarning: Geometry is in a geographic CRS. Results from 'area' are likely incorrect. Use 'GeoSeries.to_crs()' to re-project geometries to a projected CRS before this operation.\n",
      "\n",
      "  if SFBay_CBG.area[SFBay_CBG.MESOZONE==p_df['locationZone'][i]].values[0]==0:\n"
     ]
    },
    {
     "name": "stdout",
     "output_type": "stream",
     "text": [
      "565\n",
      "566\n",
      "567\n",
      "568\n",
      "569\n"
     ]
    },
    {
     "name": "stderr",
     "output_type": "stream",
     "text": [
      "/var/folders/kr/2j58542j2_7chf9_h8bmr30mb0_4n0/T/ipykernel_15666/3676463546.py:9: UserWarning: Geometry is in a geographic CRS. Results from 'area' are likely incorrect. Use 'GeoSeries.to_crs()' to re-project geometries to a projected CRS before this operation.\n",
      "\n",
      "  if SFBay_CBG.area[SFBay_CBG.MESOZONE==p_df['locationZone'][i]].values[0]==0:\n",
      "/var/folders/kr/2j58542j2_7chf9_h8bmr30mb0_4n0/T/ipykernel_15666/3676463546.py:9: UserWarning: Geometry is in a geographic CRS. Results from 'area' are likely incorrect. Use 'GeoSeries.to_crs()' to re-project geometries to a projected CRS before this operation.\n",
      "\n",
      "  if SFBay_CBG.area[SFBay_CBG.MESOZONE==p_df['locationZone'][i]].values[0]==0:\n",
      "/var/folders/kr/2j58542j2_7chf9_h8bmr30mb0_4n0/T/ipykernel_15666/3676463546.py:9: UserWarning: Geometry is in a geographic CRS. Results from 'area' are likely incorrect. Use 'GeoSeries.to_crs()' to re-project geometries to a projected CRS before this operation.\n",
      "\n",
      "  if SFBay_CBG.area[SFBay_CBG.MESOZONE==p_df['locationZone'][i]].values[0]==0:\n",
      "/var/folders/kr/2j58542j2_7chf9_h8bmr30mb0_4n0/T/ipykernel_15666/3676463546.py:9: UserWarning: Geometry is in a geographic CRS. Results from 'area' are likely incorrect. Use 'GeoSeries.to_crs()' to re-project geometries to a projected CRS before this operation.\n",
      "\n",
      "  if SFBay_CBG.area[SFBay_CBG.MESOZONE==p_df['locationZone'][i]].values[0]==0:\n",
      "/var/folders/kr/2j58542j2_7chf9_h8bmr30mb0_4n0/T/ipykernel_15666/3676463546.py:9: UserWarning: Geometry is in a geographic CRS. Results from 'area' are likely incorrect. Use 'GeoSeries.to_crs()' to re-project geometries to a projected CRS before this operation.\n",
      "\n",
      "  if SFBay_CBG.area[SFBay_CBG.MESOZONE==p_df['locationZone'][i]].values[0]==0:\n"
     ]
    },
    {
     "name": "stdout",
     "output_type": "stream",
     "text": [
      "570\n",
      "571\n",
      "572\n",
      "573\n",
      "574\n"
     ]
    },
    {
     "name": "stderr",
     "output_type": "stream",
     "text": [
      "/var/folders/kr/2j58542j2_7chf9_h8bmr30mb0_4n0/T/ipykernel_15666/3676463546.py:9: UserWarning: Geometry is in a geographic CRS. Results from 'area' are likely incorrect. Use 'GeoSeries.to_crs()' to re-project geometries to a projected CRS before this operation.\n",
      "\n",
      "  if SFBay_CBG.area[SFBay_CBG.MESOZONE==p_df['locationZone'][i]].values[0]==0:\n",
      "/var/folders/kr/2j58542j2_7chf9_h8bmr30mb0_4n0/T/ipykernel_15666/3676463546.py:9: UserWarning: Geometry is in a geographic CRS. Results from 'area' are likely incorrect. Use 'GeoSeries.to_crs()' to re-project geometries to a projected CRS before this operation.\n",
      "\n",
      "  if SFBay_CBG.area[SFBay_CBG.MESOZONE==p_df['locationZone'][i]].values[0]==0:\n",
      "/var/folders/kr/2j58542j2_7chf9_h8bmr30mb0_4n0/T/ipykernel_15666/3676463546.py:9: UserWarning: Geometry is in a geographic CRS. Results from 'area' are likely incorrect. Use 'GeoSeries.to_crs()' to re-project geometries to a projected CRS before this operation.\n",
      "\n",
      "  if SFBay_CBG.area[SFBay_CBG.MESOZONE==p_df['locationZone'][i]].values[0]==0:\n",
      "/var/folders/kr/2j58542j2_7chf9_h8bmr30mb0_4n0/T/ipykernel_15666/3676463546.py:9: UserWarning: Geometry is in a geographic CRS. Results from 'area' are likely incorrect. Use 'GeoSeries.to_crs()' to re-project geometries to a projected CRS before this operation.\n",
      "\n",
      "  if SFBay_CBG.area[SFBay_CBG.MESOZONE==p_df['locationZone'][i]].values[0]==0:\n"
     ]
    },
    {
     "name": "stdout",
     "output_type": "stream",
     "text": [
      "575\n",
      "576\n",
      "577\n",
      "578\n",
      "579\n"
     ]
    },
    {
     "name": "stderr",
     "output_type": "stream",
     "text": [
      "/var/folders/kr/2j58542j2_7chf9_h8bmr30mb0_4n0/T/ipykernel_15666/3676463546.py:9: UserWarning: Geometry is in a geographic CRS. Results from 'area' are likely incorrect. Use 'GeoSeries.to_crs()' to re-project geometries to a projected CRS before this operation.\n",
      "\n",
      "  if SFBay_CBG.area[SFBay_CBG.MESOZONE==p_df['locationZone'][i]].values[0]==0:\n",
      "/var/folders/kr/2j58542j2_7chf9_h8bmr30mb0_4n0/T/ipykernel_15666/3676463546.py:9: UserWarning: Geometry is in a geographic CRS. Results from 'area' are likely incorrect. Use 'GeoSeries.to_crs()' to re-project geometries to a projected CRS before this operation.\n",
      "\n",
      "  if SFBay_CBG.area[SFBay_CBG.MESOZONE==p_df['locationZone'][i]].values[0]==0:\n",
      "/var/folders/kr/2j58542j2_7chf9_h8bmr30mb0_4n0/T/ipykernel_15666/3676463546.py:9: UserWarning: Geometry is in a geographic CRS. Results from 'area' are likely incorrect. Use 'GeoSeries.to_crs()' to re-project geometries to a projected CRS before this operation.\n",
      "\n",
      "  if SFBay_CBG.area[SFBay_CBG.MESOZONE==p_df['locationZone'][i]].values[0]==0:\n",
      "/var/folders/kr/2j58542j2_7chf9_h8bmr30mb0_4n0/T/ipykernel_15666/3676463546.py:9: UserWarning: Geometry is in a geographic CRS. Results from 'area' are likely incorrect. Use 'GeoSeries.to_crs()' to re-project geometries to a projected CRS before this operation.\n",
      "\n",
      "  if SFBay_CBG.area[SFBay_CBG.MESOZONE==p_df['locationZone'][i]].values[0]==0:\n",
      "/var/folders/kr/2j58542j2_7chf9_h8bmr30mb0_4n0/T/ipykernel_15666/3676463546.py:9: UserWarning: Geometry is in a geographic CRS. Results from 'area' are likely incorrect. Use 'GeoSeries.to_crs()' to re-project geometries to a projected CRS before this operation.\n",
      "\n",
      "  if SFBay_CBG.area[SFBay_CBG.MESOZONE==p_df['locationZone'][i]].values[0]==0:\n"
     ]
    },
    {
     "name": "stdout",
     "output_type": "stream",
     "text": [
      "580\n",
      "581\n",
      "582\n",
      "583\n",
      "584\n",
      "585\n"
     ]
    },
    {
     "name": "stderr",
     "output_type": "stream",
     "text": [
      "/var/folders/kr/2j58542j2_7chf9_h8bmr30mb0_4n0/T/ipykernel_15666/3676463546.py:9: UserWarning: Geometry is in a geographic CRS. Results from 'area' are likely incorrect. Use 'GeoSeries.to_crs()' to re-project geometries to a projected CRS before this operation.\n",
      "\n",
      "  if SFBay_CBG.area[SFBay_CBG.MESOZONE==p_df['locationZone'][i]].values[0]==0:\n",
      "/var/folders/kr/2j58542j2_7chf9_h8bmr30mb0_4n0/T/ipykernel_15666/3676463546.py:9: UserWarning: Geometry is in a geographic CRS. Results from 'area' are likely incorrect. Use 'GeoSeries.to_crs()' to re-project geometries to a projected CRS before this operation.\n",
      "\n",
      "  if SFBay_CBG.area[SFBay_CBG.MESOZONE==p_df['locationZone'][i]].values[0]==0:\n",
      "/var/folders/kr/2j58542j2_7chf9_h8bmr30mb0_4n0/T/ipykernel_15666/3676463546.py:9: UserWarning: Geometry is in a geographic CRS. Results from 'area' are likely incorrect. Use 'GeoSeries.to_crs()' to re-project geometries to a projected CRS before this operation.\n",
      "\n",
      "  if SFBay_CBG.area[SFBay_CBG.MESOZONE==p_df['locationZone'][i]].values[0]==0:\n",
      "/var/folders/kr/2j58542j2_7chf9_h8bmr30mb0_4n0/T/ipykernel_15666/3676463546.py:9: UserWarning: Geometry is in a geographic CRS. Results from 'area' are likely incorrect. Use 'GeoSeries.to_crs()' to re-project geometries to a projected CRS before this operation.\n",
      "\n",
      "  if SFBay_CBG.area[SFBay_CBG.MESOZONE==p_df['locationZone'][i]].values[0]==0:\n",
      "/var/folders/kr/2j58542j2_7chf9_h8bmr30mb0_4n0/T/ipykernel_15666/3676463546.py:9: UserWarning: Geometry is in a geographic CRS. Results from 'area' are likely incorrect. Use 'GeoSeries.to_crs()' to re-project geometries to a projected CRS before this operation.\n",
      "\n",
      "  if SFBay_CBG.area[SFBay_CBG.MESOZONE==p_df['locationZone'][i]].values[0]==0:\n",
      "/var/folders/kr/2j58542j2_7chf9_h8bmr30mb0_4n0/T/ipykernel_15666/3676463546.py:9: UserWarning: Geometry is in a geographic CRS. Results from 'area' are likely incorrect. Use 'GeoSeries.to_crs()' to re-project geometries to a projected CRS before this operation.\n",
      "\n",
      "  if SFBay_CBG.area[SFBay_CBG.MESOZONE==p_df['locationZone'][i]].values[0]==0:\n"
     ]
    },
    {
     "name": "stdout",
     "output_type": "stream",
     "text": [
      "586\n",
      "587\n",
      "588\n",
      "589\n",
      "590\n"
     ]
    },
    {
     "name": "stderr",
     "output_type": "stream",
     "text": [
      "/var/folders/kr/2j58542j2_7chf9_h8bmr30mb0_4n0/T/ipykernel_15666/3676463546.py:9: UserWarning: Geometry is in a geographic CRS. Results from 'area' are likely incorrect. Use 'GeoSeries.to_crs()' to re-project geometries to a projected CRS before this operation.\n",
      "\n",
      "  if SFBay_CBG.area[SFBay_CBG.MESOZONE==p_df['locationZone'][i]].values[0]==0:\n",
      "/var/folders/kr/2j58542j2_7chf9_h8bmr30mb0_4n0/T/ipykernel_15666/3676463546.py:9: UserWarning: Geometry is in a geographic CRS. Results from 'area' are likely incorrect. Use 'GeoSeries.to_crs()' to re-project geometries to a projected CRS before this operation.\n",
      "\n",
      "  if SFBay_CBG.area[SFBay_CBG.MESOZONE==p_df['locationZone'][i]].values[0]==0:\n",
      "/var/folders/kr/2j58542j2_7chf9_h8bmr30mb0_4n0/T/ipykernel_15666/3676463546.py:9: UserWarning: Geometry is in a geographic CRS. Results from 'area' are likely incorrect. Use 'GeoSeries.to_crs()' to re-project geometries to a projected CRS before this operation.\n",
      "\n",
      "  if SFBay_CBG.area[SFBay_CBG.MESOZONE==p_df['locationZone'][i]].values[0]==0:\n",
      "/var/folders/kr/2j58542j2_7chf9_h8bmr30mb0_4n0/T/ipykernel_15666/3676463546.py:9: UserWarning: Geometry is in a geographic CRS. Results from 'area' are likely incorrect. Use 'GeoSeries.to_crs()' to re-project geometries to a projected CRS before this operation.\n",
      "\n",
      "  if SFBay_CBG.area[SFBay_CBG.MESOZONE==p_df['locationZone'][i]].values[0]==0:\n",
      "/var/folders/kr/2j58542j2_7chf9_h8bmr30mb0_4n0/T/ipykernel_15666/3676463546.py:9: UserWarning: Geometry is in a geographic CRS. Results from 'area' are likely incorrect. Use 'GeoSeries.to_crs()' to re-project geometries to a projected CRS before this operation.\n",
      "\n",
      "  if SFBay_CBG.area[SFBay_CBG.MESOZONE==p_df['locationZone'][i]].values[0]==0:\n"
     ]
    },
    {
     "name": "stdout",
     "output_type": "stream",
     "text": [
      "591\n",
      "592\n",
      "593\n",
      "594\n",
      "595\n"
     ]
    },
    {
     "name": "stderr",
     "output_type": "stream",
     "text": [
      "/var/folders/kr/2j58542j2_7chf9_h8bmr30mb0_4n0/T/ipykernel_15666/3676463546.py:9: UserWarning: Geometry is in a geographic CRS. Results from 'area' are likely incorrect. Use 'GeoSeries.to_crs()' to re-project geometries to a projected CRS before this operation.\n",
      "\n",
      "  if SFBay_CBG.area[SFBay_CBG.MESOZONE==p_df['locationZone'][i]].values[0]==0:\n",
      "/var/folders/kr/2j58542j2_7chf9_h8bmr30mb0_4n0/T/ipykernel_15666/3676463546.py:9: UserWarning: Geometry is in a geographic CRS. Results from 'area' are likely incorrect. Use 'GeoSeries.to_crs()' to re-project geometries to a projected CRS before this operation.\n",
      "\n",
      "  if SFBay_CBG.area[SFBay_CBG.MESOZONE==p_df['locationZone'][i]].values[0]==0:\n",
      "/var/folders/kr/2j58542j2_7chf9_h8bmr30mb0_4n0/T/ipykernel_15666/3676463546.py:9: UserWarning: Geometry is in a geographic CRS. Results from 'area' are likely incorrect. Use 'GeoSeries.to_crs()' to re-project geometries to a projected CRS before this operation.\n",
      "\n",
      "  if SFBay_CBG.area[SFBay_CBG.MESOZONE==p_df['locationZone'][i]].values[0]==0:\n",
      "/var/folders/kr/2j58542j2_7chf9_h8bmr30mb0_4n0/T/ipykernel_15666/3676463546.py:9: UserWarning: Geometry is in a geographic CRS. Results from 'area' are likely incorrect. Use 'GeoSeries.to_crs()' to re-project geometries to a projected CRS before this operation.\n",
      "\n",
      "  if SFBay_CBG.area[SFBay_CBG.MESOZONE==p_df['locationZone'][i]].values[0]==0:\n",
      "/var/folders/kr/2j58542j2_7chf9_h8bmr30mb0_4n0/T/ipykernel_15666/3676463546.py:9: UserWarning: Geometry is in a geographic CRS. Results from 'area' are likely incorrect. Use 'GeoSeries.to_crs()' to re-project geometries to a projected CRS before this operation.\n",
      "\n",
      "  if SFBay_CBG.area[SFBay_CBG.MESOZONE==p_df['locationZone'][i]].values[0]==0:\n"
     ]
    },
    {
     "name": "stdout",
     "output_type": "stream",
     "text": [
      "596\n",
      "597\n",
      "598\n",
      "599\n",
      "600\n"
     ]
    },
    {
     "name": "stderr",
     "output_type": "stream",
     "text": [
      "/var/folders/kr/2j58542j2_7chf9_h8bmr30mb0_4n0/T/ipykernel_15666/3676463546.py:9: UserWarning: Geometry is in a geographic CRS. Results from 'area' are likely incorrect. Use 'GeoSeries.to_crs()' to re-project geometries to a projected CRS before this operation.\n",
      "\n",
      "  if SFBay_CBG.area[SFBay_CBG.MESOZONE==p_df['locationZone'][i]].values[0]==0:\n",
      "/var/folders/kr/2j58542j2_7chf9_h8bmr30mb0_4n0/T/ipykernel_15666/3676463546.py:9: UserWarning: Geometry is in a geographic CRS. Results from 'area' are likely incorrect. Use 'GeoSeries.to_crs()' to re-project geometries to a projected CRS before this operation.\n",
      "\n",
      "  if SFBay_CBG.area[SFBay_CBG.MESOZONE==p_df['locationZone'][i]].values[0]==0:\n",
      "/var/folders/kr/2j58542j2_7chf9_h8bmr30mb0_4n0/T/ipykernel_15666/3676463546.py:9: UserWarning: Geometry is in a geographic CRS. Results from 'area' are likely incorrect. Use 'GeoSeries.to_crs()' to re-project geometries to a projected CRS before this operation.\n",
      "\n",
      "  if SFBay_CBG.area[SFBay_CBG.MESOZONE==p_df['locationZone'][i]].values[0]==0:\n",
      "/var/folders/kr/2j58542j2_7chf9_h8bmr30mb0_4n0/T/ipykernel_15666/3676463546.py:9: UserWarning: Geometry is in a geographic CRS. Results from 'area' are likely incorrect. Use 'GeoSeries.to_crs()' to re-project geometries to a projected CRS before this operation.\n",
      "\n",
      "  if SFBay_CBG.area[SFBay_CBG.MESOZONE==p_df['locationZone'][i]].values[0]==0:\n",
      "/var/folders/kr/2j58542j2_7chf9_h8bmr30mb0_4n0/T/ipykernel_15666/3676463546.py:9: UserWarning: Geometry is in a geographic CRS. Results from 'area' are likely incorrect. Use 'GeoSeries.to_crs()' to re-project geometries to a projected CRS before this operation.\n",
      "\n",
      "  if SFBay_CBG.area[SFBay_CBG.MESOZONE==p_df['locationZone'][i]].values[0]==0:\n"
     ]
    },
    {
     "name": "stdout",
     "output_type": "stream",
     "text": [
      "601\n",
      "602\n",
      "603\n",
      "604\n",
      "605\n",
      "606\n"
     ]
    },
    {
     "name": "stderr",
     "output_type": "stream",
     "text": [
      "/var/folders/kr/2j58542j2_7chf9_h8bmr30mb0_4n0/T/ipykernel_15666/3676463546.py:9: UserWarning: Geometry is in a geographic CRS. Results from 'area' are likely incorrect. Use 'GeoSeries.to_crs()' to re-project geometries to a projected CRS before this operation.\n",
      "\n",
      "  if SFBay_CBG.area[SFBay_CBG.MESOZONE==p_df['locationZone'][i]].values[0]==0:\n",
      "/var/folders/kr/2j58542j2_7chf9_h8bmr30mb0_4n0/T/ipykernel_15666/3676463546.py:9: UserWarning: Geometry is in a geographic CRS. Results from 'area' are likely incorrect. Use 'GeoSeries.to_crs()' to re-project geometries to a projected CRS before this operation.\n",
      "\n",
      "  if SFBay_CBG.area[SFBay_CBG.MESOZONE==p_df['locationZone'][i]].values[0]==0:\n",
      "/var/folders/kr/2j58542j2_7chf9_h8bmr30mb0_4n0/T/ipykernel_15666/3676463546.py:9: UserWarning: Geometry is in a geographic CRS. Results from 'area' are likely incorrect. Use 'GeoSeries.to_crs()' to re-project geometries to a projected CRS before this operation.\n",
      "\n",
      "  if SFBay_CBG.area[SFBay_CBG.MESOZONE==p_df['locationZone'][i]].values[0]==0:\n",
      "/var/folders/kr/2j58542j2_7chf9_h8bmr30mb0_4n0/T/ipykernel_15666/3676463546.py:9: UserWarning: Geometry is in a geographic CRS. Results from 'area' are likely incorrect. Use 'GeoSeries.to_crs()' to re-project geometries to a projected CRS before this operation.\n",
      "\n",
      "  if SFBay_CBG.area[SFBay_CBG.MESOZONE==p_df['locationZone'][i]].values[0]==0:\n",
      "/var/folders/kr/2j58542j2_7chf9_h8bmr30mb0_4n0/T/ipykernel_15666/3676463546.py:9: UserWarning: Geometry is in a geographic CRS. Results from 'area' are likely incorrect. Use 'GeoSeries.to_crs()' to re-project geometries to a projected CRS before this operation.\n",
      "\n",
      "  if SFBay_CBG.area[SFBay_CBG.MESOZONE==p_df['locationZone'][i]].values[0]==0:\n",
      "/var/folders/kr/2j58542j2_7chf9_h8bmr30mb0_4n0/T/ipykernel_15666/3676463546.py:9: UserWarning: Geometry is in a geographic CRS. Results from 'area' are likely incorrect. Use 'GeoSeries.to_crs()' to re-project geometries to a projected CRS before this operation.\n",
      "\n",
      "  if SFBay_CBG.area[SFBay_CBG.MESOZONE==p_df['locationZone'][i]].values[0]==0:\n"
     ]
    },
    {
     "name": "stdout",
     "output_type": "stream",
     "text": [
      "607\n",
      "608\n",
      "609\n",
      "610\n",
      "611\n"
     ]
    },
    {
     "name": "stderr",
     "output_type": "stream",
     "text": [
      "/var/folders/kr/2j58542j2_7chf9_h8bmr30mb0_4n0/T/ipykernel_15666/3676463546.py:9: UserWarning: Geometry is in a geographic CRS. Results from 'area' are likely incorrect. Use 'GeoSeries.to_crs()' to re-project geometries to a projected CRS before this operation.\n",
      "\n",
      "  if SFBay_CBG.area[SFBay_CBG.MESOZONE==p_df['locationZone'][i]].values[0]==0:\n",
      "/var/folders/kr/2j58542j2_7chf9_h8bmr30mb0_4n0/T/ipykernel_15666/3676463546.py:9: UserWarning: Geometry is in a geographic CRS. Results from 'area' are likely incorrect. Use 'GeoSeries.to_crs()' to re-project geometries to a projected CRS before this operation.\n",
      "\n",
      "  if SFBay_CBG.area[SFBay_CBG.MESOZONE==p_df['locationZone'][i]].values[0]==0:\n",
      "/var/folders/kr/2j58542j2_7chf9_h8bmr30mb0_4n0/T/ipykernel_15666/3676463546.py:9: UserWarning: Geometry is in a geographic CRS. Results from 'area' are likely incorrect. Use 'GeoSeries.to_crs()' to re-project geometries to a projected CRS before this operation.\n",
      "\n",
      "  if SFBay_CBG.area[SFBay_CBG.MESOZONE==p_df['locationZone'][i]].values[0]==0:\n",
      "/var/folders/kr/2j58542j2_7chf9_h8bmr30mb0_4n0/T/ipykernel_15666/3676463546.py:9: UserWarning: Geometry is in a geographic CRS. Results from 'area' are likely incorrect. Use 'GeoSeries.to_crs()' to re-project geometries to a projected CRS before this operation.\n",
      "\n",
      "  if SFBay_CBG.area[SFBay_CBG.MESOZONE==p_df['locationZone'][i]].values[0]==0:\n",
      "/var/folders/kr/2j58542j2_7chf9_h8bmr30mb0_4n0/T/ipykernel_15666/3676463546.py:9: UserWarning: Geometry is in a geographic CRS. Results from 'area' are likely incorrect. Use 'GeoSeries.to_crs()' to re-project geometries to a projected CRS before this operation.\n",
      "\n",
      "  if SFBay_CBG.area[SFBay_CBG.MESOZONE==p_df['locationZone'][i]].values[0]==0:\n"
     ]
    },
    {
     "name": "stdout",
     "output_type": "stream",
     "text": [
      "612\n",
      "613\n",
      "614\n",
      "615\n",
      "616\n"
     ]
    },
    {
     "name": "stderr",
     "output_type": "stream",
     "text": [
      "/var/folders/kr/2j58542j2_7chf9_h8bmr30mb0_4n0/T/ipykernel_15666/3676463546.py:9: UserWarning: Geometry is in a geographic CRS. Results from 'area' are likely incorrect. Use 'GeoSeries.to_crs()' to re-project geometries to a projected CRS before this operation.\n",
      "\n",
      "  if SFBay_CBG.area[SFBay_CBG.MESOZONE==p_df['locationZone'][i]].values[0]==0:\n",
      "/var/folders/kr/2j58542j2_7chf9_h8bmr30mb0_4n0/T/ipykernel_15666/3676463546.py:9: UserWarning: Geometry is in a geographic CRS. Results from 'area' are likely incorrect. Use 'GeoSeries.to_crs()' to re-project geometries to a projected CRS before this operation.\n",
      "\n",
      "  if SFBay_CBG.area[SFBay_CBG.MESOZONE==p_df['locationZone'][i]].values[0]==0:\n",
      "/var/folders/kr/2j58542j2_7chf9_h8bmr30mb0_4n0/T/ipykernel_15666/3676463546.py:9: UserWarning: Geometry is in a geographic CRS. Results from 'area' are likely incorrect. Use 'GeoSeries.to_crs()' to re-project geometries to a projected CRS before this operation.\n",
      "\n",
      "  if SFBay_CBG.area[SFBay_CBG.MESOZONE==p_df['locationZone'][i]].values[0]==0:\n",
      "/var/folders/kr/2j58542j2_7chf9_h8bmr30mb0_4n0/T/ipykernel_15666/3676463546.py:9: UserWarning: Geometry is in a geographic CRS. Results from 'area' are likely incorrect. Use 'GeoSeries.to_crs()' to re-project geometries to a projected CRS before this operation.\n",
      "\n",
      "  if SFBay_CBG.area[SFBay_CBG.MESOZONE==p_df['locationZone'][i]].values[0]==0:\n",
      "/var/folders/kr/2j58542j2_7chf9_h8bmr30mb0_4n0/T/ipykernel_15666/3676463546.py:9: UserWarning: Geometry is in a geographic CRS. Results from 'area' are likely incorrect. Use 'GeoSeries.to_crs()' to re-project geometries to a projected CRS before this operation.\n",
      "\n",
      "  if SFBay_CBG.area[SFBay_CBG.MESOZONE==p_df['locationZone'][i]].values[0]==0:\n"
     ]
    },
    {
     "name": "stdout",
     "output_type": "stream",
     "text": [
      "617\n",
      "618\n",
      "619\n",
      "620\n",
      "621\n",
      "622\n"
     ]
    },
    {
     "name": "stderr",
     "output_type": "stream",
     "text": [
      "/var/folders/kr/2j58542j2_7chf9_h8bmr30mb0_4n0/T/ipykernel_15666/3676463546.py:9: UserWarning: Geometry is in a geographic CRS. Results from 'area' are likely incorrect. Use 'GeoSeries.to_crs()' to re-project geometries to a projected CRS before this operation.\n",
      "\n",
      "  if SFBay_CBG.area[SFBay_CBG.MESOZONE==p_df['locationZone'][i]].values[0]==0:\n",
      "/var/folders/kr/2j58542j2_7chf9_h8bmr30mb0_4n0/T/ipykernel_15666/3676463546.py:9: UserWarning: Geometry is in a geographic CRS. Results from 'area' are likely incorrect. Use 'GeoSeries.to_crs()' to re-project geometries to a projected CRS before this operation.\n",
      "\n",
      "  if SFBay_CBG.area[SFBay_CBG.MESOZONE==p_df['locationZone'][i]].values[0]==0:\n",
      "/var/folders/kr/2j58542j2_7chf9_h8bmr30mb0_4n0/T/ipykernel_15666/3676463546.py:9: UserWarning: Geometry is in a geographic CRS. Results from 'area' are likely incorrect. Use 'GeoSeries.to_crs()' to re-project geometries to a projected CRS before this operation.\n",
      "\n",
      "  if SFBay_CBG.area[SFBay_CBG.MESOZONE==p_df['locationZone'][i]].values[0]==0:\n",
      "/var/folders/kr/2j58542j2_7chf9_h8bmr30mb0_4n0/T/ipykernel_15666/3676463546.py:9: UserWarning: Geometry is in a geographic CRS. Results from 'area' are likely incorrect. Use 'GeoSeries.to_crs()' to re-project geometries to a projected CRS before this operation.\n",
      "\n",
      "  if SFBay_CBG.area[SFBay_CBG.MESOZONE==p_df['locationZone'][i]].values[0]==0:\n",
      "/var/folders/kr/2j58542j2_7chf9_h8bmr30mb0_4n0/T/ipykernel_15666/3676463546.py:9: UserWarning: Geometry is in a geographic CRS. Results from 'area' are likely incorrect. Use 'GeoSeries.to_crs()' to re-project geometries to a projected CRS before this operation.\n",
      "\n",
      "  if SFBay_CBG.area[SFBay_CBG.MESOZONE==p_df['locationZone'][i]].values[0]==0:\n",
      "/var/folders/kr/2j58542j2_7chf9_h8bmr30mb0_4n0/T/ipykernel_15666/3676463546.py:9: UserWarning: Geometry is in a geographic CRS. Results from 'area' are likely incorrect. Use 'GeoSeries.to_crs()' to re-project geometries to a projected CRS before this operation.\n",
      "\n",
      "  if SFBay_CBG.area[SFBay_CBG.MESOZONE==p_df['locationZone'][i]].values[0]==0:\n",
      "/var/folders/kr/2j58542j2_7chf9_h8bmr30mb0_4n0/T/ipykernel_15666/3676463546.py:9: UserWarning: Geometry is in a geographic CRS. Results from 'area' are likely incorrect. Use 'GeoSeries.to_crs()' to re-project geometries to a projected CRS before this operation.\n",
      "\n",
      "  if SFBay_CBG.area[SFBay_CBG.MESOZONE==p_df['locationZone'][i]].values[0]==0:\n",
      "/var/folders/kr/2j58542j2_7chf9_h8bmr30mb0_4n0/T/ipykernel_15666/3676463546.py:9: UserWarning: Geometry is in a geographic CRS. Results from 'area' are likely incorrect. Use 'GeoSeries.to_crs()' to re-project geometries to a projected CRS before this operation.\n",
      "\n",
      "  if SFBay_CBG.area[SFBay_CBG.MESOZONE==p_df['locationZone'][i]].values[0]==0:\n",
      "/var/folders/kr/2j58542j2_7chf9_h8bmr30mb0_4n0/T/ipykernel_15666/3676463546.py:9: UserWarning: Geometry is in a geographic CRS. Results from 'area' are likely incorrect. Use 'GeoSeries.to_crs()' to re-project geometries to a projected CRS before this operation.\n",
      "\n",
      "  if SFBay_CBG.area[SFBay_CBG.MESOZONE==p_df['locationZone'][i]].values[0]==0:\n",
      "/var/folders/kr/2j58542j2_7chf9_h8bmr30mb0_4n0/T/ipykernel_15666/3676463546.py:9: UserWarning: Geometry is in a geographic CRS. Results from 'area' are likely incorrect. Use 'GeoSeries.to_crs()' to re-project geometries to a projected CRS before this operation.\n",
      "\n",
      "  if SFBay_CBG.area[SFBay_CBG.MESOZONE==p_df['locationZone'][i]].values[0]==0:\n"
     ]
    },
    {
     "name": "stdout",
     "output_type": "stream",
     "text": [
      "623\n",
      "624\n",
      "625\n",
      "626\n",
      "627\n"
     ]
    },
    {
     "name": "stderr",
     "output_type": "stream",
     "text": [
      "/var/folders/kr/2j58542j2_7chf9_h8bmr30mb0_4n0/T/ipykernel_15666/3676463546.py:9: UserWarning: Geometry is in a geographic CRS. Results from 'area' are likely incorrect. Use 'GeoSeries.to_crs()' to re-project geometries to a projected CRS before this operation.\n",
      "\n",
      "  if SFBay_CBG.area[SFBay_CBG.MESOZONE==p_df['locationZone'][i]].values[0]==0:\n",
      "/var/folders/kr/2j58542j2_7chf9_h8bmr30mb0_4n0/T/ipykernel_15666/3676463546.py:9: UserWarning: Geometry is in a geographic CRS. Results from 'area' are likely incorrect. Use 'GeoSeries.to_crs()' to re-project geometries to a projected CRS before this operation.\n",
      "\n",
      "  if SFBay_CBG.area[SFBay_CBG.MESOZONE==p_df['locationZone'][i]].values[0]==0:\n",
      "/var/folders/kr/2j58542j2_7chf9_h8bmr30mb0_4n0/T/ipykernel_15666/3676463546.py:9: UserWarning: Geometry is in a geographic CRS. Results from 'area' are likely incorrect. Use 'GeoSeries.to_crs()' to re-project geometries to a projected CRS before this operation.\n",
      "\n",
      "  if SFBay_CBG.area[SFBay_CBG.MESOZONE==p_df['locationZone'][i]].values[0]==0:\n",
      "/var/folders/kr/2j58542j2_7chf9_h8bmr30mb0_4n0/T/ipykernel_15666/3676463546.py:9: UserWarning: Geometry is in a geographic CRS. Results from 'area' are likely incorrect. Use 'GeoSeries.to_crs()' to re-project geometries to a projected CRS before this operation.\n",
      "\n",
      "  if SFBay_CBG.area[SFBay_CBG.MESOZONE==p_df['locationZone'][i]].values[0]==0:\n",
      "/var/folders/kr/2j58542j2_7chf9_h8bmr30mb0_4n0/T/ipykernel_15666/3676463546.py:9: UserWarning: Geometry is in a geographic CRS. Results from 'area' are likely incorrect. Use 'GeoSeries.to_crs()' to re-project geometries to a projected CRS before this operation.\n",
      "\n",
      "  if SFBay_CBG.area[SFBay_CBG.MESOZONE==p_df['locationZone'][i]].values[0]==0:\n"
     ]
    },
    {
     "name": "stdout",
     "output_type": "stream",
     "text": [
      "628\n",
      "629\n",
      "630\n",
      "631\n",
      "632\n"
     ]
    },
    {
     "name": "stderr",
     "output_type": "stream",
     "text": [
      "/var/folders/kr/2j58542j2_7chf9_h8bmr30mb0_4n0/T/ipykernel_15666/3676463546.py:9: UserWarning: Geometry is in a geographic CRS. Results from 'area' are likely incorrect. Use 'GeoSeries.to_crs()' to re-project geometries to a projected CRS before this operation.\n",
      "\n",
      "  if SFBay_CBG.area[SFBay_CBG.MESOZONE==p_df['locationZone'][i]].values[0]==0:\n",
      "/var/folders/kr/2j58542j2_7chf9_h8bmr30mb0_4n0/T/ipykernel_15666/3676463546.py:9: UserWarning: Geometry is in a geographic CRS. Results from 'area' are likely incorrect. Use 'GeoSeries.to_crs()' to re-project geometries to a projected CRS before this operation.\n",
      "\n",
      "  if SFBay_CBG.area[SFBay_CBG.MESOZONE==p_df['locationZone'][i]].values[0]==0:\n",
      "/var/folders/kr/2j58542j2_7chf9_h8bmr30mb0_4n0/T/ipykernel_15666/3676463546.py:9: UserWarning: Geometry is in a geographic CRS. Results from 'area' are likely incorrect. Use 'GeoSeries.to_crs()' to re-project geometries to a projected CRS before this operation.\n",
      "\n",
      "  if SFBay_CBG.area[SFBay_CBG.MESOZONE==p_df['locationZone'][i]].values[0]==0:\n",
      "/var/folders/kr/2j58542j2_7chf9_h8bmr30mb0_4n0/T/ipykernel_15666/3676463546.py:9: UserWarning: Geometry is in a geographic CRS. Results from 'area' are likely incorrect. Use 'GeoSeries.to_crs()' to re-project geometries to a projected CRS before this operation.\n",
      "\n",
      "  if SFBay_CBG.area[SFBay_CBG.MESOZONE==p_df['locationZone'][i]].values[0]==0:\n",
      "/var/folders/kr/2j58542j2_7chf9_h8bmr30mb0_4n0/T/ipykernel_15666/3676463546.py:9: UserWarning: Geometry is in a geographic CRS. Results from 'area' are likely incorrect. Use 'GeoSeries.to_crs()' to re-project geometries to a projected CRS before this operation.\n",
      "\n",
      "  if SFBay_CBG.area[SFBay_CBG.MESOZONE==p_df['locationZone'][i]].values[0]==0:\n"
     ]
    },
    {
     "name": "stdout",
     "output_type": "stream",
     "text": [
      "633\n",
      "634\n",
      "635\n",
      "636\n",
      "637\n"
     ]
    },
    {
     "name": "stderr",
     "output_type": "stream",
     "text": [
      "/var/folders/kr/2j58542j2_7chf9_h8bmr30mb0_4n0/T/ipykernel_15666/3676463546.py:9: UserWarning: Geometry is in a geographic CRS. Results from 'area' are likely incorrect. Use 'GeoSeries.to_crs()' to re-project geometries to a projected CRS before this operation.\n",
      "\n",
      "  if SFBay_CBG.area[SFBay_CBG.MESOZONE==p_df['locationZone'][i]].values[0]==0:\n",
      "/var/folders/kr/2j58542j2_7chf9_h8bmr30mb0_4n0/T/ipykernel_15666/3676463546.py:9: UserWarning: Geometry is in a geographic CRS. Results from 'area' are likely incorrect. Use 'GeoSeries.to_crs()' to re-project geometries to a projected CRS before this operation.\n",
      "\n",
      "  if SFBay_CBG.area[SFBay_CBG.MESOZONE==p_df['locationZone'][i]].values[0]==0:\n",
      "/var/folders/kr/2j58542j2_7chf9_h8bmr30mb0_4n0/T/ipykernel_15666/3676463546.py:9: UserWarning: Geometry is in a geographic CRS. Results from 'area' are likely incorrect. Use 'GeoSeries.to_crs()' to re-project geometries to a projected CRS before this operation.\n",
      "\n",
      "  if SFBay_CBG.area[SFBay_CBG.MESOZONE==p_df['locationZone'][i]].values[0]==0:\n",
      "/var/folders/kr/2j58542j2_7chf9_h8bmr30mb0_4n0/T/ipykernel_15666/3676463546.py:9: UserWarning: Geometry is in a geographic CRS. Results from 'area' are likely incorrect. Use 'GeoSeries.to_crs()' to re-project geometries to a projected CRS before this operation.\n",
      "\n",
      "  if SFBay_CBG.area[SFBay_CBG.MESOZONE==p_df['locationZone'][i]].values[0]==0:\n",
      "/var/folders/kr/2j58542j2_7chf9_h8bmr30mb0_4n0/T/ipykernel_15666/3676463546.py:9: UserWarning: Geometry is in a geographic CRS. Results from 'area' are likely incorrect. Use 'GeoSeries.to_crs()' to re-project geometries to a projected CRS before this operation.\n",
      "\n",
      "  if SFBay_CBG.area[SFBay_CBG.MESOZONE==p_df['locationZone'][i]].values[0]==0:\n"
     ]
    },
    {
     "name": "stdout",
     "output_type": "stream",
     "text": [
      "638\n",
      "639\n",
      "640\n",
      "641\n",
      "642\n"
     ]
    },
    {
     "name": "stderr",
     "output_type": "stream",
     "text": [
      "/var/folders/kr/2j58542j2_7chf9_h8bmr30mb0_4n0/T/ipykernel_15666/3676463546.py:9: UserWarning: Geometry is in a geographic CRS. Results from 'area' are likely incorrect. Use 'GeoSeries.to_crs()' to re-project geometries to a projected CRS before this operation.\n",
      "\n",
      "  if SFBay_CBG.area[SFBay_CBG.MESOZONE==p_df['locationZone'][i]].values[0]==0:\n",
      "/var/folders/kr/2j58542j2_7chf9_h8bmr30mb0_4n0/T/ipykernel_15666/3676463546.py:9: UserWarning: Geometry is in a geographic CRS. Results from 'area' are likely incorrect. Use 'GeoSeries.to_crs()' to re-project geometries to a projected CRS before this operation.\n",
      "\n",
      "  if SFBay_CBG.area[SFBay_CBG.MESOZONE==p_df['locationZone'][i]].values[0]==0:\n",
      "/var/folders/kr/2j58542j2_7chf9_h8bmr30mb0_4n0/T/ipykernel_15666/3676463546.py:9: UserWarning: Geometry is in a geographic CRS. Results from 'area' are likely incorrect. Use 'GeoSeries.to_crs()' to re-project geometries to a projected CRS before this operation.\n",
      "\n",
      "  if SFBay_CBG.area[SFBay_CBG.MESOZONE==p_df['locationZone'][i]].values[0]==0:\n",
      "/var/folders/kr/2j58542j2_7chf9_h8bmr30mb0_4n0/T/ipykernel_15666/3676463546.py:9: UserWarning: Geometry is in a geographic CRS. Results from 'area' are likely incorrect. Use 'GeoSeries.to_crs()' to re-project geometries to a projected CRS before this operation.\n",
      "\n",
      "  if SFBay_CBG.area[SFBay_CBG.MESOZONE==p_df['locationZone'][i]].values[0]==0:\n",
      "/var/folders/kr/2j58542j2_7chf9_h8bmr30mb0_4n0/T/ipykernel_15666/3676463546.py:9: UserWarning: Geometry is in a geographic CRS. Results from 'area' are likely incorrect. Use 'GeoSeries.to_crs()' to re-project geometries to a projected CRS before this operation.\n",
      "\n",
      "  if SFBay_CBG.area[SFBay_CBG.MESOZONE==p_df['locationZone'][i]].values[0]==0:\n"
     ]
    },
    {
     "name": "stdout",
     "output_type": "stream",
     "text": [
      "643\n",
      "644\n",
      "645\n",
      "646\n",
      "647\n"
     ]
    },
    {
     "name": "stderr",
     "output_type": "stream",
     "text": [
      "/var/folders/kr/2j58542j2_7chf9_h8bmr30mb0_4n0/T/ipykernel_15666/3676463546.py:9: UserWarning: Geometry is in a geographic CRS. Results from 'area' are likely incorrect. Use 'GeoSeries.to_crs()' to re-project geometries to a projected CRS before this operation.\n",
      "\n",
      "  if SFBay_CBG.area[SFBay_CBG.MESOZONE==p_df['locationZone'][i]].values[0]==0:\n",
      "/var/folders/kr/2j58542j2_7chf9_h8bmr30mb0_4n0/T/ipykernel_15666/3676463546.py:9: UserWarning: Geometry is in a geographic CRS. Results from 'area' are likely incorrect. Use 'GeoSeries.to_crs()' to re-project geometries to a projected CRS before this operation.\n",
      "\n",
      "  if SFBay_CBG.area[SFBay_CBG.MESOZONE==p_df['locationZone'][i]].values[0]==0:\n",
      "/var/folders/kr/2j58542j2_7chf9_h8bmr30mb0_4n0/T/ipykernel_15666/3676463546.py:9: UserWarning: Geometry is in a geographic CRS. Results from 'area' are likely incorrect. Use 'GeoSeries.to_crs()' to re-project geometries to a projected CRS before this operation.\n",
      "\n",
      "  if SFBay_CBG.area[SFBay_CBG.MESOZONE==p_df['locationZone'][i]].values[0]==0:\n",
      "/var/folders/kr/2j58542j2_7chf9_h8bmr30mb0_4n0/T/ipykernel_15666/3676463546.py:9: UserWarning: Geometry is in a geographic CRS. Results from 'area' are likely incorrect. Use 'GeoSeries.to_crs()' to re-project geometries to a projected CRS before this operation.\n",
      "\n",
      "  if SFBay_CBG.area[SFBay_CBG.MESOZONE==p_df['locationZone'][i]].values[0]==0:\n",
      "/var/folders/kr/2j58542j2_7chf9_h8bmr30mb0_4n0/T/ipykernel_15666/3676463546.py:9: UserWarning: Geometry is in a geographic CRS. Results from 'area' are likely incorrect. Use 'GeoSeries.to_crs()' to re-project geometries to a projected CRS before this operation.\n",
      "\n",
      "  if SFBay_CBG.area[SFBay_CBG.MESOZONE==p_df['locationZone'][i]].values[0]==0:\n"
     ]
    },
    {
     "name": "stdout",
     "output_type": "stream",
     "text": [
      "648\n",
      "649\n",
      "650\n",
      "651\n",
      "652\n",
      "653\n"
     ]
    },
    {
     "name": "stderr",
     "output_type": "stream",
     "text": [
      "/var/folders/kr/2j58542j2_7chf9_h8bmr30mb0_4n0/T/ipykernel_15666/3676463546.py:9: UserWarning: Geometry is in a geographic CRS. Results from 'area' are likely incorrect. Use 'GeoSeries.to_crs()' to re-project geometries to a projected CRS before this operation.\n",
      "\n",
      "  if SFBay_CBG.area[SFBay_CBG.MESOZONE==p_df['locationZone'][i]].values[0]==0:\n",
      "/var/folders/kr/2j58542j2_7chf9_h8bmr30mb0_4n0/T/ipykernel_15666/3676463546.py:9: UserWarning: Geometry is in a geographic CRS. Results from 'area' are likely incorrect. Use 'GeoSeries.to_crs()' to re-project geometries to a projected CRS before this operation.\n",
      "\n",
      "  if SFBay_CBG.area[SFBay_CBG.MESOZONE==p_df['locationZone'][i]].values[0]==0:\n",
      "/var/folders/kr/2j58542j2_7chf9_h8bmr30mb0_4n0/T/ipykernel_15666/3676463546.py:9: UserWarning: Geometry is in a geographic CRS. Results from 'area' are likely incorrect. Use 'GeoSeries.to_crs()' to re-project geometries to a projected CRS before this operation.\n",
      "\n",
      "  if SFBay_CBG.area[SFBay_CBG.MESOZONE==p_df['locationZone'][i]].values[0]==0:\n",
      "/var/folders/kr/2j58542j2_7chf9_h8bmr30mb0_4n0/T/ipykernel_15666/3676463546.py:9: UserWarning: Geometry is in a geographic CRS. Results from 'area' are likely incorrect. Use 'GeoSeries.to_crs()' to re-project geometries to a projected CRS before this operation.\n",
      "\n",
      "  if SFBay_CBG.area[SFBay_CBG.MESOZONE==p_df['locationZone'][i]].values[0]==0:\n",
      "/var/folders/kr/2j58542j2_7chf9_h8bmr30mb0_4n0/T/ipykernel_15666/3676463546.py:9: UserWarning: Geometry is in a geographic CRS. Results from 'area' are likely incorrect. Use 'GeoSeries.to_crs()' to re-project geometries to a projected CRS before this operation.\n",
      "\n",
      "  if SFBay_CBG.area[SFBay_CBG.MESOZONE==p_df['locationZone'][i]].values[0]==0:\n"
     ]
    },
    {
     "name": "stdout",
     "output_type": "stream",
     "text": [
      "654\n",
      "655\n",
      "656\n",
      "657\n",
      "658\n",
      "659\n"
     ]
    },
    {
     "name": "stderr",
     "output_type": "stream",
     "text": [
      "/var/folders/kr/2j58542j2_7chf9_h8bmr30mb0_4n0/T/ipykernel_15666/3676463546.py:9: UserWarning: Geometry is in a geographic CRS. Results from 'area' are likely incorrect. Use 'GeoSeries.to_crs()' to re-project geometries to a projected CRS before this operation.\n",
      "\n",
      "  if SFBay_CBG.area[SFBay_CBG.MESOZONE==p_df['locationZone'][i]].values[0]==0:\n",
      "/var/folders/kr/2j58542j2_7chf9_h8bmr30mb0_4n0/T/ipykernel_15666/3676463546.py:9: UserWarning: Geometry is in a geographic CRS. Results from 'area' are likely incorrect. Use 'GeoSeries.to_crs()' to re-project geometries to a projected CRS before this operation.\n",
      "\n",
      "  if SFBay_CBG.area[SFBay_CBG.MESOZONE==p_df['locationZone'][i]].values[0]==0:\n",
      "/var/folders/kr/2j58542j2_7chf9_h8bmr30mb0_4n0/T/ipykernel_15666/3676463546.py:9: UserWarning: Geometry is in a geographic CRS. Results from 'area' are likely incorrect. Use 'GeoSeries.to_crs()' to re-project geometries to a projected CRS before this operation.\n",
      "\n",
      "  if SFBay_CBG.area[SFBay_CBG.MESOZONE==p_df['locationZone'][i]].values[0]==0:\n",
      "/var/folders/kr/2j58542j2_7chf9_h8bmr30mb0_4n0/T/ipykernel_15666/3676463546.py:9: UserWarning: Geometry is in a geographic CRS. Results from 'area' are likely incorrect. Use 'GeoSeries.to_crs()' to re-project geometries to a projected CRS before this operation.\n",
      "\n",
      "  if SFBay_CBG.area[SFBay_CBG.MESOZONE==p_df['locationZone'][i]].values[0]==0:\n",
      "/var/folders/kr/2j58542j2_7chf9_h8bmr30mb0_4n0/T/ipykernel_15666/3676463546.py:9: UserWarning: Geometry is in a geographic CRS. Results from 'area' are likely incorrect. Use 'GeoSeries.to_crs()' to re-project geometries to a projected CRS before this operation.\n",
      "\n",
      "  if SFBay_CBG.area[SFBay_CBG.MESOZONE==p_df['locationZone'][i]].values[0]==0:\n",
      "/var/folders/kr/2j58542j2_7chf9_h8bmr30mb0_4n0/T/ipykernel_15666/3676463546.py:9: UserWarning: Geometry is in a geographic CRS. Results from 'area' are likely incorrect. Use 'GeoSeries.to_crs()' to re-project geometries to a projected CRS before this operation.\n",
      "\n",
      "  if SFBay_CBG.area[SFBay_CBG.MESOZONE==p_df['locationZone'][i]].values[0]==0:\n"
     ]
    },
    {
     "name": "stdout",
     "output_type": "stream",
     "text": [
      "660\n",
      "661\n",
      "662\n",
      "663\n",
      "664\n",
      "665\n"
     ]
    },
    {
     "name": "stderr",
     "output_type": "stream",
     "text": [
      "/var/folders/kr/2j58542j2_7chf9_h8bmr30mb0_4n0/T/ipykernel_15666/3676463546.py:9: UserWarning: Geometry is in a geographic CRS. Results from 'area' are likely incorrect. Use 'GeoSeries.to_crs()' to re-project geometries to a projected CRS before this operation.\n",
      "\n",
      "  if SFBay_CBG.area[SFBay_CBG.MESOZONE==p_df['locationZone'][i]].values[0]==0:\n",
      "/var/folders/kr/2j58542j2_7chf9_h8bmr30mb0_4n0/T/ipykernel_15666/3676463546.py:9: UserWarning: Geometry is in a geographic CRS. Results from 'area' are likely incorrect. Use 'GeoSeries.to_crs()' to re-project geometries to a projected CRS before this operation.\n",
      "\n",
      "  if SFBay_CBG.area[SFBay_CBG.MESOZONE==p_df['locationZone'][i]].values[0]==0:\n",
      "/var/folders/kr/2j58542j2_7chf9_h8bmr30mb0_4n0/T/ipykernel_15666/3676463546.py:9: UserWarning: Geometry is in a geographic CRS. Results from 'area' are likely incorrect. Use 'GeoSeries.to_crs()' to re-project geometries to a projected CRS before this operation.\n",
      "\n",
      "  if SFBay_CBG.area[SFBay_CBG.MESOZONE==p_df['locationZone'][i]].values[0]==0:\n",
      "/var/folders/kr/2j58542j2_7chf9_h8bmr30mb0_4n0/T/ipykernel_15666/3676463546.py:9: UserWarning: Geometry is in a geographic CRS. Results from 'area' are likely incorrect. Use 'GeoSeries.to_crs()' to re-project geometries to a projected CRS before this operation.\n",
      "\n",
      "  if SFBay_CBG.area[SFBay_CBG.MESOZONE==p_df['locationZone'][i]].values[0]==0:\n",
      "/var/folders/kr/2j58542j2_7chf9_h8bmr30mb0_4n0/T/ipykernel_15666/3676463546.py:9: UserWarning: Geometry is in a geographic CRS. Results from 'area' are likely incorrect. Use 'GeoSeries.to_crs()' to re-project geometries to a projected CRS before this operation.\n",
      "\n",
      "  if SFBay_CBG.area[SFBay_CBG.MESOZONE==p_df['locationZone'][i]].values[0]==0:\n",
      "/var/folders/kr/2j58542j2_7chf9_h8bmr30mb0_4n0/T/ipykernel_15666/3676463546.py:9: UserWarning: Geometry is in a geographic CRS. Results from 'area' are likely incorrect. Use 'GeoSeries.to_crs()' to re-project geometries to a projected CRS before this operation.\n",
      "\n",
      "  if SFBay_CBG.area[SFBay_CBG.MESOZONE==p_df['locationZone'][i]].values[0]==0:\n"
     ]
    },
    {
     "name": "stdout",
     "output_type": "stream",
     "text": [
      "666\n",
      "667\n",
      "668\n",
      "669\n",
      "670\n",
      "671\n"
     ]
    },
    {
     "name": "stderr",
     "output_type": "stream",
     "text": [
      "/var/folders/kr/2j58542j2_7chf9_h8bmr30mb0_4n0/T/ipykernel_15666/3676463546.py:9: UserWarning: Geometry is in a geographic CRS. Results from 'area' are likely incorrect. Use 'GeoSeries.to_crs()' to re-project geometries to a projected CRS before this operation.\n",
      "\n",
      "  if SFBay_CBG.area[SFBay_CBG.MESOZONE==p_df['locationZone'][i]].values[0]==0:\n",
      "/var/folders/kr/2j58542j2_7chf9_h8bmr30mb0_4n0/T/ipykernel_15666/3676463546.py:9: UserWarning: Geometry is in a geographic CRS. Results from 'area' are likely incorrect. Use 'GeoSeries.to_crs()' to re-project geometries to a projected CRS before this operation.\n",
      "\n",
      "  if SFBay_CBG.area[SFBay_CBG.MESOZONE==p_df['locationZone'][i]].values[0]==0:\n",
      "/var/folders/kr/2j58542j2_7chf9_h8bmr30mb0_4n0/T/ipykernel_15666/3676463546.py:9: UserWarning: Geometry is in a geographic CRS. Results from 'area' are likely incorrect. Use 'GeoSeries.to_crs()' to re-project geometries to a projected CRS before this operation.\n",
      "\n",
      "  if SFBay_CBG.area[SFBay_CBG.MESOZONE==p_df['locationZone'][i]].values[0]==0:\n",
      "/var/folders/kr/2j58542j2_7chf9_h8bmr30mb0_4n0/T/ipykernel_15666/3676463546.py:9: UserWarning: Geometry is in a geographic CRS. Results from 'area' are likely incorrect. Use 'GeoSeries.to_crs()' to re-project geometries to a projected CRS before this operation.\n",
      "\n",
      "  if SFBay_CBG.area[SFBay_CBG.MESOZONE==p_df['locationZone'][i]].values[0]==0:\n",
      "/var/folders/kr/2j58542j2_7chf9_h8bmr30mb0_4n0/T/ipykernel_15666/3676463546.py:9: UserWarning: Geometry is in a geographic CRS. Results from 'area' are likely incorrect. Use 'GeoSeries.to_crs()' to re-project geometries to a projected CRS before this operation.\n",
      "\n",
      "  if SFBay_CBG.area[SFBay_CBG.MESOZONE==p_df['locationZone'][i]].values[0]==0:\n"
     ]
    },
    {
     "name": "stdout",
     "output_type": "stream",
     "text": [
      "672\n",
      "673\n",
      "674\n",
      "675\n",
      "676\n",
      "677\n"
     ]
    },
    {
     "name": "stderr",
     "output_type": "stream",
     "text": [
      "/var/folders/kr/2j58542j2_7chf9_h8bmr30mb0_4n0/T/ipykernel_15666/3676463546.py:9: UserWarning: Geometry is in a geographic CRS. Results from 'area' are likely incorrect. Use 'GeoSeries.to_crs()' to re-project geometries to a projected CRS before this operation.\n",
      "\n",
      "  if SFBay_CBG.area[SFBay_CBG.MESOZONE==p_df['locationZone'][i]].values[0]==0:\n",
      "/var/folders/kr/2j58542j2_7chf9_h8bmr30mb0_4n0/T/ipykernel_15666/3676463546.py:9: UserWarning: Geometry is in a geographic CRS. Results from 'area' are likely incorrect. Use 'GeoSeries.to_crs()' to re-project geometries to a projected CRS before this operation.\n",
      "\n",
      "  if SFBay_CBG.area[SFBay_CBG.MESOZONE==p_df['locationZone'][i]].values[0]==0:\n",
      "/var/folders/kr/2j58542j2_7chf9_h8bmr30mb0_4n0/T/ipykernel_15666/3676463546.py:9: UserWarning: Geometry is in a geographic CRS. Results from 'area' are likely incorrect. Use 'GeoSeries.to_crs()' to re-project geometries to a projected CRS before this operation.\n",
      "\n",
      "  if SFBay_CBG.area[SFBay_CBG.MESOZONE==p_df['locationZone'][i]].values[0]==0:\n",
      "/var/folders/kr/2j58542j2_7chf9_h8bmr30mb0_4n0/T/ipykernel_15666/3676463546.py:9: UserWarning: Geometry is in a geographic CRS. Results from 'area' are likely incorrect. Use 'GeoSeries.to_crs()' to re-project geometries to a projected CRS before this operation.\n",
      "\n",
      "  if SFBay_CBG.area[SFBay_CBG.MESOZONE==p_df['locationZone'][i]].values[0]==0:\n",
      "/var/folders/kr/2j58542j2_7chf9_h8bmr30mb0_4n0/T/ipykernel_15666/3676463546.py:9: UserWarning: Geometry is in a geographic CRS. Results from 'area' are likely incorrect. Use 'GeoSeries.to_crs()' to re-project geometries to a projected CRS before this operation.\n",
      "\n",
      "  if SFBay_CBG.area[SFBay_CBG.MESOZONE==p_df['locationZone'][i]].values[0]==0:\n",
      "/var/folders/kr/2j58542j2_7chf9_h8bmr30mb0_4n0/T/ipykernel_15666/3676463546.py:9: UserWarning: Geometry is in a geographic CRS. Results from 'area' are likely incorrect. Use 'GeoSeries.to_crs()' to re-project geometries to a projected CRS before this operation.\n",
      "\n",
      "  if SFBay_CBG.area[SFBay_CBG.MESOZONE==p_df['locationZone'][i]].values[0]==0:\n"
     ]
    },
    {
     "name": "stdout",
     "output_type": "stream",
     "text": [
      "678\n",
      "679\n",
      "680\n",
      "681\n",
      "682\n",
      "683\n"
     ]
    },
    {
     "name": "stderr",
     "output_type": "stream",
     "text": [
      "/var/folders/kr/2j58542j2_7chf9_h8bmr30mb0_4n0/T/ipykernel_15666/3676463546.py:9: UserWarning: Geometry is in a geographic CRS. Results from 'area' are likely incorrect. Use 'GeoSeries.to_crs()' to re-project geometries to a projected CRS before this operation.\n",
      "\n",
      "  if SFBay_CBG.area[SFBay_CBG.MESOZONE==p_df['locationZone'][i]].values[0]==0:\n",
      "/var/folders/kr/2j58542j2_7chf9_h8bmr30mb0_4n0/T/ipykernel_15666/3676463546.py:9: UserWarning: Geometry is in a geographic CRS. Results from 'area' are likely incorrect. Use 'GeoSeries.to_crs()' to re-project geometries to a projected CRS before this operation.\n",
      "\n",
      "  if SFBay_CBG.area[SFBay_CBG.MESOZONE==p_df['locationZone'][i]].values[0]==0:\n",
      "/var/folders/kr/2j58542j2_7chf9_h8bmr30mb0_4n0/T/ipykernel_15666/3676463546.py:9: UserWarning: Geometry is in a geographic CRS. Results from 'area' are likely incorrect. Use 'GeoSeries.to_crs()' to re-project geometries to a projected CRS before this operation.\n",
      "\n",
      "  if SFBay_CBG.area[SFBay_CBG.MESOZONE==p_df['locationZone'][i]].values[0]==0:\n",
      "/var/folders/kr/2j58542j2_7chf9_h8bmr30mb0_4n0/T/ipykernel_15666/3676463546.py:9: UserWarning: Geometry is in a geographic CRS. Results from 'area' are likely incorrect. Use 'GeoSeries.to_crs()' to re-project geometries to a projected CRS before this operation.\n",
      "\n",
      "  if SFBay_CBG.area[SFBay_CBG.MESOZONE==p_df['locationZone'][i]].values[0]==0:\n",
      "/var/folders/kr/2j58542j2_7chf9_h8bmr30mb0_4n0/T/ipykernel_15666/3676463546.py:9: UserWarning: Geometry is in a geographic CRS. Results from 'area' are likely incorrect. Use 'GeoSeries.to_crs()' to re-project geometries to a projected CRS before this operation.\n",
      "\n",
      "  if SFBay_CBG.area[SFBay_CBG.MESOZONE==p_df['locationZone'][i]].values[0]==0:\n",
      "/var/folders/kr/2j58542j2_7chf9_h8bmr30mb0_4n0/T/ipykernel_15666/3676463546.py:9: UserWarning: Geometry is in a geographic CRS. Results from 'area' are likely incorrect. Use 'GeoSeries.to_crs()' to re-project geometries to a projected CRS before this operation.\n",
      "\n",
      "  if SFBay_CBG.area[SFBay_CBG.MESOZONE==p_df['locationZone'][i]].values[0]==0:\n"
     ]
    },
    {
     "name": "stdout",
     "output_type": "stream",
     "text": [
      "684\n",
      "685\n",
      "686\n",
      "687\n",
      "688\n",
      "689\n"
     ]
    },
    {
     "name": "stderr",
     "output_type": "stream",
     "text": [
      "/var/folders/kr/2j58542j2_7chf9_h8bmr30mb0_4n0/T/ipykernel_15666/3676463546.py:9: UserWarning: Geometry is in a geographic CRS. Results from 'area' are likely incorrect. Use 'GeoSeries.to_crs()' to re-project geometries to a projected CRS before this operation.\n",
      "\n",
      "  if SFBay_CBG.area[SFBay_CBG.MESOZONE==p_df['locationZone'][i]].values[0]==0:\n",
      "/var/folders/kr/2j58542j2_7chf9_h8bmr30mb0_4n0/T/ipykernel_15666/3676463546.py:9: UserWarning: Geometry is in a geographic CRS. Results from 'area' are likely incorrect. Use 'GeoSeries.to_crs()' to re-project geometries to a projected CRS before this operation.\n",
      "\n",
      "  if SFBay_CBG.area[SFBay_CBG.MESOZONE==p_df['locationZone'][i]].values[0]==0:\n",
      "/var/folders/kr/2j58542j2_7chf9_h8bmr30mb0_4n0/T/ipykernel_15666/3676463546.py:9: UserWarning: Geometry is in a geographic CRS. Results from 'area' are likely incorrect. Use 'GeoSeries.to_crs()' to re-project geometries to a projected CRS before this operation.\n",
      "\n",
      "  if SFBay_CBG.area[SFBay_CBG.MESOZONE==p_df['locationZone'][i]].values[0]==0:\n",
      "/var/folders/kr/2j58542j2_7chf9_h8bmr30mb0_4n0/T/ipykernel_15666/3676463546.py:9: UserWarning: Geometry is in a geographic CRS. Results from 'area' are likely incorrect. Use 'GeoSeries.to_crs()' to re-project geometries to a projected CRS before this operation.\n",
      "\n",
      "  if SFBay_CBG.area[SFBay_CBG.MESOZONE==p_df['locationZone'][i]].values[0]==0:\n",
      "/var/folders/kr/2j58542j2_7chf9_h8bmr30mb0_4n0/T/ipykernel_15666/3676463546.py:9: UserWarning: Geometry is in a geographic CRS. Results from 'area' are likely incorrect. Use 'GeoSeries.to_crs()' to re-project geometries to a projected CRS before this operation.\n",
      "\n",
      "  if SFBay_CBG.area[SFBay_CBG.MESOZONE==p_df['locationZone'][i]].values[0]==0:\n"
     ]
    },
    {
     "name": "stdout",
     "output_type": "stream",
     "text": [
      "690\n",
      "691\n",
      "692\n",
      "693\n",
      "694\n"
     ]
    },
    {
     "name": "stderr",
     "output_type": "stream",
     "text": [
      "/var/folders/kr/2j58542j2_7chf9_h8bmr30mb0_4n0/T/ipykernel_15666/3676463546.py:9: UserWarning: Geometry is in a geographic CRS. Results from 'area' are likely incorrect. Use 'GeoSeries.to_crs()' to re-project geometries to a projected CRS before this operation.\n",
      "\n",
      "  if SFBay_CBG.area[SFBay_CBG.MESOZONE==p_df['locationZone'][i]].values[0]==0:\n",
      "/var/folders/kr/2j58542j2_7chf9_h8bmr30mb0_4n0/T/ipykernel_15666/3676463546.py:9: UserWarning: Geometry is in a geographic CRS. Results from 'area' are likely incorrect. Use 'GeoSeries.to_crs()' to re-project geometries to a projected CRS before this operation.\n",
      "\n",
      "  if SFBay_CBG.area[SFBay_CBG.MESOZONE==p_df['locationZone'][i]].values[0]==0:\n",
      "/var/folders/kr/2j58542j2_7chf9_h8bmr30mb0_4n0/T/ipykernel_15666/3676463546.py:9: UserWarning: Geometry is in a geographic CRS. Results from 'area' are likely incorrect. Use 'GeoSeries.to_crs()' to re-project geometries to a projected CRS before this operation.\n",
      "\n",
      "  if SFBay_CBG.area[SFBay_CBG.MESOZONE==p_df['locationZone'][i]].values[0]==0:\n",
      "/var/folders/kr/2j58542j2_7chf9_h8bmr30mb0_4n0/T/ipykernel_15666/3676463546.py:9: UserWarning: Geometry is in a geographic CRS. Results from 'area' are likely incorrect. Use 'GeoSeries.to_crs()' to re-project geometries to a projected CRS before this operation.\n",
      "\n",
      "  if SFBay_CBG.area[SFBay_CBG.MESOZONE==p_df['locationZone'][i]].values[0]==0:\n",
      "/var/folders/kr/2j58542j2_7chf9_h8bmr30mb0_4n0/T/ipykernel_15666/3676463546.py:9: UserWarning: Geometry is in a geographic CRS. Results from 'area' are likely incorrect. Use 'GeoSeries.to_crs()' to re-project geometries to a projected CRS before this operation.\n",
      "\n",
      "  if SFBay_CBG.area[SFBay_CBG.MESOZONE==p_df['locationZone'][i]].values[0]==0:\n"
     ]
    },
    {
     "name": "stdout",
     "output_type": "stream",
     "text": [
      "695\n",
      "696\n",
      "697\n",
      "698\n",
      "699\n"
     ]
    },
    {
     "name": "stderr",
     "output_type": "stream",
     "text": [
      "/var/folders/kr/2j58542j2_7chf9_h8bmr30mb0_4n0/T/ipykernel_15666/3676463546.py:9: UserWarning: Geometry is in a geographic CRS. Results from 'area' are likely incorrect. Use 'GeoSeries.to_crs()' to re-project geometries to a projected CRS before this operation.\n",
      "\n",
      "  if SFBay_CBG.area[SFBay_CBG.MESOZONE==p_df['locationZone'][i]].values[0]==0:\n",
      "/var/folders/kr/2j58542j2_7chf9_h8bmr30mb0_4n0/T/ipykernel_15666/3676463546.py:9: UserWarning: Geometry is in a geographic CRS. Results from 'area' are likely incorrect. Use 'GeoSeries.to_crs()' to re-project geometries to a projected CRS before this operation.\n",
      "\n",
      "  if SFBay_CBG.area[SFBay_CBG.MESOZONE==p_df['locationZone'][i]].values[0]==0:\n",
      "/var/folders/kr/2j58542j2_7chf9_h8bmr30mb0_4n0/T/ipykernel_15666/3676463546.py:9: UserWarning: Geometry is in a geographic CRS. Results from 'area' are likely incorrect. Use 'GeoSeries.to_crs()' to re-project geometries to a projected CRS before this operation.\n",
      "\n",
      "  if SFBay_CBG.area[SFBay_CBG.MESOZONE==p_df['locationZone'][i]].values[0]==0:\n",
      "/var/folders/kr/2j58542j2_7chf9_h8bmr30mb0_4n0/T/ipykernel_15666/3676463546.py:9: UserWarning: Geometry is in a geographic CRS. Results from 'area' are likely incorrect. Use 'GeoSeries.to_crs()' to re-project geometries to a projected CRS before this operation.\n",
      "\n",
      "  if SFBay_CBG.area[SFBay_CBG.MESOZONE==p_df['locationZone'][i]].values[0]==0:\n",
      "/var/folders/kr/2j58542j2_7chf9_h8bmr30mb0_4n0/T/ipykernel_15666/3676463546.py:9: UserWarning: Geometry is in a geographic CRS. Results from 'area' are likely incorrect. Use 'GeoSeries.to_crs()' to re-project geometries to a projected CRS before this operation.\n",
      "\n",
      "  if SFBay_CBG.area[SFBay_CBG.MESOZONE==p_df['locationZone'][i]].values[0]==0:\n"
     ]
    },
    {
     "name": "stdout",
     "output_type": "stream",
     "text": [
      "700\n",
      "701\n",
      "702\n",
      "703\n",
      "704\n"
     ]
    },
    {
     "name": "stderr",
     "output_type": "stream",
     "text": [
      "/var/folders/kr/2j58542j2_7chf9_h8bmr30mb0_4n0/T/ipykernel_15666/3676463546.py:9: UserWarning: Geometry is in a geographic CRS. Results from 'area' are likely incorrect. Use 'GeoSeries.to_crs()' to re-project geometries to a projected CRS before this operation.\n",
      "\n",
      "  if SFBay_CBG.area[SFBay_CBG.MESOZONE==p_df['locationZone'][i]].values[0]==0:\n",
      "/var/folders/kr/2j58542j2_7chf9_h8bmr30mb0_4n0/T/ipykernel_15666/3676463546.py:9: UserWarning: Geometry is in a geographic CRS. Results from 'area' are likely incorrect. Use 'GeoSeries.to_crs()' to re-project geometries to a projected CRS before this operation.\n",
      "\n",
      "  if SFBay_CBG.area[SFBay_CBG.MESOZONE==p_df['locationZone'][i]].values[0]==0:\n",
      "/var/folders/kr/2j58542j2_7chf9_h8bmr30mb0_4n0/T/ipykernel_15666/3676463546.py:9: UserWarning: Geometry is in a geographic CRS. Results from 'area' are likely incorrect. Use 'GeoSeries.to_crs()' to re-project geometries to a projected CRS before this operation.\n",
      "\n",
      "  if SFBay_CBG.area[SFBay_CBG.MESOZONE==p_df['locationZone'][i]].values[0]==0:\n",
      "/var/folders/kr/2j58542j2_7chf9_h8bmr30mb0_4n0/T/ipykernel_15666/3676463546.py:9: UserWarning: Geometry is in a geographic CRS. Results from 'area' are likely incorrect. Use 'GeoSeries.to_crs()' to re-project geometries to a projected CRS before this operation.\n",
      "\n",
      "  if SFBay_CBG.area[SFBay_CBG.MESOZONE==p_df['locationZone'][i]].values[0]==0:\n",
      "/var/folders/kr/2j58542j2_7chf9_h8bmr30mb0_4n0/T/ipykernel_15666/3676463546.py:9: UserWarning: Geometry is in a geographic CRS. Results from 'area' are likely incorrect. Use 'GeoSeries.to_crs()' to re-project geometries to a projected CRS before this operation.\n",
      "\n",
      "  if SFBay_CBG.area[SFBay_CBG.MESOZONE==p_df['locationZone'][i]].values[0]==0:\n"
     ]
    },
    {
     "name": "stdout",
     "output_type": "stream",
     "text": [
      "705\n",
      "706\n",
      "707\n",
      "708\n",
      "709\n",
      "710\n"
     ]
    },
    {
     "name": "stderr",
     "output_type": "stream",
     "text": [
      "/var/folders/kr/2j58542j2_7chf9_h8bmr30mb0_4n0/T/ipykernel_15666/3676463546.py:9: UserWarning: Geometry is in a geographic CRS. Results from 'area' are likely incorrect. Use 'GeoSeries.to_crs()' to re-project geometries to a projected CRS before this operation.\n",
      "\n",
      "  if SFBay_CBG.area[SFBay_CBG.MESOZONE==p_df['locationZone'][i]].values[0]==0:\n",
      "/var/folders/kr/2j58542j2_7chf9_h8bmr30mb0_4n0/T/ipykernel_15666/3676463546.py:9: UserWarning: Geometry is in a geographic CRS. Results from 'area' are likely incorrect. Use 'GeoSeries.to_crs()' to re-project geometries to a projected CRS before this operation.\n",
      "\n",
      "  if SFBay_CBG.area[SFBay_CBG.MESOZONE==p_df['locationZone'][i]].values[0]==0:\n",
      "/var/folders/kr/2j58542j2_7chf9_h8bmr30mb0_4n0/T/ipykernel_15666/3676463546.py:9: UserWarning: Geometry is in a geographic CRS. Results from 'area' are likely incorrect. Use 'GeoSeries.to_crs()' to re-project geometries to a projected CRS before this operation.\n",
      "\n",
      "  if SFBay_CBG.area[SFBay_CBG.MESOZONE==p_df['locationZone'][i]].values[0]==0:\n",
      "/var/folders/kr/2j58542j2_7chf9_h8bmr30mb0_4n0/T/ipykernel_15666/3676463546.py:9: UserWarning: Geometry is in a geographic CRS. Results from 'area' are likely incorrect. Use 'GeoSeries.to_crs()' to re-project geometries to a projected CRS before this operation.\n",
      "\n",
      "  if SFBay_CBG.area[SFBay_CBG.MESOZONE==p_df['locationZone'][i]].values[0]==0:\n",
      "/var/folders/kr/2j58542j2_7chf9_h8bmr30mb0_4n0/T/ipykernel_15666/3676463546.py:9: UserWarning: Geometry is in a geographic CRS. Results from 'area' are likely incorrect. Use 'GeoSeries.to_crs()' to re-project geometries to a projected CRS before this operation.\n",
      "\n",
      "  if SFBay_CBG.area[SFBay_CBG.MESOZONE==p_df['locationZone'][i]].values[0]==0:\n"
     ]
    },
    {
     "name": "stdout",
     "output_type": "stream",
     "text": [
      "711\n",
      "712\n",
      "713\n",
      "714\n",
      "715\n"
     ]
    },
    {
     "name": "stderr",
     "output_type": "stream",
     "text": [
      "/var/folders/kr/2j58542j2_7chf9_h8bmr30mb0_4n0/T/ipykernel_15666/3676463546.py:9: UserWarning: Geometry is in a geographic CRS. Results from 'area' are likely incorrect. Use 'GeoSeries.to_crs()' to re-project geometries to a projected CRS before this operation.\n",
      "\n",
      "  if SFBay_CBG.area[SFBay_CBG.MESOZONE==p_df['locationZone'][i]].values[0]==0:\n",
      "/var/folders/kr/2j58542j2_7chf9_h8bmr30mb0_4n0/T/ipykernel_15666/3676463546.py:9: UserWarning: Geometry is in a geographic CRS. Results from 'area' are likely incorrect. Use 'GeoSeries.to_crs()' to re-project geometries to a projected CRS before this operation.\n",
      "\n",
      "  if SFBay_CBG.area[SFBay_CBG.MESOZONE==p_df['locationZone'][i]].values[0]==0:\n",
      "/var/folders/kr/2j58542j2_7chf9_h8bmr30mb0_4n0/T/ipykernel_15666/3676463546.py:9: UserWarning: Geometry is in a geographic CRS. Results from 'area' are likely incorrect. Use 'GeoSeries.to_crs()' to re-project geometries to a projected CRS before this operation.\n",
      "\n",
      "  if SFBay_CBG.area[SFBay_CBG.MESOZONE==p_df['locationZone'][i]].values[0]==0:\n",
      "/var/folders/kr/2j58542j2_7chf9_h8bmr30mb0_4n0/T/ipykernel_15666/3676463546.py:9: UserWarning: Geometry is in a geographic CRS. Results from 'area' are likely incorrect. Use 'GeoSeries.to_crs()' to re-project geometries to a projected CRS before this operation.\n",
      "\n",
      "  if SFBay_CBG.area[SFBay_CBG.MESOZONE==p_df['locationZone'][i]].values[0]==0:\n",
      "/var/folders/kr/2j58542j2_7chf9_h8bmr30mb0_4n0/T/ipykernel_15666/3676463546.py:9: UserWarning: Geometry is in a geographic CRS. Results from 'area' are likely incorrect. Use 'GeoSeries.to_crs()' to re-project geometries to a projected CRS before this operation.\n",
      "\n",
      "  if SFBay_CBG.area[SFBay_CBG.MESOZONE==p_df['locationZone'][i]].values[0]==0:\n"
     ]
    },
    {
     "name": "stdout",
     "output_type": "stream",
     "text": [
      "716\n",
      "717\n",
      "718\n",
      "719\n",
      "720\n"
     ]
    },
    {
     "name": "stderr",
     "output_type": "stream",
     "text": [
      "/var/folders/kr/2j58542j2_7chf9_h8bmr30mb0_4n0/T/ipykernel_15666/3676463546.py:9: UserWarning: Geometry is in a geographic CRS. Results from 'area' are likely incorrect. Use 'GeoSeries.to_crs()' to re-project geometries to a projected CRS before this operation.\n",
      "\n",
      "  if SFBay_CBG.area[SFBay_CBG.MESOZONE==p_df['locationZone'][i]].values[0]==0:\n",
      "/var/folders/kr/2j58542j2_7chf9_h8bmr30mb0_4n0/T/ipykernel_15666/3676463546.py:9: UserWarning: Geometry is in a geographic CRS. Results from 'area' are likely incorrect. Use 'GeoSeries.to_crs()' to re-project geometries to a projected CRS before this operation.\n",
      "\n",
      "  if SFBay_CBG.area[SFBay_CBG.MESOZONE==p_df['locationZone'][i]].values[0]==0:\n",
      "/var/folders/kr/2j58542j2_7chf9_h8bmr30mb0_4n0/T/ipykernel_15666/3676463546.py:9: UserWarning: Geometry is in a geographic CRS. Results from 'area' are likely incorrect. Use 'GeoSeries.to_crs()' to re-project geometries to a projected CRS before this operation.\n",
      "\n",
      "  if SFBay_CBG.area[SFBay_CBG.MESOZONE==p_df['locationZone'][i]].values[0]==0:\n",
      "/var/folders/kr/2j58542j2_7chf9_h8bmr30mb0_4n0/T/ipykernel_15666/3676463546.py:9: UserWarning: Geometry is in a geographic CRS. Results from 'area' are likely incorrect. Use 'GeoSeries.to_crs()' to re-project geometries to a projected CRS before this operation.\n",
      "\n",
      "  if SFBay_CBG.area[SFBay_CBG.MESOZONE==p_df['locationZone'][i]].values[0]==0:\n",
      "/var/folders/kr/2j58542j2_7chf9_h8bmr30mb0_4n0/T/ipykernel_15666/3676463546.py:9: UserWarning: Geometry is in a geographic CRS. Results from 'area' are likely incorrect. Use 'GeoSeries.to_crs()' to re-project geometries to a projected CRS before this operation.\n",
      "\n",
      "  if SFBay_CBG.area[SFBay_CBG.MESOZONE==p_df['locationZone'][i]].values[0]==0:\n"
     ]
    },
    {
     "name": "stdout",
     "output_type": "stream",
     "text": [
      "721\n",
      "722\n",
      "723\n",
      "724\n",
      "725\n"
     ]
    },
    {
     "name": "stderr",
     "output_type": "stream",
     "text": [
      "/var/folders/kr/2j58542j2_7chf9_h8bmr30mb0_4n0/T/ipykernel_15666/3676463546.py:9: UserWarning: Geometry is in a geographic CRS. Results from 'area' are likely incorrect. Use 'GeoSeries.to_crs()' to re-project geometries to a projected CRS before this operation.\n",
      "\n",
      "  if SFBay_CBG.area[SFBay_CBG.MESOZONE==p_df['locationZone'][i]].values[0]==0:\n",
      "/var/folders/kr/2j58542j2_7chf9_h8bmr30mb0_4n0/T/ipykernel_15666/3676463546.py:9: UserWarning: Geometry is in a geographic CRS. Results from 'area' are likely incorrect. Use 'GeoSeries.to_crs()' to re-project geometries to a projected CRS before this operation.\n",
      "\n",
      "  if SFBay_CBG.area[SFBay_CBG.MESOZONE==p_df['locationZone'][i]].values[0]==0:\n",
      "/var/folders/kr/2j58542j2_7chf9_h8bmr30mb0_4n0/T/ipykernel_15666/3676463546.py:9: UserWarning: Geometry is in a geographic CRS. Results from 'area' are likely incorrect. Use 'GeoSeries.to_crs()' to re-project geometries to a projected CRS before this operation.\n",
      "\n",
      "  if SFBay_CBG.area[SFBay_CBG.MESOZONE==p_df['locationZone'][i]].values[0]==0:\n",
      "/var/folders/kr/2j58542j2_7chf9_h8bmr30mb0_4n0/T/ipykernel_15666/3676463546.py:9: UserWarning: Geometry is in a geographic CRS. Results from 'area' are likely incorrect. Use 'GeoSeries.to_crs()' to re-project geometries to a projected CRS before this operation.\n",
      "\n",
      "  if SFBay_CBG.area[SFBay_CBG.MESOZONE==p_df['locationZone'][i]].values[0]==0:\n",
      "/var/folders/kr/2j58542j2_7chf9_h8bmr30mb0_4n0/T/ipykernel_15666/3676463546.py:9: UserWarning: Geometry is in a geographic CRS. Results from 'area' are likely incorrect. Use 'GeoSeries.to_crs()' to re-project geometries to a projected CRS before this operation.\n",
      "\n",
      "  if SFBay_CBG.area[SFBay_CBG.MESOZONE==p_df['locationZone'][i]].values[0]==0:\n"
     ]
    },
    {
     "name": "stdout",
     "output_type": "stream",
     "text": [
      "726\n",
      "727\n",
      "728\n",
      "729\n",
      "730\n"
     ]
    },
    {
     "name": "stderr",
     "output_type": "stream",
     "text": [
      "/var/folders/kr/2j58542j2_7chf9_h8bmr30mb0_4n0/T/ipykernel_15666/3676463546.py:9: UserWarning: Geometry is in a geographic CRS. Results from 'area' are likely incorrect. Use 'GeoSeries.to_crs()' to re-project geometries to a projected CRS before this operation.\n",
      "\n",
      "  if SFBay_CBG.area[SFBay_CBG.MESOZONE==p_df['locationZone'][i]].values[0]==0:\n",
      "/var/folders/kr/2j58542j2_7chf9_h8bmr30mb0_4n0/T/ipykernel_15666/3676463546.py:9: UserWarning: Geometry is in a geographic CRS. Results from 'area' are likely incorrect. Use 'GeoSeries.to_crs()' to re-project geometries to a projected CRS before this operation.\n",
      "\n",
      "  if SFBay_CBG.area[SFBay_CBG.MESOZONE==p_df['locationZone'][i]].values[0]==0:\n",
      "/var/folders/kr/2j58542j2_7chf9_h8bmr30mb0_4n0/T/ipykernel_15666/3676463546.py:9: UserWarning: Geometry is in a geographic CRS. Results from 'area' are likely incorrect. Use 'GeoSeries.to_crs()' to re-project geometries to a projected CRS before this operation.\n",
      "\n",
      "  if SFBay_CBG.area[SFBay_CBG.MESOZONE==p_df['locationZone'][i]].values[0]==0:\n",
      "/var/folders/kr/2j58542j2_7chf9_h8bmr30mb0_4n0/T/ipykernel_15666/3676463546.py:9: UserWarning: Geometry is in a geographic CRS. Results from 'area' are likely incorrect. Use 'GeoSeries.to_crs()' to re-project geometries to a projected CRS before this operation.\n",
      "\n",
      "  if SFBay_CBG.area[SFBay_CBG.MESOZONE==p_df['locationZone'][i]].values[0]==0:\n",
      "/var/folders/kr/2j58542j2_7chf9_h8bmr30mb0_4n0/T/ipykernel_15666/3676463546.py:9: UserWarning: Geometry is in a geographic CRS. Results from 'area' are likely incorrect. Use 'GeoSeries.to_crs()' to re-project geometries to a projected CRS before this operation.\n",
      "\n",
      "  if SFBay_CBG.area[SFBay_CBG.MESOZONE==p_df['locationZone'][i]].values[0]==0:\n"
     ]
    },
    {
     "name": "stdout",
     "output_type": "stream",
     "text": [
      "731\n",
      "732\n",
      "733\n",
      "734\n",
      "735\n"
     ]
    },
    {
     "name": "stderr",
     "output_type": "stream",
     "text": [
      "/var/folders/kr/2j58542j2_7chf9_h8bmr30mb0_4n0/T/ipykernel_15666/3676463546.py:9: UserWarning: Geometry is in a geographic CRS. Results from 'area' are likely incorrect. Use 'GeoSeries.to_crs()' to re-project geometries to a projected CRS before this operation.\n",
      "\n",
      "  if SFBay_CBG.area[SFBay_CBG.MESOZONE==p_df['locationZone'][i]].values[0]==0:\n",
      "/var/folders/kr/2j58542j2_7chf9_h8bmr30mb0_4n0/T/ipykernel_15666/3676463546.py:9: UserWarning: Geometry is in a geographic CRS. Results from 'area' are likely incorrect. Use 'GeoSeries.to_crs()' to re-project geometries to a projected CRS before this operation.\n",
      "\n",
      "  if SFBay_CBG.area[SFBay_CBG.MESOZONE==p_df['locationZone'][i]].values[0]==0:\n",
      "/var/folders/kr/2j58542j2_7chf9_h8bmr30mb0_4n0/T/ipykernel_15666/3676463546.py:9: UserWarning: Geometry is in a geographic CRS. Results from 'area' are likely incorrect. Use 'GeoSeries.to_crs()' to re-project geometries to a projected CRS before this operation.\n",
      "\n",
      "  if SFBay_CBG.area[SFBay_CBG.MESOZONE==p_df['locationZone'][i]].values[0]==0:\n",
      "/var/folders/kr/2j58542j2_7chf9_h8bmr30mb0_4n0/T/ipykernel_15666/3676463546.py:9: UserWarning: Geometry is in a geographic CRS. Results from 'area' are likely incorrect. Use 'GeoSeries.to_crs()' to re-project geometries to a projected CRS before this operation.\n",
      "\n",
      "  if SFBay_CBG.area[SFBay_CBG.MESOZONE==p_df['locationZone'][i]].values[0]==0:\n",
      "/var/folders/kr/2j58542j2_7chf9_h8bmr30mb0_4n0/T/ipykernel_15666/3676463546.py:9: UserWarning: Geometry is in a geographic CRS. Results from 'area' are likely incorrect. Use 'GeoSeries.to_crs()' to re-project geometries to a projected CRS before this operation.\n",
      "\n",
      "  if SFBay_CBG.area[SFBay_CBG.MESOZONE==p_df['locationZone'][i]].values[0]==0:\n"
     ]
    },
    {
     "name": "stdout",
     "output_type": "stream",
     "text": [
      "736\n",
      "737\n",
      "738\n",
      "739\n",
      "740\n"
     ]
    },
    {
     "name": "stderr",
     "output_type": "stream",
     "text": [
      "/var/folders/kr/2j58542j2_7chf9_h8bmr30mb0_4n0/T/ipykernel_15666/3676463546.py:9: UserWarning: Geometry is in a geographic CRS. Results from 'area' are likely incorrect. Use 'GeoSeries.to_crs()' to re-project geometries to a projected CRS before this operation.\n",
      "\n",
      "  if SFBay_CBG.area[SFBay_CBG.MESOZONE==p_df['locationZone'][i]].values[0]==0:\n",
      "/var/folders/kr/2j58542j2_7chf9_h8bmr30mb0_4n0/T/ipykernel_15666/3676463546.py:9: UserWarning: Geometry is in a geographic CRS. Results from 'area' are likely incorrect. Use 'GeoSeries.to_crs()' to re-project geometries to a projected CRS before this operation.\n",
      "\n",
      "  if SFBay_CBG.area[SFBay_CBG.MESOZONE==p_df['locationZone'][i]].values[0]==0:\n",
      "/var/folders/kr/2j58542j2_7chf9_h8bmr30mb0_4n0/T/ipykernel_15666/3676463546.py:9: UserWarning: Geometry is in a geographic CRS. Results from 'area' are likely incorrect. Use 'GeoSeries.to_crs()' to re-project geometries to a projected CRS before this operation.\n",
      "\n",
      "  if SFBay_CBG.area[SFBay_CBG.MESOZONE==p_df['locationZone'][i]].values[0]==0:\n",
      "/var/folders/kr/2j58542j2_7chf9_h8bmr30mb0_4n0/T/ipykernel_15666/3676463546.py:9: UserWarning: Geometry is in a geographic CRS. Results from 'area' are likely incorrect. Use 'GeoSeries.to_crs()' to re-project geometries to a projected CRS before this operation.\n",
      "\n",
      "  if SFBay_CBG.area[SFBay_CBG.MESOZONE==p_df['locationZone'][i]].values[0]==0:\n",
      "/var/folders/kr/2j58542j2_7chf9_h8bmr30mb0_4n0/T/ipykernel_15666/3676463546.py:9: UserWarning: Geometry is in a geographic CRS. Results from 'area' are likely incorrect. Use 'GeoSeries.to_crs()' to re-project geometries to a projected CRS before this operation.\n",
      "\n",
      "  if SFBay_CBG.area[SFBay_CBG.MESOZONE==p_df['locationZone'][i]].values[0]==0:\n"
     ]
    },
    {
     "name": "stdout",
     "output_type": "stream",
     "text": [
      "741\n",
      "742\n",
      "743\n",
      "744\n",
      "745\n"
     ]
    },
    {
     "name": "stderr",
     "output_type": "stream",
     "text": [
      "/var/folders/kr/2j58542j2_7chf9_h8bmr30mb0_4n0/T/ipykernel_15666/3676463546.py:9: UserWarning: Geometry is in a geographic CRS. Results from 'area' are likely incorrect. Use 'GeoSeries.to_crs()' to re-project geometries to a projected CRS before this operation.\n",
      "\n",
      "  if SFBay_CBG.area[SFBay_CBG.MESOZONE==p_df['locationZone'][i]].values[0]==0:\n",
      "/var/folders/kr/2j58542j2_7chf9_h8bmr30mb0_4n0/T/ipykernel_15666/3676463546.py:9: UserWarning: Geometry is in a geographic CRS. Results from 'area' are likely incorrect. Use 'GeoSeries.to_crs()' to re-project geometries to a projected CRS before this operation.\n",
      "\n",
      "  if SFBay_CBG.area[SFBay_CBG.MESOZONE==p_df['locationZone'][i]].values[0]==0:\n",
      "/var/folders/kr/2j58542j2_7chf9_h8bmr30mb0_4n0/T/ipykernel_15666/3676463546.py:9: UserWarning: Geometry is in a geographic CRS. Results from 'area' are likely incorrect. Use 'GeoSeries.to_crs()' to re-project geometries to a projected CRS before this operation.\n",
      "\n",
      "  if SFBay_CBG.area[SFBay_CBG.MESOZONE==p_df['locationZone'][i]].values[0]==0:\n",
      "/var/folders/kr/2j58542j2_7chf9_h8bmr30mb0_4n0/T/ipykernel_15666/3676463546.py:9: UserWarning: Geometry is in a geographic CRS. Results from 'area' are likely incorrect. Use 'GeoSeries.to_crs()' to re-project geometries to a projected CRS before this operation.\n",
      "\n",
      "  if SFBay_CBG.area[SFBay_CBG.MESOZONE==p_df['locationZone'][i]].values[0]==0:\n",
      "/var/folders/kr/2j58542j2_7chf9_h8bmr30mb0_4n0/T/ipykernel_15666/3676463546.py:9: UserWarning: Geometry is in a geographic CRS. Results from 'area' are likely incorrect. Use 'GeoSeries.to_crs()' to re-project geometries to a projected CRS before this operation.\n",
      "\n",
      "  if SFBay_CBG.area[SFBay_CBG.MESOZONE==p_df['locationZone'][i]].values[0]==0:\n"
     ]
    },
    {
     "name": "stdout",
     "output_type": "stream",
     "text": [
      "746\n",
      "747\n",
      "748\n",
      "749\n",
      "750\n"
     ]
    },
    {
     "name": "stderr",
     "output_type": "stream",
     "text": [
      "/var/folders/kr/2j58542j2_7chf9_h8bmr30mb0_4n0/T/ipykernel_15666/3676463546.py:9: UserWarning: Geometry is in a geographic CRS. Results from 'area' are likely incorrect. Use 'GeoSeries.to_crs()' to re-project geometries to a projected CRS before this operation.\n",
      "\n",
      "  if SFBay_CBG.area[SFBay_CBG.MESOZONE==p_df['locationZone'][i]].values[0]==0:\n",
      "/var/folders/kr/2j58542j2_7chf9_h8bmr30mb0_4n0/T/ipykernel_15666/3676463546.py:9: UserWarning: Geometry is in a geographic CRS. Results from 'area' are likely incorrect. Use 'GeoSeries.to_crs()' to re-project geometries to a projected CRS before this operation.\n",
      "\n",
      "  if SFBay_CBG.area[SFBay_CBG.MESOZONE==p_df['locationZone'][i]].values[0]==0:\n",
      "/var/folders/kr/2j58542j2_7chf9_h8bmr30mb0_4n0/T/ipykernel_15666/3676463546.py:9: UserWarning: Geometry is in a geographic CRS. Results from 'area' are likely incorrect. Use 'GeoSeries.to_crs()' to re-project geometries to a projected CRS before this operation.\n",
      "\n",
      "  if SFBay_CBG.area[SFBay_CBG.MESOZONE==p_df['locationZone'][i]].values[0]==0:\n",
      "/var/folders/kr/2j58542j2_7chf9_h8bmr30mb0_4n0/T/ipykernel_15666/3676463546.py:9: UserWarning: Geometry is in a geographic CRS. Results from 'area' are likely incorrect. Use 'GeoSeries.to_crs()' to re-project geometries to a projected CRS before this operation.\n",
      "\n",
      "  if SFBay_CBG.area[SFBay_CBG.MESOZONE==p_df['locationZone'][i]].values[0]==0:\n",
      "/var/folders/kr/2j58542j2_7chf9_h8bmr30mb0_4n0/T/ipykernel_15666/3676463546.py:9: UserWarning: Geometry is in a geographic CRS. Results from 'area' are likely incorrect. Use 'GeoSeries.to_crs()' to re-project geometries to a projected CRS before this operation.\n",
      "\n",
      "  if SFBay_CBG.area[SFBay_CBG.MESOZONE==p_df['locationZone'][i]].values[0]==0:\n"
     ]
    },
    {
     "name": "stdout",
     "output_type": "stream",
     "text": [
      "751\n",
      "752\n",
      "753\n",
      "754\n",
      "755\n",
      "756\n"
     ]
    },
    {
     "name": "stderr",
     "output_type": "stream",
     "text": [
      "/var/folders/kr/2j58542j2_7chf9_h8bmr30mb0_4n0/T/ipykernel_15666/3676463546.py:9: UserWarning: Geometry is in a geographic CRS. Results from 'area' are likely incorrect. Use 'GeoSeries.to_crs()' to re-project geometries to a projected CRS before this operation.\n",
      "\n",
      "  if SFBay_CBG.area[SFBay_CBG.MESOZONE==p_df['locationZone'][i]].values[0]==0:\n",
      "/var/folders/kr/2j58542j2_7chf9_h8bmr30mb0_4n0/T/ipykernel_15666/3676463546.py:9: UserWarning: Geometry is in a geographic CRS. Results from 'area' are likely incorrect. Use 'GeoSeries.to_crs()' to re-project geometries to a projected CRS before this operation.\n",
      "\n",
      "  if SFBay_CBG.area[SFBay_CBG.MESOZONE==p_df['locationZone'][i]].values[0]==0:\n",
      "/var/folders/kr/2j58542j2_7chf9_h8bmr30mb0_4n0/T/ipykernel_15666/3676463546.py:9: UserWarning: Geometry is in a geographic CRS. Results from 'area' are likely incorrect. Use 'GeoSeries.to_crs()' to re-project geometries to a projected CRS before this operation.\n",
      "\n",
      "  if SFBay_CBG.area[SFBay_CBG.MESOZONE==p_df['locationZone'][i]].values[0]==0:\n",
      "/var/folders/kr/2j58542j2_7chf9_h8bmr30mb0_4n0/T/ipykernel_15666/3676463546.py:9: UserWarning: Geometry is in a geographic CRS. Results from 'area' are likely incorrect. Use 'GeoSeries.to_crs()' to re-project geometries to a projected CRS before this operation.\n",
      "\n",
      "  if SFBay_CBG.area[SFBay_CBG.MESOZONE==p_df['locationZone'][i]].values[0]==0:\n",
      "/var/folders/kr/2j58542j2_7chf9_h8bmr30mb0_4n0/T/ipykernel_15666/3676463546.py:9: UserWarning: Geometry is in a geographic CRS. Results from 'area' are likely incorrect. Use 'GeoSeries.to_crs()' to re-project geometries to a projected CRS before this operation.\n",
      "\n",
      "  if SFBay_CBG.area[SFBay_CBG.MESOZONE==p_df['locationZone'][i]].values[0]==0:\n",
      "/var/folders/kr/2j58542j2_7chf9_h8bmr30mb0_4n0/T/ipykernel_15666/3676463546.py:9: UserWarning: Geometry is in a geographic CRS. Results from 'area' are likely incorrect. Use 'GeoSeries.to_crs()' to re-project geometries to a projected CRS before this operation.\n",
      "\n",
      "  if SFBay_CBG.area[SFBay_CBG.MESOZONE==p_df['locationZone'][i]].values[0]==0:\n"
     ]
    },
    {
     "name": "stdout",
     "output_type": "stream",
     "text": [
      "757\n",
      "758\n",
      "759\n",
      "760\n",
      "761\n",
      "762\n"
     ]
    },
    {
     "name": "stderr",
     "output_type": "stream",
     "text": [
      "/var/folders/kr/2j58542j2_7chf9_h8bmr30mb0_4n0/T/ipykernel_15666/3676463546.py:9: UserWarning: Geometry is in a geographic CRS. Results from 'area' are likely incorrect. Use 'GeoSeries.to_crs()' to re-project geometries to a projected CRS before this operation.\n",
      "\n",
      "  if SFBay_CBG.area[SFBay_CBG.MESOZONE==p_df['locationZone'][i]].values[0]==0:\n",
      "/var/folders/kr/2j58542j2_7chf9_h8bmr30mb0_4n0/T/ipykernel_15666/3676463546.py:9: UserWarning: Geometry is in a geographic CRS. Results from 'area' are likely incorrect. Use 'GeoSeries.to_crs()' to re-project geometries to a projected CRS before this operation.\n",
      "\n",
      "  if SFBay_CBG.area[SFBay_CBG.MESOZONE==p_df['locationZone'][i]].values[0]==0:\n",
      "/var/folders/kr/2j58542j2_7chf9_h8bmr30mb0_4n0/T/ipykernel_15666/3676463546.py:9: UserWarning: Geometry is in a geographic CRS. Results from 'area' are likely incorrect. Use 'GeoSeries.to_crs()' to re-project geometries to a projected CRS before this operation.\n",
      "\n",
      "  if SFBay_CBG.area[SFBay_CBG.MESOZONE==p_df['locationZone'][i]].values[0]==0:\n",
      "/var/folders/kr/2j58542j2_7chf9_h8bmr30mb0_4n0/T/ipykernel_15666/3676463546.py:9: UserWarning: Geometry is in a geographic CRS. Results from 'area' are likely incorrect. Use 'GeoSeries.to_crs()' to re-project geometries to a projected CRS before this operation.\n",
      "\n",
      "  if SFBay_CBG.area[SFBay_CBG.MESOZONE==p_df['locationZone'][i]].values[0]==0:\n",
      "/var/folders/kr/2j58542j2_7chf9_h8bmr30mb0_4n0/T/ipykernel_15666/3676463546.py:9: UserWarning: Geometry is in a geographic CRS. Results from 'area' are likely incorrect. Use 'GeoSeries.to_crs()' to re-project geometries to a projected CRS before this operation.\n",
      "\n",
      "  if SFBay_CBG.area[SFBay_CBG.MESOZONE==p_df['locationZone'][i]].values[0]==0:\n",
      "/var/folders/kr/2j58542j2_7chf9_h8bmr30mb0_4n0/T/ipykernel_15666/3676463546.py:9: UserWarning: Geometry is in a geographic CRS. Results from 'area' are likely incorrect. Use 'GeoSeries.to_crs()' to re-project geometries to a projected CRS before this operation.\n",
      "\n",
      "  if SFBay_CBG.area[SFBay_CBG.MESOZONE==p_df['locationZone'][i]].values[0]==0:\n"
     ]
    },
    {
     "name": "stdout",
     "output_type": "stream",
     "text": [
      "763\n",
      "764\n",
      "765\n",
      "766\n",
      "767\n"
     ]
    },
    {
     "name": "stderr",
     "output_type": "stream",
     "text": [
      "/var/folders/kr/2j58542j2_7chf9_h8bmr30mb0_4n0/T/ipykernel_15666/3676463546.py:9: UserWarning: Geometry is in a geographic CRS. Results from 'area' are likely incorrect. Use 'GeoSeries.to_crs()' to re-project geometries to a projected CRS before this operation.\n",
      "\n",
      "  if SFBay_CBG.area[SFBay_CBG.MESOZONE==p_df['locationZone'][i]].values[0]==0:\n",
      "/var/folders/kr/2j58542j2_7chf9_h8bmr30mb0_4n0/T/ipykernel_15666/3676463546.py:9: UserWarning: Geometry is in a geographic CRS. Results from 'area' are likely incorrect. Use 'GeoSeries.to_crs()' to re-project geometries to a projected CRS before this operation.\n",
      "\n",
      "  if SFBay_CBG.area[SFBay_CBG.MESOZONE==p_df['locationZone'][i]].values[0]==0:\n",
      "/var/folders/kr/2j58542j2_7chf9_h8bmr30mb0_4n0/T/ipykernel_15666/3676463546.py:9: UserWarning: Geometry is in a geographic CRS. Results from 'area' are likely incorrect. Use 'GeoSeries.to_crs()' to re-project geometries to a projected CRS before this operation.\n",
      "\n",
      "  if SFBay_CBG.area[SFBay_CBG.MESOZONE==p_df['locationZone'][i]].values[0]==0:\n",
      "/var/folders/kr/2j58542j2_7chf9_h8bmr30mb0_4n0/T/ipykernel_15666/3676463546.py:9: UserWarning: Geometry is in a geographic CRS. Results from 'area' are likely incorrect. Use 'GeoSeries.to_crs()' to re-project geometries to a projected CRS before this operation.\n",
      "\n",
      "  if SFBay_CBG.area[SFBay_CBG.MESOZONE==p_df['locationZone'][i]].values[0]==0:\n",
      "/var/folders/kr/2j58542j2_7chf9_h8bmr30mb0_4n0/T/ipykernel_15666/3676463546.py:9: UserWarning: Geometry is in a geographic CRS. Results from 'area' are likely incorrect. Use 'GeoSeries.to_crs()' to re-project geometries to a projected CRS before this operation.\n",
      "\n",
      "  if SFBay_CBG.area[SFBay_CBG.MESOZONE==p_df['locationZone'][i]].values[0]==0:\n"
     ]
    },
    {
     "name": "stdout",
     "output_type": "stream",
     "text": [
      "768\n",
      "769\n",
      "770\n",
      "771\n",
      "772\n"
     ]
    },
    {
     "name": "stderr",
     "output_type": "stream",
     "text": [
      "/var/folders/kr/2j58542j2_7chf9_h8bmr30mb0_4n0/T/ipykernel_15666/3676463546.py:9: UserWarning: Geometry is in a geographic CRS. Results from 'area' are likely incorrect. Use 'GeoSeries.to_crs()' to re-project geometries to a projected CRS before this operation.\n",
      "\n",
      "  if SFBay_CBG.area[SFBay_CBG.MESOZONE==p_df['locationZone'][i]].values[0]==0:\n",
      "/var/folders/kr/2j58542j2_7chf9_h8bmr30mb0_4n0/T/ipykernel_15666/3676463546.py:9: UserWarning: Geometry is in a geographic CRS. Results from 'area' are likely incorrect. Use 'GeoSeries.to_crs()' to re-project geometries to a projected CRS before this operation.\n",
      "\n",
      "  if SFBay_CBG.area[SFBay_CBG.MESOZONE==p_df['locationZone'][i]].values[0]==0:\n",
      "/var/folders/kr/2j58542j2_7chf9_h8bmr30mb0_4n0/T/ipykernel_15666/3676463546.py:9: UserWarning: Geometry is in a geographic CRS. Results from 'area' are likely incorrect. Use 'GeoSeries.to_crs()' to re-project geometries to a projected CRS before this operation.\n",
      "\n",
      "  if SFBay_CBG.area[SFBay_CBG.MESOZONE==p_df['locationZone'][i]].values[0]==0:\n",
      "/var/folders/kr/2j58542j2_7chf9_h8bmr30mb0_4n0/T/ipykernel_15666/3676463546.py:9: UserWarning: Geometry is in a geographic CRS. Results from 'area' are likely incorrect. Use 'GeoSeries.to_crs()' to re-project geometries to a projected CRS before this operation.\n",
      "\n",
      "  if SFBay_CBG.area[SFBay_CBG.MESOZONE==p_df['locationZone'][i]].values[0]==0:\n",
      "/var/folders/kr/2j58542j2_7chf9_h8bmr30mb0_4n0/T/ipykernel_15666/3676463546.py:9: UserWarning: Geometry is in a geographic CRS. Results from 'area' are likely incorrect. Use 'GeoSeries.to_crs()' to re-project geometries to a projected CRS before this operation.\n",
      "\n",
      "  if SFBay_CBG.area[SFBay_CBG.MESOZONE==p_df['locationZone'][i]].values[0]==0:\n"
     ]
    },
    {
     "name": "stdout",
     "output_type": "stream",
     "text": [
      "773\n",
      "774\n",
      "775\n",
      "776\n",
      "777\n"
     ]
    },
    {
     "name": "stderr",
     "output_type": "stream",
     "text": [
      "/var/folders/kr/2j58542j2_7chf9_h8bmr30mb0_4n0/T/ipykernel_15666/3676463546.py:9: UserWarning: Geometry is in a geographic CRS. Results from 'area' are likely incorrect. Use 'GeoSeries.to_crs()' to re-project geometries to a projected CRS before this operation.\n",
      "\n",
      "  if SFBay_CBG.area[SFBay_CBG.MESOZONE==p_df['locationZone'][i]].values[0]==0:\n",
      "/var/folders/kr/2j58542j2_7chf9_h8bmr30mb0_4n0/T/ipykernel_15666/3676463546.py:9: UserWarning: Geometry is in a geographic CRS. Results from 'area' are likely incorrect. Use 'GeoSeries.to_crs()' to re-project geometries to a projected CRS before this operation.\n",
      "\n",
      "  if SFBay_CBG.area[SFBay_CBG.MESOZONE==p_df['locationZone'][i]].values[0]==0:\n",
      "/var/folders/kr/2j58542j2_7chf9_h8bmr30mb0_4n0/T/ipykernel_15666/3676463546.py:9: UserWarning: Geometry is in a geographic CRS. Results from 'area' are likely incorrect. Use 'GeoSeries.to_crs()' to re-project geometries to a projected CRS before this operation.\n",
      "\n",
      "  if SFBay_CBG.area[SFBay_CBG.MESOZONE==p_df['locationZone'][i]].values[0]==0:\n",
      "/var/folders/kr/2j58542j2_7chf9_h8bmr30mb0_4n0/T/ipykernel_15666/3676463546.py:9: UserWarning: Geometry is in a geographic CRS. Results from 'area' are likely incorrect. Use 'GeoSeries.to_crs()' to re-project geometries to a projected CRS before this operation.\n",
      "\n",
      "  if SFBay_CBG.area[SFBay_CBG.MESOZONE==p_df['locationZone'][i]].values[0]==0:\n",
      "/var/folders/kr/2j58542j2_7chf9_h8bmr30mb0_4n0/T/ipykernel_15666/3676463546.py:9: UserWarning: Geometry is in a geographic CRS. Results from 'area' are likely incorrect. Use 'GeoSeries.to_crs()' to re-project geometries to a projected CRS before this operation.\n",
      "\n",
      "  if SFBay_CBG.area[SFBay_CBG.MESOZONE==p_df['locationZone'][i]].values[0]==0:\n"
     ]
    },
    {
     "name": "stdout",
     "output_type": "stream",
     "text": [
      "778\n",
      "779\n",
      "780\n"
     ]
    },
    {
     "name": "stderr",
     "output_type": "stream",
     "text": [
      "/var/folders/kr/2j58542j2_7chf9_h8bmr30mb0_4n0/T/ipykernel_15666/3676463546.py:9: UserWarning: Geometry is in a geographic CRS. Results from 'area' are likely incorrect. Use 'GeoSeries.to_crs()' to re-project geometries to a projected CRS before this operation.\n",
      "\n",
      "  if SFBay_CBG.area[SFBay_CBG.MESOZONE==p_df['locationZone'][i]].values[0]==0:\n",
      "/var/folders/kr/2j58542j2_7chf9_h8bmr30mb0_4n0/T/ipykernel_15666/3676463546.py:9: UserWarning: Geometry is in a geographic CRS. Results from 'area' are likely incorrect. Use 'GeoSeries.to_crs()' to re-project geometries to a projected CRS before this operation.\n",
      "\n",
      "  if SFBay_CBG.area[SFBay_CBG.MESOZONE==p_df['locationZone'][i]].values[0]==0:\n"
     ]
    },
    {
     "ename": "KeyboardInterrupt",
     "evalue": "",
     "output_type": "error",
     "traceback": [
      "\u001b[0;31m---------------------------------------------------------------------------\u001b[0m",
      "\u001b[0;31mKeyboardInterrupt\u001b[0m                         Traceback (most recent call last)",
      "\u001b[0;32m/var/folders/kr/2j58542j2_7chf9_h8bmr30mb0_4n0/T/ipykernel_15666/3676463546.py\u001b[0m in \u001b[0;36m<module>\u001b[0;34m\u001b[0m\n\u001b[1;32m      7\u001b[0m         \u001b[0mp_df\u001b[0m\u001b[0;34m.\u001b[0m\u001b[0mloc\u001b[0m\u001b[0;34m[\u001b[0m\u001b[0mi\u001b[0m\u001b[0;34m,\u001b[0m\u001b[0;34m[\u001b[0m\u001b[0;34m'locationZone_x'\u001b[0m\u001b[0;34m,\u001b[0m\u001b[0;34m'locationZone_y'\u001b[0m\u001b[0;34m]\u001b[0m\u001b[0;34m]\u001b[0m\u001b[0;34m=\u001b[0m\u001b[0mc_df\u001b[0m\u001b[0;34m.\u001b[0m\u001b[0mloc\u001b[0m\u001b[0;34m[\u001b[0m\u001b[0mt_index\u001b[0m\u001b[0;34m,\u001b[0m \u001b[0;34m[\u001b[0m\u001b[0;34m'depot_zone_x'\u001b[0m\u001b[0;34m,\u001b[0m\u001b[0;34m'depot_zone_y'\u001b[0m\u001b[0;34m]\u001b[0m\u001b[0;34m]\u001b[0m\u001b[0;34m.\u001b[0m\u001b[0mvalues\u001b[0m\u001b[0;34m.\u001b[0m\u001b[0mtolist\u001b[0m\u001b[0;34m(\u001b[0m\u001b[0;34m)\u001b[0m\u001b[0;34m\u001b[0m\u001b[0;34m\u001b[0m\u001b[0m\n\u001b[1;32m      8\u001b[0m     \u001b[0;32melse\u001b[0m\u001b[0;34m:\u001b[0m\u001b[0;34m\u001b[0m\u001b[0;34m\u001b[0m\u001b[0m\n\u001b[0;32m----> 9\u001b[0;31m         \u001b[0;32mif\u001b[0m \u001b[0mSFBay_CBG\u001b[0m\u001b[0;34m.\u001b[0m\u001b[0marea\u001b[0m\u001b[0;34m[\u001b[0m\u001b[0mSFBay_CBG\u001b[0m\u001b[0;34m.\u001b[0m\u001b[0mMESOZONE\u001b[0m\u001b[0;34m==\u001b[0m\u001b[0mp_df\u001b[0m\u001b[0;34m[\u001b[0m\u001b[0;34m'locationZone'\u001b[0m\u001b[0;34m]\u001b[0m\u001b[0;34m[\u001b[0m\u001b[0mi\u001b[0m\u001b[0;34m]\u001b[0m\u001b[0;34m]\u001b[0m\u001b[0;34m.\u001b[0m\u001b[0mvalues\u001b[0m\u001b[0;34m[\u001b[0m\u001b[0;36m0\u001b[0m\u001b[0;34m]\u001b[0m\u001b[0;34m==\u001b[0m\u001b[0;36m0\u001b[0m\u001b[0;34m:\u001b[0m\u001b[0;34m\u001b[0m\u001b[0;34m\u001b[0m\u001b[0m\n\u001b[0m\u001b[1;32m     10\u001b[0m             \u001b[0mpoint\u001b[0m\u001b[0;34m=\u001b[0m\u001b[0mrandom_points_in_polygon\u001b[0m\u001b[0;34m(\u001b[0m\u001b[0mSFBay_CBG\u001b[0m\u001b[0;34m.\u001b[0m\u001b[0mgeometry\u001b[0m\u001b[0;34m[\u001b[0m\u001b[0mSFBay_CBG\u001b[0m\u001b[0;34m.\u001b[0m\u001b[0mMESOZONE\u001b[0m\u001b[0;34m==\u001b[0m\u001b[0mp_df\u001b[0m\u001b[0;34m[\u001b[0m\u001b[0;34m'locationZone'\u001b[0m\u001b[0;34m]\u001b[0m\u001b[0;34m[\u001b[0m\u001b[0mi\u001b[0m\u001b[0;34m]\u001b[0m\u001b[0;34m-\u001b[0m\u001b[0;36m1\u001b[0m\u001b[0;34m]\u001b[0m\u001b[0;34m)\u001b[0m\u001b[0;34m\u001b[0m\u001b[0;34m\u001b[0m\u001b[0m\n\u001b[1;32m     11\u001b[0m \u001b[0;34m\u001b[0m\u001b[0m\n",
      "\u001b[0;32m~/opt/miniconda3/envs/frism/lib/python3.8/site-packages/geopandas/base.py\u001b[0m in \u001b[0;36marea\u001b[0;34m(self)\u001b[0m\n\u001b[1;32m    132\u001b[0m         \u001b[0mdimension\u001b[0m \u001b[0;32mis\u001b[0m \u001b[0;32mnot\u001b[0m \u001b[0mtaken\u001b[0m \u001b[0minto\u001b[0m \u001b[0maccount\u001b[0m\u001b[0;34m.\u001b[0m\u001b[0;34m\u001b[0m\u001b[0;34m\u001b[0m\u001b[0m\n\u001b[1;32m    133\u001b[0m         \"\"\"\n\u001b[0;32m--> 134\u001b[0;31m         \u001b[0;32mreturn\u001b[0m \u001b[0m_delegate_property\u001b[0m\u001b[0;34m(\u001b[0m\u001b[0;34m\"area\"\u001b[0m\u001b[0;34m,\u001b[0m \u001b[0mself\u001b[0m\u001b[0;34m)\u001b[0m\u001b[0;34m\u001b[0m\u001b[0;34m\u001b[0m\u001b[0m\n\u001b[0m\u001b[1;32m    135\u001b[0m \u001b[0;34m\u001b[0m\u001b[0m\n\u001b[1;32m    136\u001b[0m     \u001b[0;34m@\u001b[0m\u001b[0mproperty\u001b[0m\u001b[0;34m\u001b[0m\u001b[0;34m\u001b[0m\u001b[0m\n",
      "\u001b[0;32m~/opt/miniconda3/envs/frism/lib/python3.8/site-packages/geopandas/base.py\u001b[0m in \u001b[0;36m_delegate_property\u001b[0;34m(op, this)\u001b[0m\n\u001b[1;32m     65\u001b[0m     \u001b[0;31m# type: (str, GeoSeries) -> GeoSeries/Series\u001b[0m\u001b[0;34m\u001b[0m\u001b[0;34m\u001b[0m\u001b[0;34m\u001b[0m\u001b[0m\n\u001b[1;32m     66\u001b[0m     \u001b[0ma_this\u001b[0m \u001b[0;34m=\u001b[0m \u001b[0mGeometryArray\u001b[0m\u001b[0;34m(\u001b[0m\u001b[0mthis\u001b[0m\u001b[0;34m.\u001b[0m\u001b[0mgeometry\u001b[0m\u001b[0;34m.\u001b[0m\u001b[0mvalues\u001b[0m\u001b[0;34m)\u001b[0m\u001b[0;34m\u001b[0m\u001b[0;34m\u001b[0m\u001b[0m\n\u001b[0;32m---> 67\u001b[0;31m     \u001b[0mdata\u001b[0m \u001b[0;34m=\u001b[0m \u001b[0mgetattr\u001b[0m\u001b[0;34m(\u001b[0m\u001b[0ma_this\u001b[0m\u001b[0;34m,\u001b[0m \u001b[0mop\u001b[0m\u001b[0;34m)\u001b[0m\u001b[0;34m\u001b[0m\u001b[0;34m\u001b[0m\u001b[0m\n\u001b[0m\u001b[1;32m     68\u001b[0m     \u001b[0;32mif\u001b[0m \u001b[0misinstance\u001b[0m\u001b[0;34m(\u001b[0m\u001b[0mdata\u001b[0m\u001b[0;34m,\u001b[0m \u001b[0mGeometryArray\u001b[0m\u001b[0;34m)\u001b[0m\u001b[0;34m:\u001b[0m\u001b[0;34m\u001b[0m\u001b[0;34m\u001b[0m\u001b[0m\n\u001b[1;32m     69\u001b[0m         \u001b[0;32mfrom\u001b[0m \u001b[0;34m.\u001b[0m\u001b[0mgeoseries\u001b[0m \u001b[0;32mimport\u001b[0m \u001b[0mGeoSeries\u001b[0m\u001b[0;34m\u001b[0m\u001b[0;34m\u001b[0m\u001b[0m\n",
      "\u001b[0;32m~/opt/miniconda3/envs/frism/lib/python3.8/site-packages/geopandas/array.py\u001b[0m in \u001b[0;36marea\u001b[0;34m(self)\u001b[0m\n\u001b[1;32m    483\u001b[0m     \u001b[0;34m@\u001b[0m\u001b[0mproperty\u001b[0m\u001b[0;34m\u001b[0m\u001b[0;34m\u001b[0m\u001b[0m\n\u001b[1;32m    484\u001b[0m     \u001b[0;32mdef\u001b[0m \u001b[0marea\u001b[0m\u001b[0;34m(\u001b[0m\u001b[0mself\u001b[0m\u001b[0;34m)\u001b[0m\u001b[0;34m:\u001b[0m\u001b[0;34m\u001b[0m\u001b[0;34m\u001b[0m\u001b[0m\n\u001b[0;32m--> 485\u001b[0;31m         \u001b[0mself\u001b[0m\u001b[0;34m.\u001b[0m\u001b[0mcheck_geographic_crs\u001b[0m\u001b[0;34m(\u001b[0m\u001b[0mstacklevel\u001b[0m\u001b[0;34m=\u001b[0m\u001b[0;36m5\u001b[0m\u001b[0;34m)\u001b[0m\u001b[0;34m\u001b[0m\u001b[0;34m\u001b[0m\u001b[0m\n\u001b[0m\u001b[1;32m    486\u001b[0m         \u001b[0;32mreturn\u001b[0m \u001b[0mvectorized\u001b[0m\u001b[0;34m.\u001b[0m\u001b[0marea\u001b[0m\u001b[0;34m(\u001b[0m\u001b[0mself\u001b[0m\u001b[0;34m.\u001b[0m\u001b[0mdata\u001b[0m\u001b[0;34m)\u001b[0m\u001b[0;34m\u001b[0m\u001b[0;34m\u001b[0m\u001b[0m\n\u001b[1;32m    487\u001b[0m \u001b[0;34m\u001b[0m\u001b[0m\n",
      "\u001b[0;32m~/opt/miniconda3/envs/frism/lib/python3.8/site-packages/geopandas/array.py\u001b[0m in \u001b[0;36mcheck_geographic_crs\u001b[0;34m(self, stacklevel)\u001b[0m\n\u001b[1;32m    360\u001b[0m                 \u001b[0;34m\"incorrect. Use 'GeoSeries.to_crs()' to re-project geometries to a \"\u001b[0m\u001b[0;34m\u001b[0m\u001b[0;34m\u001b[0m\u001b[0m\n\u001b[1;32m    361\u001b[0m                 \"projected CRS before this operation.\\n\".format(\n\u001b[0;32m--> 362\u001b[0;31m                     \u001b[0minspect\u001b[0m\u001b[0;34m.\u001b[0m\u001b[0mstack\u001b[0m\u001b[0;34m(\u001b[0m\u001b[0;34m)\u001b[0m\u001b[0;34m[\u001b[0m\u001b[0;36m1\u001b[0m\u001b[0;34m]\u001b[0m\u001b[0;34m.\u001b[0m\u001b[0mfunction\u001b[0m\u001b[0;34m\u001b[0m\u001b[0;34m\u001b[0m\u001b[0m\n\u001b[0m\u001b[1;32m    363\u001b[0m                 ),\n\u001b[1;32m    364\u001b[0m                 \u001b[0mUserWarning\u001b[0m\u001b[0;34m,\u001b[0m\u001b[0;34m\u001b[0m\u001b[0;34m\u001b[0m\u001b[0m\n",
      "\u001b[0;32m~/opt/miniconda3/envs/frism/lib/python3.8/inspect.py\u001b[0m in \u001b[0;36mstack\u001b[0;34m(context)\u001b[0m\n\u001b[1;32m   1524\u001b[0m \u001b[0;32mdef\u001b[0m \u001b[0mstack\u001b[0m\u001b[0;34m(\u001b[0m\u001b[0mcontext\u001b[0m\u001b[0;34m=\u001b[0m\u001b[0;36m1\u001b[0m\u001b[0;34m)\u001b[0m\u001b[0;34m:\u001b[0m\u001b[0;34m\u001b[0m\u001b[0;34m\u001b[0m\u001b[0m\n\u001b[1;32m   1525\u001b[0m     \u001b[0;34m\"\"\"Return a list of records for the stack above the caller's frame.\"\"\"\u001b[0m\u001b[0;34m\u001b[0m\u001b[0;34m\u001b[0m\u001b[0m\n\u001b[0;32m-> 1526\u001b[0;31m     \u001b[0;32mreturn\u001b[0m \u001b[0mgetouterframes\u001b[0m\u001b[0;34m(\u001b[0m\u001b[0msys\u001b[0m\u001b[0;34m.\u001b[0m\u001b[0m_getframe\u001b[0m\u001b[0;34m(\u001b[0m\u001b[0;36m1\u001b[0m\u001b[0;34m)\u001b[0m\u001b[0;34m,\u001b[0m \u001b[0mcontext\u001b[0m\u001b[0;34m)\u001b[0m\u001b[0;34m\u001b[0m\u001b[0;34m\u001b[0m\u001b[0m\n\u001b[0m\u001b[1;32m   1527\u001b[0m \u001b[0;34m\u001b[0m\u001b[0m\n\u001b[1;32m   1528\u001b[0m \u001b[0;32mdef\u001b[0m \u001b[0mtrace\u001b[0m\u001b[0;34m(\u001b[0m\u001b[0mcontext\u001b[0m\u001b[0;34m=\u001b[0m\u001b[0;36m1\u001b[0m\u001b[0;34m)\u001b[0m\u001b[0;34m:\u001b[0m\u001b[0;34m\u001b[0m\u001b[0;34m\u001b[0m\u001b[0m\n",
      "\u001b[0;32m~/opt/miniconda3/envs/frism/lib/python3.8/inspect.py\u001b[0m in \u001b[0;36mgetouterframes\u001b[0;34m(frame, context)\u001b[0m\n\u001b[1;32m   1501\u001b[0m     \u001b[0mframelist\u001b[0m \u001b[0;34m=\u001b[0m \u001b[0;34m[\u001b[0m\u001b[0;34m]\u001b[0m\u001b[0;34m\u001b[0m\u001b[0;34m\u001b[0m\u001b[0m\n\u001b[1;32m   1502\u001b[0m     \u001b[0;32mwhile\u001b[0m \u001b[0mframe\u001b[0m\u001b[0;34m:\u001b[0m\u001b[0;34m\u001b[0m\u001b[0;34m\u001b[0m\u001b[0m\n\u001b[0;32m-> 1503\u001b[0;31m         \u001b[0mframeinfo\u001b[0m \u001b[0;34m=\u001b[0m \u001b[0;34m(\u001b[0m\u001b[0mframe\u001b[0m\u001b[0;34m,\u001b[0m\u001b[0;34m)\u001b[0m \u001b[0;34m+\u001b[0m \u001b[0mgetframeinfo\u001b[0m\u001b[0;34m(\u001b[0m\u001b[0mframe\u001b[0m\u001b[0;34m,\u001b[0m \u001b[0mcontext\u001b[0m\u001b[0;34m)\u001b[0m\u001b[0;34m\u001b[0m\u001b[0;34m\u001b[0m\u001b[0m\n\u001b[0m\u001b[1;32m   1504\u001b[0m         \u001b[0mframelist\u001b[0m\u001b[0;34m.\u001b[0m\u001b[0mappend\u001b[0m\u001b[0;34m(\u001b[0m\u001b[0mFrameInfo\u001b[0m\u001b[0;34m(\u001b[0m\u001b[0;34m*\u001b[0m\u001b[0mframeinfo\u001b[0m\u001b[0;34m)\u001b[0m\u001b[0;34m)\u001b[0m\u001b[0;34m\u001b[0m\u001b[0;34m\u001b[0m\u001b[0m\n\u001b[1;32m   1505\u001b[0m         \u001b[0mframe\u001b[0m \u001b[0;34m=\u001b[0m \u001b[0mframe\u001b[0m\u001b[0;34m.\u001b[0m\u001b[0mf_back\u001b[0m\u001b[0;34m\u001b[0m\u001b[0;34m\u001b[0m\u001b[0m\n",
      "\u001b[0;32m~/opt/miniconda3/envs/frism/lib/python3.8/inspect.py\u001b[0m in \u001b[0;36mgetframeinfo\u001b[0;34m(frame, context)\u001b[0m\n\u001b[1;32m   1475\u001b[0m         \u001b[0mstart\u001b[0m \u001b[0;34m=\u001b[0m \u001b[0mlineno\u001b[0m \u001b[0;34m-\u001b[0m \u001b[0;36m1\u001b[0m \u001b[0;34m-\u001b[0m \u001b[0mcontext\u001b[0m\u001b[0;34m//\u001b[0m\u001b[0;36m2\u001b[0m\u001b[0;34m\u001b[0m\u001b[0;34m\u001b[0m\u001b[0m\n\u001b[1;32m   1476\u001b[0m         \u001b[0;32mtry\u001b[0m\u001b[0;34m:\u001b[0m\u001b[0;34m\u001b[0m\u001b[0;34m\u001b[0m\u001b[0m\n\u001b[0;32m-> 1477\u001b[0;31m             \u001b[0mlines\u001b[0m\u001b[0;34m,\u001b[0m \u001b[0mlnum\u001b[0m \u001b[0;34m=\u001b[0m \u001b[0mfindsource\u001b[0m\u001b[0;34m(\u001b[0m\u001b[0mframe\u001b[0m\u001b[0;34m)\u001b[0m\u001b[0;34m\u001b[0m\u001b[0;34m\u001b[0m\u001b[0m\n\u001b[0m\u001b[1;32m   1478\u001b[0m         \u001b[0;32mexcept\u001b[0m \u001b[0mOSError\u001b[0m\u001b[0;34m:\u001b[0m\u001b[0;34m\u001b[0m\u001b[0;34m\u001b[0m\u001b[0m\n\u001b[1;32m   1479\u001b[0m             \u001b[0mlines\u001b[0m \u001b[0;34m=\u001b[0m \u001b[0mindex\u001b[0m \u001b[0;34m=\u001b[0m \u001b[0;32mNone\u001b[0m\u001b[0;34m\u001b[0m\u001b[0;34m\u001b[0m\u001b[0m\n",
      "\u001b[0;32m~/opt/miniconda3/envs/frism/lib/python3.8/inspect.py\u001b[0m in \u001b[0;36mfindsource\u001b[0;34m(object)\u001b[0m\n\u001b[1;32m    778\u001b[0m     is raised if the source code cannot be retrieved.\"\"\"\n\u001b[1;32m    779\u001b[0m \u001b[0;34m\u001b[0m\u001b[0m\n\u001b[0;32m--> 780\u001b[0;31m     \u001b[0mfile\u001b[0m \u001b[0;34m=\u001b[0m \u001b[0mgetsourcefile\u001b[0m\u001b[0;34m(\u001b[0m\u001b[0mobject\u001b[0m\u001b[0;34m)\u001b[0m\u001b[0;34m\u001b[0m\u001b[0;34m\u001b[0m\u001b[0m\n\u001b[0m\u001b[1;32m    781\u001b[0m     \u001b[0;32mif\u001b[0m \u001b[0mfile\u001b[0m\u001b[0;34m:\u001b[0m\u001b[0;34m\u001b[0m\u001b[0;34m\u001b[0m\u001b[0m\n\u001b[1;32m    782\u001b[0m         \u001b[0;31m# Invalidate cache if needed.\u001b[0m\u001b[0;34m\u001b[0m\u001b[0;34m\u001b[0m\u001b[0;34m\u001b[0m\u001b[0m\n",
      "\u001b[0;32m~/opt/miniconda3/envs/frism/lib/python3.8/inspect.py\u001b[0m in \u001b[0;36mgetsourcefile\u001b[0;34m(object)\u001b[0m\n\u001b[1;32m    706\u001b[0m         \u001b[0;32mreturn\u001b[0m \u001b[0mfilename\u001b[0m\u001b[0;34m\u001b[0m\u001b[0;34m\u001b[0m\u001b[0m\n\u001b[1;32m    707\u001b[0m     \u001b[0;31m# only return a non-existent filename if the module has a PEP 302 loader\u001b[0m\u001b[0;34m\u001b[0m\u001b[0;34m\u001b[0m\u001b[0;34m\u001b[0m\u001b[0m\n\u001b[0;32m--> 708\u001b[0;31m     \u001b[0;32mif\u001b[0m \u001b[0mgetattr\u001b[0m\u001b[0;34m(\u001b[0m\u001b[0mgetmodule\u001b[0m\u001b[0;34m(\u001b[0m\u001b[0mobject\u001b[0m\u001b[0;34m,\u001b[0m \u001b[0mfilename\u001b[0m\u001b[0;34m)\u001b[0m\u001b[0;34m,\u001b[0m \u001b[0;34m'__loader__'\u001b[0m\u001b[0;34m,\u001b[0m \u001b[0;32mNone\u001b[0m\u001b[0;34m)\u001b[0m \u001b[0;32mis\u001b[0m \u001b[0;32mnot\u001b[0m \u001b[0;32mNone\u001b[0m\u001b[0;34m:\u001b[0m\u001b[0;34m\u001b[0m\u001b[0;34m\u001b[0m\u001b[0m\n\u001b[0m\u001b[1;32m    709\u001b[0m         \u001b[0;32mreturn\u001b[0m \u001b[0mfilename\u001b[0m\u001b[0;34m\u001b[0m\u001b[0;34m\u001b[0m\u001b[0m\n\u001b[1;32m    710\u001b[0m     \u001b[0;31m# or it is in the linecache\u001b[0m\u001b[0;34m\u001b[0m\u001b[0;34m\u001b[0m\u001b[0;34m\u001b[0m\u001b[0m\n",
      "\u001b[0;32m~/opt/miniconda3/envs/frism/lib/python3.8/inspect.py\u001b[0m in \u001b[0;36mgetmodule\u001b[0;34m(object, _filename)\u001b[0m\n\u001b[1;32m    744\u001b[0m     \u001b[0;32mfor\u001b[0m \u001b[0mmodname\u001b[0m\u001b[0;34m,\u001b[0m \u001b[0mmodule\u001b[0m \u001b[0;32min\u001b[0m \u001b[0msys\u001b[0m\u001b[0;34m.\u001b[0m\u001b[0mmodules\u001b[0m\u001b[0;34m.\u001b[0m\u001b[0mcopy\u001b[0m\u001b[0;34m(\u001b[0m\u001b[0;34m)\u001b[0m\u001b[0;34m.\u001b[0m\u001b[0mitems\u001b[0m\u001b[0;34m(\u001b[0m\u001b[0;34m)\u001b[0m\u001b[0;34m:\u001b[0m\u001b[0;34m\u001b[0m\u001b[0;34m\u001b[0m\u001b[0m\n\u001b[1;32m    745\u001b[0m         \u001b[0;32mif\u001b[0m \u001b[0mismodule\u001b[0m\u001b[0;34m(\u001b[0m\u001b[0mmodule\u001b[0m\u001b[0;34m)\u001b[0m \u001b[0;32mand\u001b[0m \u001b[0mhasattr\u001b[0m\u001b[0;34m(\u001b[0m\u001b[0mmodule\u001b[0m\u001b[0;34m,\u001b[0m \u001b[0;34m'__file__'\u001b[0m\u001b[0;34m)\u001b[0m\u001b[0;34m:\u001b[0m\u001b[0;34m\u001b[0m\u001b[0;34m\u001b[0m\u001b[0m\n\u001b[0;32m--> 746\u001b[0;31m             \u001b[0mf\u001b[0m \u001b[0;34m=\u001b[0m \u001b[0mmodule\u001b[0m\u001b[0;34m.\u001b[0m\u001b[0m__file__\u001b[0m\u001b[0;34m\u001b[0m\u001b[0;34m\u001b[0m\u001b[0m\n\u001b[0m\u001b[1;32m    747\u001b[0m             \u001b[0;32mif\u001b[0m \u001b[0mf\u001b[0m \u001b[0;34m==\u001b[0m \u001b[0m_filesbymodname\u001b[0m\u001b[0;34m.\u001b[0m\u001b[0mget\u001b[0m\u001b[0;34m(\u001b[0m\u001b[0mmodname\u001b[0m\u001b[0;34m,\u001b[0m \u001b[0;32mNone\u001b[0m\u001b[0;34m)\u001b[0m\u001b[0;34m:\u001b[0m\u001b[0;34m\u001b[0m\u001b[0;34m\u001b[0m\u001b[0m\n\u001b[1;32m    748\u001b[0m                 \u001b[0;31m# Have already mapped this module, so skip it\u001b[0m\u001b[0;34m\u001b[0m\u001b[0;34m\u001b[0m\u001b[0;34m\u001b[0m\u001b[0m\n",
      "\u001b[0;31mKeyboardInterrupt\u001b[0m: "
     ]
    }
   ],
   "source": [
    "    p_df['locationZone_x']=0.0\n",
    "    p_df['locationZone_y']=0.0\n",
    "    for i in range(0,p_df.shape[0]):\n",
    "        print (i)\n",
    "        if \"d\" in p_df.loc[i,\"payloadId\"]:\n",
    "            t_index=c_df.index[c_df[\"tourId\"]==p_df.loc[i,\"tourId\"]].values[0]\n",
    "            p_df.loc[i,['locationZone_x','locationZone_y']]=c_df.loc[t_index, ['depot_zone_x','depot_zone_y']].values.tolist()  \n",
    "        else:\n",
    "            point=random_points_in_polygon(SFBay_CBG.geometry[SFBay_CBG.MESOZONE==p_df['locationZone'][i]])\n",
    "            p_df.loc[i,'locationZone_x']=point.x\n",
    "            p_df.loc[i,'locationZone_y']=point.y"
   ]
  },
  {
   "cell_type": "code",
   "execution_count": null,
   "id": "59055d72",
   "metadata": {},
   "outputs": [],
   "source": []
  },
  {
   "cell_type": "code",
   "execution_count": 74,
   "id": "e351001b",
   "metadata": {},
   "outputs": [
    {
     "data": {
      "text/plain": [
       "6251    GEOMETRYCOLLECTION EMPTY\n",
       "Name: geometry, dtype: geometry"
      ]
     },
     "execution_count": 74,
     "metadata": {},
     "output_type": "execute_result"
    }
   ],
   "source": [
    "SFBay_CBG.geometry[SFBay_CBG.MESOZONE==p_df['locationZone'][i]]"
   ]
  },
  {
   "cell_type": "code",
   "execution_count": 109,
   "id": "0ed60e7e",
   "metadata": {},
   "outputs": [
    {
     "data": {
      "text/plain": [
       "False"
      ]
     },
     "execution_count": 109,
     "metadata": {},
     "output_type": "execute_result"
    }
   ],
   "source": [
    "SFBay_CBG.loc[g_index, \"area\"]==0"
   ]
  },
  {
   "cell_type": "code",
   "execution_count": 75,
   "id": "977aee77",
   "metadata": {},
   "outputs": [
    {
     "data": {
      "text/plain": [
       "6252"
      ]
     },
     "execution_count": 75,
     "metadata": {},
     "output_type": "execute_result"
    }
   ],
   "source": [
    "p_df['locationZone'][i]"
   ]
  },
  {
   "cell_type": "code",
   "execution_count": 72,
   "id": "c0be20cc",
   "metadata": {},
   "outputs": [
    {
     "data": {
      "text/plain": [
       "False"
      ]
     },
     "execution_count": 72,
     "metadata": {},
     "output_type": "execute_result"
    }
   ],
   "source": [
    "\"d\" in p_df.loc[i,\"payloadId\"]"
   ]
  },
  {
   "cell_type": "code",
   "execution_count": 62,
   "id": "4cac0aa0",
   "metadata": {},
   "outputs": [],
   "source": [
    "t_index=c_df.index[c_df[\"tourId\"]==p_df.loc[i,\"tourId\"]].values[0]"
   ]
  },
  {
   "cell_type": "code",
   "execution_count": 63,
   "id": "43851df1",
   "metadata": {},
   "outputs": [
    {
     "data": {
      "text/plain": [
       "[-121.9243393632834, 37.48729410792814]"
      ]
     },
     "execution_count": 63,
     "metadata": {},
     "output_type": "execute_result"
    }
   ],
   "source": [
    "c_df.loc[t_index, ['depot_zone_x','depot_zone_y']].values.tolist()"
   ]
  },
  {
   "cell_type": "code",
   "execution_count": 64,
   "id": "ec9017af",
   "metadata": {},
   "outputs": [],
   "source": [
    "p_df.loc[i,['locationZone_x','locationZone_y']]=c_df.loc[t_index, ['depot_zone_x','depot_zone_y']].values.tolist()"
   ]
  },
  {
   "cell_type": "code",
   "execution_count": 45,
   "id": "c6dd782d",
   "metadata": {},
   "outputs": [
    {
     "data": {
      "text/plain": [
       "locationZone_x    NaN\n",
       "locationZone_y    NaN\n",
       "Name: 0, dtype: object"
      ]
     },
     "execution_count": 45,
     "metadata": {},
     "output_type": "execute_result"
    }
   ],
   "source": [
    "p_df.loc[i,['locationZone_x','locationZone_y']]"
   ]
  },
  {
   "cell_type": "code",
   "execution_count": 46,
   "id": "1a3381a0",
   "metadata": {},
   "outputs": [
    {
     "data": {
      "text/plain": [
       "<pandas.core.indexing._LocIndexer at 0x7fe8dd77fef0>"
      ]
     },
     "execution_count": 46,
     "metadata": {},
     "output_type": "execute_result"
    }
   ],
   "source": [
    "p_df.loc"
   ]
  },
  {
   "cell_type": "code",
   "execution_count": 65,
   "id": "af253194",
   "metadata": {},
   "outputs": [
    {
     "data": {
      "text/html": [
       "<div>\n",
       "<style scoped>\n",
       "    .dataframe tbody tr th:only-of-type {\n",
       "        vertical-align: middle;\n",
       "    }\n",
       "\n",
       "    .dataframe tbody tr th {\n",
       "        vertical-align: top;\n",
       "    }\n",
       "\n",
       "    .dataframe thead th {\n",
       "        text-align: right;\n",
       "    }\n",
       "</style>\n",
       "<table border=\"1\" class=\"dataframe\">\n",
       "  <thead>\n",
       "    <tr style=\"text-align: right;\">\n",
       "      <th></th>\n",
       "      <th>payloadId</th>\n",
       "      <th>sequenceRank</th>\n",
       "      <th>tourId</th>\n",
       "      <th>payloadType</th>\n",
       "      <th>weightInlb</th>\n",
       "      <th>requestType</th>\n",
       "      <th>locationZone</th>\n",
       "      <th>estimatedTimeOfArrivalInSec</th>\n",
       "      <th>arrivalTimeWindowInSec_lower</th>\n",
       "      <th>arrivalTimeWindowInSec_upper</th>\n",
       "      <th>operationDurationInSec</th>\n",
       "      <th>locationZone_x</th>\n",
       "      <th>locationZone_y</th>\n",
       "    </tr>\n",
       "  </thead>\n",
       "  <tbody>\n",
       "    <tr>\n",
       "      <th>0</th>\n",
       "      <td>cd0</td>\n",
       "      <td>1</td>\n",
       "      <td>0</td>\n",
       "      <td>1</td>\n",
       "      <td>226</td>\n",
       "      <td>1</td>\n",
       "      <td>872</td>\n",
       "      <td>44100</td>\n",
       "      <td>18000</td>\n",
       "      <td>79200</td>\n",
       "      <td>420</td>\n",
       "      <td>-121.924339</td>\n",
       "      <td>37.487294</td>\n",
       "    </tr>\n",
       "    <tr>\n",
       "      <th>1</th>\n",
       "      <td>0</td>\n",
       "      <td>2</td>\n",
       "      <td>0</td>\n",
       "      <td>1</td>\n",
       "      <td>109</td>\n",
       "      <td>1</td>\n",
       "      <td>131</td>\n",
       "      <td>46020</td>\n",
       "      <td>18000</td>\n",
       "      <td>79200</td>\n",
       "      <td>540</td>\n",
       "      <td>NaN</td>\n",
       "      <td>NaN</td>\n",
       "    </tr>\n",
       "    <tr>\n",
       "      <th>2</th>\n",
       "      <td>8</td>\n",
       "      <td>3</td>\n",
       "      <td>0</td>\n",
       "      <td>1</td>\n",
       "      <td>730</td>\n",
       "      <td>1</td>\n",
       "      <td>5891</td>\n",
       "      <td>47520</td>\n",
       "      <td>18000</td>\n",
       "      <td>79200</td>\n",
       "      <td>2520</td>\n",
       "      <td>NaN</td>\n",
       "      <td>NaN</td>\n",
       "    </tr>\n",
       "    <tr>\n",
       "      <th>3</th>\n",
       "      <td>15</td>\n",
       "      <td>4</td>\n",
       "      <td>0</td>\n",
       "      <td>1</td>\n",
       "      <td>1395</td>\n",
       "      <td>1</td>\n",
       "      <td>5678</td>\n",
       "      <td>50400</td>\n",
       "      <td>18000</td>\n",
       "      <td>79200</td>\n",
       "      <td>4920</td>\n",
       "      <td>NaN</td>\n",
       "      <td>NaN</td>\n",
       "    </tr>\n",
       "    <tr>\n",
       "      <th>4</th>\n",
       "      <td>25</td>\n",
       "      <td>5</td>\n",
       "      <td>0</td>\n",
       "      <td>1</td>\n",
       "      <td>467</td>\n",
       "      <td>1</td>\n",
       "      <td>20091</td>\n",
       "      <td>105120</td>\n",
       "      <td>18000</td>\n",
       "      <td>1728000</td>\n",
       "      <td>960</td>\n",
       "      <td>NaN</td>\n",
       "      <td>NaN</td>\n",
       "    </tr>\n",
       "  </tbody>\n",
       "</table>\n",
       "</div>"
      ],
      "text/plain": [
       "  payloadId  sequenceRank  tourId  payloadType  weightInlb  requestType  \\\n",
       "0       cd0             1       0            1         226            1   \n",
       "1         0             2       0            1         109            1   \n",
       "2         8             3       0            1         730            1   \n",
       "3        15             4       0            1        1395            1   \n",
       "4        25             5       0            1         467            1   \n",
       "\n",
       "   locationZone  estimatedTimeOfArrivalInSec  arrivalTimeWindowInSec_lower  \\\n",
       "0           872                        44100                         18000   \n",
       "1           131                        46020                         18000   \n",
       "2          5891                        47520                         18000   \n",
       "3          5678                        50400                         18000   \n",
       "4         20091                       105120                         18000   \n",
       "\n",
       "   arrivalTimeWindowInSec_upper  operationDurationInSec  locationZone_x  \\\n",
       "0                         79200                     420     -121.924339   \n",
       "1                         79200                     540             NaN   \n",
       "2                         79200                    2520             NaN   \n",
       "3                         79200                    4920             NaN   \n",
       "4                       1728000                     960             NaN   \n",
       "\n",
       "   locationZone_y  \n",
       "0       37.487294  \n",
       "1             NaN  \n",
       "2             NaN  \n",
       "3             NaN  \n",
       "4             NaN  "
      ]
     },
     "execution_count": 65,
     "metadata": {},
     "output_type": "execute_result"
    }
   ],
   "source": [
    "p_df.head()"
   ]
  },
  {
   "cell_type": "code",
   "execution_count": 77,
   "id": "dfb23ae0",
   "metadata": {},
   "outputs": [
    {
     "data": {
      "text/html": [
       "<div>\n",
       "<style scoped>\n",
       "    .dataframe tbody tr th:only-of-type {\n",
       "        vertical-align: middle;\n",
       "    }\n",
       "\n",
       "    .dataframe tbody tr th {\n",
       "        vertical-align: top;\n",
       "    }\n",
       "\n",
       "    .dataframe thead th {\n",
       "        text-align: right;\n",
       "    }\n",
       "</style>\n",
       "<table border=\"1\" class=\"dataframe\">\n",
       "  <thead>\n",
       "    <tr style=\"text-align: right;\">\n",
       "      <th></th>\n",
       "      <th>GEOID</th>\n",
       "      <th>CBPZONE</th>\n",
       "      <th>MESOZONE</th>\n",
       "      <th>area</th>\n",
       "      <th>geometry</th>\n",
       "    </tr>\n",
       "  </thead>\n",
       "  <tbody>\n",
       "    <tr>\n",
       "      <th>6251</th>\n",
       "      <td>060759901000</td>\n",
       "      <td>64075</td>\n",
       "      <td>6252</td>\n",
       "      <td>0.0</td>\n",
       "      <td>GEOMETRYCOLLECTION EMPTY</td>\n",
       "    </tr>\n",
       "  </tbody>\n",
       "</table>\n",
       "</div>"
      ],
      "text/plain": [
       "             GEOID  CBPZONE  MESOZONE  area                  geometry\n",
       "6251  060759901000    64075      6252   0.0  GEOMETRYCOLLECTION EMPTY"
      ]
     },
     "execution_count": 77,
     "metadata": {},
     "output_type": "execute_result"
    }
   ],
   "source": [
    "SFBay_CBG[SFBay_CBG.MESOZONE == 6252]"
   ]
  },
  {
   "cell_type": "code",
   "execution_count": 79,
   "id": "6d9cb2d8",
   "metadata": {
    "scrolled": true
   },
   "outputs": [
    {
     "name": "stderr",
     "output_type": "stream",
     "text": [
      "/var/folders/kr/2j58542j2_7chf9_h8bmr30mb0_4n0/T/ipykernel_15666/2242830175.py:1: UserWarning: Geometry is in a geographic CRS. Results from 'area' are likely incorrect. Use 'GeoSeries.to_crs()' to re-project geometries to a projected CRS before this operation.\n",
      "\n",
      "  SFBay_CBG[SFBay_CBG.area == 0 ]\n"
     ]
    },
    {
     "data": {
      "text/html": [
       "<div>\n",
       "<style scoped>\n",
       "    .dataframe tbody tr th:only-of-type {\n",
       "        vertical-align: middle;\n",
       "    }\n",
       "\n",
       "    .dataframe tbody tr th {\n",
       "        vertical-align: top;\n",
       "    }\n",
       "\n",
       "    .dataframe thead th {\n",
       "        text-align: right;\n",
       "    }\n",
       "</style>\n",
       "<table border=\"1\" class=\"dataframe\">\n",
       "  <thead>\n",
       "    <tr style=\"text-align: right;\">\n",
       "      <th></th>\n",
       "      <th>GEOID</th>\n",
       "      <th>CBPZONE</th>\n",
       "      <th>MESOZONE</th>\n",
       "      <th>area</th>\n",
       "      <th>geometry</th>\n",
       "    </tr>\n",
       "  </thead>\n",
       "  <tbody>\n",
       "    <tr>\n",
       "      <th>1046</th>\n",
       "      <td>060019900000</td>\n",
       "      <td>64001</td>\n",
       "      <td>1047</td>\n",
       "      <td>0.0</td>\n",
       "      <td>GEOMETRYCOLLECTION EMPTY</td>\n",
       "    </tr>\n",
       "    <tr>\n",
       "      <th>1958</th>\n",
       "      <td>060139900000</td>\n",
       "      <td>64013</td>\n",
       "      <td>1959</td>\n",
       "      <td>0.0</td>\n",
       "      <td>GEOMETRYCOLLECTION EMPTY</td>\n",
       "    </tr>\n",
       "    <tr>\n",
       "      <th>1978</th>\n",
       "      <td>060159900000</td>\n",
       "      <td>69015</td>\n",
       "      <td>1979</td>\n",
       "      <td>0.0</td>\n",
       "      <td>GEOMETRYCOLLECTION EMPTY</td>\n",
       "    </tr>\n",
       "    <tr>\n",
       "      <th>2823</th>\n",
       "      <td>060239901000</td>\n",
       "      <td>69023</td>\n",
       "      <td>2824</td>\n",
       "      <td>0.0</td>\n",
       "      <td>GEOMETRYCOLLECTION EMPTY</td>\n",
       "    </tr>\n",
       "    <tr>\n",
       "      <th>3800</th>\n",
       "      <td>060419901000</td>\n",
       "      <td>64041</td>\n",
       "      <td>3801</td>\n",
       "      <td>0.0</td>\n",
       "      <td>GEOMETRYCOLLECTION EMPTY</td>\n",
       "    </tr>\n",
       "    <tr>\n",
       "      <th>3896</th>\n",
       "      <td>060459901000</td>\n",
       "      <td>69045</td>\n",
       "      <td>3897</td>\n",
       "      <td>0.0</td>\n",
       "      <td>GEOMETRYCOLLECTION EMPTY</td>\n",
       "    </tr>\n",
       "    <tr>\n",
       "      <th>4302</th>\n",
       "      <td>060539900000</td>\n",
       "      <td>69053</td>\n",
       "      <td>4303</td>\n",
       "      <td>0.0</td>\n",
       "      <td>GEOMETRYCOLLECTION EMPTY</td>\n",
       "    </tr>\n",
       "    <tr>\n",
       "      <th>6251</th>\n",
       "      <td>060759901000</td>\n",
       "      <td>64075</td>\n",
       "      <td>6252</td>\n",
       "      <td>0.0</td>\n",
       "      <td>GEOMETRYCOLLECTION EMPTY</td>\n",
       "    </tr>\n",
       "    <tr>\n",
       "      <th>6809</th>\n",
       "      <td>060799900000</td>\n",
       "      <td>69079</td>\n",
       "      <td>6810</td>\n",
       "      <td>0.0</td>\n",
       "      <td>GEOMETRYCOLLECTION EMPTY</td>\n",
       "    </tr>\n",
       "    <tr>\n",
       "      <th>7272</th>\n",
       "      <td>060819901000</td>\n",
       "      <td>64081</td>\n",
       "      <td>7273</td>\n",
       "      <td>0.0</td>\n",
       "      <td>GEOMETRYCOLLECTION EMPTY</td>\n",
       "    </tr>\n",
       "    <tr>\n",
       "      <th>8856</th>\n",
       "      <td>060879901000</td>\n",
       "      <td>64087</td>\n",
       "      <td>8857</td>\n",
       "      <td>0.0</td>\n",
       "      <td>GEOMETRYCOLLECTION EMPTY</td>\n",
       "    </tr>\n",
       "    <tr>\n",
       "      <th>9701</th>\n",
       "      <td>060979901000</td>\n",
       "      <td>64097</td>\n",
       "      <td>9702</td>\n",
       "      <td>0.0</td>\n",
       "      <td>GEOMETRYCOLLECTION EMPTY</td>\n",
       "    </tr>\n",
       "  </tbody>\n",
       "</table>\n",
       "</div>"
      ],
      "text/plain": [
       "             GEOID  CBPZONE  MESOZONE  area                  geometry\n",
       "1046  060019900000    64001      1047   0.0  GEOMETRYCOLLECTION EMPTY\n",
       "1958  060139900000    64013      1959   0.0  GEOMETRYCOLLECTION EMPTY\n",
       "1978  060159900000    69015      1979   0.0  GEOMETRYCOLLECTION EMPTY\n",
       "2823  060239901000    69023      2824   0.0  GEOMETRYCOLLECTION EMPTY\n",
       "3800  060419901000    64041      3801   0.0  GEOMETRYCOLLECTION EMPTY\n",
       "3896  060459901000    69045      3897   0.0  GEOMETRYCOLLECTION EMPTY\n",
       "4302  060539900000    69053      4303   0.0  GEOMETRYCOLLECTION EMPTY\n",
       "6251  060759901000    64075      6252   0.0  GEOMETRYCOLLECTION EMPTY\n",
       "6809  060799900000    69079      6810   0.0  GEOMETRYCOLLECTION EMPTY\n",
       "7272  060819901000    64081      7273   0.0  GEOMETRYCOLLECTION EMPTY\n",
       "8856  060879901000    64087      8857   0.0  GEOMETRYCOLLECTION EMPTY\n",
       "9701  060979901000    64097      9702   0.0  GEOMETRYCOLLECTION EMPTY"
      ]
     },
     "execution_count": 79,
     "metadata": {},
     "output_type": "execute_result"
    }
   ],
   "source": [
    "SFBay_CBG[SFBay_CBG.area == 0 ]"
   ]
  },
  {
   "cell_type": "code",
   "execution_count": 118,
   "id": "24a961b6",
   "metadata": {},
   "outputs": [
    {
     "name": "stderr",
     "output_type": "stream",
     "text": [
      "/var/folders/kr/2j58542j2_7chf9_h8bmr30mb0_4n0/T/ipykernel_15666/1296316662.py:1: UserWarning: Geometry is in a geographic CRS. Results from 'area' are likely incorrect. Use 'GeoSeries.to_crs()' to re-project geometries to a projected CRS before this operation.\n",
      "\n",
      "  SFBay_CBG.area[SFBay_CBG.MESOZONE==p_df['locationZone'][i]]\n"
     ]
    },
    {
     "data": {
      "text/plain": [
       "130    0.000017\n",
       "dtype: float64"
      ]
     },
     "execution_count": 118,
     "metadata": {},
     "output_type": "execute_result"
    }
   ],
   "source": [
    "SFBay_CBG.area[SFBay_CBG.MESOZONE==p_df['locationZone'][i]]"
   ]
  },
  {
   "cell_type": "code",
   "execution_count": 105,
   "id": "80ad08c1",
   "metadata": {},
   "outputs": [
    {
     "data": {
      "text/plain": [
       "130"
      ]
     },
     "execution_count": 105,
     "metadata": {},
     "output_type": "execute_result"
    }
   ],
   "source": [
    "g_index"
   ]
  },
  {
   "cell_type": "code",
   "execution_count": 110,
   "id": "29a56453",
   "metadata": {},
   "outputs": [
    {
     "ename": "AttributeError",
     "evalue": "'DataFrame' object has no attribute 'depot_zone'",
     "output_type": "error",
     "traceback": [
      "\u001b[0;31m---------------------------------------------------------------------------\u001b[0m",
      "\u001b[0;31mAttributeError\u001b[0m                            Traceback (most recent call last)",
      "\u001b[0;32m/var/folders/kr/2j58542j2_7chf9_h8bmr30mb0_4n0/T/ipykernel_15666/596668208.py\u001b[0m in \u001b[0;36m<module>\u001b[0;34m\u001b[0m\n\u001b[0;32m----> 1\u001b[0;31m \u001b[0mSFBay_CBG\u001b[0m\u001b[0;34m.\u001b[0m\u001b[0mgeometry\u001b[0m\u001b[0;34m[\u001b[0m\u001b[0mSFBay_CBG\u001b[0m\u001b[0;34m.\u001b[0m\u001b[0mMESOZONE\u001b[0m\u001b[0;34m==\u001b[0m\u001b[0mp_df\u001b[0m\u001b[0;34m.\u001b[0m\u001b[0mdepot_zone\u001b[0m\u001b[0;34m[\u001b[0m\u001b[0;36m1\u001b[0m\u001b[0;34m]\u001b[0m\u001b[0;34m]\u001b[0m\u001b[0;34m\u001b[0m\u001b[0;34m\u001b[0m\u001b[0m\n\u001b[0m",
      "\u001b[0;32m~/opt/miniconda3/envs/frism/lib/python3.8/site-packages/pandas/core/generic.py\u001b[0m in \u001b[0;36m__getattr__\u001b[0;34m(self, name)\u001b[0m\n\u001b[1;32m   5485\u001b[0m         ):\n\u001b[1;32m   5486\u001b[0m             \u001b[0;32mreturn\u001b[0m \u001b[0mself\u001b[0m\u001b[0;34m[\u001b[0m\u001b[0mname\u001b[0m\u001b[0;34m]\u001b[0m\u001b[0;34m\u001b[0m\u001b[0;34m\u001b[0m\u001b[0m\n\u001b[0;32m-> 5487\u001b[0;31m         \u001b[0;32mreturn\u001b[0m \u001b[0mobject\u001b[0m\u001b[0;34m.\u001b[0m\u001b[0m__getattribute__\u001b[0m\u001b[0;34m(\u001b[0m\u001b[0mself\u001b[0m\u001b[0;34m,\u001b[0m \u001b[0mname\u001b[0m\u001b[0;34m)\u001b[0m\u001b[0;34m\u001b[0m\u001b[0;34m\u001b[0m\u001b[0m\n\u001b[0m\u001b[1;32m   5488\u001b[0m \u001b[0;34m\u001b[0m\u001b[0m\n\u001b[1;32m   5489\u001b[0m     \u001b[0;32mdef\u001b[0m \u001b[0m__setattr__\u001b[0m\u001b[0;34m(\u001b[0m\u001b[0mself\u001b[0m\u001b[0;34m,\u001b[0m \u001b[0mname\u001b[0m\u001b[0;34m:\u001b[0m \u001b[0mstr\u001b[0m\u001b[0;34m,\u001b[0m \u001b[0mvalue\u001b[0m\u001b[0;34m)\u001b[0m \u001b[0;34m->\u001b[0m \u001b[0;32mNone\u001b[0m\u001b[0;34m:\u001b[0m\u001b[0;34m\u001b[0m\u001b[0;34m\u001b[0m\u001b[0m\n",
      "\u001b[0;31mAttributeError\u001b[0m: 'DataFrame' object has no attribute 'depot_zone'"
     ]
    }
   ],
   "source": [
    "SFBay_CBG.geometry[SFBay_CBG.MESOZONE==p_df.depot_zone[1]]"
   ]
  },
  {
   "cell_type": "code",
   "execution_count": 115,
   "id": "4591a59f",
   "metadata": {},
   "outputs": [
    {
     "data": {
      "text/plain": [
       "130    MULTIPOLYGON (((-122.23499 37.80720, -122.2325...\n",
       "Name: geometry, dtype: geometry"
      ]
     },
     "execution_count": 115,
     "metadata": {},
     "output_type": "execute_result"
    }
   ],
   "source": [
    "SFBay_CBG.geometry[SFBay_CBG.MESOZONE==p_df['locationZone'][1]]"
   ]
  },
  {
   "cell_type": "code",
   "execution_count": 116,
   "id": "4db3abbb",
   "metadata": {},
   "outputs": [
    {
     "data": {
      "image/svg+xml": [
       "<svg xmlns=\"http://www.w3.org/2000/svg\" xmlns:xlink=\"http://www.w3.org/1999/xlink\" width=\"100.0\" height=\"100.0\" viewBox=\"-122.23528428 37.80659572 0.00789156000000446 0.006273560000003897\" preserveAspectRatio=\"xMinYMin meet\"><g transform=\"matrix(1,0,0,-1,0,75.61946499999999)\"><g><path fill-rule=\"evenodd\" fill=\"#66cc99\" stroke=\"#555555\" stroke-width=\"0.0001578312000000892\" opacity=\"0.6\" d=\"M -122.234992,37.8072 L -122.232587,37.809895 L -122.234447,37.811225 L -122.230274,37.811998 L -122.228855,37.812577 L -122.227685,37.811938 L -122.230686,37.810097 L -122.23106,37.807199 L -122.233008,37.806888 L -122.234992,37.8072 z\" /></g></g></svg>"
      ],
      "text/plain": [
       "<shapely.geometry.multipolygon.MultiPolygon at 0x7fe8de496160>"
      ]
     },
     "execution_count": 116,
     "metadata": {},
     "output_type": "execute_result"
    }
   ],
   "source": [
    "SFBay_CBG.geometry[130]"
   ]
  },
  {
   "cell_type": "code",
   "execution_count": 114,
   "id": "f7da751f",
   "metadata": {},
   "outputs": [
    {
     "data": {
      "text/plain": [
       "872"
      ]
     },
     "execution_count": 114,
     "metadata": {},
     "output_type": "execute_result"
    }
   ],
   "source": [
    "p_df['locationZone'][0]"
   ]
  },
  {
   "cell_type": "code",
   "execution_count": 123,
   "id": "5693fec2",
   "metadata": {},
   "outputs": [
    {
     "name": "stderr",
     "output_type": "stream",
     "text": [
      "/var/folders/kr/2j58542j2_7chf9_h8bmr30mb0_4n0/T/ipykernel_15666/1296316662.py:1: UserWarning: Geometry is in a geographic CRS. Results from 'area' are likely incorrect. Use 'GeoSeries.to_crs()' to re-project geometries to a projected CRS before this operation.\n",
      "\n",
      "  SFBay_CBG.area[SFBay_CBG.MESOZONE==p_df['locationZone'][i]]\n"
     ]
    },
    {
     "data": {
      "text/plain": [
       "8623    0.000205\n",
       "dtype: float64"
      ]
     },
     "execution_count": 123,
     "metadata": {},
     "output_type": "execute_result"
    }
   ],
   "source": [
    "SFBay_CBG.area[SFBay_CBG.MESOZONE==p_df['locationZone'][i]]"
   ]
  },
  {
   "cell_type": "code",
   "execution_count": 126,
   "id": "c651bcfd",
   "metadata": {},
   "outputs": [
    {
     "ename": "KeyboardInterrupt",
     "evalue": "",
     "output_type": "error",
     "traceback": [
      "\u001b[0;31m---------------------------------------------------------------------------\u001b[0m",
      "\u001b[0;31mKeyboardInterrupt\u001b[0m                         Traceback (most recent call last)",
      "\u001b[0;32m/var/folders/kr/2j58542j2_7chf9_h8bmr30mb0_4n0/T/ipykernel_15666/1815216901.py\u001b[0m in \u001b[0;36m<module>\u001b[0;34m\u001b[0m\n\u001b[0;32m----> 1\u001b[0;31m \u001b[0mrandom_points_in_polygon\u001b[0m\u001b[0;34m(\u001b[0m\u001b[0mSFBay_CBG\u001b[0m\u001b[0;34m.\u001b[0m\u001b[0mgeometry\u001b[0m\u001b[0;34m[\u001b[0m\u001b[0mSFBay_CBG\u001b[0m\u001b[0;34m.\u001b[0m\u001b[0mMESOZONE\u001b[0m\u001b[0;34m==\u001b[0m\u001b[0;36m6252\u001b[0m\u001b[0;34m]\u001b[0m\u001b[0;34m)\u001b[0m\u001b[0;34m\u001b[0m\u001b[0;34m\u001b[0m\u001b[0m\n\u001b[0m",
      "\u001b[0;32m/var/folders/kr/2j58542j2_7chf9_h8bmr30mb0_4n0/T/ipykernel_15666/1558198331.py\u001b[0m in \u001b[0;36mrandom_points_in_polygon\u001b[0;34m(polygon)\u001b[0m\n\u001b[1;32m      4\u001b[0m     \u001b[0;32mwhile\u001b[0m \u001b[0;32mnot\u001b[0m \u001b[0mfinished\u001b[0m\u001b[0;34m:\u001b[0m\u001b[0;34m\u001b[0m\u001b[0;34m\u001b[0m\u001b[0m\n\u001b[1;32m      5\u001b[0m         \u001b[0mpoint\u001b[0m \u001b[0;34m=\u001b[0m \u001b[0mPoint\u001b[0m\u001b[0;34m(\u001b[0m\u001b[0mrandom\u001b[0m\u001b[0;34m.\u001b[0m\u001b[0muniform\u001b[0m\u001b[0;34m(\u001b[0m\u001b[0mtemp\u001b[0m\u001b[0;34m.\u001b[0m\u001b[0mminx\u001b[0m\u001b[0;34m.\u001b[0m\u001b[0mvalues\u001b[0m\u001b[0;34m[\u001b[0m\u001b[0;36m0\u001b[0m\u001b[0;34m]\u001b[0m\u001b[0;34m,\u001b[0m \u001b[0mtemp\u001b[0m\u001b[0;34m.\u001b[0m\u001b[0mmaxx\u001b[0m\u001b[0;34m.\u001b[0m\u001b[0mvalues\u001b[0m\u001b[0;34m[\u001b[0m\u001b[0;36m0\u001b[0m\u001b[0;34m]\u001b[0m\u001b[0;34m)\u001b[0m\u001b[0;34m,\u001b[0m \u001b[0mrandom\u001b[0m\u001b[0;34m.\u001b[0m\u001b[0muniform\u001b[0m\u001b[0;34m(\u001b[0m\u001b[0mtemp\u001b[0m\u001b[0;34m.\u001b[0m\u001b[0mminy\u001b[0m\u001b[0;34m,\u001b[0m \u001b[0mtemp\u001b[0m\u001b[0;34m.\u001b[0m\u001b[0mmaxy\u001b[0m\u001b[0;34m.\u001b[0m\u001b[0mvalues\u001b[0m\u001b[0;34m[\u001b[0m\u001b[0;36m0\u001b[0m\u001b[0;34m]\u001b[0m\u001b[0;34m)\u001b[0m\u001b[0;34m)\u001b[0m\u001b[0;34m\u001b[0m\u001b[0;34m\u001b[0m\u001b[0m\n\u001b[0;32m----> 6\u001b[0;31m         \u001b[0mfinished\u001b[0m \u001b[0;34m=\u001b[0m \u001b[0mpolygon\u001b[0m\u001b[0;34m.\u001b[0m\u001b[0mcontains\u001b[0m\u001b[0;34m(\u001b[0m\u001b[0mpoint\u001b[0m\u001b[0;34m)\u001b[0m\u001b[0;34m.\u001b[0m\u001b[0mvalues\u001b[0m\u001b[0;34m[\u001b[0m\u001b[0;36m0\u001b[0m\u001b[0;34m]\u001b[0m\u001b[0;34m\u001b[0m\u001b[0;34m\u001b[0m\u001b[0m\n\u001b[0m\u001b[1;32m      7\u001b[0m     \u001b[0;32mreturn\u001b[0m \u001b[0mpoint\u001b[0m\u001b[0;34m\u001b[0m\u001b[0;34m\u001b[0m\u001b[0m\n",
      "\u001b[0;32m~/opt/miniconda3/envs/frism/lib/python3.8/site-packages/geopandas/base.py\u001b[0m in \u001b[0;36mcontains\u001b[0;34m(self, other, align)\u001b[0m\n\u001b[1;32m    839\u001b[0m         \u001b[0mGeoSeries\u001b[0m\u001b[0;34m.\u001b[0m\u001b[0mwithin\u001b[0m\u001b[0;34m\u001b[0m\u001b[0;34m\u001b[0m\u001b[0m\n\u001b[1;32m    840\u001b[0m         \"\"\"\n\u001b[0;32m--> 841\u001b[0;31m         \u001b[0;32mreturn\u001b[0m \u001b[0m_binary_op\u001b[0m\u001b[0;34m(\u001b[0m\u001b[0;34m\"contains\"\u001b[0m\u001b[0;34m,\u001b[0m \u001b[0mself\u001b[0m\u001b[0;34m,\u001b[0m \u001b[0mother\u001b[0m\u001b[0;34m,\u001b[0m \u001b[0malign\u001b[0m\u001b[0;34m)\u001b[0m\u001b[0;34m\u001b[0m\u001b[0;34m\u001b[0m\u001b[0m\n\u001b[0m\u001b[1;32m    842\u001b[0m \u001b[0;34m\u001b[0m\u001b[0m\n\u001b[1;32m    843\u001b[0m     \u001b[0;32mdef\u001b[0m \u001b[0mgeom_equals\u001b[0m\u001b[0;34m(\u001b[0m\u001b[0mself\u001b[0m\u001b[0;34m,\u001b[0m \u001b[0mother\u001b[0m\u001b[0;34m,\u001b[0m \u001b[0malign\u001b[0m\u001b[0;34m=\u001b[0m\u001b[0;32mTrue\u001b[0m\u001b[0;34m)\u001b[0m\u001b[0;34m:\u001b[0m\u001b[0;34m\u001b[0m\u001b[0;34m\u001b[0m\u001b[0m\n",
      "\u001b[0;32m~/opt/miniconda3/envs/frism/lib/python3.8/site-packages/geopandas/base.py\u001b[0m in \u001b[0;36m_binary_op\u001b[0;34m(op, this, other, align, *args, **kwargs)\u001b[0m\n\u001b[1;32m     58\u001b[0m     \u001b[0;31m# type: (str, GeoSeries, GeoSeries, args/kwargs) -> Series[bool/float]\u001b[0m\u001b[0;34m\u001b[0m\u001b[0;34m\u001b[0m\u001b[0;34m\u001b[0m\u001b[0m\n\u001b[1;32m     59\u001b[0m     \u001b[0;34m\"\"\"Binary operation on GeoSeries objects that returns a Series\"\"\"\u001b[0m\u001b[0;34m\u001b[0m\u001b[0;34m\u001b[0m\u001b[0m\n\u001b[0;32m---> 60\u001b[0;31m     \u001b[0mdata\u001b[0m\u001b[0;34m,\u001b[0m \u001b[0mindex\u001b[0m \u001b[0;34m=\u001b[0m \u001b[0m_delegate_binary_method\u001b[0m\u001b[0;34m(\u001b[0m\u001b[0mop\u001b[0m\u001b[0;34m,\u001b[0m \u001b[0mthis\u001b[0m\u001b[0;34m,\u001b[0m \u001b[0mother\u001b[0m\u001b[0;34m,\u001b[0m \u001b[0malign\u001b[0m\u001b[0;34m,\u001b[0m \u001b[0;34m*\u001b[0m\u001b[0margs\u001b[0m\u001b[0;34m,\u001b[0m \u001b[0;34m**\u001b[0m\u001b[0mkwargs\u001b[0m\u001b[0;34m)\u001b[0m\u001b[0;34m\u001b[0m\u001b[0;34m\u001b[0m\u001b[0m\n\u001b[0m\u001b[1;32m     61\u001b[0m     \u001b[0;32mreturn\u001b[0m \u001b[0mSeries\u001b[0m\u001b[0;34m(\u001b[0m\u001b[0mdata\u001b[0m\u001b[0;34m,\u001b[0m \u001b[0mindex\u001b[0m\u001b[0;34m=\u001b[0m\u001b[0mindex\u001b[0m\u001b[0;34m)\u001b[0m\u001b[0;34m\u001b[0m\u001b[0;34m\u001b[0m\u001b[0m\n\u001b[1;32m     62\u001b[0m \u001b[0;34m\u001b[0m\u001b[0m\n",
      "\u001b[0;32m~/opt/miniconda3/envs/frism/lib/python3.8/site-packages/geopandas/base.py\u001b[0m in \u001b[0;36m_delegate_binary_method\u001b[0;34m(op, this, other, align, *args, **kwargs)\u001b[0m\n\u001b[1;32m     42\u001b[0m         \u001b[0;32mraise\u001b[0m \u001b[0mTypeError\u001b[0m\u001b[0;34m(\u001b[0m\u001b[0mtype\u001b[0m\u001b[0;34m(\u001b[0m\u001b[0mthis\u001b[0m\u001b[0;34m)\u001b[0m\u001b[0;34m,\u001b[0m \u001b[0mtype\u001b[0m\u001b[0;34m(\u001b[0m\u001b[0mother\u001b[0m\u001b[0;34m)\u001b[0m\u001b[0;34m)\u001b[0m\u001b[0;34m\u001b[0m\u001b[0;34m\u001b[0m\u001b[0m\n\u001b[1;32m     43\u001b[0m \u001b[0;34m\u001b[0m\u001b[0m\n\u001b[0;32m---> 44\u001b[0;31m     \u001b[0mdata\u001b[0m \u001b[0;34m=\u001b[0m \u001b[0mgetattr\u001b[0m\u001b[0;34m(\u001b[0m\u001b[0ma_this\u001b[0m\u001b[0;34m,\u001b[0m \u001b[0mop\u001b[0m\u001b[0;34m)\u001b[0m\u001b[0;34m(\u001b[0m\u001b[0mother\u001b[0m\u001b[0;34m,\u001b[0m \u001b[0;34m*\u001b[0m\u001b[0margs\u001b[0m\u001b[0;34m,\u001b[0m \u001b[0;34m**\u001b[0m\u001b[0mkwargs\u001b[0m\u001b[0;34m)\u001b[0m\u001b[0;34m\u001b[0m\u001b[0;34m\u001b[0m\u001b[0m\n\u001b[0m\u001b[1;32m     45\u001b[0m     \u001b[0;32mreturn\u001b[0m \u001b[0mdata\u001b[0m\u001b[0;34m,\u001b[0m \u001b[0mthis\u001b[0m\u001b[0;34m.\u001b[0m\u001b[0mindex\u001b[0m\u001b[0;34m\u001b[0m\u001b[0;34m\u001b[0m\u001b[0m\n\u001b[1;32m     46\u001b[0m \u001b[0;34m\u001b[0m\u001b[0m\n",
      "\u001b[0;32m~/opt/miniconda3/envs/frism/lib/python3.8/site-packages/geopandas/array.py\u001b[0m in \u001b[0;36mcontains\u001b[0;34m(self, other)\u001b[0m\n\u001b[1;32m    549\u001b[0m \u001b[0;34m\u001b[0m\u001b[0m\n\u001b[1;32m    550\u001b[0m     \u001b[0;32mdef\u001b[0m \u001b[0mcontains\u001b[0m\u001b[0;34m(\u001b[0m\u001b[0mself\u001b[0m\u001b[0;34m,\u001b[0m \u001b[0mother\u001b[0m\u001b[0;34m)\u001b[0m\u001b[0;34m:\u001b[0m\u001b[0;34m\u001b[0m\u001b[0;34m\u001b[0m\u001b[0m\n\u001b[0;32m--> 551\u001b[0;31m         \u001b[0;32mreturn\u001b[0m \u001b[0mself\u001b[0m\u001b[0;34m.\u001b[0m\u001b[0m_binary_method\u001b[0m\u001b[0;34m(\u001b[0m\u001b[0;34m\"contains\"\u001b[0m\u001b[0;34m,\u001b[0m \u001b[0mself\u001b[0m\u001b[0;34m,\u001b[0m \u001b[0mother\u001b[0m\u001b[0;34m)\u001b[0m\u001b[0;34m\u001b[0m\u001b[0;34m\u001b[0m\u001b[0m\n\u001b[0m\u001b[1;32m    552\u001b[0m \u001b[0;34m\u001b[0m\u001b[0m\n\u001b[1;32m    553\u001b[0m     \u001b[0;32mdef\u001b[0m \u001b[0mcrosses\u001b[0m\u001b[0;34m(\u001b[0m\u001b[0mself\u001b[0m\u001b[0;34m,\u001b[0m \u001b[0mother\u001b[0m\u001b[0;34m)\u001b[0m\u001b[0;34m:\u001b[0m\u001b[0;34m\u001b[0m\u001b[0;34m\u001b[0m\u001b[0m\n",
      "\u001b[0;32m~/opt/miniconda3/envs/frism/lib/python3.8/site-packages/geopandas/array.py\u001b[0m in \u001b[0;36m_binary_method\u001b[0;34m(op, left, right, **kwargs)\u001b[0m\n\u001b[1;32m    540\u001b[0m             \u001b[0mright\u001b[0m \u001b[0;34m=\u001b[0m \u001b[0mright\u001b[0m\u001b[0;34m.\u001b[0m\u001b[0mdata\u001b[0m\u001b[0;34m\u001b[0m\u001b[0;34m\u001b[0m\u001b[0m\n\u001b[1;32m    541\u001b[0m \u001b[0;34m\u001b[0m\u001b[0m\n\u001b[0;32m--> 542\u001b[0;31m         \u001b[0;32mreturn\u001b[0m \u001b[0mgetattr\u001b[0m\u001b[0;34m(\u001b[0m\u001b[0mvectorized\u001b[0m\u001b[0;34m,\u001b[0m \u001b[0mop\u001b[0m\u001b[0;34m)\u001b[0m\u001b[0;34m(\u001b[0m\u001b[0mleft\u001b[0m\u001b[0;34m.\u001b[0m\u001b[0mdata\u001b[0m\u001b[0;34m,\u001b[0m \u001b[0mright\u001b[0m\u001b[0;34m,\u001b[0m \u001b[0;34m**\u001b[0m\u001b[0mkwargs\u001b[0m\u001b[0;34m)\u001b[0m\u001b[0;34m\u001b[0m\u001b[0;34m\u001b[0m\u001b[0m\n\u001b[0m\u001b[1;32m    543\u001b[0m \u001b[0;34m\u001b[0m\u001b[0m\n\u001b[1;32m    544\u001b[0m     \u001b[0;32mdef\u001b[0m \u001b[0mcovers\u001b[0m\u001b[0;34m(\u001b[0m\u001b[0mself\u001b[0m\u001b[0;34m,\u001b[0m \u001b[0mother\u001b[0m\u001b[0;34m)\u001b[0m\u001b[0;34m:\u001b[0m\u001b[0;34m\u001b[0m\u001b[0;34m\u001b[0m\u001b[0m\n",
      "\u001b[0;32m~/opt/miniconda3/envs/frism/lib/python3.8/site-packages/geopandas/_vectorized.py\u001b[0m in \u001b[0;36mcontains\u001b[0;34m(data, other)\u001b[0m\n\u001b[1;32m    651\u001b[0m         \u001b[0;32mreturn\u001b[0m \u001b[0m_binary_method\u001b[0m\u001b[0;34m(\u001b[0m\u001b[0;34m\"contains\"\u001b[0m\u001b[0;34m,\u001b[0m \u001b[0mdata\u001b[0m\u001b[0;34m,\u001b[0m \u001b[0mother\u001b[0m\u001b[0;34m)\u001b[0m\u001b[0;34m\u001b[0m\u001b[0;34m\u001b[0m\u001b[0m\n\u001b[1;32m    652\u001b[0m     \u001b[0;32melse\u001b[0m\u001b[0;34m:\u001b[0m\u001b[0;34m\u001b[0m\u001b[0;34m\u001b[0m\u001b[0m\n\u001b[0;32m--> 653\u001b[0;31m         \u001b[0;32mreturn\u001b[0m \u001b[0m_binary_predicate\u001b[0m\u001b[0;34m(\u001b[0m\u001b[0;34m\"contains\"\u001b[0m\u001b[0;34m,\u001b[0m \u001b[0mdata\u001b[0m\u001b[0;34m,\u001b[0m \u001b[0mother\u001b[0m\u001b[0;34m)\u001b[0m\u001b[0;34m\u001b[0m\u001b[0;34m\u001b[0m\u001b[0m\n\u001b[0m\u001b[1;32m    654\u001b[0m \u001b[0;34m\u001b[0m\u001b[0m\n\u001b[1;32m    655\u001b[0m \u001b[0;34m\u001b[0m\u001b[0m\n",
      "\u001b[0;32m~/opt/miniconda3/envs/frism/lib/python3.8/site-packages/geopandas/_vectorized.py\u001b[0m in \u001b[0;36m_binary_predicate\u001b[0;34m(op, left, right, *args, **kwargs)\u001b[0m\n\u001b[1;32m    334\u001b[0m     \u001b[0;31m# empty geometries are handled by shapely (all give False except disjoint)\u001b[0m\u001b[0;34m\u001b[0m\u001b[0;34m\u001b[0m\u001b[0;34m\u001b[0m\u001b[0m\n\u001b[1;32m    335\u001b[0m     \u001b[0;32mif\u001b[0m \u001b[0misinstance\u001b[0m\u001b[0;34m(\u001b[0m\u001b[0mright\u001b[0m\u001b[0;34m,\u001b[0m \u001b[0mBaseGeometry\u001b[0m\u001b[0;34m)\u001b[0m\u001b[0;34m:\u001b[0m\u001b[0;34m\u001b[0m\u001b[0;34m\u001b[0m\u001b[0m\n\u001b[0;32m--> 336\u001b[0;31m         data = [\n\u001b[0m\u001b[1;32m    337\u001b[0m             \u001b[0mgetattr\u001b[0m\u001b[0;34m(\u001b[0m\u001b[0ms\u001b[0m\u001b[0;34m,\u001b[0m \u001b[0mop\u001b[0m\u001b[0;34m)\u001b[0m\u001b[0;34m(\u001b[0m\u001b[0mright\u001b[0m\u001b[0;34m,\u001b[0m \u001b[0;34m*\u001b[0m\u001b[0margs\u001b[0m\u001b[0;34m,\u001b[0m \u001b[0;34m**\u001b[0m\u001b[0mkwargs\u001b[0m\u001b[0;34m)\u001b[0m \u001b[0;32mif\u001b[0m \u001b[0ms\u001b[0m \u001b[0;32mis\u001b[0m \u001b[0;32mnot\u001b[0m \u001b[0;32mNone\u001b[0m \u001b[0;32melse\u001b[0m \u001b[0;32mFalse\u001b[0m\u001b[0;34m\u001b[0m\u001b[0;34m\u001b[0m\u001b[0m\n\u001b[1;32m    338\u001b[0m             \u001b[0;32mfor\u001b[0m \u001b[0ms\u001b[0m \u001b[0;32min\u001b[0m \u001b[0mleft\u001b[0m\u001b[0;34m\u001b[0m\u001b[0;34m\u001b[0m\u001b[0m\n",
      "\u001b[0;32m~/opt/miniconda3/envs/frism/lib/python3.8/site-packages/geopandas/_vectorized.py\u001b[0m in \u001b[0;36m<listcomp>\u001b[0;34m(.0)\u001b[0m\n\u001b[1;32m    335\u001b[0m     \u001b[0;32mif\u001b[0m \u001b[0misinstance\u001b[0m\u001b[0;34m(\u001b[0m\u001b[0mright\u001b[0m\u001b[0;34m,\u001b[0m \u001b[0mBaseGeometry\u001b[0m\u001b[0;34m)\u001b[0m\u001b[0;34m:\u001b[0m\u001b[0;34m\u001b[0m\u001b[0;34m\u001b[0m\u001b[0m\n\u001b[1;32m    336\u001b[0m         data = [\n\u001b[0;32m--> 337\u001b[0;31m             \u001b[0mgetattr\u001b[0m\u001b[0;34m(\u001b[0m\u001b[0ms\u001b[0m\u001b[0;34m,\u001b[0m \u001b[0mop\u001b[0m\u001b[0;34m)\u001b[0m\u001b[0;34m(\u001b[0m\u001b[0mright\u001b[0m\u001b[0;34m,\u001b[0m \u001b[0;34m*\u001b[0m\u001b[0margs\u001b[0m\u001b[0;34m,\u001b[0m \u001b[0;34m**\u001b[0m\u001b[0mkwargs\u001b[0m\u001b[0;34m)\u001b[0m \u001b[0;32mif\u001b[0m \u001b[0ms\u001b[0m \u001b[0;32mis\u001b[0m \u001b[0;32mnot\u001b[0m \u001b[0;32mNone\u001b[0m \u001b[0;32melse\u001b[0m \u001b[0;32mFalse\u001b[0m\u001b[0;34m\u001b[0m\u001b[0;34m\u001b[0m\u001b[0m\n\u001b[0m\u001b[1;32m    338\u001b[0m             \u001b[0;32mfor\u001b[0m \u001b[0ms\u001b[0m \u001b[0;32min\u001b[0m \u001b[0mleft\u001b[0m\u001b[0;34m\u001b[0m\u001b[0;34m\u001b[0m\u001b[0m\n\u001b[1;32m    339\u001b[0m         ]\n",
      "\u001b[0;32m~/opt/miniconda3/envs/frism/lib/python3.8/site-packages/shapely/geometry/base.py\u001b[0m in \u001b[0;36mcontains\u001b[0;34m(self, other)\u001b[0m\n\u001b[1;32m    745\u001b[0m     \u001b[0;32mdef\u001b[0m \u001b[0mcontains\u001b[0m\u001b[0;34m(\u001b[0m\u001b[0mself\u001b[0m\u001b[0;34m,\u001b[0m \u001b[0mother\u001b[0m\u001b[0;34m)\u001b[0m\u001b[0;34m:\u001b[0m\u001b[0;34m\u001b[0m\u001b[0;34m\u001b[0m\u001b[0m\n\u001b[1;32m    746\u001b[0m         \u001b[0;34m\"\"\"Returns True if the geometry contains the other, else False\"\"\"\u001b[0m\u001b[0;34m\u001b[0m\u001b[0;34m\u001b[0m\u001b[0m\n\u001b[0;32m--> 747\u001b[0;31m         \u001b[0;32mreturn\u001b[0m \u001b[0mbool\u001b[0m\u001b[0;34m(\u001b[0m\u001b[0mself\u001b[0m\u001b[0;34m.\u001b[0m\u001b[0mimpl\u001b[0m\u001b[0;34m[\u001b[0m\u001b[0;34m'contains'\u001b[0m\u001b[0;34m]\u001b[0m\u001b[0;34m(\u001b[0m\u001b[0mself\u001b[0m\u001b[0;34m,\u001b[0m \u001b[0mother\u001b[0m\u001b[0;34m)\u001b[0m\u001b[0;34m)\u001b[0m\u001b[0;34m\u001b[0m\u001b[0;34m\u001b[0m\u001b[0m\n\u001b[0m\u001b[1;32m    748\u001b[0m \u001b[0;34m\u001b[0m\u001b[0m\n\u001b[1;32m    749\u001b[0m     \u001b[0;32mdef\u001b[0m \u001b[0mcrosses\u001b[0m\u001b[0;34m(\u001b[0m\u001b[0mself\u001b[0m\u001b[0;34m,\u001b[0m \u001b[0mother\u001b[0m\u001b[0;34m)\u001b[0m\u001b[0;34m:\u001b[0m\u001b[0;34m\u001b[0m\u001b[0;34m\u001b[0m\u001b[0m\n",
      "\u001b[0;31mKeyboardInterrupt\u001b[0m: "
     ]
    }
   ],
   "source": [
    "random_points_in_polygon(SFBay_CBG.geometry[SFBay_CBG.MESOZONE==6252])"
   ]
  },
  {
   "cell_type": "code",
   "execution_count": 137,
   "id": "b0e22d0e",
   "metadata": {},
   "outputs": [
    {
     "ename": "ValueError",
     "evalue": "The truth value of a Series is ambiguous. Use a.empty, a.bool(), a.item(), a.any() or a.all().",
     "output_type": "error",
     "traceback": [
      "\u001b[0;31m---------------------------------------------------------------------------\u001b[0m",
      "\u001b[0;31mValueError\u001b[0m                                Traceback (most recent call last)",
      "\u001b[0;32m/var/folders/kr/2j58542j2_7chf9_h8bmr30mb0_4n0/T/ipykernel_15666/3859124668.py\u001b[0m in \u001b[0;36m<module>\u001b[0;34m\u001b[0m\n\u001b[0;32m----> 1\u001b[0;31m \u001b[0;32mif\u001b[0m \u001b[0mSFBay_CBG\u001b[0m\u001b[0;34m.\u001b[0m\u001b[0mgeometry\u001b[0m\u001b[0;34m[\u001b[0m\u001b[0mSFBay_CBG\u001b[0m\u001b[0;34m.\u001b[0m\u001b[0mMESOZONE\u001b[0m\u001b[0;34m==\u001b[0m\u001b[0;36m1\u001b[0m\u001b[0;34m]\u001b[0m\u001b[0;34m.\u001b[0m\u001b[0mis_empty\u001b[0m\u001b[0;34m:\u001b[0m\u001b[0;34m\u001b[0m\u001b[0;34m\u001b[0m\u001b[0m\n\u001b[0m\u001b[1;32m      2\u001b[0m     \u001b[0mprint\u001b[0m \u001b[0;34m(\u001b[0m\u001b[0;34m\"yes\"\u001b[0m\u001b[0;34m)\u001b[0m\u001b[0;34m\u001b[0m\u001b[0;34m\u001b[0m\u001b[0m\n",
      "\u001b[0;32m~/opt/miniconda3/envs/frism/lib/python3.8/site-packages/pandas/core/generic.py\u001b[0m in \u001b[0;36m__nonzero__\u001b[0;34m(self)\u001b[0m\n\u001b[1;32m   1535\u001b[0m     \u001b[0;34m@\u001b[0m\u001b[0mfinal\u001b[0m\u001b[0;34m\u001b[0m\u001b[0;34m\u001b[0m\u001b[0m\n\u001b[1;32m   1536\u001b[0m     \u001b[0;32mdef\u001b[0m \u001b[0m__nonzero__\u001b[0m\u001b[0;34m(\u001b[0m\u001b[0mself\u001b[0m\u001b[0;34m)\u001b[0m\u001b[0;34m:\u001b[0m\u001b[0;34m\u001b[0m\u001b[0;34m\u001b[0m\u001b[0m\n\u001b[0;32m-> 1537\u001b[0;31m         raise ValueError(\n\u001b[0m\u001b[1;32m   1538\u001b[0m             \u001b[0;34mf\"The truth value of a {type(self).__name__} is ambiguous. \"\u001b[0m\u001b[0;34m\u001b[0m\u001b[0;34m\u001b[0m\u001b[0m\n\u001b[1;32m   1539\u001b[0m             \u001b[0;34m\"Use a.empty, a.bool(), a.item(), a.any() or a.all().\"\u001b[0m\u001b[0;34m\u001b[0m\u001b[0;34m\u001b[0m\u001b[0m\n",
      "\u001b[0;31mValueError\u001b[0m: The truth value of a Series is ambiguous. Use a.empty, a.bool(), a.item(), a.any() or a.all()."
     ]
    }
   ],
   "source": [
    "if SFBay_CBG.geometry[SFBay_CBG.MESOZONE==1].is_empty:\n",
    "    print (\"yes\")"
   ]
  },
  {
   "cell_type": "code",
   "execution_count": 139,
   "id": "b9880509",
   "metadata": {},
   "outputs": [
    {
     "data": {
      "text/plain": [
       "2    False\n",
       "dtype: bool"
      ]
     },
     "execution_count": 139,
     "metadata": {},
     "output_type": "execute_result"
    }
   ],
   "source": [
    "SFB=SFBay_CBG.geometry.is_empty"
   ]
  },
  {
   "cell_type": "code",
   "execution_count": null,
   "id": "aadf3cd8",
   "metadata": {},
   "outputs": [],
   "source": []
  }
 ],
 "metadata": {
  "kernelspec": {
   "display_name": "Python 3 (ipykernel)",
   "language": "python",
   "name": "python3"
  },
  "language_info": {
   "codemirror_mode": {
    "name": "ipython",
    "version": 3
   },
   "file_extension": ".py",
   "mimetype": "text/x-python",
   "name": "python",
   "nbconvert_exporter": "python",
   "pygments_lexer": "ipython3",
   "version": "3.8.12"
  }
 },
 "nbformat": 4,
 "nbformat_minor": 5
}
