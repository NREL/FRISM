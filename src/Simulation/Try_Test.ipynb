{
 "cells": [
  {
   "cell_type": "code",
   "execution_count": 1,
   "metadata": {},
   "outputs": [],
   "source": [
    "import pandas as pd"
   ]
  },
  {
   "cell_type": "code",
   "execution_count": 2,
   "metadata": {},
   "outputs": [],
   "source": [
    "import importlib"
   ]
  },
  {
   "cell_type": "code",
   "execution_count": 3,
   "metadata": {},
   "outputs": [],
   "source": [
    "import geopandas as gp"
   ]
  },
  {
   "cell_type": "code",
   "execution_count": 4,
   "metadata": {},
   "outputs": [],
   "source": [
    "from shapely.geometry import Point"
   ]
  },
  {
   "cell_type": "code",
   "execution_count": 5,
   "metadata": {},
   "outputs": [],
   "source": [
    "vrp = importlib.import_module(\"VRP_OR-tools_Stops_veh_tech\")"
   ]
  },
  {
   "cell_type": "code",
   "execution_count": 6,
   "metadata": {},
   "outputs": [],
   "source": [
    "import pickle"
   ]
  },
  {
   "cell_type": "code",
   "execution_count": 7,
   "metadata": {},
   "outputs": [],
   "source": [
    "from unittest import TestCase"
   ]
  },
  {
   "cell_type": "code",
   "execution_count": 8,
   "metadata": {},
   "outputs": [],
   "source": [
    "# Testing normal case where the origin and destination exist in the origin-destination travel time dataframe\n",
    "def test_tt_cal_normal():\n",
    "    sel_tt = pd.DataFrame()\n",
    "    sel_tt['origin'] = [1000, 1000,1001,1001]\n",
    "    sel_tt['destination'] = [1000,1001,1000,1001]\n",
    "    sel_tt['TIME_minutes'] = [0,5,10,0]\n",
    "    \n",
    "    sel_dist = pd.DataFrame()\n",
    "    sel_dist['Origin'] = [10, 10,12,12]\n",
    "    sel_dist['Destination'] = [10,12,10,12]\n",
    "    sel_dist['dist'] = [0,500,1000,0]\n",
    "    \n",
    "    assert vrp.tt_cal(10, 10, 1000, 1001, sel_tt, sel_dist) == 5, \"incorrect travel time\""
   ]
  },
  {
   "cell_type": "code",
   "execution_count": 9,
   "metadata": {},
   "outputs": [],
   "source": [
    "# Testing case where the origin and destination are not in the travel time dataframe \n",
    "# but in the orgin-destination distance dataframe\n",
    "def test_tt_cal_dist():\n",
    "    sel_tt = pd.DataFrame()\n",
    "    sel_tt['origin'] = [1000, 1000,1001,1001]\n",
    "    sel_tt['destination'] = [1000,1001,1000,1001]\n",
    "    sel_tt['TIME_minutes'] = [0,5,10,0]\n",
    "    \n",
    "    sel_dist = pd.DataFrame()\n",
    "    sel_dist['Origin'] = [10, 10,12,12]\n",
    "    sel_dist['Destination'] = [10,12,10,12]\n",
    "    sel_dist['dist'] = [0,500,1000,0]\n",
    "    \n",
    "    assert vrp.tt_cal(10, 12, 1005, 1012, sel_tt, sel_dist) == 750, \"incorrect travel time\""
   ]
  },
  {
   "cell_type": "code",
   "execution_count": 10,
   "metadata": {},
   "outputs": [],
   "source": [
    "# Testing case where the origin and destination are not in the travel time dataframe \n",
    "# and are not in the orgin-destination distance dataframe\n",
    "def test_tt_cal_exception():\n",
    "    sel_tt = pd.DataFrame()\n",
    "    sel_tt['origin'] = [1000, 1000,1001,1001]\n",
    "    sel_tt['destination'] = [1000,1001,1000,1001]\n",
    "    sel_tt['TIME_minutes'] = [0,5,10,0]\n",
    "    \n",
    "    sel_dist = pd.DataFrame()\n",
    "    sel_dist['Origin'] = [10, 10,12,12]\n",
    "    sel_dist['Destination'] = [10,12,10,12]\n",
    "    sel_dist['dist'] = [0,500,1000,0]\n",
    "    \n",
    "    assert vrp.tt_cal(13, 15, 1005, 1012, sel_tt, sel_dist) == 180, \"incorrect travel time\""
   ]
  },
  {
   "cell_type": "code",
   "execution_count": 11,
   "metadata": {},
   "outputs": [],
   "source": [
    "CBGzone_df = gp.read_file('../../../../FRISM_input_output_AT/Sim_inputs/Geo_data/Austin_freight_centroids.geojson')"
   ]
  },
  {
   "cell_type": "code",
   "execution_count": 25,
   "metadata": {},
   "outputs": [
    {
     "data": {
      "text/html": [
       "<div>\n",
       "<style scoped>\n",
       "    .dataframe tbody tr th:only-of-type {\n",
       "        vertical-align: middle;\n",
       "    }\n",
       "\n",
       "    .dataframe tbody tr th {\n",
       "        vertical-align: top;\n",
       "    }\n",
       "\n",
       "    .dataframe thead th {\n",
       "        text-align: right;\n",
       "    }\n",
       "</style>\n",
       "<table border=\"1\" class=\"dataframe\">\n",
       "  <thead>\n",
       "    <tr style=\"text-align: right;\">\n",
       "      <th></th>\n",
       "      <th>GEOID</th>\n",
       "      <th>CBPZONE</th>\n",
       "      <th>MESOZONE</th>\n",
       "      <th>geometry</th>\n",
       "    </tr>\n",
       "  </thead>\n",
       "  <tbody>\n",
       "    <tr>\n",
       "      <th>0</th>\n",
       "      <td>483030018015</td>\n",
       "      <td>48303</td>\n",
       "      <td>4058.0</td>\n",
       "      <td>POINT (-101.91808 33.55102)</td>\n",
       "    </tr>\n",
       "    <tr>\n",
       "      <th>1</th>\n",
       "      <td>480291812003</td>\n",
       "      <td>48029</td>\n",
       "      <td>1188.0</td>\n",
       "      <td>POINT (-98.53425 29.53896)</td>\n",
       "    </tr>\n",
       "    <tr>\n",
       "      <th>2</th>\n",
       "      <td>481279502001</td>\n",
       "      <td>48127</td>\n",
       "      <td>2439.0</td>\n",
       "      <td>POINT (-99.97708 28.47273)</td>\n",
       "    </tr>\n",
       "    <tr>\n",
       "      <th>3</th>\n",
       "      <td>480291906041</td>\n",
       "      <td>48029</td>\n",
       "      <td>1367.0</td>\n",
       "      <td>POINT (-98.51800 29.47797)</td>\n",
       "    </tr>\n",
       "    <tr>\n",
       "      <th>4</th>\n",
       "      <td>480291715023</td>\n",
       "      <td>48029</td>\n",
       "      <td>1032.0</td>\n",
       "      <td>POINT (-98.57718 29.42446)</td>\n",
       "    </tr>\n",
       "  </tbody>\n",
       "</table>\n",
       "</div>"
      ],
      "text/plain": [
       "          GEOID  CBPZONE  MESOZONE                     geometry\n",
       "0  483030018015    48303    4058.0  POINT (-101.91808 33.55102)\n",
       "1  480291812003    48029    1188.0   POINT (-98.53425 29.53896)\n",
       "2  481279502001    48127    2439.0   POINT (-99.97708 28.47273)\n",
       "3  480291906041    48029    1367.0   POINT (-98.51800 29.47797)\n",
       "4  480291715023    48029    1032.0   POINT (-98.57718 29.42446)"
      ]
     },
     "execution_count": 25,
     "metadata": {},
     "output_type": "execute_result"
    }
   ],
   "source": [
    "CBGzone_df.head()"
   ]
  },
  {
   "cell_type": "code",
   "execution_count": 28,
   "metadata": {},
   "outputs": [
    {
     "data": {
      "text/plain": [
       "GEOID         object\n",
       "CBPZONE        int64\n",
       "MESOZONE     float64\n",
       "geometry    geometry\n",
       "dtype: object"
      ]
     },
     "execution_count": 28,
     "metadata": {},
     "output_type": "execute_result"
    }
   ],
   "source": [
    "CBGzone_df.dtypes"
   ]
  },
  {
   "cell_type": "code",
   "execution_count": 36,
   "metadata": {},
   "outputs": [],
   "source": [
    "def test_get_geoId_normal():\n",
    "    \"\"\" Testing getting geo id (census block Id) from geo Id files, case where the geo id exist in the file \n",
    "    \"\"\"\n",
    "    pd_df = pd.DataFrame()\n",
    "    pd_df['GEOID'] = [456, 457]\n",
    "    pd_df['CBPZONE'] = [1234, 1235]\n",
    "    pd_df['MESOZONE'] = [101,1001]\n",
    "    pd_df['geometry'] = [Point(-101.91, 33.55), Point(-98.53, 29.53)]\n",
    "    \n",
    "    gp_df = gp.GeoDataFrame(pd_df, geometry='geometry')\n",
    "    \n",
    "    assert vrp.get_geoId(101,gp_df) == 456, \"incorrect geo Id\""
   ]
  },
  {
   "cell_type": "code",
   "execution_count": 39,
   "metadata": {},
   "outputs": [],
   "source": [
    "def test_get_geoId_exception():\n",
    "    \"\"\" Testing getting geo id (census block Id) from geo Id files, case where the geo id does not exist in the file\n",
    "        This case returns -1\n",
    "    \"\"\"\n",
    "    pd_df = pd.DataFrame()\n",
    "    pd_df['GEOID'] = [456, 457]\n",
    "    pd_df['CBPZONE'] = [1234, 1235]\n",
    "    pd_df['MESOZONE'] = [101,1001]\n",
    "    pd_df['geometry'] = [Point(-101.91, 33.55), Point(-98.53, 29.53)]\n",
    "    \n",
    "    gp_df = gp.GeoDataFrame(pd_df, geometry='geometry')\n",
    "    \n",
    "    assert vrp.get_geoId(2003,gp_df) == -1, \"incorrect geo Id\""
   ]
  },
  {
   "cell_type": "code",
   "execution_count": 8,
   "metadata": {},
   "outputs": [],
   "source": [
    "def test_create_data_model_delivery_external_normal():\n",
    "    df_prob = pd.read_csv('test_data/df_prob_delivery.csv')\n",
    "    c_prob = pd.read_csv('test_data/c_prob_delivery.csv')\n",
    "    v_df = pd.read_csv('test_data/v_df_delivery.csv')\n",
    "    vc_prob = pd.read_csv('test_data/vc_prob_delivery.csv')\n",
    "    CBGzone_df = pd.read_csv('test_data/CBGzone_df.csv')\n",
    "    tt_df = pd.read_csv('test_data/sel_tt_delivery.csv')\n",
    "    dist_df = pd.read_csv('test_data/sel_dist_delivery.csv')\n",
    "    prob_type = 'delivery'\n",
    "    carr_id = 'B2C_2879885.0'\n",
    "    depot_loc = c_prob.loc[c_prob['carrier_id'] == carr_id]['depot_zone'].values[0]\n",
    "    veh = 'md_D_Diesel'\n",
    "    comm = 5\n",
    "    index = 'external'\n",
    "    \n",
    "    data = {}\n",
    "    with open('test_data/b2c_delivery_external.pickle', 'rb') as handle:\n",
    "        data = pickle.load(handle)\n",
    "    \n",
    "    ret_data = vrp.create_data_model(df_prob, depot_loc, prob_type, v_df, vc_prob, c_prob, carr_id,\n",
    "                                                CBGzone_df, tt_df, dist_df, veh, comm, index)\n",
    "    \n",
    "    TestCase().assertDictEqual(ret_data, data, \"incorrect data dictionary created\")\n",
    "    "
   ]
  },
  {
   "cell_type": "code",
   "execution_count": 9,
   "metadata": {},
   "outputs": [],
   "source": [
    "def test_create_data_model_pickup_delivery_external_normal():\n",
    "    df_prob = pd.read_csv('test_data/df_prob_pickup_delivery.csv')\n",
    "    c_prob = pd.read_csv('test_data/c_prob_pickup_delivery.csv')\n",
    "    v_df = pd.read_csv('test_data/v_df_pickup_delivery.csv')\n",
    "    vc_prob = pd.read_csv('test_data/vc_prob_pickup_delivery.csv')\n",
    "    CBGzone_df = pd.read_csv('test_data/CBGzone_df.csv')\n",
    "    tt_df = pd.read_csv('test_data/sel_tt_pickup_delivery.csv')\n",
    "    dist_df = pd.read_csv('test_data/sel_dist_pickup_delivery.csv')\n",
    "    prob_type = 'pickup_delivery'\n",
    "    carr_id = 'B2B_2627740_0hdt_D'\n",
    "    depot_loc = c_prob.loc[c_prob['carrier_id'] == carr_id]['depot_zone'].values[0]\n",
    "    veh = 'hdt_D_Diesel'\n",
    "    comm = 2\n",
    "    index = 'external'\n",
    "    \n",
    "    data = {}\n",
    "    with open('test_data/b2b_pickup_delivery_external.pickle', 'rb') as handle:\n",
    "        data = pickle.load(handle)\n",
    "    \n",
    "    ret_data = vrp.create_data_model(df_prob, depot_loc, prob_type, v_df, vc_prob, c_prob, carr_id,\n",
    "                                                CBGzone_df, tt_df, dist_df, veh, comm, index)\n",
    "    \n",
    "    TestCase().assertDictEqual(ret_data, data, \"incorrect data dictionary created\")"
   ]
  },
  {
   "cell_type": "code",
   "execution_count": 10,
   "metadata": {},
   "outputs": [
    {
     "name": "stdout",
     "output_type": "stream",
     "text": [
      "picked data:\n",
      "veh_capacity:  36000  num_veh:  8\n"
     ]
    }
   ],
   "source": [
    "test_create_data_model_pickup_delivery_external_normal()"
   ]
  },
  {
   "cell_type": "code",
   "execution_count": null,
   "metadata": {},
   "outputs": [],
   "source": []
  },
  {
   "cell_type": "code",
   "execution_count": null,
   "metadata": {},
   "outputs": [],
   "source": []
  }
 ],
 "metadata": {
  "kernelspec": {
   "display_name": "frism",
   "language": "python",
   "name": "frism"
  },
  "language_info": {
   "codemirror_mode": {
    "name": "ipython",
    "version": 3
   },
   "file_extension": ".py",
   "mimetype": "text/x-python",
   "name": "python",
   "nbconvert_exporter": "python",
   "pygments_lexer": "ipython3",
   "version": "3.6.10"
  }
 },
 "nbformat": 4,
 "nbformat_minor": 4
}
