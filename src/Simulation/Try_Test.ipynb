{
 "cells": [
  {
   "cell_type": "code",
   "execution_count": 1,
   "metadata": {},
   "outputs": [],
   "source": [
    "import pandas as pd"
   ]
  },
  {
   "cell_type": "code",
   "execution_count": 2,
   "metadata": {},
   "outputs": [],
   "source": [
    "import importlib"
   ]
  },
  {
   "cell_type": "code",
   "execution_count": 3,
   "metadata": {},
   "outputs": [],
   "source": [
    "import pytest"
   ]
  },
  {
   "cell_type": "code",
   "execution_count": 4,
   "metadata": {},
   "outputs": [],
   "source": [
    "import geopandas as gp"
   ]
  },
  {
   "cell_type": "code",
   "execution_count": 5,
   "metadata": {},
   "outputs": [],
   "source": [
    "from shapely.geometry import Point"
   ]
  },
  {
   "cell_type": "code",
   "execution_count": 6,
   "metadata": {},
   "outputs": [],
   "source": [
    "vrp = importlib.import_module(\"VRP_OR-tools_Stops_veh_tech\")"
   ]
  },
  {
   "cell_type": "code",
   "execution_count": 7,
   "metadata": {},
   "outputs": [],
   "source": [
    "import pickle"
   ]
  },
  {
   "cell_type": "code",
   "execution_count": 8,
   "metadata": {},
   "outputs": [],
   "source": [
    "from unittest import TestCase"
   ]
  },
  {
   "cell_type": "code",
   "execution_count": 9,
   "metadata": {},
   "outputs": [],
   "source": [
    "# Testing normal case where the origin and destination exist in the origin-destination travel time dataframe\n",
    "def test_tt_cal_normal():\n",
    "    sel_tt = pd.DataFrame()\n",
    "    sel_tt['origin'] = [1000, 1000,1001,1001]\n",
    "    sel_tt['destination'] = [1000,1001,1000,1001]\n",
    "    sel_tt['TIME_minutes'] = [0,5,10,0]\n",
    "    \n",
    "    sel_dist = pd.DataFrame()\n",
    "    sel_dist['Origin'] = [10, 10,12,12]\n",
    "    sel_dist['Destination'] = [10,12,10,12]\n",
    "    sel_dist['dist'] = [0,500,1000,0]\n",
    "    \n",
    "    assert vrp.tt_cal(10, 10, 1000, 1001, sel_tt, sel_dist) == 5, \"incorrect travel time\""
   ]
  },
  {
   "cell_type": "code",
   "execution_count": 10,
   "metadata": {},
   "outputs": [],
   "source": [
    "# Testing case where the origin and destination are not in the travel time dataframe \n",
    "# but in the orgin-destination distance dataframe\n",
    "def test_tt_cal_dist():\n",
    "    sel_tt = pd.DataFrame()\n",
    "    sel_tt['origin'] = [1000, 1000,1001,1001]\n",
    "    sel_tt['destination'] = [1000,1001,1000,1001]\n",
    "    sel_tt['TIME_minutes'] = [0,5,10,0]\n",
    "    \n",
    "    sel_dist = pd.DataFrame()\n",
    "    sel_dist['Origin'] = [10, 10,12,12]\n",
    "    sel_dist['Destination'] = [10,12,10,12]\n",
    "    sel_dist['dist'] = [0,500,1000,0]\n",
    "    \n",
    "    assert vrp.tt_cal(10, 12, 1005, 1012, sel_tt, sel_dist) == 750, \"incorrect travel time\""
   ]
  },
  {
   "cell_type": "code",
   "execution_count": 11,
   "metadata": {},
   "outputs": [],
   "source": [
    "# Testing case where the origin and destination are not in the travel time dataframe \n",
    "# and are not in the orgin-destination distance dataframe\n",
    "def test_tt_cal_exception():\n",
    "    sel_tt = pd.DataFrame()\n",
    "    sel_tt['origin'] = [1000, 1000,1001,1001]\n",
    "    sel_tt['destination'] = [1000,1001,1000,1001]\n",
    "    sel_tt['TIME_minutes'] = [0,5,10,0]\n",
    "    \n",
    "    sel_dist = pd.DataFrame()\n",
    "    sel_dist['Origin'] = [10, 10,12,12]\n",
    "    sel_dist['Destination'] = [10,12,10,12]\n",
    "    sel_dist['dist'] = [0,500,1000,0]\n",
    "    \n",
    "    assert vrp.tt_cal(13, 15, 1005, 1012, sel_tt, sel_dist) == 180, \"incorrect travel time\""
   ]
  },
  {
   "cell_type": "code",
   "execution_count": 12,
   "metadata": {},
   "outputs": [],
   "source": [
    "def test_get_geoId_normal():\n",
    "    \"\"\" Testing getting geo id (census block Id) from geo Id files, case where the geo id exist in the file \n",
    "    \"\"\"\n",
    "    pd_df = pd.DataFrame()\n",
    "    pd_df['GEOID'] = [456, 457]\n",
    "    pd_df['CBPZONE'] = [1234, 1235]\n",
    "    pd_df['MESOZONE'] = [101,1001]\n",
    "    pd_df['geometry'] = [Point(-101.91, 33.55), Point(-98.53, 29.53)]\n",
    "    \n",
    "    gp_df = gp.GeoDataFrame(pd_df, geometry='geometry')\n",
    "    \n",
    "    assert vrp.get_geoId(101,gp_df) == 456, \"incorrect geo Id\""
   ]
  },
  {
   "cell_type": "code",
   "execution_count": 13,
   "metadata": {},
   "outputs": [],
   "source": [
    "def test_get_geoId_exception():\n",
    "    \"\"\" Testing getting geo id (census block Id) from geo Id files, case where the geo id does not exist in the file\n",
    "        This case returns -1\n",
    "    \"\"\"\n",
    "    pd_df = pd.DataFrame()\n",
    "    pd_df['GEOID'] = [456, 457]\n",
    "    pd_df['CBPZONE'] = [1234, 1235]\n",
    "    pd_df['MESOZONE'] = [101,1001]\n",
    "    pd_df['geometry'] = [Point(-101.91, 33.55), Point(-98.53, 29.53)]\n",
    "    \n",
    "    gp_df = gp.GeoDataFrame(pd_df, geometry='geometry')\n",
    "    \n",
    "    assert vrp.get_geoId(2003,gp_df) == -1, \"incorrect geo Id\""
   ]
  },
  {
   "cell_type": "code",
   "execution_count": 14,
   "metadata": {},
   "outputs": [],
   "source": [
    "def test_create_data_model_delivery_external_normal():\n",
    "    df_prob = pd.read_csv('test_data/df_prob_delivery.csv')\n",
    "    c_prob = pd.read_csv('test_data/c_prob_delivery.csv')\n",
    "    v_df = pd.read_csv('test_data/v_df_delivery.csv')\n",
    "    vc_prob = pd.read_csv('test_data/vc_prob_delivery.csv')\n",
    "    CBGzone_df = pd.read_csv('test_data/CBGzone_df.csv')\n",
    "    tt_df = pd.read_csv('test_data/sel_tt_delivery.csv')\n",
    "    dist_df = pd.read_csv('test_data/sel_dist_delivery.csv')\n",
    "    prob_type = 'delivery'\n",
    "    carr_id = 'B2C_2879885.0'\n",
    "    depot_loc = c_prob.loc[c_prob['carrier_id'] == carr_id]['depot_zone'].values[0]\n",
    "    veh = 'md_D_Diesel'\n",
    "    comm = 5\n",
    "    index = 'external'\n",
    "    path_stops = ''  # We do not info on stop distribution for external tours\n",
    "    \n",
    "    data = {}\n",
    "    with open('test_data/b2c_delivery_external.pickle', 'rb') as handle:\n",
    "        data = pickle.load(handle)\n",
    "    \n",
    "    ret_data = vrp.create_data_model(df_prob, depot_loc, prob_type, v_df, vc_prob, c_prob, carr_id,\n",
    "                                                CBGzone_df, tt_df, dist_df, veh, comm, index, path_stops)\n",
    "    \n",
    "    TestCase().assertDictEqual(ret_data, data, \"incorrect data dictionary created\")\n",
    "    "
   ]
  },
  {
   "cell_type": "code",
   "execution_count": 15,
   "metadata": {},
   "outputs": [],
   "source": [
    "def test_create_data_model_pickup_delivery_external_normal():\n",
    "    df_prob = pd.read_csv('test_data/df_prob_pickup_delivery.csv')\n",
    "    c_prob = pd.read_csv('test_data/c_prob_pickup_delivery.csv')\n",
    "    v_df = pd.read_csv('test_data/v_df_pickup_delivery.csv')\n",
    "    vc_prob = pd.read_csv('test_data/vc_prob_pickup_delivery.csv')\n",
    "    CBGzone_df = pd.read_csv('test_data/CBGzone_df.csv')\n",
    "    tt_df = pd.read_csv('test_data/sel_tt_pickup_delivery.csv')\n",
    "    dist_df = pd.read_csv('test_data/sel_dist_pickup_delivery.csv')\n",
    "    prob_type = 'pickup_delivery'\n",
    "    carr_id = 'B2B_2627740_0hdt_D'\n",
    "    depot_loc = c_prob.loc[c_prob['carrier_id'] == carr_id]['depot_zone'].values[0]\n",
    "    veh = 'hdt_D_Diesel'\n",
    "    comm = 2\n",
    "    index = 'external'\n",
    "    path_stops = ''  # We do not info on stop distribution for external tours\n",
    "    \n",
    "    data = {}\n",
    "    with open('test_data/b2b_pickup_delivery_external.pickle', 'rb') as handle:\n",
    "        data = pickle.load(handle)\n",
    "    \n",
    "    ret_data = vrp.create_data_model(df_prob, depot_loc, prob_type, v_df, vc_prob, c_prob, carr_id,\n",
    "                                                CBGzone_df, tt_df, dist_df, veh, comm, index, path_stops)\n",
    "    \n",
    "    TestCase().assertDictEqual(ret_data, data, \"incorrect data dictionary created\")"
   ]
  },
  {
   "cell_type": "code",
   "execution_count": 16,
   "metadata": {},
   "outputs": [
    {
     "name": "stdout",
     "output_type": "stream",
     "text": [
      "veh_capacity:  36000  num_veh:  8\n"
     ]
    }
   ],
   "source": [
    "test_create_data_model_pickup_delivery_external_normal()"
   ]
  },
  {
   "cell_type": "code",
   "execution_count": 17,
   "metadata": {},
   "outputs": [],
   "source": [
    "def test_create_data_model_delivery_internal_normal():\n",
    "    df_prob = pd.read_csv('test_data/df_prob_delivery.csv')\n",
    "    c_prob = pd.read_csv('test_data/c_prob_delivery.csv')\n",
    "    v_df = pd.read_csv('test_data/v_df_delivery.csv')\n",
    "    vc_prob = pd.read_csv('test_data/vc_prob_delivery.csv')\n",
    "    CBGzone_df = pd.read_csv('test_data/CBGzone_df.csv')\n",
    "    tt_df = pd.read_csv('test_data/sel_tt_delivery.csv')\n",
    "    dist_df = pd.read_csv('test_data/sel_dist_delivery.csv')\n",
    "    prob_type = 'delivery'\n",
    "    carr_id = 'B2C_2879885.0'\n",
    "    depot_loc = c_prob.loc[c_prob['carrier_id'] == carr_id]['depot_zone'].values[0]\n",
    "    veh = 'md_D_Diesel'\n",
    "    comm = 5\n",
    "    index = 'internal'\n",
    "    path_stops = '../../../FRISM_input_output_AT/Survey_Data/'  # We do not info on stop distribution for external tours\n",
    "    \n",
    "    data = {}\n",
    "    with open('test_data/b2c_delivery_internal.pickle', 'rb') as handle:\n",
    "        data = pickle.load(handle)\n",
    "    \n",
    "    ret_data = vrp.create_data_model(df_prob, depot_loc, prob_type, v_df, vc_prob, c_prob, carr_id,\n",
    "                                                CBGzone_df, tt_df, dist_df, veh, comm, index, path_stops)\n",
    "    \n",
    "    TestCase().assertDictEqual(ret_data, data, \"incorrect data dictionary created\")"
   ]
  },
  {
   "cell_type": "code",
   "execution_count": 18,
   "metadata": {},
   "outputs": [],
   "source": [
    "def test_create_data_model_pickup_delivery_internal_normal():\n",
    "    df_prob = pd.read_csv('test_data/df_prob_pickup_delivery.csv')\n",
    "    c_prob = pd.read_csv('test_data/c_prob_pickup_delivery.csv')\n",
    "    v_df = pd.read_csv('test_data/v_df_pickup_delivery.csv')\n",
    "    vc_prob = pd.read_csv('test_data/vc_prob_pickup_delivery.csv')\n",
    "    CBGzone_df = pd.read_csv('test_data/CBGzone_df.csv')\n",
    "    tt_df = pd.read_csv('test_data/sel_tt_pickup_delivery.csv')\n",
    "    dist_df = pd.read_csv('test_data/sel_dist_pickup_delivery.csv')\n",
    "    prob_type = 'pickup_delivery'\n",
    "    carr_id = 'B2B_2627740_0hdt_D'\n",
    "    depot_loc = c_prob.loc[c_prob['carrier_id'] == carr_id]['depot_zone'].values[0]\n",
    "    veh = 'hdt_D_Diesel'\n",
    "    comm = 5\n",
    "    index = 'internal'\n",
    "    path_stops = '../../../FRISM_input_output_AT/Survey_Data/'  # We do not info on stop distribution for external tours\n",
    "    \n",
    "    data = {}\n",
    "    with open('test_data/b2b_pickup_delivery_internal.pickle', 'rb') as handle:\n",
    "        data = pickle.load(handle)\n",
    "    \n",
    "    ret_data = vrp.create_data_model(df_prob, depot_loc, prob_type, v_df, vc_prob, c_prob, carr_id,\n",
    "                                                CBGzone_df, tt_df, dist_df, veh, comm, index, path_stops)\n",
    "    \n",
    "    TestCase().assertDictEqual(ret_data, data, \"incorrect data dictionary created\")"
   ]
  },
  {
   "cell_type": "code",
   "execution_count": 11,
   "metadata": {},
   "outputs": [],
   "source": [
    "def test_input_files_processing_delivery_normal():\n",
    "    travel_file = 'test_data/sel_tt_delivery.csv.gz'\n",
    "    dist_file = 'test_data/sel_dist_delivery.csv'\n",
    "    CBGzone_file = 'test_data/CBGzone_df.geojson'\n",
    "    carrier_file = 'test_data/c_prob_delivery.csv'\n",
    "    payload_file = 'test_data/df_prob_delivery.csv'\n",
    "    vehicleType_file = 'test_data/v_df_delivery.csv'\n",
    "    \n",
    "    p_df = pd.read_csv(payload_file)\n",
    "    c_df = pd.read_csv(carrier_file)\n",
    "    v_df = pd.read_csv(vehicleType_file)\n",
    "    vc_df = pd.read_csv('test_data/vc_df_processing_delivery.csv')\n",
    "    CBGzone_df = gp.read_file(CBGzone_file)\n",
    "    tt_df = pd.read_csv(travel_file, compression='gzip', header=0, sep=',', quotechar='\"', error_bad_lines=False)\n",
    "    dist_df = pd.read_csv(dist_file)\n",
    "    \n",
    "    ret_tt_df, ret_dist_df, ret_CBGzone_df, ret_c_df, ret_p_df, ret_v_df, ret_vc_df = vrp.input_files_processing(travel_file, dist_file, \n",
    "                                                                                                                 CBGzone_file, carrier_file, payload_file, vehicleType_file)\n",
    "    \n",
    "    assert ret_tt_df.equals(tt_df), \"incorrect travel time dataframe\"\n",
    "    assert ret_dist_df.equals(dist_df), \"incorrect distance dataframe\"\n",
    "    assert ret_CBGzone_df.equals(CBGzone_df), \"incorrect census block id file\"\n",
    "    assert ret_c_df.equals(c_df), \"incorrect carrier dataframe\"\n",
    "    assert ret_p_df.equals(p_df), \"incorrect payload dataframe\"\n",
    "    assert ret_v_df.equals(v_df), \"incorrect vehicle dataframe\"\n",
    "    assert ret_vc_df.equals(vc_df), \"incorrect vehicle details dataframe\""
   ]
  },
  {
   "cell_type": "code",
   "execution_count": 18,
   "metadata": {},
   "outputs": [],
   "source": [
    "def test_input_files_processing_exception():\n",
    "    travel_file = 'test_data/sel_tt_delivery.csv'\n",
    "    dist_file = 'test_data/sel_dist_delivery.csv'\n",
    "    CBGzone_file = 'test_data/CBGzone_df.geojson'\n",
    "    carrier_file = 'test_data/c_prob_delivery.csv'\n",
    "    payload_file = 'test_data/df_prob_delivery.csv'\n",
    "    vehicleType_file = 'test_data/v_df_delivery.csv'\n",
    "    \n",
    "    # Checking if we capture exception from travel_file\n",
    "    assert vrp.input_files_processing(travel_file, dist_file, CBGzone_file, \n",
    "                                       carrier_file, payload_file, vehicleType_file) == None, 'Missed exception on reading travel time input file format'\n",
    "    #Checking if we capture exception from dist_file\n",
    "    travel_file = 'test_data/sel_tt_delivery.csv.gz'\n",
    "    dist_file = 'test_data/sel_dist_delivery.txt'\n",
    "    assert vrp.input_files_processing(travel_file, dist_file, CBGzone_file, \n",
    "                                       carrier_file, payload_file, vehicleType_file) == None, 'Missed exception on reading distance input file format'\n",
    "    #Checking if we capture exception from geoid file \n",
    "    dist_file = 'test_data/sel_dist_delivery.csv'\n",
    "    CBGzone_file = 'test_data/CBGzone_df.csv'\n",
    "    assert vrp.input_files_processing(travel_file, dist_file, CBGzone_file, \n",
    "                                       carrier_file, payload_file, vehicleType_file) == None, 'Missed exception on reading geo id input file format'\n",
    "    # Checking if we capture exception from carrier file\n",
    "    CBGzone_file = 'test_data/CBGzone_df.geojson'\n",
    "    carrier_file = 'src/test_data/c_prob_delivery.csv'\n",
    "    assert vrp.input_files_processing(travel_file, dist_file, CBGzone_file, \n",
    "                                       carrier_file, payload_file, vehicleType_file) == None, 'Missed exception on reading carrier input file format'\n",
    "    \n",
    "    # Checking if we capture exception from payload file\n",
    "    carrier_file = 'test_data/c_prob_delivery.csv'\n",
    "    payload_file = 'test_data/df_prob_delivery.txt'\n",
    "    assert vrp.input_files_processing(travel_file, dist_file, CBGzone_file, \n",
    "                                       carrier_file, payload_file, vehicleType_file) == None, 'Missed exception on reading payload input file format'\n",
    "    \n",
    "    # Checking if we capture exception from payload file\n",
    "    payload_file = 'test_data/df_prob_delivery.csv'\n",
    "    vehicleType_file = 'test_data/v_df_delivery.txt'\n",
    "    assert vrp.input_files_processing(travel_file, dist_file, CBGzone_file, \n",
    "                                       carrier_file, payload_file, vehicleType_file) == None, 'Missed exception on reading vehicle input file format'"
   ]
  },
  {
   "cell_type": "code",
   "execution_count": 19,
   "metadata": {},
   "outputs": [
    {
     "name": "stdout",
     "output_type": "stream",
     "text": [
      "Exception:  Travel time file Not a gzipped file (b'Un')\n",
      "Exception:   [Errno 2] No such file or directory: 'test_data/sel_dist_delivery.txt'\n",
      "Exception:   maximum recursion depth exceeded in comparison\n",
      "Exception:   [Errno 2] No such file or directory: 'src/test_data/c_prob_delivery.csv'\n",
      "Exception:   [Errno 2] No such file or directory: 'test_data/df_prob_delivery.txt'\n",
      "Exception:   [Errno 2] No such file or directory: 'test_data/v_df_delivery.txt'\n"
     ]
    }
   ],
   "source": [
    "test_input_files_processing_exception()"
   ]
  },
  {
   "cell_type": "code",
   "execution_count": 15,
   "metadata": {},
   "outputs": [
    {
     "name": "stdout",
     "output_type": "stream",
     "text": [
      "Exception:   maximum recursion depth exceeded in comparison\n"
     ]
    }
   ],
   "source": [
    "test_input_files_processing_geozone_exception()"
   ]
  },
  {
   "cell_type": "code",
   "execution_count": 19,
   "metadata": {},
   "outputs": [
    {
     "name": "stdout",
     "output_type": "stream",
     "text": [
      "veh_capacity:  8000  num_veh:  12\n",
      "veh_capacity:  36000  num_veh:  8\n",
      "pickled data:\n",
      "veh_capacity:  8000  num_veh:  12\n",
      "veh_capacity:  36000  num_veh:  8\n"
     ]
    }
   ],
   "source": [
    "test_create_data_model_delivery_external_normal()\n",
    "test_create_data_model_pickup_delivery_external_normal()\n",
    "test_create_data_model_delivery_internal_normal()\n",
    "test_create_data_model_pickup_delivery_internal_normal()"
   ]
  },
  {
   "cell_type": "code",
   "execution_count": null,
   "metadata": {},
   "outputs": [],
   "source": []
  }
 ],
 "metadata": {
  "kernelspec": {
   "display_name": "frism",
   "language": "python",
   "name": "frism"
  },
  "language_info": {
   "codemirror_mode": {
    "name": "ipython",
    "version": 3
   },
   "file_extension": ".py",
   "mimetype": "text/x-python",
   "name": "python",
   "nbconvert_exporter": "python",
   "pygments_lexer": "ipython3",
   "version": "3.6.10"
  }
 },
 "nbformat": 4,
 "nbformat_minor": 4
}
