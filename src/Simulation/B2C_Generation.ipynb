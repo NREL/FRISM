{
 "cells": [
  {
   "cell_type": "code",
   "execution_count": 1,
   "metadata": {},
   "outputs": [],
   "source": [
    "import pandas as pd\n",
    "import numpy as np\n",
    "import datetime as dt\n",
    "import joblib"
   ]
  },
  {
   "cell_type": "code",
   "execution_count": 2,
   "metadata": {},
   "outputs": [],
   "source": [
    "import statsmodels.api as sm\n",
    "from sklearn.linear_model import LogisticRegression\n",
    "from sklearn.model_selection import train_test_split\n",
    "from sklearn import preprocessing\n",
    "from sklearn.metrics import accuracy_score\n",
    "from sklearn.model_selection import cross_val_score\n",
    "from sklearn.metrics import confusion_matrix"
   ]
  },
  {
   "cell_type": "code",
   "execution_count": 165,
   "metadata": {},
   "outputs": [],
   "source": [
    "import seaborn as sns"
   ]
  },
  {
   "cell_type": "code",
   "execution_count": 172,
   "metadata": {},
   "outputs": [],
   "source": [
    "import math"
   ]
  },
  {
   "cell_type": "code",
   "execution_count": 3,
   "metadata": {},
   "outputs": [],
   "source": [
    "## WebUse behavior Generation  "
   ]
  },
  {
   "cell_type": "code",
   "execution_count": 196,
   "metadata": {},
   "outputs": [],
   "source": [
    "# read synth household population \n",
    "df_hh = pd.read_csv('../Sim_inputs/plans-base-2010/households.csv', header=0, sep=',')"
   ]
  },
  {
   "cell_type": "code",
   "execution_count": 198,
   "metadata": {},
   "outputs": [],
   "source": [
    "# select variables required for the model\n",
    "df_hh= df_hh[['household_id', 'persons','tenure', 'workers', 'income', 'cars','race_of_head']]\n",
    "df_hh.columns = ['household_id','HHSIZE','HOMEOWN', 'WRKCOUNT', 'income_est','HHVEHCNT','HH_RACE']"
   ]
  },
  {
   "cell_type": "code",
   "execution_count": 199,
   "metadata": {},
   "outputs": [],
   "source": [
    "def race_class(HH_RACE):\n",
    "    if HH_RACE == 1: \n",
    "        return 1 # white\n",
    "    elif HH_RACE == 2:\n",
    "        return 2 # black\n",
    "    elif HH_RACE == 3:\n",
    "        return 3 # Asian\n",
    "    else:\n",
    "        return 4 # others\n",
    "df_hh['HH_RACE']=df_hh['HH_RACE'].apply(race_class) "
   ]
  },
  {
   "cell_type": "code",
   "execution_count": 200,
   "metadata": {},
   "outputs": [],
   "source": [
    "df_hh['WRKCOUNT']=df_hh['WRKCOUNT'].astype(np.int64)\n",
    "df_hh['income_est']=df_hh['income_est'].astype(np.int64)\n",
    "df_hh['HHVEHCNT']=df_hh['HHVEHCNT'].astype(np.int64)"
   ]
  },
  {
   "cell_type": "code",
   "execution_count": 201,
   "metadata": {},
   "outputs": [],
   "source": [
    "df_hh['income_est']=df_hh['income_est']/1000"
   ]
  },
  {
   "cell_type": "code",
   "execution_count": 202,
   "metadata": {},
   "outputs": [
    {
     "data": {
      "text/plain": [
       "array(['household_id', 'HHSIZE', 'HOMEOWN', 'WRKCOUNT', 'income_est',\n",
       "       'HHVEHCNT', 'HH_RACE_1', 'HH_RACE_2', 'HH_RACE_3', 'HH_RACE_4'],\n",
       "      dtype=object)"
      ]
     },
     "execution_count": 202,
     "metadata": {},
     "output_type": "execute_result"
    }
   ],
   "source": [
    "cat_vars=['HH_RACE']\n",
    "for var in cat_vars:\n",
    "    cat_list='var'+'_'+var\n",
    "    cat_list = pd.get_dummies(df_hh[var], prefix=var)\n",
    "    df_hh=df_hh.join(cat_list)\n",
    "\n",
    "cat_vars=['HH_RACE']\n",
    "data_vars=df_hh.columns.values.tolist()\n",
    "to_keep=[i for i in data_vars if i not in cat_vars]\n",
    "df_hh=df_hh[to_keep]\n",
    "df_hh.columns.values"
   ]
  },
  {
   "cell_type": "code",
   "execution_count": 203,
   "metadata": {},
   "outputs": [],
   "source": [
    "sim_X=df_hh[['HOMEOWN', 'WRKCOUNT', 'income_est','HHVEHCNT', 'HH_RACE_1']]\n"
   ]
  },
  {
   "cell_type": "code",
   "execution_count": 204,
   "metadata": {},
   "outputs": [],
   "source": [
    "filename= 'webuse_model.sav'\n",
    "loaded_model = joblib.load(filename)"
   ]
  },
  {
   "cell_type": "code",
   "execution_count": 205,
   "metadata": {},
   "outputs": [],
   "source": [
    "sim_Y_web = loaded_model.predict(sim_X)"
   ]
  },
  {
   "cell_type": "code",
   "execution_count": 206,
   "metadata": {},
   "outputs": [],
   "source": [
    "df_hh['web_use']=loaded_model.predict(sim_X)"
   ]
  },
  {
   "cell_type": "code",
   "execution_count": 207,
   "metadata": {},
   "outputs": [
    {
     "data": {
      "text/plain": [
       "1    1823860\n",
       "0     579820\n",
       "2     204343\n",
       "Name: web_use, dtype: int64"
      ]
     },
     "execution_count": 207,
     "metadata": {},
     "output_type": "execute_result"
    }
   ],
   "source": [
    "df_hh['web_use'].value_counts()"
   ]
  },
  {
   "cell_type": "code",
   "execution_count": null,
   "metadata": {},
   "outputs": [],
   "source": [
    "#### End WebUse behavior generation   "
   ]
  },
  {
   "cell_type": "code",
   "execution_count": 208,
   "metadata": {},
   "outputs": [],
   "source": [
    "#### Online shopping behavior generation "
   ]
  },
  {
   "cell_type": "code",
   "execution_count": 209,
   "metadata": {},
   "outputs": [],
   "source": [
    "df_ps = pd.read_csv('../Sim_inputs/plans-base-2010/persons.csv', header=0, sep=',')"
   ]
  },
  {
   "cell_type": "code",
   "execution_count": 210,
   "metadata": {},
   "outputs": [
    {
     "data": {
      "text/plain": [
       "Index(['person_id', 'age', 'earning', 'edu', 'hours', 'household_id',\n",
       "       'member_id', 'race_id', 'relate', 'sex', 'student', 'work_at_home',\n",
       "       'worker'],\n",
       "      dtype='object')"
      ]
     },
     "execution_count": 210,
     "metadata": {},
     "output_type": "execute_result"
    }
   ],
   "source": [
    "df_ps.columns"
   ]
  },
  {
   "cell_type": "code",
   "execution_count": 211,
   "metadata": {},
   "outputs": [],
   "source": [
    "# select variables required for the model\n",
    "df_ps=df_ps[['person_id', 'age', 'earning', 'edu', 'household_id',\n",
    "        'race_id', 'sex']]"
   ]
  },
  {
   "cell_type": "code",
   "execution_count": 212,
   "metadata": {},
   "outputs": [],
   "source": [
    "df_ps.columns = ['person_id', 'R_AGE_IMP', 'earning', 'EDUC', 'household_id',\n",
    "        'R_RACE', 'R_SEX_IMP']"
   ]
  },
  {
   "cell_type": "code",
   "execution_count": 213,
   "metadata": {},
   "outputs": [],
   "source": [
    "df_ps=df_ps.merge(df_hh, on='household_id', how='left')"
   ]
  },
  {
   "cell_type": "code",
   "execution_count": 214,
   "metadata": {},
   "outputs": [],
   "source": [
    "df_ps=df_ps.query('R_AGE_IMP >= 16')"
   ]
  },
  {
   "cell_type": "code",
   "execution_count": 215,
   "metadata": {},
   "outputs": [
    {
     "data": {
      "text/plain": [
       "['person_id',\n",
       " 'R_AGE_IMP',\n",
       " 'earning',\n",
       " 'EDUC',\n",
       " 'household_id',\n",
       " 'R_RACE',\n",
       " 'R_SEX_IMP',\n",
       " 'HHSIZE',\n",
       " 'HOMEOWN',\n",
       " 'WRKCOUNT',\n",
       " 'income_est',\n",
       " 'HHVEHCNT',\n",
       " 'HH_RACE_1',\n",
       " 'HH_RACE_2',\n",
       " 'HH_RACE_3',\n",
       " 'HH_RACE_4',\n",
       " 'web_use']"
      ]
     },
     "execution_count": 215,
     "metadata": {},
     "output_type": "execute_result"
    }
   ],
   "source": [
    "list(df_ps.columns)"
   ]
  },
  {
   "cell_type": "code",
   "execution_count": 216,
   "metadata": {},
   "outputs": [],
   "source": [
    "df_ps = df_ps.rename(columns={'web_use':'WEBUSE17'})"
   ]
  },
  {
   "cell_type": "code",
   "execution_count": 217,
   "metadata": {},
   "outputs": [],
   "source": [
    "df_ps['income_est']=df_ps['income_est']/1000"
   ]
  },
  {
   "cell_type": "code",
   "execution_count": 218,
   "metadata": {},
   "outputs": [],
   "source": [
    "def age_est(R_AGE_IMP):\n",
    "    if R_AGE_IMP  >=16 and R_AGE_IMP  <25 :\n",
    "        return 0\n",
    "    elif R_AGE_IMP  >=25 and R_AGE_IMP  <45:\n",
    "        return 1\n",
    "    elif R_AGE_IMP  >=45 and R_AGE_IMP  <65:\n",
    "        return 2\n",
    "    elif R_AGE_IMP  >=65:\n",
    "        return 3\n",
    "\n",
    "df_ps['age_group']=df_ps['R_AGE_IMP'].apply(age_est)  "
   ]
  },
  {
   "cell_type": "code",
   "execution_count": 219,
   "metadata": {},
   "outputs": [],
   "source": [
    "def race_class(R_RACE):\n",
    "    if R_RACE == 1: \n",
    "        return 0\n",
    "    elif R_RACE == 2:\n",
    "        return 1\n",
    "    elif R_RACE == 6:\n",
    "        return 2\n",
    "    else:\n",
    "        return 3\n",
    "df_ps['R_RACE']=df_ps['R_RACE'].apply(race_class)  "
   ]
  },
  {
   "cell_type": "code",
   "execution_count": 220,
   "metadata": {},
   "outputs": [],
   "source": [
    "def sex_class(R_SEX_IMP):\n",
    "    if R_SEX_IMP == 1: #male\n",
    "        return 0\n",
    "    else:\n",
    "        return 1 #female\n",
    "df_ps['R_SEX_IMP']=df_ps['R_SEX_IMP'].apply(sex_class)  "
   ]
  },
  {
   "cell_type": "code",
   "execution_count": 222,
   "metadata": {},
   "outputs": [],
   "source": [
    "def edu_class(EDUC):\n",
    "    if EDUC >=16 and EDUC <=20:\n",
    "        return 1\n",
    "    elif EDUC ==21:\n",
    "        return 2\n",
    "    elif EDUC >=22 and EDUC <=24:\n",
    "        return 3\n",
    "    else:\n",
    "        return 0\n",
    "df_ps['EDUC']=df_ps['EDUC'].apply(edu_class)  "
   ]
  },
  {
   "cell_type": "code",
   "execution_count": 223,
   "metadata": {},
   "outputs": [
    {
     "data": {
      "text/plain": [
       "array(['person_id', 'R_AGE_IMP', 'earning', 'household_id', 'R_SEX_IMP',\n",
       "       'HHSIZE', 'HOMEOWN', 'WRKCOUNT', 'income_est', 'HHVEHCNT',\n",
       "       'HH_RACE_1', 'HH_RACE_2', 'HH_RACE_3', 'HH_RACE_4', 'EDUC_0',\n",
       "       'EDUC_1', 'EDUC_2', 'EDUC_3', 'age_group_0', 'age_group_1',\n",
       "       'age_group_2', 'age_group_3', 'R_RACE_0', 'R_RACE_1', 'R_RACE_2',\n",
       "       'R_RACE_3', 'WEBUSE17_0', 'WEBUSE17_1', 'WEBUSE17_2'], dtype=object)"
      ]
     },
     "execution_count": 223,
     "metadata": {},
     "output_type": "execute_result"
    }
   ],
   "source": [
    "cat_vars=['EDUC','age_group','R_RACE','WEBUSE17']\n",
    "for var in cat_vars:\n",
    "    cat_list='var'+'_'+var\n",
    "    cat_list = pd.get_dummies(df_ps[var], prefix=var)\n",
    "    df_ps_temp=df_ps.join(cat_list)\n",
    "    df_ps=df_ps_temp\n",
    "cat_vars=['EDUC','age_group','R_RACE','WEBUSE17']\n",
    "data_vars=df_ps.columns.values.tolist()\n",
    "to_keep=[i for i in data_vars if i not in cat_vars]\n",
    "df_ps_final=df_ps[to_keep]\n",
    "df_ps_final.columns.values"
   ]
  },
  {
   "cell_type": "code",
   "execution_count": 224,
   "metadata": {},
   "outputs": [],
   "source": [
    "var=['income_est', 'HHVEHCNT','HHSIZE',\n",
    "         'R_SEX_IMP',\n",
    "         'EDUC_0','EDUC_1', 'EDUC_2',\n",
    "         'age_group_0', 'age_group_1', 'age_group_2',\n",
    "         'R_RACE_0','R_RACE_2',\n",
    "         'WEBUSE17_0', 'WEBUSE17_1']"
   ]
  },
  {
   "cell_type": "code",
   "execution_count": 225,
   "metadata": {},
   "outputs": [],
   "source": [
    "X=df_ps_final[var]"
   ]
  },
  {
   "cell_type": "code",
   "execution_count": 226,
   "metadata": {},
   "outputs": [],
   "source": [
    "filename= 'online_shop_model.sav'\n",
    "loaded_model = joblib.load(filename)"
   ]
  },
  {
   "cell_type": "code",
   "execution_count": 227,
   "metadata": {},
   "outputs": [
    {
     "name": "stderr",
     "output_type": "stream",
     "text": [
      "/var/folders/kr/2j58542j2_7chf9_h8bmr30mb0_4n0/T/ipykernel_1806/2691630511.py:1: SettingWithCopyWarning: \n",
      "A value is trying to be set on a copy of a slice from a DataFrame.\n",
      "Try using .loc[row_indexer,col_indexer] = value instead\n",
      "\n",
      "See the caveats in the documentation: https://pandas.pydata.org/pandas-docs/stable/user_guide/indexing.html#returning-a-view-versus-a-copy\n",
      "  df_ps_final['online_shop']=loaded_model.predict(X)\n"
     ]
    }
   ],
   "source": [
    "df_ps_final['online_shop']=loaded_model.predict(X)"
   ]
  },
  {
   "cell_type": "code",
   "execution_count": 228,
   "metadata": {},
   "outputs": [
    {
     "data": {
      "text/plain": [
       "0    3149507\n",
       "1    2276437\n",
       "Name: online_shop, dtype: int64"
      ]
     },
     "execution_count": 228,
     "metadata": {},
     "output_type": "execute_result"
    }
   ],
   "source": [
    "df_ps_final['online_shop'].value_counts()"
   ]
  },
  {
   "cell_type": "code",
   "execution_count": null,
   "metadata": {},
   "outputs": [],
   "source": [
    "#### End: Online shopping behavior generation "
   ]
  },
  {
   "cell_type": "code",
   "execution_count": null,
   "metadata": {},
   "outputs": [],
   "source": [
    "#### Montly frequency generation "
   ]
  },
  {
   "cell_type": "code",
   "execution_count": null,
   "metadata": {},
   "outputs": [],
   "source": [
    "nhts_per = pd.read_csv('../Model_inputs/NHTS/perpub.csv', header=0, sep=',')\n",
    "nhts_per= nhts_per.query('HH_CBSA ==(\"31080\",\"40140\",\"40900\",\"41740\",\"41860\",\"41940\")')"
   ]
  },
  {
   "cell_type": "code",
   "execution_count": null,
   "metadata": {},
   "outputs": [],
   "source": [
    "max_delivery = nhts_per['DELIVER'].max()"
   ]
  },
  {
   "cell_type": "code",
   "execution_count": 229,
   "metadata": {},
   "outputs": [],
   "source": [
    "df_ps_noshop=df_ps_final[df_ps_final['online_shop']==0]\n",
    "df_ps_shop=df_ps_final[df_ps_final['online_shop']==1]"
   ]
  },
  {
   "cell_type": "code",
   "execution_count": 230,
   "metadata": {},
   "outputs": [
    {
     "name": "stderr",
     "output_type": "stream",
     "text": [
      "/var/folders/kr/2j58542j2_7chf9_h8bmr30mb0_4n0/T/ipykernel_1806/2683884991.py:1: SettingWithCopyWarning: \n",
      "A value is trying to be set on a copy of a slice from a DataFrame.\n",
      "Try using .loc[row_indexer,col_indexer] = value instead\n",
      "\n",
      "See the caveats in the documentation: https://pandas.pydata.org/pandas-docs/stable/user_guide/indexing.html#returning-a-view-versus-a-copy\n",
      "  df_ps_noshop['delivery_f']=0\n"
     ]
    }
   ],
   "source": [
    "df_ps_noshop['delivery_f']=0"
   ]
  },
  {
   "cell_type": "code",
   "execution_count": 231,
   "metadata": {},
   "outputs": [],
   "source": [
    "var= x_var=['income_est',\n",
    "         #'HHFAMINC',\n",
    "         #'HHVEHCNT',\n",
    "         'HHSIZE',\n",
    "         'R_SEX_IMP',\n",
    "         'EDUC_3',#'EDUC_1', 'EDUC_2',\n",
    "         'age_group_3']"
   ]
  },
  {
   "cell_type": "code",
   "execution_count": 232,
   "metadata": {},
   "outputs": [],
   "source": [
    "X=df_ps_shop[var]"
   ]
  },
  {
   "cell_type": "code",
   "execution_count": 233,
   "metadata": {},
   "outputs": [
    {
     "name": "stderr",
     "output_type": "stream",
     "text": [
      "/var/folders/kr/2j58542j2_7chf9_h8bmr30mb0_4n0/T/ipykernel_1806/3048371141.py:3: SettingWithCopyWarning: \n",
      "A value is trying to be set on a copy of a slice from a DataFrame.\n",
      "Try using .loc[row_indexer,col_indexer] = value instead\n",
      "\n",
      "See the caveats in the documentation: https://pandas.pydata.org/pandas-docs/stable/user_guide/indexing.html#returning-a-view-versus-a-copy\n",
      "  df_ps_shop['delivery_f']=loaded_model.predict(X)\n"
     ]
    }
   ],
   "source": [
    "filename= 'delivery_freq_model.sav'\n",
    "loaded_model = joblib.load(filename)\n",
    "df_ps_shop['delivery_f']=loaded_model.predict(X)"
   ]
  },
  {
   "cell_type": "code",
   "execution_count": 235,
   "metadata": {},
   "outputs": [
    {
     "name": "stderr",
     "output_type": "stream",
     "text": [
      "/var/folders/kr/2j58542j2_7chf9_h8bmr30mb0_4n0/T/ipykernel_1806/2769943504.py:1: SettingWithCopyWarning: \n",
      "A value is trying to be set on a copy of a slice from a DataFrame.\n",
      "Try using .loc[row_indexer,col_indexer] = value instead\n",
      "\n",
      "See the caveats in the documentation: https://pandas.pydata.org/pandas-docs/stable/user_guide/indexing.html#returning-a-view-versus-a-copy\n",
      "  df_ps_shop['delivery_f'] = df_ps_shop['delivery_f'].apply(math.trunc)\n"
     ]
    }
   ],
   "source": [
    "df_ps_shop['delivery_f'] = df_ps_shop['delivery_f'].apply(math.trunc)"
   ]
  },
  {
   "cell_type": "code",
   "execution_count": 239,
   "metadata": {},
   "outputs": [
    {
     "name": "stderr",
     "output_type": "stream",
     "text": [
      "/var/folders/kr/2j58542j2_7chf9_h8bmr30mb0_4n0/T/ipykernel_1806/1187444486.py:1: SettingWithCopyWarning: \n",
      "A value is trying to be set on a copy of a slice from a DataFrame.\n",
      "Try using .loc[row_indexer,col_indexer] = value instead\n",
      "\n",
      "See the caveats in the documentation: https://pandas.pydata.org/pandas-docs/stable/user_guide/indexing.html#returning-a-view-versus-a-copy\n",
      "  df_ps_shop['delivery_f'] = df_ps_shop['delivery_f'].apply(lambda x: 60 if x>=60 else x)\n"
     ]
    }
   ],
   "source": [
    "df_ps_shop['delivery_f'] = df_ps_shop['delivery_f'].apply(lambda x: max_delivery if x>=max_delivery else x) "
   ]
  },
  {
   "cell_type": "code",
   "execution_count": 240,
   "metadata": {},
   "outputs": [
    {
     "name": "stderr",
     "output_type": "stream",
     "text": [
      "/Users/kjeong/anaconda3/envs/python38/lib/python3.8/site-packages/seaborn/distributions.py:2619: FutureWarning: `distplot` is a deprecated function and will be removed in a future version. Please adapt your code to use either `displot` (a figure-level function with similar flexibility) or `histplot` (an axes-level function for histograms).\n",
      "  warnings.warn(msg, FutureWarning)\n"
     ]
    },
    {
     "data": {
      "text/plain": [
       "<AxesSubplot:xlabel='delivery_f', ylabel='Density'>"
      ]
     },
     "execution_count": 240,
     "metadata": {},
     "output_type": "execute_result"
    },
    {
     "data": {
      "image/png": "[encoded data removed]",
      "text/plain": [
       "<Figure size 432x288 with 1 Axes>"
      ]
     },
     "metadata": {
      "needs_background": "light"
     },
     "output_type": "display_data"
    }
   ],
   "source": [
    "#sns.distplot(df_ps_shop['delivery_f'])"
   ]
  },
  {
   "cell_type": "code",
   "execution_count": 241,
   "metadata": {},
   "outputs": [],
   "source": [
    "df_ps_del=pd.concat([df_ps_noshop,df_ps_shop])"
   ]
  },
  {
   "cell_type": "code",
   "execution_count": null,
   "metadata": {},
   "outputs": [],
   "source": [
    "#### End: Montly frequency generation "
   ]
  },
  {
   "cell_type": "code",
   "execution_count": null,
   "metadata": {},
   "outputs": [],
   "source": [
    "#### Aggregation to Households"
   ]
  },
  {
   "cell_type": "code",
   "execution_count": 242,
   "metadata": {},
   "outputs": [],
   "source": [
    "# Sum individual monthly delivery frequency (group by household ID)\n",
    "df_ps_del_hh=df_ps_del.groupby(['household_id'])['delivery_f'].sum()\n",
    "df_ps_del_hh=df_ps_del_hh.to_frame()\n",
    "df_ps_del_hh.reset_index(level=(0), inplace=True)"
   ]
  },
  {
   "cell_type": "code",
   "execution_count": 245,
   "metadata": {},
   "outputs": [],
   "source": [
    "# Create household level monthly delivery frequency  \n",
    "df_hh = pd.read_csv('../Sim_inputs/plans-base-2010/households.csv', header=0, sep=',')"
   ]
  },
  {
   "cell_type": "code",
   "execution_count": 247,
   "metadata": {},
   "outputs": [],
   "source": [
    "df_hh = df_hh.merge(df_ps_del_hh, on='household_id', how='left')"
   ]
  },
  {
   "cell_type": "code",
   "execution_count": 250,
   "metadata": {},
   "outputs": [],
   "source": [
    "df_hh.to_csv('../Sim_inputs/households_del.csv', index = False, header=True)"
   ]
  },
  {
   "cell_type": "code",
   "execution_count": null,
   "metadata": {},
   "outputs": [],
   "source": [
    "#### End: Aggregation to Households"
   ]
  }
 ],
 "metadata": {
  "kernelspec": {
   "display_name": "Python 3 (ipykernel)",
   "language": "python",
   "name": "python3"
  },
  "language_info": {
   "codemirror_mode": {
    "name": "ipython",
    "version": 3
   },
   "file_extension": ".py",
   "mimetype": "text/x-python",
   "name": "python",
   "nbconvert_exporter": "python",
   "pygments_lexer": "ipython3",
   "version": "3.8.12"
  }
 },
 "nbformat": 4,
 "nbformat_minor": 2
}
