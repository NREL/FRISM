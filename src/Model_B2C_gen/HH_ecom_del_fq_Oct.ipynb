{
 "cells": [
  {
   "cell_type": "code",
   "execution_count": null,
   "metadata": {},
   "outputs": [],
   "source": [
    "import pandas as pd\n",
    "import numpy as np\n",
    "import datetime as dt\n",
    "import joblib"
   ]
  },
  {
   "cell_type": "code",
   "execution_count": null,
   "metadata": {},
   "outputs": [],
   "source": [
    "# library for models\n",
    "import statsmodels.api as sm\n",
    "from sklearn.linear_model import LogisticRegression\n",
    "from sklearn.model_selection import train_test_split\n",
    "from sklearn import preprocessing\n",
    "from sklearn.metrics import accuracy_score\n",
    "from sklearn.model_selection import cross_val_score\n",
    "from sklearn.metrics import confusion_matrix\n",
    "#import matplotlib as mpl\n",
    "#import matplotlib.pyplot as plt\n",
    "from sklearn.calibration import CalibratedClassifierCV\n",
    "from imblearn.over_sampling import SMOTE"
   ]
  },
  {
   "cell_type": "code",
   "execution_count": 1011,
   "metadata": {},
   "outputs": [],
   "source": [
    "import math"
   ]
  },
  {
   "cell_type": "code",
   "execution_count": null,
   "metadata": {},
   "outputs": [],
   "source": [
    "import seaborn as sns"
   ]
  },
  {
   "cell_type": "code",
   "execution_count": 890,
   "metadata": {},
   "outputs": [],
   "source": [
    "nhts_per = pd.read_csv('../Model_inputs/NHTS/perpub.csv', header=0, sep=',')"
   ]
  },
  {
   "cell_type": "code",
   "execution_count": 891,
   "metadata": {},
   "outputs": [],
   "source": [
    "nhts_per_CA= nhts_per.query('HH_CBSA ==(\"31080\",\"40140\",\"40900\",\"41740\",\"41860\",\"41940\")')"
   ]
  },
  {
   "cell_type": "code",
   "execution_count": 892,
   "metadata": {},
   "outputs": [],
   "source": [
    "nhts_per_CA= nhts_per_CA[['DELIVER',\n",
    "'EDUC',\n",
    "'HBHUR',\n",
    "'HHFAMINC',\n",
    "'HHSIZE',\n",
    "'HHVEHCNT',\n",
    "'HOUSEID',\n",
    "'HBPPOPDN',\n",
    "'R_AGE_IMP',\n",
    "'R_SEX_IMP',\n",
    "'R_HISP',\n",
    "'R_RACE',\n",
    "'SCHTYP',\n",
    "'WORKER',\n",
    "'WRKTRANS',\n",
    "'WRK_HOME',\n",
    "'HH_CBSA']]"
   ]
  },
  {
   "cell_type": "code",
   "execution_count": 893,
   "metadata": {},
   "outputs": [],
   "source": [
    "nhts_hh = pd.read_csv('../Model_inputs/NHTS/hhpub.csv', header=0, sep=',')\n",
    "nhts_hh_CA= nhts_hh.query('HH_CBSA ==(\"31080\",\"40140\",\"40900\",\"41740\",\"41860\",\"41940\")')"
   ]
  },
  {
   "cell_type": "code",
   "execution_count": 894,
   "metadata": {},
   "outputs": [],
   "source": [
    "nhts_hh_CA_right= nhts_hh_CA[['HOUSEID','WEBUSE17']]"
   ]
  },
  {
   "cell_type": "code",
   "execution_count": 895,
   "metadata": {},
   "outputs": [
    {
     "name": "stderr",
     "output_type": "stream",
     "text": [
      "/Users/kjeong/anaconda3/envs/python38/lib/python3.8/site-packages/seaborn/distributions.py:2619: FutureWarning: `distplot` is a deprecated function and will be removed in a future version. Please adapt your code to use either `displot` (a figure-level function with similar flexibility) or `histplot` (an axes-level function for histograms).\n",
      "  warnings.warn(msg, FutureWarning)\n"
     ]
    },
    {
     "data": {
      "text/plain": [
       "<AxesSubplot:xlabel='DELIVER', ylabel='Density'>"
      ]
     },
     "execution_count": 895,
     "metadata": {},
     "output_type": "execute_result"
    },
    {
     "data": {
      "image/png": "[encoded data removed]",
      "text/plain": [
       "<Figure size 432x288 with 1 Axes>"
      ]
     },
     "metadata": {
      "needs_background": "light"
     },
     "output_type": "display_data"
    }
   ],
   "source": [
    "sns.distplot(nhts_per_CA_final.DELIVER)"
   ]
  },
  {
   "cell_type": "code",
   "execution_count": 896,
   "metadata": {},
   "outputs": [],
   "source": [
    "nhts_per_CA=nhts_per_CA.merge(nhts_hh_CA_right, on='HOUSEID', how='left')"
   ]
  },
  {
   "cell_type": "code",
   "execution_count": 897,
   "metadata": {},
   "outputs": [],
   "source": [
    "nhts_per_CA=nhts_per_CA.query('DELIVER !=(-7,-8, -9, -1) \\\n",
    "                            and EDUC !=(-7,-8, -9) \\\n",
    "                            and HHFAMINC != (-7,-8, -9) \\\n",
    "                            and R_HISP != (-7,-8, -9)\\\n",
    "                            and R_RACE != (-7,-8, -9)\\\n",
    "                            and SCHTYP != (-7,-8, -9)\\\n",
    "                            and WORKER != (-7,-8, -9)\\\n",
    "                            and WRKTRANS != (-7,-8, -9)\\\n",
    "                            and WRK_HOME != (-7,-8, -9)\\\n",
    "                            and WEBUSE17 !=(-7,-8, -9)')"
   ]
  },
  {
   "cell_type": "code",
   "execution_count": 898,
   "metadata": {},
   "outputs": [],
   "source": [
    "nhts_per_CA=nhts_per_CA.query('R_AGE_IMP >= 16')"
   ]
  },
  {
   "cell_type": "code",
   "execution_count": 899,
   "metadata": {},
   "outputs": [],
   "source": [
    "#nhts_per_CA=nhts_per_CA.query('DELIVER >0')"
   ]
  },
  {
   "cell_type": "code",
   "execution_count": 900,
   "metadata": {},
   "outputs": [
    {
     "data": {
      "text/plain": [
       "array([ 6,  1,  0,  3,  4,  2, 15,  5,  8, 10, 12, 20,  7, 13, 28, 17, 25,\n",
       "       30,  9, 11, 16, 14, 18, 24, 99, 22, 88, 40, 36, 21, 19, 60, 85, 23,\n",
       "       50, 45, 75, 29, 27, 80, 26, 32, 35])"
      ]
     },
     "execution_count": 900,
     "metadata": {},
     "output_type": "execute_result"
    }
   ],
   "source": [
    "nhts_per_CA['DELIVER'].unique()"
   ]
  },
  {
   "cell_type": "code",
   "execution_count": 901,
   "metadata": {},
   "outputs": [],
   "source": [
    "def income_est(HHFAMINC):\n",
    "    if HHFAMINC == 1:\n",
    "        return np.random.randint(0,10000)\n",
    "    elif HHFAMINC == 2:\n",
    "        return np.random.randint(10000,14999)\n",
    "    elif HHFAMINC == 3:\n",
    "        return np.random.randint(15000,24999)\n",
    "    elif HHFAMINC == 4:\n",
    "        return np.random.randint(25000,34999)\n",
    "    elif HHFAMINC == 5:\n",
    "        return np.random.randint(35000,49999)\n",
    "    elif HHFAMINC == 6:\n",
    "        return np.random.randint(50000,74999)\n",
    "    elif HHFAMINC == 7:\n",
    "        return np.random.randint(75000,99999)\n",
    "    elif HHFAMINC == 8:\n",
    "        return np.random.randint(100000,124999)\n",
    "    elif HHFAMINC == 9:\n",
    "        return np.random.randint(125000,149999)\n",
    "    elif HHFAMINC == 10:\n",
    "        return np.random.randint(150000,199999)\n",
    "    elif HHFAMINC == 11:\n",
    "        return np.random.randint(200000,1000000)\n",
    "\n",
    "nhts_per_CA['income_est']=nhts_per_CA['HHFAMINC'].apply(income_est)    "
   ]
  },
  {
   "cell_type": "code",
   "execution_count": 902,
   "metadata": {},
   "outputs": [],
   "source": [
    "def web_class(WEBUSE17):\n",
    "    if WEBUSE17 in [1]: \n",
    "        return 1\n",
    "    elif WEBUSE17 in [2,3,4]:\n",
    "        return 2\n",
    "    else:\n",
    "        return 0 \n",
    "nhts_per_CA['WEBUSE17']=nhts_per_CA['WEBUSE17'].apply(web_class)  "
   ]
  },
  {
   "cell_type": "code",
   "execution_count": 903,
   "metadata": {},
   "outputs": [],
   "source": [
    "def edu_class(EDUC):\n",
    "    if EDUC in [-1,1]: \n",
    "        return 0\n",
    "    elif EDUC in [2,3]:\n",
    "        return 1\n",
    "    elif EDUC in [4]:\n",
    "        return 2\n",
    "    elif EDUC in [5]:\n",
    "        return 3   \n",
    "nhts_per_CA['EDUC']=nhts_per_CA['EDUC'].apply(edu_class)  "
   ]
  },
  {
   "cell_type": "code",
   "execution_count": 904,
   "metadata": {},
   "outputs": [],
   "source": [
    "def student_class(SCHTYP):\n",
    "    if SCHTYP in [-1]: \n",
    "        return 0\n",
    "    else:\n",
    "        return 1   \n",
    "nhts_per_CA['SCHTYP']=nhts_per_CA['SCHTYP'].apply(student_class)  "
   ]
  },
  {
   "cell_type": "code",
   "execution_count": 905,
   "metadata": {},
   "outputs": [],
   "source": [
    "def wfh_class(WRK_HOME):\n",
    "    if WRK_HOME in [-1,2]: \n",
    "        return 0\n",
    "    else:\n",
    "        return 1   \n",
    "nhts_per_CA['WRK_HOME']=nhts_per_CA['WRK_HOME'].apply(wfh_class)  "
   ]
  },
  {
   "cell_type": "code",
   "execution_count": 906,
   "metadata": {},
   "outputs": [],
   "source": [
    "def work_class(WORKER):\n",
    "    if WORKER in [-1,2]: \n",
    "        return 0\n",
    "    else:\n",
    "        return 1   \n",
    "nhts_per_CA['WORKER']=nhts_per_CA['WORKER'].apply(work_class)  "
   ]
  },
  {
   "cell_type": "code",
   "execution_count": 907,
   "metadata": {},
   "outputs": [],
   "source": [
    "def age_est(R_AGE_IMP):\n",
    "    if R_AGE_IMP  >=16 and R_AGE_IMP  <25 :\n",
    "        return 0\n",
    "    elif R_AGE_IMP  >=25 and R_AGE_IMP  <45:\n",
    "        return 1\n",
    "    elif R_AGE_IMP  >=45 and R_AGE_IMP  <65:\n",
    "        return 2\n",
    "    elif R_AGE_IMP  >=65:\n",
    "        return 3\n",
    "\n",
    "nhts_per_CA['age_group']=nhts_per_CA['R_AGE_IMP'].apply(age_est)   "
   ]
  },
  {
   "cell_type": "code",
   "execution_count": 908,
   "metadata": {},
   "outputs": [],
   "source": [
    "def mode_est(WRKTRANS):\n",
    "    if WRKTRANS  == -1 :\n",
    "        return 0\n",
    "    elif WRKTRANS  in [3,4,5,6,18]:\n",
    "        return 1\n",
    "    elif WRKTRANS  in [10,11,12,13,14,15,16,17]:\n",
    "        return 2\n",
    "    elif  WRKTRANS  in [1,2]:\n",
    "        return 3\n",
    "    else :\n",
    "        return 4\n",
    "nhts_per_CA['mode_group']=nhts_per_CA['WRKTRANS'].apply(mode_est)   "
   ]
  },
  {
   "cell_type": "code",
   "execution_count": 909,
   "metadata": {},
   "outputs": [],
   "source": [
    "def urban_class(HBHUR):\n",
    "    if HBHUR == \"R\": \n",
    "        return 1\n",
    "    else:\n",
    "        return 0\n",
    "nhts_per_CA['HBHUR']=nhts_per_CA['HBHUR'].apply(urban_class)   "
   ]
  },
  {
   "cell_type": "markdown",
   "metadata": {},
   "source": [
    "def del_fq_class(DELIVER):\n",
    "    if DELIVER  >= 1 and DELIVER  <= 4 : \n",
    "        return 0\n",
    "    elif DELIVER  >= 5 and DELIVER  <= 10 :     \n",
    "        return 1\n",
    "    elif DELIVER  >= 11 :     \n",
    "        return 2\n",
    "    \n",
    "nhts_per_CA['del_group']=nhts_per_CA['DELIVER'].apply(del_fq_class) "
   ]
  },
  {
   "cell_type": "code",
   "execution_count": 910,
   "metadata": {},
   "outputs": [],
   "source": [
    "def del_fq_class(DELIVER):\n",
    "    if DELIVER  ==0 : \n",
    "        return 0\n",
    "    elif DELIVER  >= 1 and DELIVER  <= 2 :     \n",
    "        return 1\n",
    "    elif DELIVER  >= 3:     \n",
    "        return 2\n",
    "    \n",
    "nhts_per_CA['del_group']=nhts_per_CA['DELIVER'].apply(del_fq_class) "
   ]
  },
  {
   "cell_type": "code",
   "execution_count": 911,
   "metadata": {},
   "outputs": [],
   "source": [
    "def race_class(R_RACE):\n",
    "    if R_RACE == 1: \n",
    "        return 0\n",
    "    elif R_RACE == 2:\n",
    "        return 1\n",
    "    elif R_RACE == 3:\n",
    "        return 2\n",
    "    else:\n",
    "        return 3\n",
    "nhts_per_CA['R_RACE']=nhts_per_CA['R_RACE'].apply(race_class)  "
   ]
  },
  {
   "cell_type": "code",
   "execution_count": 912,
   "metadata": {},
   "outputs": [],
   "source": [
    "def sex_class(R_SEX_IMP):\n",
    "    if R_SEX_IMP == 1: #male\n",
    "        return 0\n",
    "    else:\n",
    "        return 1 #female\n",
    "nhts_per_CA['R_SEX_IMP']=nhts_per_CA['R_SEX_IMP'].apply(sex_class)  "
   ]
  },
  {
   "cell_type": "code",
   "execution_count": 913,
   "metadata": {},
   "outputs": [
    {
     "data": {
      "text/plain": [
       "array(['DELIVER', 'HBHUR', 'HHFAMINC', 'HHSIZE', 'HHVEHCNT', 'HOUSEID',\n",
       "       'HBPPOPDN', 'R_AGE_IMP', 'R_SEX_IMP', 'R_HISP', 'SCHTYP', 'WORKER',\n",
       "       'WRKTRANS', 'WRK_HOME', 'HH_CBSA', 'income_est', 'del_group',\n",
       "       'EDUC_0', 'EDUC_1', 'EDUC_2', 'EDUC_3', 'age_group_0',\n",
       "       'age_group_1', 'age_group_2', 'age_group_3', 'mode_group_0',\n",
       "       'mode_group_1', 'mode_group_2', 'mode_group_3', 'mode_group_4',\n",
       "       'R_RACE_0', 'R_RACE_1', 'R_RACE_2', 'R_RACE_3', 'WEBUSE17_0',\n",
       "       'WEBUSE17_1', 'WEBUSE17_2'], dtype=object)"
      ]
     },
     "execution_count": 913,
     "metadata": {},
     "output_type": "execute_result"
    }
   ],
   "source": [
    "cat_vars=['EDUC','age_group','mode_group','R_RACE','WEBUSE17']\n",
    "for var in cat_vars:\n",
    "    cat_list='var'+'_'+var\n",
    "    cat_list = pd.get_dummies(nhts_per_CA[var], prefix=var)\n",
    "    nhts_per_CA_temp=nhts_per_CA.join(cat_list)\n",
    "    nhts_per_CA=nhts_per_CA_temp\n",
    "cat_vars=['EDUC','age_group','mode_group','R_RACE','WEBUSE17']\n",
    "data_vars=nhts_per_CA.columns.values.tolist()\n",
    "to_keep=[i for i in data_vars if i not in cat_vars]\n",
    "nhts_per_CA_final=nhts_per_CA[to_keep]\n",
    "nhts_per_CA_final.columns.values"
   ]
  },
  {
   "cell_type": "code",
   "execution_count": 914,
   "metadata": {},
   "outputs": [
    {
     "name": "stderr",
     "output_type": "stream",
     "text": [
      "/var/folders/kr/2j58542j2_7chf9_h8bmr30mb0_4n0/T/ipykernel_56390/670528153.py:2: SettingWithCopyWarning: \n",
      "A value is trying to be set on a copy of a slice from a DataFrame.\n",
      "Try using .loc[row_indexer,col_indexer] = value instead\n",
      "\n",
      "See the caveats in the documentation: https://pandas.pydata.org/pandas-docs/stable/user_guide/indexing.html#returning-a-view-versus-a-copy\n",
      "  nhts_per_CA_final['income_est']=nhts_per_CA_final['income_est']/1000000\n"
     ]
    }
   ],
   "source": [
    "# income scale \n",
    "nhts_per_CA_final['income_est']=nhts_per_CA_final['income_est']/1000000"
   ]
  },
  {
   "cell_type": "code",
   "execution_count": 727,
   "metadata": {},
   "outputs": [],
   "source": [
    "# ['DELIVER', 'HBHUR', 'HHFAMINC', 'HHSIZE', 'HHVEHCNT', 'HOUSEID',\n",
    "#        'HBPPOPDN', 'R_AGE_IMP', 'R_SEX_IMP', 'R_HISP', 'SCHTYP', 'WORKER',\n",
    "#        'WRKTRANS', 'WRK_HOME', 'income_est', 'onlineshop', 'EDUC_0',\n",
    "#        'EDUC_1', 'EDUC_2', 'EDUC_3', 'age_group_0', 'age_group_1',\n",
    "#        'age_group_2', 'age_group_3', 'mode_group_0', 'mode_group_1',\n",
    "#        'mode_group_2', 'mode_group_3', 'mode_group_4', 'R_RACE_0',\n",
    "#        'R_RACE_1', 'R_RACE_2', 'R_RACE_3', 'WEBUSE17_0', 'WEBUSE17_1',\n",
    "#        'WEBUSE17_2']"
   ]
  },
  {
   "cell_type": "code",
   "execution_count": null,
   "metadata": {},
   "outputs": [],
   "source": [
    "# Frequency"
   ]
  },
  {
   "cell_type": "code",
   "execution_count": 915,
   "metadata": {},
   "outputs": [],
   "source": [
    "nhts_per_CA_final=nhts_per_CA_final.query('DELIVER >0')"
   ]
  },
  {
   "cell_type": "code",
   "execution_count": 916,
   "metadata": {},
   "outputs": [
    {
     "name": "stderr",
     "output_type": "stream",
     "text": [
      "/Users/kjeong/anaconda3/envs/python38/lib/python3.8/site-packages/seaborn/distributions.py:2619: FutureWarning: `distplot` is a deprecated function and will be removed in a future version. Please adapt your code to use either `displot` (a figure-level function with similar flexibility) or `histplot` (an axes-level function for histograms).\n",
      "  warnings.warn(msg, FutureWarning)\n"
     ]
    },
    {
     "data": {
      "text/plain": [
       "<AxesSubplot:xlabel='DELIVER', ylabel='Density'>"
      ]
     },
     "execution_count": 916,
     "metadata": {},
     "output_type": "execute_result"
    },
    {
     "data": {
      "image/png": "[encoded data removed]",
      "text/plain": [
       "<Figure size 432x288 with 1 Axes>"
      ]
     },
     "metadata": {
      "needs_background": "light"
     },
     "output_type": "display_data"
    }
   ],
   "source": [
    "sns.distplot(nhts_per_CA_final.DELIVER)"
   ]
  },
  {
   "cell_type": "code",
   "execution_count": 997,
   "metadata": {},
   "outputs": [],
   "source": [
    "x_var=['income_est',\n",
    "         #'HHFAMINC',\n",
    "         #'HHVEHCNT',\n",
    "         'HHSIZE',\n",
    "         'R_SEX_IMP',\n",
    "         'EDUC_3',#'EDUC_1', 'EDUC_2',\n",
    "         'age_group_3']#'age_group_0', 'age_group_1', 'age_group_2']\n",
    "         #'WRK_HOME',\n",
    "         #'R_HISP',\n",
    "         #'R_RACE_0','R_RACE_2']\n",
    "         #'WEBUSE17_0', 'WEBUSE17_1']"
   ]
  },
  {
   "cell_type": "code",
   "execution_count": 998,
   "metadata": {},
   "outputs": [],
   "source": [
    "nhts_per_nonSF=nhts_per_CA_final.query('HH_CBSA ==(\"31080\",\"40140\",\"40900\",\"41740\")')\n",
    "nhts_per_SF=nhts_per_CA_final.query('HH_CBSA ==(\"41860\",\"41940\")')\n",
    "X_nonsf=nhts_per_nonSF[x_var]\n",
    "Y_nonsf=nhts_per_nonSF['DELIVER']\n",
    "X_sf=nhts_per_SF[x_var]\n",
    "Y_sf=nhts_per_SF['DELIVER']\n",
    "trainX, testX, trainY, testY = train_test_split(X_sf, Y_sf, test_size = 0.7)\n",
    "trainX=pd.concat([trainX,X_nonsf])\n",
    "trainY=pd.concat([trainY,Y_nonsf])"
   ]
  },
  {
   "cell_type": "code",
   "execution_count": 999,
   "metadata": {},
   "outputs": [
    {
     "name": "stdout",
     "output_type": "stream",
     "text": [
      "Optimization terminated successfully.\n",
      "         Current function value: 2.739855\n",
      "         Iterations: 20\n",
      "         Function evaluations: 23\n",
      "         Gradient evaluations: 23\n"
     ]
    },
    {
     "data": {
      "text/plain": [
       "['delivery_freq_model.sav']"
      ]
     },
     "execution_count": 999,
     "metadata": {},
     "output_type": "execute_result"
    }
   ],
   "source": [
    "result =sm.NegativeBinomial(trainY, trainX).fit()\n",
    "filename = '../Simulation/delivery_freq_model.sav'\n",
    "joblib.dump(result, filename)"
   ]
  },
  {
   "cell_type": "code",
   "execution_count": 1000,
   "metadata": {},
   "outputs": [
    {
     "name": "stdout",
     "output_type": "stream",
     "text": [
      "                     NegativeBinomial Regression Results                      \n",
      "==============================================================================\n",
      "Dep. Variable:                DELIVER   No. Observations:                11483\n",
      "Model:               NegativeBinomial   Df Residuals:                    11478\n",
      "Method:                           MLE   Df Model:                            4\n",
      "Date:                Wed, 08 Dec 2021   Pseudo R-squ.:                -0.04988\n",
      "Time:                        20:02:09   Log-Likelihood:                -31462.\n",
      "converged:                       True   LL-Null:                       -29967.\n",
      "Covariance Type:            nonrobust   LLR p-value:                     1.000\n",
      "===============================================================================\n",
      "                  coef    std err          z      P>|z|      [0.025      0.975]\n",
      "-------------------------------------------------------------------------------\n",
      "income_est      0.9714      0.048     20.261      0.000       0.877       1.065\n",
      "HHSIZE          0.3465      0.005     68.592      0.000       0.337       0.356\n",
      "R_SEX_IMP       0.4403      0.016     27.391      0.000       0.409       0.472\n",
      "EDUC_3          0.3482      0.019     17.899      0.000       0.310       0.386\n",
      "age_group_3     0.2612      0.021     12.667      0.000       0.221       0.302\n",
      "alpha           0.7022      0.011     62.838      0.000       0.680       0.724\n",
      "===============================================================================\n"
     ]
    }
   ],
   "source": [
    "stats1=result.summary()\n",
    "print(stats1)"
   ]
  },
  {
   "cell_type": "code",
   "execution_count": 1033,
   "metadata": {},
   "outputs": [],
   "source": [
    "filename= 'delivery_freq_model.sav'\n",
    "loaded_model = joblib.load(filename)\n",
    "pop_predict=loaded_model.predict(testX)"
   ]
  },
  {
   "cell_type": "code",
   "execution_count": 1035,
   "metadata": {},
   "outputs": [
    {
     "data": {
      "text/plain": [
       "5170     6.911016\n",
       "2996     3.163200\n",
       "1143     4.939250\n",
       "3024     4.781236\n",
       "9562     3.014837\n",
       "           ...   \n",
       "1491     6.339155\n",
       "15573    3.418216\n",
       "29265    4.895288\n",
       "19536    4.369500\n",
       "26284    2.304480\n",
       "Length: 2397, dtype: float64"
      ]
     },
     "execution_count": 1035,
     "metadata": {},
     "output_type": "execute_result"
    }
   ],
   "source": [
    "pop_predict"
   ]
  },
  {
   "cell_type": "code",
   "execution_count": 1034,
   "metadata": {},
   "outputs": [
    {
     "data": {
      "text/plain": [
       "6.911016     1\n",
       "3.360076     1\n",
       "11.490128    1\n",
       "4.204142     1\n",
       "2.298838     1\n",
       "            ..\n",
       "3.624482     1\n",
       "5.236853     1\n",
       "4.266072     1\n",
       "4.264559     1\n",
       "2.304480     1\n",
       "Length: 2397, dtype: int64"
      ]
     },
     "execution_count": 1034,
     "metadata": {},
     "output_type": "execute_result"
    }
   ],
   "source": [
    "pop_predict.value_counts()"
   ]
  },
  {
   "cell_type": "code",
   "execution_count": null,
   "metadata": {},
   "outputs": [],
   "source": []
  },
  {
   "cell_type": "code",
   "execution_count": null,
   "metadata": {},
   "outputs": [],
   "source": []
  },
  {
   "cell_type": "code",
   "execution_count": null,
   "metadata": {},
   "outputs": [],
   "source": []
  },
  {
   "cell_type": "code",
   "execution_count": null,
   "metadata": {},
   "outputs": [],
   "source": []
  },
  {
   "cell_type": "code",
   "execution_count": null,
   "metadata": {},
   "outputs": [],
   "source": []
  },
  {
   "cell_type": "code",
   "execution_count": null,
   "metadata": {},
   "outputs": [],
   "source": []
  },
  {
   "cell_type": "code",
   "execution_count": null,
   "metadata": {},
   "outputs": [],
   "source": []
  },
  {
   "cell_type": "code",
   "execution_count": 1004,
   "metadata": {},
   "outputs": [
    {
     "name": "stderr",
     "output_type": "stream",
     "text": [
      "/Users/kjeong/anaconda3/envs/python38/lib/python3.8/site-packages/seaborn/distributions.py:2619: FutureWarning: `distplot` is a deprecated function and will be removed in a future version. Please adapt your code to use either `displot` (a figure-level function with similar flexibility) or `histplot` (an axes-level function for histograms).\n",
      "  warnings.warn(msg, FutureWarning)\n"
     ]
    },
    {
     "data": {
      "text/plain": [
       "<AxesSubplot:xlabel='DELIVER', ylabel='Density'>"
      ]
     },
     "execution_count": 1004,
     "metadata": {},
     "output_type": "execute_result"
    },
    {
     "data": {
      "image/png": "[encoded data removed]",
      "text/plain": [
       "<Figure size 432x288 with 1 Axes>"
      ]
     },
     "metadata": {
      "needs_background": "light"
     },
     "output_type": "display_data"
    }
   ],
   "source": [
    "sns.distplot(trainY)"
   ]
  },
  {
   "cell_type": "code",
   "execution_count": 1005,
   "metadata": {},
   "outputs": [
    {
     "name": "stderr",
     "output_type": "stream",
     "text": [
      "/Users/kjeong/anaconda3/envs/python38/lib/python3.8/site-packages/seaborn/distributions.py:2619: FutureWarning: `distplot` is a deprecated function and will be removed in a future version. Please adapt your code to use either `displot` (a figure-level function with similar flexibility) or `histplot` (an axes-level function for histograms).\n",
      "  warnings.warn(msg, FutureWarning)\n"
     ]
    },
    {
     "data": {
      "text/plain": [
       "<AxesSubplot:ylabel='Density'>"
      ]
     },
     "execution_count": 1005,
     "metadata": {},
     "output_type": "execute_result"
    },
    {
     "data": {
      "image/png": "[encoded data removed]",
      "text/plain": [
       "<Figure size 432x288 with 1 Axes>"
      ]
     },
     "metadata": {
      "needs_background": "light"
     },
     "output_type": "display_data"
    }
   ],
   "source": [
    "sns.distplot(pop_predict)"
   ]
  },
  {
   "cell_type": "code",
   "execution_count": 1006,
   "metadata": {},
   "outputs": [],
   "source": [
    "trainY=np.log(trainY)"
   ]
  },
  {
   "cell_type": "code",
   "execution_count": 570,
   "metadata": {},
   "outputs": [
    {
     "name": "stderr",
     "output_type": "stream",
     "text": [
      "/Users/kjeong/anaconda3/envs/python38/lib/python3.8/site-packages/statsmodels/tsa/tsatools.py:142: FutureWarning: In a future version of pandas all arguments of concat except for the argument 'objs' will be keyword-only\n",
      "  x = pd.concat(x[::order], 1)\n"
     ]
    }
   ],
   "source": [
    "result =sm.OLS(trainY,sm.add_constant(trainX)).fit()"
   ]
  },
  {
   "cell_type": "code",
   "execution_count": 571,
   "metadata": {},
   "outputs": [
    {
     "name": "stdout",
     "output_type": "stream",
     "text": [
      "                            OLS Regression Results                            \n",
      "==============================================================================\n",
      "Dep. Variable:                DELIVER   R-squared:                       0.044\n",
      "Model:                            OLS   Adj. R-squared:                  0.043\n",
      "Method:                 Least Squares   F-statistic:                     52.56\n",
      "Date:                Wed, 08 Dec 2021   Prob (F-statistic):          4.28e-104\n",
      "Time:                        15:08:15   Log-Likelihood:                -32744.\n",
      "No. Observations:               11483   AIC:                         6.551e+04\n",
      "Df Residuals:                   11472   BIC:                         6.559e+04\n",
      "Df Model:                          10                                         \n",
      "Covariance Type:            nonrobust                                         \n",
      "================================================================================\n",
      "                   coef    std err          t      P>|t|      [0.025      0.975]\n",
      "--------------------------------------------------------------------------------\n",
      "const            1.9823      0.333      5.956      0.000       1.330       2.635\n",
      "income_est    2.342e+06   2.04e+05     11.496      0.000    1.94e+06    2.74e+06\n",
      "HHSIZE           0.0428      0.032      1.318      0.187      -0.021       0.106\n",
      "R_SEX_IMP        0.3342      0.079      4.208      0.000       0.179       0.490\n",
      "EDUC_0          -1.6207      0.281     -5.760      0.000      -2.172      -1.069\n",
      "age_group_1      1.4362      0.114     12.560      0.000       1.212       1.660\n",
      "age_group_2      0.5033      0.104      4.826      0.000       0.299       0.708\n",
      "R_RACE_0         0.5414      0.093      5.823      0.000       0.359       0.724\n",
      "mode_group_0    -0.3380      0.177     -1.908      0.056      -0.685       0.009\n",
      "mode_group_1    -0.3046      0.168     -1.813      0.070      -0.634       0.025\n",
      "WEBUSE17_1       1.3042      0.270      4.835      0.000       0.776       1.833\n",
      "==============================================================================\n",
      "Omnibus:                     3963.345   Durbin-Watson:                   1.743\n",
      "Prob(Omnibus):                  0.000   Jarque-Bera (JB):            11954.323\n",
      "Skew:                           1.823   Prob(JB):                         0.00\n",
      "Kurtosis:                       6.420   Cond. No.                     1.74e+07\n",
      "==============================================================================\n",
      "\n",
      "Notes:\n",
      "[1] Standard Errors assume that the covariance matrix of the errors is correctly specified.\n",
      "[2] The condition number is large, 1.74e+07. This might indicate that there are\n",
      "strong multicollinearity or other numerical problems.\n"
     ]
    }
   ],
   "source": [
    "stats1=result.summary()\n",
    "print(stats1)"
   ]
  },
  {
   "cell_type": "code",
   "execution_count": 581,
   "metadata": {},
   "outputs": [],
   "source": [
    "result =sm.GLM(trainY,sm.add_constant(trainX),family=sm.families.Poisson()).fit()\n",
    "\n",
    "#filename = 'delivery_freq_model.sav'\n",
    "# joblib.dump(result, filename)"
   ]
  },
  {
   "cell_type": "code",
   "execution_count": 582,
   "metadata": {},
   "outputs": [],
   "source": [
    "pop_predict=result.predict(sm.add_constant(testX))"
   ]
  },
  {
   "cell_type": "code",
   "execution_count": 584,
   "metadata": {},
   "outputs": [],
   "source": [
    "pop_predict = round(pop_predict,0)"
   ]
  },
  {
   "cell_type": "code",
   "execution_count": 585,
   "metadata": {},
   "outputs": [
    {
     "data": {
      "text/plain": [
       "5.0    848\n",
       "4.0    782\n",
       "6.0    458\n",
       "7.0    121\n",
       "3.0    112\n",
       "8.0     49\n",
       "2.0     26\n",
       "9.0      1\n",
       "dtype: int64"
      ]
     },
     "execution_count": 585,
     "metadata": {},
     "output_type": "execute_result"
    }
   ],
   "source": [
    "pop_predict.value_counts()"
   ]
  },
  {
   "cell_type": "code",
   "execution_count": 569,
   "metadata": {},
   "outputs": [
    {
     "name": "stderr",
     "output_type": "stream",
     "text": [
      "/Users/kjeong/anaconda3/envs/python38/lib/python3.8/site-packages/seaborn/distributions.py:2619: FutureWarning: `distplot` is a deprecated function and will be removed in a future version. Please adapt your code to use either `displot` (a figure-level function with similar flexibility) or `histplot` (an axes-level function for histograms).\n",
      "  warnings.warn(msg, FutureWarning)\n"
     ]
    },
    {
     "data": {
      "text/plain": [
       "<AxesSubplot:xlabel='DELIVER', ylabel='Density'>"
      ]
     },
     "execution_count": 569,
     "metadata": {},
     "output_type": "execute_result"
    },
    {
     "data": {
      "image/png": "[encoded data removed]",
      "text/plain": [
       "<Figure size 432x288 with 1 Axes>"
      ]
     },
     "metadata": {
      "needs_background": "light"
     },
     "output_type": "display_data"
    }
   ],
   "source": [
    "sns.distplot(trainY)"
   ]
  },
  {
   "cell_type": "code",
   "execution_count": 670,
   "metadata": {},
   "outputs": [],
   "source": [
    "from sklearn.metrics import mean_squared_error"
   ]
  },
  {
   "cell_type": "code",
   "execution_count": 699,
   "metadata": {},
   "outputs": [
    {
     "data": {
      "text/plain": [
       "15.83495145631068"
      ]
     },
     "execution_count": 699,
     "metadata": {},
     "output_type": "execute_result"
    }
   ],
   "source": [
    "mean_squared_error(testY, pop_predict)"
   ]
  },
  {
   "cell_type": "code",
   "execution_count": 700,
   "metadata": {},
   "outputs": [
    {
     "data": {
      "text/plain": [
       "<AxesSubplot:xlabel='DELIVER'>"
      ]
     },
     "execution_count": 700,
     "metadata": {},
     "output_type": "execute_result"
    },
    {
     "data": {
      "image/png": "[encoded data removed]",
      "text/plain": [
       "<Figure size 432x288 with 1 Axes>"
      ]
     },
     "metadata": {
      "needs_background": "light"
     },
     "output_type": "display_data"
    }
   ],
   "source": [
    "sns.distplot(testY)"
   ]
  },
  {
   "cell_type": "code",
   "execution_count": 701,
   "metadata": {},
   "outputs": [
    {
     "data": {
      "text/plain": [
       "<AxesSubplot:>"
      ]
     },
     "execution_count": 701,
     "metadata": {},
     "output_type": "execute_result"
    },
    {
     "data": {
      "image/png": "[encoded data removed]",
      "text/plain": [
       "<Figure size 432x288 with 1 Axes>"
      ]
     },
     "metadata": {
      "needs_background": "light"
     },
     "output_type": "display_data"
    }
   ],
   "source": [
    "sns.distplot(pop_predict)"
   ]
  },
  {
   "cell_type": "code",
   "execution_count": 631,
   "metadata": {},
   "outputs": [],
   "source": [
    "pop_predict=np.exp(pop_predict)"
   ]
  },
  {
   "cell_type": "code",
   "execution_count": null,
   "metadata": {},
   "outputs": [],
   "source": []
  }
 ],
 "metadata": {
  "kernelspec": {
   "display_name": "Python 3 (ipykernel)",
   "language": "python",
   "name": "python3"
  },
  "language_info": {
   "codemirror_mode": {
    "name": "ipython",
    "version": 3
   },
   "file_extension": ".py",
   "mimetype": "text/x-python",
   "name": "python",
   "nbconvert_exporter": "python",
   "pygments_lexer": "ipython3",
   "version": "3.8.12"
  }
 },
 "nbformat": 4,
 "nbformat_minor": 2
}
