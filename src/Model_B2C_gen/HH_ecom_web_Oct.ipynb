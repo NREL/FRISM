{
 "cells": [
  {
   "cell_type": "code",
   "execution_count": 75,
   "metadata": {},
   "outputs": [],
   "source": [
    "import pandas as pd\n",
    "import numpy as np\n",
    "import datetime as dt\n",
    "import joblib"
   ]
  },
  {
   "cell_type": "code",
   "execution_count": 76,
   "metadata": {},
   "outputs": [],
   "source": [
    "# library for models\n",
    "import statsmodels.api as sm\n",
    "from sklearn.linear_model import LogisticRegression\n",
    "from sklearn.model_selection import train_test_split\n",
    "from sklearn import preprocessing\n",
    "from sklearn.metrics import accuracy_score\n",
    "from sklearn.model_selection import cross_val_score\n",
    "from sklearn.metrics import confusion_matrix\n",
    "#import matplotlib as mpl\n",
    "#import matplotlib.pyplot as plt\n",
    "from sklearn.calibration import CalibratedClassifierCV\n",
    "from imblearn.over_sampling import SMOTE"
   ]
  },
  {
   "cell_type": "code",
   "execution_count": 77,
   "metadata": {},
   "outputs": [],
   "source": [
    "nhts_hh = pd.read_csv('../Model_inputs/NHTS/hhpub.csv', header=0, sep=',')"
   ]
  },
  {
   "cell_type": "code",
   "execution_count": 78,
   "metadata": {},
   "outputs": [],
   "source": [
    "nhts_hh_CA= nhts_hh.query('HH_CBSA ==(\"31080\",\"40140\",\"40900\",\"41740\",\"41860\",\"41940\")')"
   ]
  },
  {
   "cell_type": "code",
   "execution_count": 79,
   "metadata": {},
   "outputs": [],
   "source": [
    "#nhts_hh_sf= nhts_hh.query('HH_CBSA ==(\"41860\",\"41940\")')"
   ]
  },
  {
   "cell_type": "code",
   "execution_count": 80,
   "metadata": {},
   "outputs": [],
   "source": [
    "nhts_hh_CA= nhts_hh_CA[['HBHUR','HH_HISP', 'HOMEOWN',\n",
    "'HBPPOPDN',\n",
    "'HHFAMINC',\n",
    "'HHSIZE',\n",
    "'HHVEHCNT',\n",
    "'HH_RACE',\n",
    "'WEBUSE17',\n",
    "'LIF_CYC',\n",
    "'WRKCOUNT',\n",
    "'HH_CBSA']]"
   ]
  },
  {
   "cell_type": "code",
   "execution_count": 81,
   "metadata": {},
   "outputs": [],
   "source": [
    "nhts_hh_CA=nhts_hh_CA.query('HBHUR !=\"-9\" \\\n",
    "                            and HBPPOPDN !=\"-9\" \\\n",
    "                            and HHFAMINC != (-7,-8, -9) \\\n",
    "                            and HH_RACE != (-7,-8)\\\n",
    "                            and WEBUSE17 != (-7,-9)\\\n",
    "                            and HH_HISP != (-7,-8)\\\n",
    "                            and HOMEOWN != (-7,-8)\\\n",
    "                            and LIF_CYC != (-9)')"
   ]
  },
  {
   "cell_type": "code",
   "execution_count": 82,
   "metadata": {},
   "outputs": [],
   "source": [
    "def income_est(HHFAMINC):\n",
    "    if HHFAMINC == 1:\n",
    "        return np.random.randint(0,10000)\n",
    "    elif HHFAMINC == 2:\n",
    "        return np.random.randint(10000,14999)\n",
    "    elif HHFAMINC == 3:\n",
    "        return np.random.randint(15000,24999)\n",
    "    elif HHFAMINC == 4:\n",
    "        return np.random.randint(25000,34999)\n",
    "    elif HHFAMINC == 5:\n",
    "        return np.random.randint(35000,49999)\n",
    "    elif HHFAMINC == 6:\n",
    "        return np.random.randint(50000,74999)\n",
    "    elif HHFAMINC == 7:\n",
    "        return np.random.randint(75000,99999)\n",
    "    elif HHFAMINC == 8:\n",
    "        return np.random.randint(100000,124999)\n",
    "    elif HHFAMINC == 9:\n",
    "        return np.random.randint(125000,149999)\n",
    "    elif HHFAMINC == 10:\n",
    "        return np.random.randint(150000,199999)\n",
    "    elif HHFAMINC == 11:\n",
    "        return np.random.randint(200000,1000000)\n",
    "nhts_hh_CA['income_est']=nhts_hh_CA['HHFAMINC'].apply(income_est)    "
   ]
  },
  {
   "cell_type": "code",
   "execution_count": 83,
   "metadata": {},
   "outputs": [],
   "source": [
    "def web_class(WEBUSE17):\n",
    "    if WEBUSE17 in [1]: \n",
    "        return 1 # frequenct use (more than a few time a week)\n",
    "    elif WEBUSE17 in [2,3,4]:\n",
    "        return 2 # often use (more than a few times a year)\n",
    "    else:\n",
    "        return 0 # (never)\n",
    "nhts_hh_CA['WEBUSE17']=nhts_hh_CA['WEBUSE17'].apply(web_class)    "
   ]
  },
  {
   "cell_type": "code",
   "execution_count": 84,
   "metadata": {},
   "outputs": [],
   "source": [
    "def race_class(HH_RACE):\n",
    "    if HH_RACE == 1: \n",
    "        return 1 # white\n",
    "    elif HH_RACE == 2:\n",
    "        return 2 # black\n",
    "    elif HH_RACE == 3:\n",
    "        return 3 # Asian\n",
    "    else:\n",
    "        return 4 # others\n",
    "nhts_hh_CA['HH_RACE']=nhts_hh_CA['HH_RACE'].apply(race_class)    "
   ]
  },
  {
   "cell_type": "code",
   "execution_count": 85,
   "metadata": {},
   "outputs": [],
   "source": [
    "def urban_class(HBHUR):\n",
    "    if HBHUR == \"R\": \n",
    "        return 1 # rural \n",
    "    else:\n",
    "        return 0 # others\n",
    "nhts_hh_CA['HBHUR']=nhts_hh_CA['HBHUR'].apply(urban_class)   "
   ]
  },
  {
   "cell_type": "code",
   "execution_count": 86,
   "metadata": {},
   "outputs": [],
   "source": [
    "def home_class(HOMEOWN):\n",
    "    if HOMEOWN == 1: \n",
    "        return 1\n",
    "    else:\n",
    "        return 0\n",
    "nhts_hh_CA['HOMEOWN']=nhts_hh_CA['HOMEOWN'].apply(home_class)   "
   ]
  },
  {
   "cell_type": "code",
   "execution_count": 87,
   "metadata": {},
   "outputs": [],
   "source": [
    "def hisp_class(HH_HISP):\n",
    "    if HH_HISP == 1: \n",
    "        return 1\n",
    "    else:\n",
    "        return 0\n",
    "nhts_hh_CA['HH_HISP']=nhts_hh_CA['HH_HISP'].apply(hisp_class)   "
   ]
  },
  {
   "cell_type": "code",
   "execution_count": 88,
   "metadata": {},
   "outputs": [],
   "source": [
    "def child_class(LIF_CYC):\n",
    "    if LIF_CYC in [1,2,9,10]: \n",
    "        return 0 # adult only\n",
    "    else:\n",
    "        return 1 # child \n",
    "nhts_hh_CA['Child']=nhts_hh_CA['LIF_CYC'].apply(child_class)   "
   ]
  },
  {
   "cell_type": "code",
   "execution_count": 89,
   "metadata": {},
   "outputs": [
    {
     "data": {
      "text/plain": [
       "array(['HBHUR', 'HH_HISP', 'HOMEOWN', 'HBPPOPDN', 'HHFAMINC', 'HHSIZE',\n",
       "       'HHVEHCNT', 'WEBUSE17', 'LIF_CYC', 'WRKCOUNT', 'HH_CBSA',\n",
       "       'income_est', 'Child', 'HH_RACE_1', 'HH_RACE_2', 'HH_RACE_3',\n",
       "       'HH_RACE_4'], dtype=object)"
      ]
     },
     "execution_count": 89,
     "metadata": {},
     "output_type": "execute_result"
    }
   ],
   "source": [
    "# class variables \n",
    "cat_vars=['HH_RACE']\n",
    "for var in cat_vars:\n",
    "    cat_list='var'+'_'+var\n",
    "    cat_list = pd.get_dummies(nhts_hh_CA[var], prefix=var)\n",
    "    nhts_hh_CA_temp=nhts_hh_CA.join(cat_list)\n",
    "    nhts_hh_CA=nhts_hh_CA_temp\n",
    "cat_vars=['HH_RACE']\n",
    "data_vars=nhts_hh_CA.columns.values.tolist()\n",
    "to_keep=[i for i in data_vars if i not in cat_vars]\n",
    "nhts_hh_CA_final=nhts_hh_CA[to_keep]\n",
    "nhts_hh_CA_final.columns.values"
   ]
  },
  {
   "cell_type": "code",
   "execution_count": 90,
   "metadata": {},
   "outputs": [
    {
     "name": "stderr",
     "output_type": "stream",
     "text": [
      "/var/folders/kr/2j58542j2_7chf9_h8bmr30mb0_4n0/T/ipykernel_88076/1608345060.py:2: SettingWithCopyWarning: \n",
      "A value is trying to be set on a copy of a slice from a DataFrame.\n",
      "Try using .loc[row_indexer,col_indexer] = value instead\n",
      "\n",
      "See the caveats in the documentation: https://pandas.pydata.org/pandas-docs/stable/user_guide/indexing.html#returning-a-view-versus-a-copy\n",
      "  nhts_hh_CA_final['income_est']=nhts_hh_CA_final['income_est']/1000\n"
     ]
    }
   ],
   "source": [
    "# income scale \n",
    "nhts_hh_CA_final['income_est']=nhts_hh_CA_final['income_est']/1000"
   ]
  },
  {
   "cell_type": "code",
   "execution_count": 111,
   "metadata": {},
   "outputs": [],
   "source": [
    "# create training & test set : Train data: Non-SF data + 30% of SF data\n",
    "#                              Test data: 70% of SF data\n",
    "nhts_hh_nonSF=nhts_hh_CA_final.query('HH_CBSA ==(\"31080\",\"40140\",\"40900\",\"41740\")')\n",
    "nhts_hh_SF=nhts_hh_CA_final.query('HH_CBSA ==(\"41860\",\"41940\")')\n",
    "X_nonsf=nhts_hh_nonSF[['HOMEOWN', 'WRKCOUNT', 'income_est','HHVEHCNT', 'HH_RACE_1']]\n",
    "Y_nonsf=nhts_hh_nonSF['WEBUSE17']\n",
    "X_sf=nhts_hh_SF[['HOMEOWN', 'WRKCOUNT', 'income_est','HHVEHCNT', 'HH_RACE_1']]\n",
    "Y_sf=nhts_hh_SF['WEBUSE17']\n",
    "trainX, testX, trainY, testY = train_test_split(X_sf, Y_sf, test_size = 0.7)"
   ]
  },
  {
   "cell_type": "code",
   "execution_count": 112,
   "metadata": {},
   "outputs": [
    {
     "data": {
      "text/plain": [
       "1    875\n",
       "2     38\n",
       "0     23\n",
       "Name: WEBUSE17, dtype: int64"
      ]
     },
     "execution_count": 112,
     "metadata": {},
     "output_type": "execute_result"
    }
   ],
   "source": [
    "trainY.value_counts()"
   ]
  },
  {
   "cell_type": "code",
   "execution_count": 91,
   "metadata": {},
   "outputs": [],
   "source": [
    "#nhts_hh_CA_final.head()"
   ]
  },
  {
   "cell_type": "code",
   "execution_count": 110,
   "metadata": {},
   "outputs": [],
   "source": [
    "trainX=pd.concat([trainX,X_nonsf])\n",
    "trainY=pd.concat([trainY,Y_nonsf])"
   ]
  },
  {
   "cell_type": "code",
   "execution_count": 95,
   "metadata": {},
   "outputs": [],
   "source": [
    "# SMOTE approach for lower sample issue for less frequent data\n",
    "oversample = SMOTE()\n",
    "trainX,trainY = oversample.fit_resample(trainX,trainY)"
   ]
  },
  {
   "cell_type": "code",
   "execution_count": 108,
   "metadata": {},
   "outputs": [
    {
     "data": {
      "text/plain": [
       "1    10488\n",
       "2    10488\n",
       "0    10488\n",
       "Name: WEBUSE17, dtype: int64"
      ]
     },
     "execution_count": 108,
     "metadata": {},
     "output_type": "execute_result"
    }
   ],
   "source": [
    "trainY.value_counts()"
   ]
  },
  {
   "cell_type": "code",
   "execution_count": 97,
   "metadata": {},
   "outputs": [],
   "source": [
    "# initial model\n",
    "model_int = LogisticRegression(solver='newton-cg', multi_class='multinomial')\n",
    "model_int.fit(trainX, trainY)\n",
    "y_pred = model_int.predict(testX)"
   ]
  },
  {
   "cell_type": "code",
   "execution_count": 98,
   "metadata": {},
   "outputs": [
    {
     "name": "stdout",
     "output_type": "stream",
     "text": [
      "Accuracy for initial model: 0.72\n",
      "Error rate for initial model: 0.28\n"
     ]
    }
   ],
   "source": [
    "print('Accuracy for initial model: {:.2f}'.format(accuracy_score(testY, y_pred)))\n",
    "print('Error rate for initial model: {:.2f}'.format(1 - accuracy_score(testY, y_pred)))"
   ]
  },
  {
   "cell_type": "code",
   "execution_count": 99,
   "metadata": {},
   "outputs": [
    {
     "name": "stdout",
     "output_type": "stream",
     "text": [
      "initial confusion matirix) [[  36    5   12]\n",
      " [ 157 1498  393]\n",
      " [  38   15   31]]\n"
     ]
    }
   ],
   "source": [
    "print ('initial confusion matirix)', confusion_matrix(testY.tolist(), y_pred))"
   ]
  },
  {
   "cell_type": "code",
   "execution_count": 100,
   "metadata": {},
   "outputs": [
    {
     "data": {
      "text/plain": [
       "CalibratedClassifierCV(base_estimator=LogisticRegression(multi_class='multinomial',\n",
       "                                                         solver='newton-cg'),\n",
       "                       cv='prefit')"
      ]
     },
     "execution_count": 100,
     "metadata": {},
     "output_type": "execute_result"
    }
   ],
   "source": [
    "# CalibratedclassifierCV approach to improve the model \n",
    "testX_SM,testY_SM = oversample.fit_resample(testX,testY)\n",
    "model_cal = CalibratedClassifierCV(model_int, cv='prefit')\n",
    "model_cal.fit(testX_SM,testY_SM)"
   ]
  },
  {
   "cell_type": "code",
   "execution_count": 101,
   "metadata": {},
   "outputs": [],
   "source": [
    "y_pred_cal = model_cal.predict(testX)"
   ]
  },
  {
   "cell_type": "code",
   "execution_count": 102,
   "metadata": {},
   "outputs": [
    {
     "name": "stdout",
     "output_type": "stream",
     "text": [
      "Accuracy for calibrated model: 0.78\n",
      "Error rate for calibrated model: 0.22\n"
     ]
    }
   ],
   "source": [
    "print('Accuracy for calibrated model: {:.2f}'.format(accuracy_score(testY, y_pred_cal)))\n",
    "print('Error rate for calibrated model: {:.2f}'.format(1 - accuracy_score(testY, y_pred_cal)))"
   ]
  },
  {
   "cell_type": "code",
   "execution_count": 103,
   "metadata": {},
   "outputs": [
    {
     "name": "stdout",
     "output_type": "stream",
     "text": [
      "calibrated confusion matrix [[  43    5    5]\n",
      " [ 242 1659  147]\n",
      " [  55   19   10]]\n"
     ]
    }
   ],
   "source": [
    "print ('calibrated confusion matrix', confusion_matrix(testY, y_pred_cal))"
   ]
  },
  {
   "cell_type": "code",
   "execution_count": 104,
   "metadata": {},
   "outputs": [
    {
     "name": "stdout",
     "output_type": "stream",
     "text": [
      "coef/intercept for initial M [[ 0.23718163 -0.95164719 -0.01104132 -0.30025234 -0.08248763]\n",
      " [-0.17227021  1.22006027  0.00737925  0.18280079  0.53940724]\n",
      " [-0.06491142 -0.26841308  0.00366208  0.11745155 -0.45691961]] [ 1.14795418 -1.54419785  0.39624367]\n"
     ]
    }
   ],
   "source": [
    "print('coef/intercept for initial M',model_int.coef_, model_int.intercept_)"
   ]
  },
  {
   "cell_type": "code",
   "execution_count": 105,
   "metadata": {},
   "outputs": [
    {
     "data": {
      "text/plain": [
       "['webuse_model.sav']"
      ]
     },
     "execution_count": 105,
     "metadata": {},
     "output_type": "execute_result"
    }
   ],
   "source": [
    "filename = '../Simulation/webuse_model.sav'\n",
    "joblib.dump(model_cal, filename)"
   ]
  },
  {
   "cell_type": "code",
   "execution_count": 107,
   "metadata": {},
   "outputs": [
    {
     "data": {
      "text/plain": [
       "array([1, 1, 1, ..., 1, 1, 0])"
      ]
     },
     "execution_count": 107,
     "metadata": {},
     "output_type": "execute_result"
    }
   ],
   "source": []
  },
  {
   "cell_type": "code",
   "execution_count": 106,
   "metadata": {},
   "outputs": [
    {
     "data": {
      "text/plain": [
       "HOMEOWN         int64\n",
       "WRKCOUNT        int64\n",
       "income_est    float64\n",
       "HHVEHCNT        int64\n",
       "HH_RACE_1       uint8\n",
       "dtype: object"
      ]
     },
     "execution_count": 106,
     "metadata": {},
     "output_type": "execute_result"
    }
   ],
   "source": [
    "testX.dtypes"
   ]
  }
 ],
 "metadata": {
  "kernelspec": {
   "display_name": "Python 3 (ipykernel)",
   "language": "python",
   "name": "python3"
  },
  "language_info": {
   "codemirror_mode": {
    "name": "ipython",
    "version": 3
   },
   "file_extension": ".py",
   "mimetype": "text/x-python",
   "name": "python",
   "nbconvert_exporter": "python",
   "pygments_lexer": "ipython3",
   "version": "3.8.12"
  }
 },
 "nbformat": 4,
 "nbformat_minor": 2
}
